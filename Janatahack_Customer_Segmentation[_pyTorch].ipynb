{
  "nbformat": 4,
  "nbformat_minor": 0,
  "metadata": {
    "colab": {
      "name": "Janatahack Customer Segmentation[ pyTorch].ipynb",
      "provenance": [],
      "collapsed_sections": []
    },
    "kernelspec": {
      "name": "python3",
      "display_name": "Python 3"
    }
  },
  "cells": [
    {
      "cell_type": "code",
      "metadata": {
        "id": "WJoPtavg95FU",
        "colab_type": "code",
        "colab": {}
      },
      "source": [
        "import pandas as pd\n",
        "import numpy as np\n",
        "import matplotlib.pyplot as plt\n",
        "import warnings\n",
        "warnings.filterwarnings('ignore')\n",
        "import seaborn as sns"
      ],
      "execution_count": 62,
      "outputs": []
    },
    {
      "cell_type": "code",
      "metadata": {
        "id": "ylg5Y-c8-cQ5",
        "colab_type": "code",
        "colab": {}
      },
      "source": [
        "np.set_printoptions(suppress=True)\n",
        "pd.set_option('display.max_columns',8000)\n",
        "pd.set_option('display.max_rows',7000)"
      ],
      "execution_count": 3,
      "outputs": []
    },
    {
      "cell_type": "code",
      "metadata": {
        "id": "Lcc8eJ9c-eCv",
        "colab_type": "code",
        "colab": {
          "resources": {
            "http://localhost:8080/nbextensions/google.colab/files.js": {
              "data": "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",
              "ok": true,
              "headers": [
                [
                  "content-type",
                  "application/javascript"
                ]
              ],
              "status": 200,
              "status_text": ""
            }
          },
          "base_uri": "https://localhost:8080/",
          "height": 109
        },
        "outputId": "b23d15f2-55a9-4416-a3bd-95cae1d29a88"
      },
      "source": [
        "from google.colab import files\n",
        "files.upload()"
      ],
      "execution_count": 5,
      "outputs": [
        {
          "output_type": "display_data",
          "data": {
            "text/html": [
              "\n",
              "     <input type=\"file\" id=\"files-faf6e5bc-a279-4f94-863e-70390ec5b29b\" name=\"files[]\" multiple disabled\n",
              "        style=\"border:none\" />\n",
              "     <output id=\"result-faf6e5bc-a279-4f94-863e-70390ec5b29b\">\n",
              "      Upload widget is only available when the cell has been executed in the\n",
              "      current browser session. Please rerun this cell to enable.\n",
              "      </output>\n",
              "      <script src=\"/nbextensions/google.colab/files.js\"></script> "
            ],
            "text/plain": [
              "<IPython.core.display.HTML object>"
            ]
          },
          "metadata": {
            "tags": []
          }
        },
        {
          "output_type": "stream",
          "text": [
            "Saving Test_LqhgPWU.csv to Test_LqhgPWU.csv\n"
          ],
          "name": "stdout"
        },
        {
          "output_type": "execute_result",
          "data": {
            "text/plain": [
              "{'Test_LqhgPWU.csv': b'ID,Gender,Ever_Married,Age,Graduated,Profession,Work_Experience,Spending_Score,Family_Size,Var_1\\n458989,Female,Yes,36,Yes,Engineer,0.0,Low,1.0,Cat_6\\n458994,Male,Yes,37,Yes,Healthcare,8.0,Average,4.0,Cat_6\\n458996,Female,Yes,69,No,,0.0,Low,1.0,Cat_6\\n459000,Male,Yes,59,No,Executive,11.0,High,2.0,Cat_6\\n459001,Female,No,19,No,Marketing,,Low,4.0,Cat_6\\n459003,Male,Yes,47,Yes,Doctor,0.0,High,5.0,Cat_4\\n459005,Male,Yes,61,Yes,Doctor,5.0,Low,3.0,Cat_6\\n459008,Female,Yes,47,Yes,Artist,1.0,Average,3.0,Cat_6\\n459013,Male,Yes,50,Yes,Artist,2.0,Average,4.0,Cat_6\\n459014,Male,No,19,No,Healthcare,0.0,Low,4.0,Cat_6\\n459015,Male,No,22,No,Healthcare,0.0,Low,3.0,Cat_6\\n459016,Female,No,22,No,Healthcare,0.0,Low,6.0,Cat_6\\n459024,Male,Yes,50,Yes,Artist,1.0,Average,5.0,Cat_6\\n459026,Male,No,27,No,Healthcare,8.0,Low,3.0,Cat_3\\n459032,Male,No,18,No,Doctor,0.0,Low,3.0,Cat_6\\n459033,Female,Yes,61,Yes,Artist,0.0,Low,1.0,Cat_6\\n459036,Female,Yes,20,Yes,Lawyer,1.0,Average,3.0,Cat_3\\n459039,Male,Yes,45,Yes,Artist,1.0,Average,2.0,Cat_6\\n459041,Male,Yes,55,Yes,Artist,8.0,Low,1.0,Cat_6\\n459045,Female,Yes,88,Yes,Lawyer,1.0,Average,4.0,Cat_6\\n459056,Male,Yes,63,No,Executive,,High,3.0,Cat_6\\n459057,Male,Yes,69,No,Lawyer,,High,,Cat_6\\n459058,Male,No,42,Yes,Artist,0.0,Low,4.0,Cat_3\\n459059,Male,Yes,79,No,Executive,,High,2.0,Cat_6\\n459061,Female,Yes,35,Yes,Healthcare,9.0,High,3.0,Cat_6\\n459064,Male,Yes,27,No,Executive,5.0,High,4.0,Cat_6\\n459065,Male,Yes,52,Yes,Engineer,,Low,2.0,Cat_6\\n459074,Female,No,29,Yes,Healthcare,0.0,Low,4.0,Cat_4\\n459077,Female,Yes,79,No,Lawyer,1.0,High,2.0,Cat_6\\n459079,Male,Yes,87,Yes,Lawyer,,High,2.0,Cat_6\\n459080,Male,Yes,89,No,Lawyer,1.0,Low,2.0,Cat_6\\n459083,Male,Yes,63,Yes,Artist,9.0,Average,3.0,\\n459090,Male,No,31,No,Artist,1.0,Low,2.0,Cat_6\\n459091,Male,Yes,72,Yes,Artist,1.0,Average,6.0,Cat_1\\n459093,Female,Yes,41,Yes,Doctor,9.0,Average,2.0,\\n459100,Female,No,61,Yes,Artist,11.0,Low,1.0,Cat_6\\n459106,Male,Yes,62,Yes,Artist,0.0,Low,2.0,Cat_6\\n459114,Male,Yes,56,Yes,Artist,1.0,Average,2.0,Cat_6\\n459116,Male,Yes,60,Yes,Artist,2.0,Average,5.0,Cat_6\\n459117,Male,Yes,68,Yes,Artist,0.0,High,2.0,Cat_6\\n459118,Male,No,19,No,Healthcare,,Low,8.0,Cat_6\\n459119,Male,Yes,57,Yes,Executive,8.0,High,3.0,Cat_6\\n459120,Male,No,19,No,Healthcare,5.0,Low,5.0,Cat_2\\n459121,Female,Yes,51,Yes,Artist,3.0,Average,6.0,Cat_6\\n459123,Female,Yes,86,No,Artist,1.0,High,2.0,Cat_6\\n459130,Female,Yes,74,No,Lawyer,1.0,High,2.0,Cat_6\\n459132,Male,No,23,No,Entertainment,6.0,Low,2.0,Cat_6\\n459136,Male,Yes,47,Yes,Artist,0.0,Average,2.0,Cat_6\\n459140,Female,No,19,No,Healthcare,7.0,Low,6.0,Cat_6\\n459143,Male,Yes,50,No,Artist,0.0,High,4.0,Cat_6\\n459144,Male,Yes,80,Yes,Lawyer,,High,2.0,Cat_6\\n459145,Male,Yes,78,No,Lawyer,,Low,1.0,Cat_2\\n459150,Female,No,48,Yes,Doctor,0.0,Low,1.0,Cat_6\\n459160,Male,Yes,70,Yes,Doctor,1.0,Average,2.0,Cat_6\\n459161,Male,Yes,50,Yes,Executive,3.0,High,5.0,Cat_6\\n459162,Female,Yes,83,Yes,Lawyer,0.0,High,2.0,Cat_6\\n459163,Male,No,35,Yes,Entertainment,0.0,Low,1.0,Cat_6\\n459167,Female,No,36,Yes,Artist,0.0,Low,2.0,Cat_5\\n459170,Female,No,35,Yes,Artist,1.0,Low,1.0,Cat_6\\n459171,Male,Yes,35,Yes,Artist,0.0,Average,2.0,Cat_6\\n459172,Male,No,18,No,Healthcare,3.0,Low,3.0,Cat_2\\n459175,Female,Yes,73,Yes,Artist,1.0,Average,2.0,Cat_6\\n459181,Male,Yes,62,No,Artist,1.0,High,3.0,Cat_6\\n459182,Female,Yes,46,Yes,Artist,1.0,Average,2.0,Cat_6\\n459184,Male,Yes,43,Yes,Entertainment,0.0,Low,4.0,Cat_4\\n459185,Female,No,32,Yes,Entertainment,7.0,Low,1.0,Cat_6\\n459193,Male,No,39,Yes,Artist,0.0,Low,1.0,Cat_6\\n459194,Female,Yes,89,Yes,Lawyer,0.0,High,2.0,Cat_6\\n459196,Female,No,18,No,Healthcare,0.0,Low,3.0,Cat_4\\n459208,Female,Yes,57,Yes,Artist,0.0,High,2.0,Cat_3\\n459209,Female,No,18,No,Entertainment,0.0,Low,4.0,Cat_6\\n459210,Female,Yes,71,Yes,Artist,1.0,High,2.0,Cat_6\\n459212,Female,Yes,69,Yes,Artist,0.0,Average,2.0,Cat_6\\n459213,Female,No,42,Yes,Healthcare,0.0,Low,4.0,Cat_6\\n459216,Female,No,36,Yes,Artist,0.0,Low,2.0,Cat_6\\n459220,Female,Yes,80,Yes,Lawyer,1.0,High,2.0,Cat_6\\n459221,Male,Yes,69,No,Entertainment,,Low,1.0,Cat_6\\n459222,Female,Yes,67,Yes,Artist,0.0,Average,3.0,Cat_6\\n459223,Female,Yes,47,Yes,Doctor,1.0,Average,4.0,Cat_6\\n459224,Female,Yes,49,Yes,Artist,0.0,Average,2.0,Cat_6\\n459227,Female,Yes,32,No,Engineer,9.0,Low,4.0,Cat_6\\n459229,Female,Yes,65,Yes,Lawyer,1.0,Average,4.0,Cat_6\\n459236,Female,Yes,78,No,Lawyer,0.0,High,2.0,Cat_6\\n459237,Male,No,33,Yes,Artist,1.0,Low,6.0,Cat_6\\n459244,Male,Yes,48,Yes,Artist,1.0,Low,1.0,Cat_6\\n459247,Male,Yes,58,Yes,Executive,1.0,Average,5.0,Cat_6\\n459258,Female,Yes,83,Yes,Lawyer,1.0,High,,Cat_6\\n459263,Female,No,30,No,Healthcare,9.0,Low,4.0,Cat_6\\n459264,Female,No,35,Yes,Artist,0.0,Low,2.0,Cat_6\\n459266,Male,No,32,Yes,Healthcare,6.0,Low,5.0,Cat_6\\n459270,Male,Yes,69,Yes,Homemaker,1.0,High,2.0,Cat_6\\n459284,Female,Yes,71,Yes,Lawyer,1.0,High,2.0,Cat_6\\n459287,Male,No,43,Yes,Lawyer,0.0,Low,1.0,Cat_4\\n459288,Male,Yes,37,Yes,Artist,0.0,Low,2.0,Cat_6\\n459289,Male,No,42,Yes,Doctor,0.0,Low,1.0,Cat_6\\n459290,Female,Yes,70,Yes,Doctor,1.0,Average,2.0,Cat_6\\n459292,Male,No,46,Yes,Artist,0.0,Low,2.0,Cat_6\\n459293,Male,No,21,No,Healthcare,,Low,,Cat_1\\n459296,Male,Yes,70,Yes,Artist,0.0,Average,2.0,Cat_6\\n459300,Female,Yes,61,Yes,Artist,1.0,Low,,Cat_6\\n459307,Male,Yes,60,Yes,Entertainment,1.0,Low,1.0,Cat_6\\n459310,Male,No,37,Yes,Entertainment,0.0,Low,2.0,Cat_2\\n459316,Male,Yes,30,Yes,Healthcare,1.0,Low,2.0,Cat_6\\n459318,Female,No,32,Yes,Engineer,1.0,Low,3.0,Cat_6\\n459320,Male,Yes,26,Yes,Executive,0.0,Low,3.0,Cat_6\\n459322,Male,No,42,Yes,Marketing,0.0,Low,1.0,Cat_6\\n459323,Female,No,18,No,Doctor,,Low,,Cat_6\\n459338,Male,Yes,80,No,Executive,,Low,,Cat_6\\n459339,Male,Yes,29,Yes,Healthcare,8.0,High,2.0,Cat_6\\n459344,Female,Yes,88,Yes,Artist,1.0,High,2.0,Cat_6\\n459347,Male,Yes,70,Yes,Lawyer,1.0,Low,1.0,Cat_6\\n459349,Female,Yes,50,Yes,Artist,1.0,High,4.0,Cat_6\\n459352,Male,Yes,43,Yes,Doctor,4.0,Average,4.0,Cat_3\\n459353,Male,Yes,51,Yes,Artist,6.0,Average,2.0,Cat_6\\n459354,Female,Yes,50,Yes,Artist,,High,3.0,Cat_6\\n459355,Female,Yes,74,No,Homemaker,,Low,1.0,Cat_6\\n459360,Female,No,29,Yes,Healthcare,,Low,3.0,Cat_6\\n459361,Female,No,32,Yes,Engineer,,Low,2.0,Cat_6\\n459362,Male,Yes,60,No,Executive,0.0,Low,2.0,Cat_6\\n459363,Male,No,46,Yes,Artist,2.0,Low,1.0,Cat_6\\n459364,Female,Yes,81,Yes,Marketing,0.0,Low,2.0,Cat_6\\n459369,Male,Yes,41,No,Engineer,,Average,7.0,Cat_4\\n459375,Male,Yes,22,No,Executive,0.0,High,4.0,Cat_6\\n459377,Male,Yes,37,Yes,Artist,0.0,Average,3.0,Cat_6\\n459383,Male,Yes,43,No,Engineer,0.0,Low,1.0,Cat_6\\n459384,Male,Yes,50,Yes,Artist,1.0,Average,3.0,Cat_6\\n459385,Female,Yes,35,Yes,Artist,1.0,Average,2.0,Cat_7\\n459386,Male,Yes,65,No,Lawyer,1.0,High,2.0,Cat_6\\n459391,Female,No,41,Yes,Engineer,0.0,Low,4.0,Cat_6\\n459394,Male,No,28,No,Entertainment,8.0,Low,2.0,Cat_6\\n459397,Male,Yes,55,Yes,Artist,4.0,Average,2.0,Cat_6\\n459398,Female,Yes,58,No,Lawyer,,High,2.0,Cat_6\\n459401,Male,No,28,No,Healthcare,1.0,Low,3.0,\\n459403,Male,Yes,48,Yes,Artist,,Average,4.0,Cat_7\\n459405,Female,Yes,78,No,Doctor,1.0,High,2.0,Cat_6\\n459407,Female,No,35,Yes,Doctor,1.0,Low,3.0,Cat_6\\n459409,Female,Yes,76,Yes,Lawyer,0.0,High,2.0,Cat_6\\n459410,Female,Yes,88,Yes,Lawyer,1.0,High,2.0,Cat_6\\n459412,Male,Yes,61,Yes,,1.0,Average,3.0,Cat_6\\n459413,Female,Yes,79,Yes,Artist,,High,2.0,Cat_6\\n459415,Male,No,30,No,Doctor,0.0,Low,4.0,Cat_6\\n459418,Male,Yes,69,No,Executive,0.0,High,2.0,Cat_6\\n459419,Male,Yes,65,Yes,Doctor,1.0,Average,2.0,Cat_6\\n459420,Female,Yes,70,Yes,Lawyer,1.0,Low,2.0,Cat_6\\n459421,Male,Yes,32,No,Healthcare,0.0,Average,4.0,Cat_6\\n459422,Male,Yes,46,Yes,Entertainment,,Low,4.0,Cat_6\\n459423,Male,No,21,No,Healthcare,8.0,Low,5.0,Cat_6\\n459424,Male,Yes,47,Yes,Doctor,,Low,3.0,Cat_6\\n459428,Female,No,39,No,Marketing,0.0,Low,2.0,Cat_4\\n459432,Male,Yes,85,Yes,Lawyer,0.0,Low,3.0,Cat_6\\n459436,Female,No,66,Yes,Artist,0.0,Low,2.0,Cat_6\\n459439,Female,Yes,50,Yes,Artist,1.0,Average,2.0,Cat_6\\n459445,Female,Yes,42,Yes,Artist,0.0,Average,3.0,Cat_6\\n459447,Male,Yes,53,Yes,Artist,9.0,Low,1.0,Cat_6\\n459449,Male,Yes,37,Yes,Artist,,Low,2.0,Cat_6\\n459451,Female,Yes,45,Yes,Artist,1.0,Low,2.0,Cat_6\\n459456,Female,No,66,No,Lawyer,,Low,1.0,Cat_6\\n459458,Male,No,33,No,Marketing,,Low,,Cat_6\\n459459,Male,Yes,40,Yes,Artist,4.0,Low,1.0,Cat_6\\n459461,Female,Yes,35,Yes,Artist,1.0,Low,1.0,Cat_1\\n459464,Male,No,27,Yes,Artist,,Low,2.0,Cat_6\\n459466,Female,Yes,48,Yes,Artist,0.0,Average,3.0,Cat_4\\n459467,Female,Yes,56,Yes,Artist,0.0,Average,2.0,Cat_6\\n459469,Male,Yes,25,Yes,Healthcare,,Low,6.0,Cat_6\\n459471,Female,No,30,No,Artist,,Low,8.0,Cat_6\\n459480,Female,Yes,46,Yes,Entertainment,7.0,Low,3.0,Cat_6\\n459481,Male,Yes,49,No,Lawyer,0.0,Low,2.0,Cat_6\\n459482,Male,Yes,72,No,Marketing,1.0,Low,4.0,Cat_6\\n459485,Female,Yes,79,Yes,Lawyer,,High,2.0,Cat_6\\n459496,Female,No,35,Yes,Artist,,Low,3.0,Cat_6\\n459497,Female,Yes,77,Yes,Lawyer,0.0,Low,1.0,Cat_6\\n459499,Female,Yes,79,No,Lawyer,,High,2.0,Cat_6\\n459503,Male,Yes,42,Yes,Healthcare,6.0,High,4.0,Cat_6\\n459505,Female,No,42,Yes,Engineer,,Low,1.0,Cat_6\\n459507,Male,Yes,67,No,Lawyer,,High,2.0,Cat_1\\n459509,Male,No,26,Yes,Healthcare,1.0,Low,1.0,Cat_6\\n459512,Male,Yes,67,Yes,Lawyer,1.0,High,2.0,Cat_6\\n459515,Male,Yes,55,Yes,Engineer,1.0,Low,1.0,Cat_6\\n459516,Female,,56,Yes,Artist,,Average,2.0,Cat_6\\n459518,Male,Yes,63,,,,Average,4.0,Cat_6\\n459535,Male,Yes,46,Yes,Artist,8.0,Average,2.0,Cat_6\\n459536,Male,Yes,32,Yes,Healthcare,7.0,Low,2.0,Cat_6\\n459538,Female,No,49,Yes,Homemaker,13.0,Low,1.0,Cat_6\\n459541,Male,Yes,59,Yes,Artist,1.0,High,2.0,Cat_6\\n459549,Male,No,22,No,Healthcare,8.0,Low,5.0,Cat_4\\n459555,Female,No,28,Yes,Artist,8.0,Low,1.0,Cat_6\\n459558,Male,No,28,Yes,Entertainment,1.0,Low,3.0,Cat_6\\n459564,Male,Yes,75,Yes,Lawyer,2.0,Low,1.0,Cat_6\\n459566,Female,Yes,37,Yes,Artist,13.0,Low,2.0,Cat_6\\n459567,Male,Yes,50,Yes,Doctor,0.0,Average,2.0,Cat_6\\n459571,Female,Yes,50,Yes,Executive,1.0,High,4.0,Cat_6\\n459576,Female,Yes,88,No,Lawyer,,Low,,\\n459579,Female,Yes,35,Yes,Artist,3.0,Average,5.0,Cat_4\\n459581,Female,No,35,No,,,Low,,Cat_7\\n459582,Male,Yes,31,No,Entertainment,,Average,3.0,Cat_6\\n459583,Male,Yes,46,Yes,Artist,0.0,Low,1.0,Cat_6\\n459585,Female,Yes,50,Yes,Artist,1.0,Average,4.0,Cat_6\\n459587,Female,No,33,Yes,Artist,7.0,Low,3.0,Cat_6\\n459588,Male,Yes,49,Yes,Artist,0.0,Low,1.0,Cat_6\\n459591,Male,Yes,52,Yes,Artist,1.0,Average,3.0,Cat_6\\n459592,Male,No,25,No,Healthcare,0.0,Low,3.0,Cat_6\\n459594,Female,Yes,41,Yes,Artist,6.0,Low,1.0,Cat_6\\n459597,Female,Yes,68,Yes,Artist,0.0,High,2.0,Cat_6\\n459603,Female,Yes,79,No,Lawyer,2.0,High,2.0,Cat_6\\n459607,Male,Yes,40,Yes,Entertainment,5.0,Average,5.0,Cat_6\\n459608,Female,No,62,Yes,Doctor,,Low,1.0,Cat_6\\n459612,Male,No,21,No,Healthcare,,Low,2.0,Cat_6\\n459616,Female,No,20,No,Healthcare,,Low,4.0,Cat_1\\n459617,Male,No,28,Yes,Entertainment,1.0,Low,5.0,Cat_6\\n459618,Male,Yes,57,Yes,Doctor,0.0,Average,2.0,Cat_4\\n459621,Female,No,25,No,Healthcare,8.0,Low,,\\n459625,Female,Yes,63,No,Engineer,8.0,Low,1.0,Cat_6\\n459626,Female,Yes,26,No,Entertainment,1.0,Low,3.0,Cat_6\\n459632,Female,Yes,50,No,Marketing,0.0,High,3.0,Cat_4\\n459644,Female,No,30,No,Marketing,9.0,Low,4.0,Cat_2\\n459652,Female,No,26,No,Engineer,,Low,4.0,Cat_4\\n459658,Male,Yes,61,Yes,Artist,1.0,Average,3.0,Cat_6\\n459664,Male,No,42,Yes,Artist,3.0,Low,1.0,Cat_6\\n459665,Male,Yes,88,Yes,Artist,4.0,Low,2.0,Cat_6\\n459672,Male,Yes,45,No,Artist,3.0,Average,3.0,Cat_6\\n459673,Female,Yes,86,Yes,Lawyer,1.0,Low,1.0,Cat_6\\n459678,Male,No,18,No,Healthcare,1.0,Low,5.0,Cat_6\\n459680,Male,No,37,Yes,Entertainment,,Low,1.0,Cat_6\\n459686,Male,Yes,46,Yes,Artist,1.0,Low,1.0,Cat_6\\n459691,Male,Yes,58,No,Artist,,Average,2.0,Cat_6\\n459692,Female,Yes,72,Yes,Lawyer,8.0,High,2.0,Cat_6\\n459693,Female,Yes,50,Yes,Artist,0.0,High,3.0,\\n459699,Female,,56,Yes,Engineer,8.0,Average,3.0,Cat_6\\n459701,Male,No,46,No,Artist,3.0,Low,3.0,Cat_5\\n459710,Male,Yes,57,Yes,Artist,,Low,1.0,Cat_6\\n459711,Male,Yes,42,No,Executive,9.0,High,6.0,Cat_6\\n459712,Male,No,20,No,Healthcare,,Low,4.0,Cat_6\\n459713,Male,No,19,No,Healthcare,,Low,3.0,Cat_6\\n459715,Male,No,19,No,Healthcare,4.0,Low,4.0,Cat_6\\n459718,Male,Yes,68,Yes,Executive,1.0,Low,1.0,Cat_6\\n459725,Female,Yes,40,Yes,Artist,0.0,Low,2.0,Cat_6\\n459727,Male,Yes,82,No,Lawyer,,High,2.0,Cat_6\\n459740,Female,No,23,No,Healthcare,1.0,Low,3.0,Cat_6\\n459742,Female,Yes,84,No,Lawyer,1.0,High,2.0,Cat_6\\n459745,Male,Yes,51,No,Artist,0.0,Low,4.0,Cat_1\\n459746,Male,,59,Yes,Artist,1.0,Average,2.0,Cat_6\\n459747,Female,Yes,41,Yes,Artist,1.0,Average,5.0,Cat_6\\n459748,Male,Yes,51,No,Executive,1.0,High,2.0,Cat_6\\n459755,Female,Yes,62,No,Artist,,Average,3.0,Cat_6\\n459756,Female,Yes,62,No,Lawyer,1.0,High,4.0,Cat_4\\n459760,Female,Yes,38,Yes,Artist,8.0,Low,1.0,Cat_6\\n459763,Male,No,18,No,Artist,,Low,4.0,Cat_4\\n459767,Male,No,22,No,Healthcare,3.0,Low,4.0,Cat_6\\n459771,Female,,30,Yes,Doctor,0.0,Low,3.0,Cat_3\\n459779,Female,Yes,62,Yes,Entertainment,1.0,Low,1.0,Cat_6\\n459780,Female,No,43,No,Entertainment,1.0,Low,3.0,Cat_6\\n459785,Female,No,32,Yes,Engineer,,Low,1.0,Cat_3\\n459793,Male,Yes,37,Yes,Artist,1.0,High,,Cat_6\\n459795,Male,No,48,Yes,Artist,1.0,Low,1.0,Cat_6\\n459801,Female,No,31,Yes,Engineer,4.0,Low,2.0,Cat_6\\n459804,Male,Yes,46,No,Artist,4.0,High,4.0,Cat_6\\n459806,Female,Yes,49,No,Engineer,1.0,Average,4.0,Cat_6\\n459808,Male,Yes,43,No,Doctor,,Average,4.0,Cat_6\\n459815,Male,No,42,Yes,Artist,8.0,Low,1.0,Cat_6\\n459816,Male,Yes,37,Yes,Doctor,,Low,2.0,Cat_6\\n459819,Male,Yes,72,Yes,Entertainment,,High,2.0,Cat_6\\n459821,Male,,71,No,Executive,,High,1.0,\\n459822,Female,No,39,Yes,Engineer,1.0,Low,1.0,Cat_4\\n459825,Male,No,20,No,Healthcare,0.0,Low,5.0,Cat_2\\n459827,Female,No,26,No,,,Low,1.0,Cat_7\\n459832,Male,Yes,72,Yes,Executive,1.0,Low,1.0,Cat_6\\n459845,Male,Yes,70,Yes,Healthcare,0.0,Low,1.0,Cat_4\\n459851,Male,No,45,Yes,Artist,2.0,Low,1.0,Cat_6\\n459853,Male,No,33,No,Executive,7.0,Low,5.0,Cat_6\\n459856,Male,Yes,50,No,Entertainment,0.0,Average,3.0,Cat_6\\n459857,Male,No,31,Yes,Entertainment,6.0,Low,1.0,Cat_6\\n459861,Female,Yes,74,No,Lawyer,1.0,High,2.0,Cat_6\\n459864,Female,Yes,68,No,Artist,,High,2.0,Cat_6\\n459866,Female,No,49,Yes,Artist,,Low,1.0,Cat_6\\n459867,Male,Yes,49,Yes,Marketing,0.0,High,2.0,Cat_6\\n459869,Female,No,18,No,Healthcare,1.0,Low,3.0,Cat_6\\n459871,Female,Yes,85,No,Entertainment,2.0,Average,2.0,Cat_6\\n459885,Female,No,38,Yes,Entertainment,,Low,4.0,Cat_6\\n459886,Male,Yes,28,No,Artist,0.0,Low,4.0,Cat_6\\n459887,Male,Yes,46,No,Artist,3.0,Average,2.0,\\n459889,Male,Yes,59,Yes,Homemaker,9.0,Average,3.0,Cat_6\\n459897,Female,Yes,56,Yes,Artist,0.0,Low,2.0,Cat_6\\n459909,Male,Yes,69,Yes,Artist,0.0,Low,1.0,Cat_6\\n459910,Male,Yes,66,Yes,Artist,0.0,Low,2.0,Cat_6\\n459911,Male,No,18,No,Healthcare,4.0,Low,6.0,Cat_2\\n459914,Male,No,36,Yes,Artist,4.0,Low,1.0,Cat_4\\n459923,Male,No,31,Yes,Marketing,1.0,Low,2.0,Cat_3\\n459925,Male,Yes,67,No,Executive,1.0,High,2.0,Cat_4\\n459937,Female,No,39,Yes,Artist,7.0,Low,1.0,Cat_6\\n459943,Male,No,42,Yes,Entertainment,4.0,Low,3.0,Cat_6\\n459945,Male,Yes,50,Yes,Artist,0.0,Low,2.0,Cat_6\\n459946,Female,Yes,37,Yes,Artist,0.0,Average,2.0,Cat_6\\n459949,Female,No,59,Yes,Artist,0.0,Low,1.0,Cat_6\\n459953,Male,Yes,50,Yes,Artist,8.0,Low,2.0,Cat_6\\n459961,Male,Yes,48,Yes,Artist,8.0,Low,3.0,Cat_2\\n459962,Male,Yes,55,Yes,Artist,9.0,Low,1.0,Cat_6\\n459966,Female,No,33,Yes,Doctor,1.0,Low,3.0,Cat_6\\n459968,Male,No,38,Yes,Artist,13.0,Low,1.0,Cat_7\\n459970,Male,No,43,Yes,Artist,0.0,Low,2.0,Cat_6\\n459973,Female,No,53,Yes,Artist,0.0,Low,2.0,Cat_6\\n459974,Male,No,37,Yes,Entertainment,0.0,Low,1.0,Cat_6\\n459975,Female,No,36,Yes,Artist,5.0,Low,1.0,Cat_6\\n459981,Male,No,36,Yes,Artist,5.0,Low,1.0,Cat_6\\n459986,Male,Yes,62,Yes,Artist,1.0,Low,1.0,Cat_6\\n459995,Female,No,38,No,Artist,2.0,Low,2.0,Cat_6\\n459996,Male,No,55,Yes,Entertainment,1.0,Low,1.0,Cat_6\\n459998,Male,Yes,60,No,Entertainment,1.0,Average,2.0,Cat_6\\n460004,Female,Yes,36,Yes,Entertainment,7.0,Average,2.0,Cat_5\\n460006,Male,No,30,No,Entertainment,5.0,Low,9.0,Cat_3\\n460014,Female,No,66,No,Entertainment,4.0,Low,3.0,Cat_6\\n460023,Male,Yes,45,Yes,Entertainment,1.0,Low,1.0,Cat_6\\n460027,Female,No,40,Yes,Entertainment,6.0,Low,,Cat_6\\n460033,Female,,45,Yes,Entertainment,5.0,Low,3.0,Cat_6\\n460036,Male,Yes,41,Yes,,2.0,Low,1.0,Cat_6\\n460040,Female,Yes,62,Yes,Homemaker,4.0,Low,1.0,Cat_5\\n460045,Male,Yes,61,Yes,Artist,1.0,Low,2.0,Cat_6\\n460046,Female,Yes,50,Yes,Artist,4.0,Low,2.0,Cat_6\\n460050,Male,Yes,53,Yes,Entertainment,3.0,Low,2.0,Cat_6\\n460051,Male,No,39,Yes,Artist,7.0,Low,1.0,Cat_6\\n460052,Female,No,86,Yes,Lawyer,0.0,Low,1.0,Cat_3\\n460058,Male,Yes,50,Yes,Artist,1.0,Low,1.0,Cat_4\\n460059,Female,No,46,No,Entertainment,4.0,Low,,Cat_4\\n460061,Male,No,52,Yes,Marketing,0.0,Low,1.0,Cat_3\\n460066,Female,No,45,No,Marketing,0.0,Low,1.0,Cat_6\\n460068,Female,No,37,Yes,Artist,9.0,Low,1.0,Cat_6\\n460073,Female,Yes,36,Yes,Engineer,3.0,Low,1.0,Cat_6\\n460075,Female,No,25,Yes,Artist,,Low,1.0,Cat_6\\n460079,Female,No,40,No,Doctor,1.0,Low,1.0,Cat_6\\n460081,Male,Yes,41,Yes,Artist,11.0,High,2.0,Cat_6\\n460088,Female,Yes,25,Yes,Homemaker,,High,2.0,Cat_6\\n460090,Male,Yes,80,No,Lawyer,4.0,Average,2.0,Cat_6\\n460093,Female,No,46,Yes,Artist,3.0,Low,1.0,Cat_3\\n460095,Female,Yes,81,Yes,Lawyer,1.0,Low,1.0,Cat_6\\n460097,Male,,40,Yes,Artist,0.0,Low,2.0,Cat_3\\n460099,Male,No,49,Yes,,1.0,Low,1.0,Cat_3\\n460101,Female,No,26,Yes,Healthcare,8.0,Low,3.0,Cat_3\\n460103,Male,No,26,Yes,Artist,1.0,Low,1.0,Cat_4\\n460105,Female,No,47,Yes,Artist,0.0,Low,1.0,Cat_4\\n460106,Female,Yes,71,Yes,Entertainment,0.0,Low,,Cat_6\\n460107,Male,Yes,48,Yes,Engineer,1.0,Average,5.0,Cat_6\\n460108,Male,Yes,39,Yes,Artist,1.0,Average,3.0,Cat_2\\n460109,Male,Yes,50,Yes,Artist,8.0,Average,2.0,Cat_6\\n460110,Female,No,46,Yes,Artist,1.0,Low,2.0,\\n460112,Male,Yes,26,Yes,Engineer,8.0,Average,2.0,Cat_3\\n460116,Female,Yes,42,Yes,,1.0,Low,2.0,Cat_6\\n460118,Female,Yes,36,Yes,Artist,4.0,Low,2.0,Cat_6\\n460119,Male,No,29,Yes,Healthcare,1.0,Low,4.0,Cat_6\\n460122,Female,No,39,No,Artist,1.0,Low,1.0,Cat_6\\n460124,Female,No,41,Yes,Artist,0.0,Low,3.0,Cat_6\\n460126,Female,Yes,48,Yes,Marketing,8.0,Low,,Cat_6\\n460134,Male,Yes,40,Yes,Entertainment,9.0,High,3.0,Cat_6\\n460135,Female,No,25,Yes,Healthcare,4.0,Low,3.0,Cat_6\\n460140,Female,Yes,41,Yes,Artist,7.0,Low,2.0,Cat_6\\n460141,Male,No,37,Yes,Artist,11.0,Low,1.0,Cat_6\\n460144,Female,No,53,Yes,Doctor,0.0,Low,,Cat_3\\n460146,Female,Yes,51,Yes,Engineer,0.0,Average,3.0,Cat_3\\n460147,Male,Yes,73,Yes,Entertainment,1.0,Average,3.0,Cat_6\\n460157,Male,Yes,61,No,,1.0,Low,5.0,Cat_4\\n460160,Male,No,39,Yes,Entertainment,5.0,Low,1.0,Cat_3\\n460162,Female,No,19,No,Healthcare,0.0,Low,4.0,Cat_2\\n460166,Female,No,19,No,Healthcare,0.0,Low,7.0,Cat_2\\n460167,Female,No,23,No,Entertainment,1.0,Low,5.0,Cat_2\\n460168,Male,Yes,83,Yes,Executive,0.0,High,2.0,Cat_2\\n460171,Female,Yes,62,Yes,Artist,1.0,High,2.0,Cat_6\\n460174,Female,No,43,Yes,Artist,9.0,Low,4.0,Cat_6\\n460175,Female,No,27,No,Artist,0.0,Low,5.0,Cat_2\\n460177,Male,No,50,Yes,Artist,0.0,Low,1.0,Cat_6\\n460179,Female,No,23,No,Entertainment,0.0,Low,6.0,Cat_2\\n460183,Male,No,35,No,Entertainment,9.0,Low,2.0,Cat_6\\n460185,Male,No,32,No,Healthcare,9.0,Low,3.0,Cat_6\\n460187,Female,No,42,Yes,Doctor,2.0,Low,3.0,Cat_6\\n460189,Male,No,33,No,Entertainment,13.0,Low,1.0,Cat_6\\n460190,Female,No,28,Yes,Entertainment,9.0,Low,3.0,Cat_6\\n460192,Male,Yes,35,Yes,,1.0,Low,2.0,Cat_7\\n460196,Female,No,35,Yes,Healthcare,9.0,Low,2.0,Cat_6\\n460206,Female,Yes,39,Yes,Entertainment,0.0,Low,2.0,Cat_6\\n460211,Male,Yes,28,,Artist,6.0,Low,1.0,Cat_6\\n460212,Male,Yes,35,Yes,Entertainment,11.0,Low,6.0,Cat_6\\n460214,Female,Yes,45,Yes,Engineer,0.0,Average,2.0,Cat_6\\n460222,Female,,73,Yes,Lawyer,4.0,High,,Cat_6\\n460223,Male,No,52,No,Entertainment,1.0,Low,1.0,Cat_6\\n460227,Male,No,28,No,Healthcare,0.0,Low,3.0,Cat_6\\n460242,Male,Yes,38,Yes,Healthcare,9.0,Low,3.0,Cat_6\\n460243,Female,No,42,Yes,Entertainment,8.0,Low,1.0,Cat_6\\n460247,Female,No,26,No,Doctor,9.0,Low,,Cat_6\\n460248,Female,No,27,Yes,Healthcare,7.0,Low,2.0,Cat_6\\n460252,Male,Yes,41,Yes,Artist,0.0,Low,2.0,Cat_6\\n460263,Male,Yes,41,Yes,Artist,1.0,Low,2.0,Cat_6\\n460265,Male,Yes,47,Yes,Executive,0.0,High,4.0,Cat_6\\n460270,Male,No,35,Yes,Doctor,8.0,Low,1.0,Cat_6\\n460272,Female,No,88,Yes,Lawyer,0.0,Low,1.0,Cat_6\\n460275,Female,No,46,Yes,Artist,6.0,Low,1.0,Cat_6\\n460276,Female,Yes,41,Yes,Artist,3.0,Low,2.0,Cat_6\\n460281,Female,No,30,Yes,Doctor,10.0,Low,5.0,Cat_6\\n460283,Male,Yes,43,Yes,Doctor,12.0,Low,2.0,Cat_6\\n460284,Female,No,29,Yes,Entertainment,9.0,Low,2.0,Cat_6\\n460287,Male,Yes,48,Yes,Artist,1.0,Low,1.0,Cat_6\\n460289,Female,Yes,61,Yes,Artist,4.0,Average,6.0,Cat_4\\n460298,Female,No,51,Yes,Lawyer,2.0,Low,1.0,Cat_6\\n460303,Female,No,38,Yes,Artist,2.0,Low,1.0,\\n460305,Female,,49,Yes,Entertainment,0.0,High,1.0,Cat_6\\n460306,Female,No,43,Yes,Healthcare,9.0,Low,1.0,Cat_6\\n460310,Male,No,27,No,Healthcare,14.0,Low,4.0,Cat_6\\n460315,Female,No,35,No,Doctor,14.0,Low,6.0,Cat_7\\n460319,Female,Yes,39,No,Doctor,4.0,Average,2.0,Cat_7\\n460322,Female,Yes,52,No,Engineer,9.0,Low,,Cat_6\\n460323,Female,No,38,Yes,Engineer,10.0,Low,1.0,Cat_6\\n460324,Female,No,30,Yes,Entertainment,12.0,Low,2.0,Cat_6\\n460327,Female,No,43,Yes,Artist,10.0,Low,1.0,Cat_6\\n460333,Female,No,42,No,Entertainment,10.0,Low,4.0,Cat_6\\n460336,Female,No,46,Yes,Artist,2.0,Low,1.0,Cat_7\\n460340,Female,No,47,Yes,Artist,11.0,Low,2.0,Cat_6\\n460341,Female,No,32,No,Entertainment,13.0,Low,5.0,Cat_7\\n460344,Female,Yes,53,Yes,Artist,11.0,Average,2.0,Cat_6\\n460346,Female,Yes,43,Yes,Artist,12.0,Average,,Cat_6\\n460348,Female,No,39,Yes,Artist,0.0,Low,2.0,Cat_6\\n460349,Male,,42,Yes,Artist,3.0,Average,2.0,Cat_6\\n460354,Female,No,37,Yes,Artist,3.0,Low,1.0,Cat_3\\n460356,Male,No,19,No,Healthcare,0.0,Low,4.0,Cat_6\\n460358,Male,No,30,No,Marketing,1.0,Low,1.0,Cat_3\\n460361,Female,Yes,49,Yes,Artist,0.0,Low,1.0,Cat_4\\n460362,Male,Yes,55,Yes,Healthcare,0.0,Low,3.0,Cat_4\\n460365,Female,Yes,59,Yes,Doctor,1.0,Low,2.0,Cat_4\\n460369,Female,Yes,46,Yes,Artist,,Low,2.0,Cat_6\\n460370,Female,Yes,27,Yes,Executive,9.0,High,2.0,Cat_6\\n460371,Female,No,25,Yes,Artist,1.0,Low,2.0,Cat_6\\n460378,Female,No,37,Yes,Doctor,1.0,Low,1.0,Cat_6\\n460379,Male,No,38,Yes,Artist,9.0,Low,3.0,Cat_6\\n460380,Male,No,29,Yes,Entertainment,9.0,Low,3.0,Cat_6\\n460381,Male,No,28,Yes,Artist,11.0,Low,2.0,Cat_6\\n460384,Female,Yes,27,Yes,Marketing,8.0,Low,2.0,Cat_6\\n460387,Female,No,42,No,Entertainment,3.0,Low,2.0,Cat_6\\n460388,Female,No,43,Yes,Artist,14.0,Low,2.0,Cat_6\\n460389,Female,Yes,40,Yes,Healthcare,8.0,Average,2.0,Cat_6\\n460390,Male,No,41,Yes,Artist,9.0,Low,3.0,Cat_6\\n460392,Male,Yes,46,No,Entertainment,8.0,Low,1.0,Cat_1\\n460394,Female,No,32,Yes,Healthcare,9.0,Low,3.0,Cat_6\\n460397,Female,No,56,Yes,Entertainment,1.0,Low,1.0,Cat_6\\n460399,Male,No,28,Yes,Marketing,12.0,Low,1.0,Cat_6\\n460401,Female,No,25,Yes,Artist,0.0,Low,3.0,Cat_7\\n460404,Male,Yes,42,Yes,Artist,6.0,Low,7.0,Cat_6\\n460405,Female,No,41,Yes,Entertainment,5.0,Low,2.0,Cat_6\\n460406,Male,Yes,36,Yes,Healthcare,3.0,Low,2.0,Cat_6\\n460408,Female,No,42,Yes,Artist,2.0,Low,1.0,Cat_6\\n460409,Female,No,42,Yes,Artist,8.0,Low,4.0,Cat_6\\n460415,Female,No,55,Yes,Entertainment,1.0,Low,2.0,Cat_6\\n460422,Male,Yes,52,Yes,Entertainment,1.0,High,,Cat_6\\n460431,Female,No,47,Yes,Engineer,1.0,Low,1.0,Cat_6\\n460434,Male,,57,Yes,Artist,2.0,High,3.0,Cat_6\\n460437,Female,No,26,Yes,Artist,8.0,Low,1.0,Cat_6\\n460440,Female,No,28,No,Artist,5.0,Low,2.0,Cat_6\\n460443,Female,No,37,Yes,Doctor,0.0,Low,1.0,Cat_6\\n460447,Male,,89,No,Lawyer,0.0,Low,1.0,Cat_3\\n460449,Male,No,25,No,Marketing,2.0,Low,1.0,Cat_3\\n460450,Male,Yes,50,Yes,Executive,1.0,High,4.0,Cat_4\\n460453,Female,No,42,Yes,Doctor,5.0,Low,1.0,Cat_6\\n460454,Male,No,48,Yes,Artist,,Low,1.0,Cat_6\\n460457,Female,No,37,Yes,Entertainment,9.0,Low,,Cat_3\\n460459,Female,No,30,No,Engineer,1.0,Low,5.0,Cat_3\\n460460,Male,Yes,26,No,Entertainment,2.0,Low,4.0,Cat_3\\n460467,Female,Yes,47,Yes,Artist,,Average,2.0,Cat_6\\n460470,Male,No,36,No,Healthcare,,Low,4.0,Cat_4\\n460476,Male,Yes,53,No,Doctor,,Average,4.0,Cat_3\\n460477,Male,No,30,No,Entertainment,1.0,Low,6.0,Cat_3\\n460484,Female,No,20,No,Healthcare,4.0,Low,7.0,Cat_3\\n460485,Female,No,19,No,Marketing,8.0,Low,5.0,Cat_3\\n460489,Male,No,19,No,Healthcare,9.0,Low,6.0,Cat_3\\n460492,Female,No,37,No,Marketing,12.0,Low,,Cat_3\\n460495,Male,No,20,No,Healthcare,0.0,Low,6.0,Cat_3\\n460504,Male,,39,No,Executive,,Average,3.0,Cat_3\\n460505,Female,No,26,Yes,Engineer,1.0,Low,3.0,Cat_3\\n460507,Male,No,31,No,Doctor,0.0,Low,4.0,Cat_3\\n460508,Male,Yes,31,Yes,Healthcare,2.0,High,3.0,Cat_3\\n460518,Female,Yes,41,Yes,Engineer,9.0,Average,3.0,Cat_3\\n460522,Female,Yes,32,No,Homemaker,,Average,2.0,Cat_4\\n460541,Female,Yes,42,Yes,Homemaker,0.0,Average,3.0,Cat_3\\n460542,Female,Yes,89,No,Lawyer,1.0,Low,,Cat_3\\n460545,Male,Yes,78,No,Lawyer,1.0,High,3.0,Cat_3\\n460546,Female,Yes,65,Yes,Lawyer,1.0,Low,2.0,Cat_3\\n460547,Female,Yes,48,Yes,Homemaker,0.0,Average,,Cat_3\\n460549,Male,No,36,Yes,Artist,8.0,Low,2.0,Cat_3\\n460550,Female,Yes,55,Yes,Artist,0.0,Average,4.0,Cat_3\\n460551,Male,Yes,52,Yes,Engineer,0.0,Average,2.0,Cat_3\\n460555,Male,Yes,52,Yes,Homemaker,7.0,Average,3.0,Cat_3\\n460556,Female,Yes,41,Yes,,1.0,Low,1.0,Cat_3\\n460558,Female,Yes,36,Yes,Engineer,,Low,1.0,Cat_3\\n460561,Female,No,37,No,Engineer,7.0,Low,1.0,Cat_3\\n460563,Female,No,40,No,Healthcare,1.0,Low,2.0,Cat_1\\n460566,Male,Yes,38,Yes,Homemaker,,Average,2.0,Cat_3\\n460571,Male,No,25,No,Doctor,0.0,Low,3.0,Cat_3\\n460572,Female,No,33,Yes,Engineer,1.0,Low,4.0,Cat_3\\n460574,Male,No,26,Yes,Artist,1.0,Low,1.0,Cat_3\\n460582,Female,No,28,No,Entertainment,0.0,Low,1.0,Cat_3\\n460583,Male,No,18,No,Marketing,0.0,Low,6.0,Cat_3\\n460585,Male,No,52,No,Entertainment,0.0,Low,3.0,Cat_3\\n460586,Male,No,26,Yes,Healthcare,0.0,Low,2.0,Cat_3\\n460588,Male,No,18,No,Healthcare,0.0,Low,4.0,Cat_3\\n460597,Female,No,20,No,Marketing,1.0,Low,2.0,Cat_3\\n460598,Female,Yes,36,Yes,Doctor,0.0,Average,3.0,Cat_3\\n460605,Male,Yes,27,Yes,Doctor,8.0,Average,2.0,Cat_4\\n460606,Male,No,21,No,Healthcare,,Low,5.0,Cat_7\\n460612,Male,No,27,Yes,Entertainment,8.0,Low,4.0,Cat_3\\n460615,Female,No,28,Yes,Healthcare,,Low,,Cat_3\\n460618,Male,Yes,63,Yes,Lawyer,,Low,4.0,Cat_3\\n460619,Male,No,48,Yes,Entertainment,,Low,,Cat_3\\n460621,Male,Yes,80,Yes,Lawyer,1.0,Low,2.0,Cat_3\\n460622,Female,Yes,71,Yes,Lawyer,7.0,High,3.0,Cat_3\\n460626,Male,Yes,47,No,Doctor,8.0,High,4.0,Cat_6\\n460627,Female,No,22,No,,1.0,Low,4.0,Cat_3\\n460633,Male,Yes,35,Yes,,,High,2.0,Cat_3\\n460634,Female,No,40,No,Entertainment,,Low,6.0,Cat_3\\n460637,Female,No,18,No,Healthcare,,Low,,Cat_3\\n460638,Female,No,26,Yes,Artist,0.0,Low,4.0,Cat_3\\n460639,Female,Yes,73,Yes,Lawyer,,Low,5.0,Cat_1\\n460640,Male,Yes,86,,Lawyer,,Low,1.0,Cat_3\\n460645,Female,No,37,No,Doctor,1.0,Low,2.0,Cat_3\\n460646,Male,Yes,59,Yes,Entertainment,,Low,,Cat_3\\n460653,Female,No,28,No,Homemaker,8.0,Low,1.0,Cat_4\\n460656,Female,Yes,29,Yes,Artist,9.0,Low,3.0,Cat_6\\n460658,Female,Yes,37,Yes,Marketing,7.0,Average,3.0,Cat_6\\n460659,Female,Yes,46,Yes,Marketing,,Average,3.0,Cat_6\\n460660,Male,No,39,,Entertainment,6.0,Low,1.0,Cat_6\\n460661,Female,No,33,No,Homemaker,8.0,Low,1.0,Cat_6\\n460668,Female,No,32,Yes,Doctor,,Low,2.0,Cat_3\\n460678,Female,No,32,No,Doctor,6.0,Low,2.0,Cat_3\\n460686,Female,,25,No,Homemaker,8.0,Low,1.0,Cat_3\\n460687,Female,Yes,48,Yes,Homemaker,9.0,Average,2.0,Cat_3\\n460691,Female,No,27,No,Homemaker,8.0,Low,1.0,Cat_3\\n460702,Female,No,49,Yes,Artist,1.0,Low,1.0,Cat_6\\n460703,Female,Yes,33,Yes,Engineer,8.0,Average,5.0,Cat_4\\n460706,Female,No,33,No,Engineer,7.0,Low,6.0,Cat_4\\n460708,Male,Yes,39,Yes,Artist,0.0,Low,3.0,Cat_6\\n460716,Male,Yes,50,Yes,Entertainment,0.0,Average,4.0,Cat_6\\n460719,Female,Yes,84,Yes,Lawyer,0.0,Low,,Cat_3\\n460720,Female,Yes,46,Yes,Artist,0.0,Average,2.0,Cat_6\\n460722,Male,Yes,31,No,Entertainment,0.0,Average,3.0,Cat_3\\n460726,Male,Yes,57,Yes,Artist,3.0,Average,2.0,Cat_6\\n460727,Male,Yes,73,No,Executive,1.0,High,4.0,Cat_3\\n460729,Male,Yes,36,Yes,Entertainment,9.0,Low,4.0,Cat_6\\n460733,Male,No,53,Yes,Marketing,2.0,Low,4.0,Cat_6\\n460734,Male,Yes,41,Yes,Entertainment,9.0,Average,,Cat_2\\n460738,Female,No,53,No,Engineer,0.0,Low,,Cat_7\\n460740,Male,Yes,35,Yes,Artist,2.0,Average,3.0,Cat_6\\n460743,Male,Yes,62,Yes,Artist,0.0,Average,3.0,Cat_6\\n460746,Male,No,23,No,Marketing,0.0,Low,3.0,Cat_6\\n460763,Male,No,51,Yes,Artist,1.0,Low,2.0,Cat_6\\n460769,Female,Yes,83,No,Lawyer,1.0,High,2.0,Cat_6\\n460780,Female,No,26,Yes,Healthcare,0.0,Low,2.0,Cat_3\\n460783,Male,Yes,86,Yes,Lawyer,1.0,Low,1.0,Cat_6\\n460785,Male,No,26,Yes,Healthcare,0.0,Low,4.0,Cat_7\\n460789,Male,Yes,42,Yes,Executive,0.0,Low,3.0,Cat_6\\n460794,Female,Yes,41,Yes,Homemaker,9.0,Low,1.0,Cat_6\\n460796,Male,Yes,67,No,Lawyer,0.0,Low,3.0,Cat_6\\n460802,Male,Yes,68,Yes,Lawyer,1.0,High,2.0,Cat_6\\n460811,Female,Yes,45,No,Engineer,0.0,High,2.0,Cat_6\\n460813,Female,Yes,86,No,Lawyer,0.0,High,2.0,Cat_6\\n460815,Male,Yes,62,Yes,Artist,0.0,High,2.0,Cat_3\\n460822,Male,Yes,42,Yes,Artist,1.0,Low,2.0,Cat_6\\n460825,Male,No,26,Yes,Doctor,0.0,Low,3.0,Cat_4\\n460828,Male,No,48,No,Entertainment,1.0,Low,1.0,Cat_6\\n460830,Male,Yes,40,No,Entertainment,3.0,Average,5.0,Cat_2\\n460831,Male,No,20,No,Healthcare,0.0,Low,4.0,Cat_6\\n460837,Female,No,25,Yes,Artist,1.0,Low,1.0,Cat_5\\n460838,Male,No,37,Yes,Artist,1.0,Low,,Cat_6\\n460840,Male,Yes,77,Yes,Lawyer,1.0,Low,1.0,Cat_6\\n460844,Male,Yes,50,Yes,Healthcare,,Low,2.0,Cat_6\\n460846,Female,No,22,No,Marketing,0.0,Low,4.0,Cat_6\\n460847,Male,No,26,Yes,Artist,1.0,Low,3.0,Cat_6\\n460851,Male,Yes,71,No,Doctor,0.0,Average,3.0,Cat_6\\n460855,Male,Yes,50,Yes,Artist,,Low,2.0,Cat_6\\n460857,Male,No,29,No,Entertainment,1.0,Low,1.0,Cat_4\\n460859,Male,Yes,51,Yes,Entertainment,,Low,4.0,Cat_6\\n460860,Male,Yes,52,Yes,Artist,6.0,Average,4.0,Cat_6\\n460861,Male,No,20,No,Healthcare,1.0,Low,3.0,Cat_3\\n460866,Male,No,26,Yes,Doctor,0.0,Low,9.0,Cat_4\\n460870,Male,No,37,Yes,Healthcare,,Low,,Cat_4\\n460871,Female,No,33,Yes,Healthcare,,Low,,Cat_6\\n460872,Female,Yes,39,Yes,Artist,0.0,Low,2.0,Cat_4\\n460877,Female,Yes,53,No,Artist,1.0,Average,5.0,Cat_6\\n460878,Male,Yes,49,No,Entertainment,0.0,Average,4.0,Cat_6\\n460882,Male,No,21,No,Healthcare,0.0,Low,2.0,Cat_3\\n460888,Male,Yes,39,No,Homemaker,8.0,Low,1.0,Cat_6\\n460891,Female,Yes,38,No,Artist,2.0,Average,4.0,Cat_3\\n460897,Male,No,22,No,Healthcare,4.0,Low,4.0,Cat_6\\n460898,Male,Yes,52,No,Artist,2.0,Average,4.0,Cat_6\\n460899,Male,No,40,Yes,Entertainment,,Low,3.0,Cat_6\\n460901,Male,No,20,No,Doctor,8.0,Low,3.0,Cat_6\\n460902,Male,No,41,Yes,Executive,1.0,Low,3.0,Cat_6\\n460905,Male,No,30,Yes,Artist,1.0,Low,1.0,Cat_3\\n460906,Female,Yes,89,Yes,Lawyer,1.0,High,3.0,Cat_6\\n460907,Male,Yes,83,No,Lawyer,1.0,High,3.0,Cat_6\\n460923,Male,Yes,53,Yes,Artist,0.0,Average,3.0,Cat_6\\n460924,Male,No,31,No,Doctor,1.0,Low,5.0,Cat_2\\n460928,Male,Yes,48,Yes,Artist,1.0,Average,4.0,Cat_6\\n460934,Female,No,29,No,Doctor,0.0,Low,2.0,Cat_6\\n460935,Male,Yes,87,Yes,Lawyer,0.0,Low,1.0,Cat_6\\n460945,Male,No,19,No,Engineer,4.0,Low,7.0,Cat_6\\n460953,Male,Yes,60,No,Entertainment,1.0,Low,2.0,Cat_6\\n460961,Male,No,23,No,Healthcare,1.0,Low,2.0,Cat_3\\n460962,Male,Yes,61,Yes,Executive,9.0,High,4.0,Cat_6\\n460963,Female,No,27,Yes,Artist,1.0,Low,3.0,Cat_6\\n460968,Male,Yes,32,No,Doctor,14.0,Average,2.0,Cat_3\\n460975,Male,Yes,79,,Lawyer,0.0,High,2.0,Cat_6\\n460976,Male,No,19,No,Healthcare,1.0,Low,4.0,Cat_6\\n460977,Male,Yes,42,Yes,Executive,0.0,High,3.0,Cat_4\\n460979,Male,Yes,76,No,Lawyer,1.0,Low,1.0,Cat_6\\n460981,Female,Yes,41,No,Marketing,1.0,Average,2.0,Cat_6\\n460984,Male,Yes,38,Yes,Entertainment,0.0,Average,4.0,Cat_6\\n460988,Male,Yes,43,Yes,Entertainment,0.0,Average,3.0,Cat_4\\n460989,Male,No,19,No,Healthcare,1.0,Low,3.0,Cat_1\\n460991,Female,No,28,Yes,Healthcare,1.0,Low,3.0,Cat_7\\n460993,Male,Yes,56,Yes,Artist,0.0,Average,4.0,Cat_6\\n460999,Male,No,28,Yes,Engineer,0.0,Low,3.0,Cat_3\\n461000,Male,Yes,60,No,Marketing,1.0,High,2.0,Cat_3\\n461001,Female,No,55,Yes,Artist,0.0,Low,,Cat_3\\n461015,Male,Yes,35,Yes,Entertainment,1.0,Average,2.0,Cat_3\\n461016,Male,No,25,No,Healthcare,5.0,Low,5.0,Cat_3\\n461022,Male,Yes,71,Yes,Artist,1.0,Low,1.0,Cat_3\\n461023,Male,Yes,65,No,Lawyer,,High,2.0,Cat_3\\n461024,Male,Yes,74,Yes,Lawyer,1.0,Low,1.0,Cat_6\\n461028,Female,No,20,No,Healthcare,5.0,Low,4.0,Cat_4\\n461029,Male,Yes,43,No,Entertainment,9.0,Low,2.0,Cat_4\\n461034,Female,No,20,No,Marketing,3.0,Low,6.0,Cat_3\\n461037,Male,Yes,40,Yes,Healthcare,,High,5.0,Cat_3\\n461038,Female,Yes,46,Yes,Engineer,0.0,High,5.0,Cat_3\\n461041,Female,Yes,65,No,Lawyer,1.0,High,7.0,Cat_3\\n461042,Male,No,21,No,Healthcare,0.0,Low,,Cat_4\\n461043,Male,Yes,50,No,Healthcare,1.0,Low,7.0,Cat_4\\n461044,Male,No,18,No,Healthcare,0.0,Low,5.0,Cat_4\\n461049,Female,Yes,61,Yes,Doctor,1.0,Low,7.0,Cat_7\\n461050,Male,Yes,49,Yes,,1.0,High,3.0,Cat_6\\n461053,Male,Yes,39,No,Executive,,High,4.0,Cat_3\\n461059,Female,Yes,52,No,Lawyer,1.0,High,2.0,Cat_6\\n461060,Male,Yes,56,Yes,Executive,0.0,High,5.0,Cat_6\\n461065,Male,Yes,55,Yes,Executive,,Low,6.0,Cat_3\\n461071,Male,Yes,42,No,Engineer,1.0,Average,5.0,Cat_3\\n461078,Female,No,33,No,Homemaker,0.0,Low,6.0,Cat_3\\n461082,Male,No,19,No,Healthcare,8.0,Low,4.0,Cat_1\\n461085,Female,No,27,No,Engineer,1.0,Low,1.0,Cat_3\\n461093,Female,Yes,38,Yes,Artist,1.0,Average,4.0,Cat_3\\n461099,Female,No,38,No,Artist,1.0,Low,4.0,Cat_3\\n461111,Female,Yes,43,Yes,Doctor,8.0,Low,1.0,Cat_6\\n461114,Male,Yes,53,Yes,Artist,1.0,Average,4.0,Cat_3\\n461116,Male,Yes,33,No,Executive,4.0,High,4.0,Cat_3\\n461118,Female,No,30,Yes,Healthcare,7.0,Low,,Cat_3\\n461119,Female,No,22,No,Healthcare,6.0,Low,3.0,Cat_3\\n461121,Male,No,33,No,Doctor,0.0,Low,4.0,Cat_3\\n461124,Male,No,21,No,Healthcare,1.0,Low,8.0,Cat_4\\n461127,Male,No,20,No,Healthcare,1.0,Low,5.0,Cat_4\\n461128,Male,No,19,No,Healthcare,7.0,Low,3.0,Cat_6\\n461129,Female,Yes,58,Yes,Entertainment,1.0,Average,4.0,Cat_6\\n461131,Male,Yes,67,Yes,Artist,1.0,High,,Cat_6\\n461145,Female,Yes,36,Yes,Entertainment,1.0,Low,2.0,Cat_3\\n461152,Female,No,30,No,Homemaker,8.0,Low,,Cat_3\\n461154,Male,No,23,No,Homemaker,1.0,Low,4.0,Cat_3\\n461158,Female,No,42,Yes,Entertainment,1.0,Low,,Cat_3\\n461162,Female,No,37,No,Marketing,8.0,Low,3.0,Cat_3\\n461163,Female,Yes,58,No,Entertainment,9.0,Low,4.0,Cat_3\\n461168,Female,Yes,26,No,Engineer,7.0,Average,2.0,Cat_3\\n461169,Male,No,39,Yes,Entertainment,9.0,Low,2.0,Cat_3\\n461174,Female,No,23,No,Marketing,,Low,4.0,Cat_3\\n461177,Male,Yes,41,No,Executive,8.0,Average,4.0,Cat_1\\n461178,Male,Yes,26,No,Entertainment,0.0,Low,3.0,Cat_3\\n461179,Female,Yes,25,No,Engineer,3.0,Low,3.0,Cat_3\\n461181,Male,No,19,No,Healthcare,,Low,4.0,Cat_3\\n461183,Male,No,36,No,Executive,0.0,Low,5.0,Cat_3\\n461187,Male,No,29,No,Healthcare,9.0,Low,4.0,Cat_3\\n461197,Male,No,26,No,Marketing,1.0,Low,1.0,Cat_3\\n461198,Female,No,78,Yes,Lawyer,,Low,1.0,Cat_6\\n461201,Female,No,55,Yes,Artist,,Low,1.0,Cat_6\\n461205,Male,No,26,Yes,Healthcare,,Low,3.0,Cat_2\\n461211,Female,No,46,Yes,Entertainment,0.0,Low,1.0,Cat_6\\n461214,Male,No,29,No,Healthcare,0.0,Low,4.0,Cat_6\\n461215,Female,No,36,Yes,Artist,10.0,Low,1.0,Cat_6\\n461218,Male,Yes,27,No,Executive,1.0,Low,6.0,Cat_6\\n461220,Female,No,29,No,Executive,8.0,Low,3.0,Cat_6\\n461221,Female,No,25,No,Marketing,1.0,Low,4.0,Cat_6\\n461225,Female,No,30,No,Marketing,10.0,Low,6.0,Cat_6\\n461226,Male,Yes,45,Yes,,1.0,Low,2.0,Cat_6\\n461230,Female,No,21,No,Executive,0.0,Low,,Cat_3\\n461232,Female,Yes,41,Yes,Executive,,High,,Cat_3\\n461233,Male,Yes,38,Yes,Entertainment,,Low,,Cat_3\\n461236,Female,No,28,Yes,Healthcare,9.0,Low,1.0,Cat_6\\n461237,Male,No,33,Yes,Doctor,1.0,Low,5.0,Cat_2\\n461241,Male,Yes,31,Yes,Healthcare,7.0,Low,2.0,Cat_6\\n461242,Male,Yes,45,Yes,Healthcare,0.0,Low,2.0,Cat_6\\n461243,Male,Yes,47,Yes,Marketing,0.0,Low,5.0,Cat_6\\n461248,Female,No,39,No,Healthcare,0.0,Low,1.0,Cat_6\\n461251,Female,No,47,Yes,Marketing,1.0,Low,,Cat_6\\n461252,Female,Yes,53,Yes,Doctor,0.0,Low,1.0,Cat_3\\n461256,Male,No,27,No,Doctor,1.0,Low,4.0,Cat_4\\n461257,Male,Yes,37,Yes,Engineer,1.0,Average,2.0,Cat_4\\n461258,Female,Yes,62,Yes,Artist,1.0,Average,3.0,Cat_4\\n461262,Female,No,29,No,Engineer,0.0,Low,7.0,Cat_4\\n461263,Female,Yes,51,Yes,Artist,0.0,Low,1.0,Cat_4\\n461265,Male,No,30,No,Marketing,1.0,Low,6.0,Cat_4\\n461269,Male,No,18,No,Entertainment,0.0,Low,4.0,Cat_4\\n461274,Female,Yes,87,Yes,Lawyer,,High,2.0,Cat_6\\n461276,Male,Yes,68,Yes,Marketing,0.0,Low,2.0,Cat_7\\n461277,Male,Yes,84,Yes,Lawyer,5.0,Low,1.0,Cat_6\\n461281,Male,No,22,No,Healthcare,2.0,Low,9.0,Cat_2\\n461286,Female,No,22,No,Doctor,2.0,Low,4.0,Cat_6\\n461289,Male,No,21,No,Healthcare,1.0,Low,3.0,Cat_6\\n461292,Female,Yes,89,No,Lawyer,,High,2.0,Cat_3\\n461297,Male,Yes,73,No,Lawyer,0.0,High,2.0,Cat_6\\n461299,Female,Yes,75,Yes,Lawyer,0.0,High,2.0,Cat_6\\n461303,Female,No,20,No,Doctor,6.0,Low,4.0,Cat_2\\n461308,Male,No,22,No,Healthcare,1.0,Low,2.0,Cat_6\\n461309,Female,No,22,No,Healthcare,0.0,Low,4.0,Cat_6\\n461313,Male,Yes,63,Yes,Artist,0.0,Average,,Cat_6\\n461314,Male,Yes,46,Yes,Artist,1.0,Average,3.0,Cat_6\\n461319,Male,Yes,58,No,Artist,0.0,Average,2.0,Cat_6\\n461320,Female,No,41,Yes,Artist,1.0,Low,3.0,Cat_6\\n461322,Male,Yes,42,Yes,Artist,0.0,Average,2.0,Cat_6\\n461323,Female,Yes,43,Yes,Healthcare,6.0,Average,2.0,Cat_6\\n461324,Female,No,49,Yes,Artist,3.0,Low,1.0,Cat_6\\n461326,Female,No,40,Yes,Artist,0.0,Low,1.0,Cat_6\\n461335,Male,Yes,53,No,Executive,8.0,High,2.0,Cat_6\\n461340,Male,Yes,36,Yes,Artist,4.0,Average,2.0,Cat_7\\n461346,Male,Yes,50,Yes,Artist,8.0,Low,2.0,Cat_6\\n461348,Male,Yes,42,Yes,Healthcare,1.0,Low,1.0,Cat_6\\n461350,Male,No,30,No,Healthcare,0.0,Low,4.0,Cat_2\\n461352,Male,No,29,No,Healthcare,2.0,Low,5.0,Cat_2\\n461356,Male,No,28,Yes,Entertainment,1.0,Low,2.0,Cat_6\\n461357,Male,No,27,Yes,Healthcare,1.0,Low,4.0,Cat_6\\n461363,Male,No,49,Yes,Artist,0.0,Low,1.0,Cat_6\\n461366,Male,No,32,Yes,Healthcare,1.0,Low,1.0,Cat_6\\n461370,Male,No,25,Yes,Doctor,1.0,Low,3.0,Cat_6\\n461377,Female,Yes,63,Yes,Artist,,Low,1.0,Cat_6\\n461378,Female,No,42,Yes,Artist,8.0,Low,1.0,Cat_6\\n461379,Male,No,31,Yes,Healthcare,1.0,Low,,Cat_5\\n461383,Male,Yes,71,Yes,Artist,0.0,High,2.0,Cat_6\\n461388,Male,No,20,No,Healthcare,,Low,5.0,Cat_2\\n461397,Male,No,22,No,Healthcare,1.0,Low,4.0,Cat_6\\n461402,Female,No,29,Yes,Entertainment,1.0,Low,5.0,Cat_6\\n461408,Male,Yes,47,Yes,Marketing,0.0,Low,3.0,Cat_6\\n461421,Male,Yes,43,Yes,Artist,,Average,3.0,Cat_6\\n461423,Male,No,32,Yes,Artist,1.0,Low,3.0,Cat_4\\n461426,Male,Yes,47,Yes,Artist,7.0,Average,2.0,Cat_6\\n461428,Male,No,46,Yes,Artist,0.0,Low,1.0,Cat_6\\n461432,Female,Yes,41,Yes,Artist,1.0,Average,2.0,Cat_6\\n461437,Male,Yes,37,Yes,Entertainment,0.0,Average,2.0,Cat_6\\n461439,Male,Yes,40,Yes,Artist,0.0,Average,2.0,Cat_6\\n461441,Male,Yes,60,Yes,Artist,0.0,Average,4.0,Cat_6\\n461442,Male,Yes,46,Yes,Artist,0.0,Average,6.0,Cat_2\\n461454,Female,Yes,36,Yes,Artist,6.0,High,4.0,Cat_7\\n461456,Female,No,38,No,Marketing,0.0,Low,1.0,Cat_6\\n461457,Female,Yes,32,No,Doctor,0.0,Low,5.0,Cat_6\\n461458,Female,No,41,Yes,Artist,5.0,Low,1.0,Cat_6\\n461462,Male,Yes,56,Yes,Marketing,0.0,Low,3.0,Cat_6\\n461465,Male,Yes,31,Yes,Artist,8.0,Average,2.0,Cat_6\\n461466,Male,Yes,45,No,Artist,0.0,Low,2.0,Cat_7\\n461468,Male,Yes,69,Yes,Entertainment,,Average,3.0,Cat_6\\n461469,Male,Yes,37,Yes,Artist,0.0,Low,2.0,Cat_6\\n461476,Male,Yes,47,Yes,Artist,1.0,Average,4.0,Cat_2\\n461479,Female,Yes,52,Yes,Artist,1.0,Average,3.0,Cat_6\\n461480,Female,Yes,57,Yes,Artist,1.0,High,3.0,Cat_6\\n461482,Female,No,50,Yes,Artist,9.0,Low,1.0,Cat_6\\n461494,Male,Yes,27,No,Engineer,0.0,Average,2.0,Cat_6\\n461501,Female,Yes,45,Yes,Engineer,1.0,High,3.0,Cat_6\\n461503,Female,No,30,Yes,Artist,8.0,Low,2.0,Cat_6\\n461510,Male,Yes,45,Yes,Artist,0.0,Low,2.0,Cat_6\\n461514,Male,No,30,No,Healthcare,1.0,Low,4.0,Cat_6\\n461516,Male,Yes,31,Yes,Entertainment,1.0,Average,3.0,Cat_6\\n461518,Female,Yes,45,Yes,Artist,1.0,Average,4.0,Cat_3\\n461521,Male,Yes,67,Yes,Artist,0.0,High,2.0,Cat_6\\n461522,Male,Yes,76,No,Executive,1.0,High,2.0,Cat_6\\n461525,Male,Yes,69,Yes,Entertainment,0.0,Low,2.0,Cat_6\\n461526,Male,Yes,83,No,Entertainment,0.0,Low,2.0,Cat_6\\n461530,Male,Yes,38,Yes,Engineer,0.0,Low,2.0,Cat_6\\n461534,Male,Yes,36,Yes,Artist,0.0,Low,1.0,Cat_6\\n461540,Male,No,41,Yes,,2.0,Low,2.0,Cat_2\\n461546,Female,Yes,69,No,Lawyer,0.0,Low,3.0,Cat_6\\n461548,Female,No,33,Yes,Engineer,0.0,Low,3.0,Cat_6\\n461553,Male,No,38,Yes,Artist,1.0,Low,3.0,Cat_7\\n461556,Female,Yes,48,Yes,Engineer,1.0,Average,2.0,Cat_6\\n461558,Male,Yes,51,Yes,Engineer,2.0,Average,2.0,Cat_6\\n461564,Male,Yes,56,Yes,Executive,1.0,High,2.0,Cat_6\\n461570,Male,Yes,57,Yes,Artist,0.0,Average,3.0,Cat_6\\n461574,Female,Yes,49,Yes,Artist,1.0,Average,3.0,Cat_6\\n461587,Male,No,30,Yes,Healthcare,0.0,Low,3.0,Cat_6\\n461593,Female,Yes,40,Yes,Doctor,8.0,Average,2.0,Cat_6\\n461602,Female,No,30,Yes,Artist,0.0,Low,,Cat_6\\n461604,Male,Yes,38,No,Entertainment,0.0,Average,2.0,Cat_6\\n461612,Female,No,31,Yes,Healthcare,8.0,Low,5.0,Cat_6\\n461615,Male,No,33,Yes,Doctor,0.0,Low,2.0,Cat_6\\n461617,Male,No,50,Yes,Artist,0.0,Low,2.0,Cat_6\\n461619,Male,Yes,52,Yes,Executive,,High,3.0,Cat_6\\n461624,Female,Yes,39,Yes,Artist,0.0,Average,,Cat_2\\n461626,Male,Yes,73,Yes,Executive,0.0,High,2.0,Cat_6\\n461630,Male,Yes,46,Yes,Artist,0.0,Average,3.0,Cat_6\\n461637,Male,Yes,50,Yes,Artist,0.0,Low,2.0,Cat_7\\n461644,Male,No,30,No,Healthcare,0.0,Low,6.0,Cat_6\\n461653,Female,Yes,60,Yes,Doctor,0.0,Average,2.0,Cat_6\\n461655,Female,Yes,39,Yes,Homemaker,9.0,Average,2.0,Cat_6\\n461658,Female,Yes,59,Yes,Artist,1.0,Average,2.0,Cat_5\\n461659,Female,Yes,51,Yes,Artist,0.0,Average,2.0,Cat_6\\n461661,Female,Yes,40,Yes,Artist,5.0,Average,2.0,Cat_2\\n461663,Male,No,23,No,Healthcare,1.0,Low,3.0,Cat_6\\n461668,Male,Yes,53,Yes,Artist,4.0,Average,4.0,Cat_2\\n461671,Male,No,32,No,Healthcare,7.0,Low,5.0,Cat_6\\n461674,Male,Yes,52,Yes,Executive,0.0,High,4.0,Cat_6\\n461676,Female,No,31,Yes,Engineer,0.0,Low,1.0,Cat_6\\n461679,Male,No,30,Yes,Healthcare,3.0,Low,4.0,Cat_6\\n461681,Male,No,25,Yes,Healthcare,8.0,Low,3.0,Cat_7\\n461683,Male,Yes,40,Yes,Executive,1.0,High,4.0,Cat_6\\n461685,Female,No,27,Yes,Healthcare,4.0,Low,4.0,Cat_6\\n461686,Male,Yes,61,Yes,Artist,0.0,Low,2.0,Cat_6\\n461690,Female,No,33,Yes,Engineer,1.0,Low,1.0,Cat_4\\n461694,Male,No,28,Yes,Doctor,1.0,Low,4.0,Cat_4\\n461695,Female,Yes,48,Yes,Artist,2.0,Average,2.0,Cat_6\\n461698,Female,Yes,73,Yes,Artist,0.0,High,2.0,Cat_6\\n461701,Male,Yes,36,No,Artist,0.0,Average,2.0,Cat_5\\n461705,Female,No,32,No,Healthcare,0.0,Low,4.0,Cat_6\\n461708,Male,Yes,82,No,Lawyer,0.0,High,2.0,Cat_6\\n461709,Male,No,28,Yes,Artist,1.0,Low,3.0,Cat_4\\n461711,Female,No,42,Yes,Artist,8.0,Low,3.0,Cat_2\\n461716,Female,Yes,60,Yes,Lawyer,6.0,High,9.0,Cat_6\\n461720,Female,No,46,Yes,Artist,1.0,Low,1.0,Cat_4\\n461722,Male,No,31,No,Doctor,0.0,Low,3.0,Cat_6\\n461724,Female,Yes,50,Yes,Artist,1.0,Low,1.0,Cat_7\\n461725,Female,No,30,Yes,Engineer,3.0,Low,1.0,Cat_4\\n461727,Female,No,49,Yes,Artist,1.0,Low,3.0,Cat_6\\n461737,Female,Yes,51,Yes,Doctor,0.0,Average,6.0,Cat_4\\n461738,Female,Yes,46,Yes,,,Average,3.0,Cat_6\\n461744,Male,Yes,53,Yes,Artist,0.0,Average,4.0,Cat_6\\n461747,Male,Yes,65,Yes,Artist,0.0,High,2.0,Cat_6\\n461749,Female,No,22,No,Healthcare,0.0,Low,5.0,Cat_6\\n461752,Male,Yes,65,Yes,Doctor,1.0,Average,3.0,Cat_6\\n461756,Female,Yes,39,Yes,Engineer,0.0,Average,2.0,Cat_4\\n461760,Male,Yes,84,Yes,Artist,0.0,High,2.0,Cat_6\\n461769,Male,No,37,Yes,Artist,0.0,Low,1.0,Cat_6\\n461771,Male,Yes,28,Yes,Doctor,8.0,Average,2.0,Cat_6\\n461775,Female,Yes,82,No,Lawyer,0.0,High,2.0,Cat_6\\n461778,Female,Yes,87,Yes,Lawyer,0.0,High,2.0,Cat_6\\n461780,Female,No,69,Yes,Lawyer,1.0,Low,5.0,Cat_6\\n461782,Female,Yes,51,Yes,Artist,,High,5.0,Cat_6\\n461784,Female,Yes,74,Yes,Lawyer,1.0,Low,1.0,Cat_6\\n461788,Female,Yes,79,Yes,Lawyer,1.0,High,2.0,Cat_6\\n461791,Female,No,21,No,Lawyer,9.0,Low,1.0,Cat_6\\n461792,Female,No,20,No,Healthcare,5.0,Low,5.0,Cat_2\\n461800,Female,No,43,Yes,Doctor,3.0,Low,1.0,Cat_2\\n461801,Female,No,25,No,Healthcare,1.0,Low,3.0,Cat_6\\n461802,Male,No,43,Yes,Artist,0.0,Low,4.0,Cat_6\\n461804,Female,No,42,Yes,Artist,1.0,Low,1.0,Cat_6\\n461807,Male,No,25,Yes,Doctor,10.0,Low,4.0,Cat_6\\n461815,Male,Yes,59,Yes,Artist,0.0,Low,1.0,Cat_3\\n461816,Female,No,49,Yes,Marketing,0.0,Low,5.0,Cat_6\\n461821,Female,No,32,No,Doctor,1.0,Low,4.0,Cat_6\\n461822,Male,Yes,36,Yes,Artist,8.0,High,2.0,Cat_6\\n461824,Male,Yes,45,Yes,Marketing,9.0,Low,3.0,Cat_6\\n461832,Male,No,29,Yes,Healthcare,,Low,3.0,Cat_6\\n461837,Male,Yes,37,Yes,Artist,0.0,Low,2.0,Cat_6\\n461845,Female,Yes,48,Yes,Doctor,1.0,Average,4.0,Cat_6\\n461846,Female,No,65,Yes,Artist,0.0,Low,2.0,Cat_2\\n461848,Male,No,39,No,Marketing,1.0,Low,2.0,Cat_6\\n461858,Male,No,25,No,Entertainment,1.0,Low,7.0,Cat_4\\n461859,Female,Yes,49,No,Artist,5.0,Low,5.0,Cat_6\\n461860,Female,Yes,77,Yes,Lawyer,1.0,High,2.0,Cat_6\\n461862,Female,No,38,Yes,Artist,9.0,Low,1.0,Cat_6\\n461864,Male,No,19,Yes,Marketing,0.0,Low,6.0,Cat_4\\n461872,Female,Yes,76,Yes,Lawyer,1.0,High,2.0,Cat_6\\n461873,Male,No,28,Yes,Doctor,0.0,Low,4.0,Cat_6\\n461874,Male,Yes,51,Yes,Doctor,1.0,Average,3.0,Cat_3\\n461882,Female,No,28,Yes,Doctor,0.0,Low,5.0,Cat_7\\n461892,Female,No,42,Yes,Healthcare,0.0,Low,1.0,Cat_2\\n461896,Male,Yes,45,Yes,Artist,1.0,Low,1.0,Cat_6\\n461898,Male,Yes,63,Yes,Executive,6.0,High,3.0,Cat_6\\n461899,Female,No,18,No,Doctor,0.0,Low,6.0,Cat_6\\n461901,Male,No,26,Yes,Artist,7.0,Low,4.0,Cat_6\\n461910,Male,Yes,31,Yes,Artist,,Average,2.0,Cat_2\\n461913,Male,No,43,Yes,Entertainment,5.0,Low,4.0,Cat_2\\n461914,Female,Yes,60,Yes,Artist,7.0,Low,,Cat_6\\n461921,Female,No,36,Yes,Artist,0.0,Low,1.0,Cat_6\\n461927,Male,No,32,No,Healthcare,1.0,Low,4.0,Cat_2\\n461928,Male,Yes,68,Yes,Lawyer,,Low,1.0,\\n461929,Male,Yes,60,Yes,Entertainment,1.0,Low,1.0,Cat_6\\n461930,Female,No,42,Yes,Artist,0.0,Low,1.0,Cat_4\\n461931,Female,No,18,No,Healthcare,6.0,Low,5.0,\\n461936,Male,Yes,69,No,Lawyer,0.0,High,2.0,Cat_6\\n461937,Female,No,42,Yes,Doctor,0.0,Low,,Cat_6\\n461941,Female,Yes,70,Yes,Artist,1.0,Low,1.0,Cat_6\\n461943,Male,No,25,Yes,Healthcare,1.0,Low,3.0,Cat_6\\n461962,Male,Yes,56,Yes,Entertainment,1.0,Average,3.0,Cat_6\\n461963,Female,No,40,Yes,Artist,9.0,Low,1.0,Cat_6\\n461965,Male,No,23,No,Healthcare,1.0,Low,6.0,Cat_6\\n461967,Female,No,20,No,Marketing,3.0,Low,4.0,Cat_7\\n461968,Female,No,39,Yes,Entertainment,2.0,Low,1.0,Cat_6\\n461978,Female,No,19,No,Healthcare,0.0,Low,4.0,Cat_6\\n461985,Male,No,28,Yes,Entertainment,,Low,,Cat_5\\n461988,Male,Yes,40,No,Engineer,1.0,Average,2.0,Cat_6\\n461989,Female,,60,Yes,Engineer,1.0,Average,4.0,Cat_2\\n461993,Male,No,33,No,Healthcare,3.0,Low,4.0,Cat_6\\n461994,Male,Yes,20,No,Doctor,14.0,Low,2.0,Cat_6\\n461996,Female,No,35,No,Artist,7.0,Low,4.0,Cat_6\\n461999,Male,No,27,Yes,Doctor,0.0,Low,5.0,Cat_6\\n462007,Female,Yes,42,Yes,Artist,1.0,Average,2.0,Cat_6\\n462011,Male,Yes,30,No,Marketing,0.0,Low,4.0,Cat_4\\n462013,Female,Yes,56,Yes,Executive,0.0,Average,2.0,Cat_6\\n462015,Male,Yes,28,Yes,Entertainment,0.0,Average,2.0,Cat_6\\n462016,Female,Yes,38,Yes,Artist,6.0,Average,2.0,Cat_6\\n462017,Male,No,26,Yes,Entertainment,9.0,Low,1.0,Cat_2\\n462027,Male,No,36,No,Engineer,0.0,Low,1.0,Cat_6\\n462029,Male,No,56,No,Entertainment,0.0,Low,1.0,Cat_6\\n462033,Male,No,26,Yes,Entertainment,0.0,Low,1.0,Cat_6\\n462038,Male,No,28,Yes,Artist,4.0,Low,4.0,Cat_6\\n462043,Male,No,32,No,Healthcare,0.0,Low,5.0,Cat_6\\n462044,Female,No,52,Yes,Artist,4.0,Low,1.0,Cat_6\\n462048,Female,No,23,No,Healthcare,0.0,Low,4.0,Cat_6\\n462051,Male,No,23,No,Healthcare,,Low,5.0,Cat_4\\n462052,Male,Yes,50,Yes,Artist,0.0,Low,2.0,Cat_6\\n462053,Male,Yes,26,Yes,Artist,,Low,2.0,Cat_6\\n462058,Male,Yes,40,Yes,Entertainment,8.0,Low,2.0,Cat_6\\n462060,Female,Yes,53,Yes,Artist,1.0,Average,2.0,Cat_6\\n462064,Male,Yes,63,Yes,Artist,0.0,Average,3.0,Cat_7\\n462068,Male,Yes,62,Yes,Executive,0.0,High,3.0,Cat_6\\n462075,Female,No,38,Yes,Artist,1.0,Low,1.0,Cat_6\\n462078,Female,Yes,57,No,Artist,1.0,Average,2.0,Cat_2\\n462080,Female,No,43,Yes,Artist,9.0,Low,1.0,Cat_6\\n462081,Male,No,21,No,Marketing,1.0,Low,3.0,Cat_4\\n462083,Male,No,22,No,Healthcare,0.0,Low,5.0,Cat_6\\n462084,Male,Yes,68,Yes,Artist,1.0,Low,1.0,Cat_6\\n462085,Female,No,28,Yes,Healthcare,0.0,Low,1.0,Cat_6\\n462088,Male,Yes,33,Yes,Artist,0.0,Average,2.0,Cat_6\\n462090,Female,No,38,Yes,Artist,8.0,Low,1.0,Cat_6\\n462091,Male,No,23,No,Healthcare,0.0,Low,5.0,Cat_4\\n462094,Female,No,41,Yes,Healthcare,,Low,1.0,Cat_6\\n462096,Female,No,41,Yes,Homemaker,,Low,1.0,Cat_4\\n462102,Female,No,39,Yes,Doctor,4.0,Low,1.0,Cat_6\\n462103,Female,Yes,49,No,Entertainment,9.0,High,2.0,Cat_6\\n462108,Female,Yes,33,Yes,Homemaker,,Average,2.0,Cat_6\\n462109,Male,Yes,79,No,Lawyer,0.0,Low,1.0,Cat_6\\n462111,Male,Yes,38,Yes,Artist,6.0,Average,4.0,Cat_6\\n462114,Male,No,21,No,Healthcare,1.0,Low,4.0,Cat_6\\n462116,Female,Yes,68,Yes,Doctor,0.0,Average,2.0,Cat_6\\n462118,Male,No,31,Yes,Artist,0.0,Low,3.0,Cat_6\\n462120,Male,Yes,46,No,Artist,1.0,Low,3.0,Cat_3\\n462128,Male,Yes,35,Yes,Artist,9.0,Average,2.0,Cat_6\\n462131,Female,No,42,Yes,Artist,8.0,Low,3.0,Cat_2\\n462134,Male,Yes,87,No,Lawyer,0.0,Low,1.0,\\n462141,Female,No,38,Yes,Artist,8.0,Low,1.0,Cat_6\\n462149,Female,Yes,88,No,Lawyer,2.0,High,1.0,Cat_6\\n462151,Female,No,42,Yes,Artist,9.0,Low,1.0,Cat_6\\n462163,Female,Yes,26,Yes,Artist,4.0,Average,2.0,Cat_3\\n462168,Male,Yes,35,Yes,Executive,0.0,High,3.0,Cat_6\\n462171,Female,Yes,41,No,Engineer,3.0,High,2.0,Cat_6\\n462172,Male,Yes,37,Yes,Doctor,1.0,Average,2.0,Cat_1\\n462174,Female,Yes,41,Yes,Engineer,8.0,Average,4.0,Cat_4\\n462177,Male,No,35,,Artist,6.0,Low,5.0,Cat_2\\n462179,Female,No,33,Yes,Marketing,0.0,Low,9.0,Cat_7\\n462180,Female,Yes,61,Yes,Engineer,2.0,Average,4.0,Cat_2\\n462186,Female,No,19,No,Doctor,1.0,Low,3.0,Cat_1\\n462187,Female,No,50,Yes,Artist,4.0,Low,1.0,Cat_6\\n462188,Female,Yes,48,No,Engineer,0.0,Average,4.0,Cat_4\\n462196,Male,Yes,57,No,Marketing,1.0,Average,3.0,Cat_4\\n462197,Female,Yes,72,No,Engineer,1.0,Average,3.0,Cat_4\\n462198,Female,No,39,No,Engineer,4.0,Low,,Cat_3\\n462200,Female,Yes,49,Yes,Doctor,0.0,Low,3.0,Cat_4\\n462202,Female,No,41,Yes,Entertainment,0.0,Low,4.0,Cat_4\\n462203,Male,Yes,65,No,Executive,2.0,High,7.0,Cat_4\\n462204,Female,No,22,No,Marketing,0.0,Low,3.0,Cat_4\\n462205,Female,No,23,No,Healthcare,0.0,Low,4.0,Cat_4\\n462209,Female,Yes,41,No,Artist,0.0,Low,1.0,Cat_4\\n462210,Female,Yes,42,Yes,Engineer,0.0,Low,3.0,Cat_4\\n462211,Male,No,18,No,Healthcare,0.0,Low,3.0,Cat_4\\n462214,Male,Yes,49,No,Doctor,1.0,Low,2.0,Cat_4\\n462216,Female,Yes,40,No,Doctor,0.0,Low,2.0,Cat_4\\n462218,Male,Yes,50,No,Executive,1.0,Average,5.0,Cat_4\\n462220,Female,No,19,No,Healthcare,6.0,Low,3.0,Cat_4\\n462222,Male,No,22,No,Healthcare,0.0,Low,6.0,Cat_4\\n462229,Male,No,23,No,,1.0,Low,8.0,Cat_4\\n462231,Male,No,27,Yes,Artist,4.0,Low,6.0,Cat_4\\n462232,Male,Yes,55,No,Executive,0.0,High,8.0,Cat_4\\n462234,Male,Yes,32,No,,1.0,Average,6.0,Cat_4\\n462238,Male,Yes,57,No,Entertainment,,Low,2.0,Cat_3\\n462240,Male,Yes,80,No,Lawyer,0.0,High,2.0,Cat_6\\n462243,Male,Yes,43,No,Executive,0.0,Low,4.0,Cat_6\\n462246,Female,Yes,79,No,Lawyer,1.0,High,2.0,Cat_6\\n462249,Male,No,25,No,Entertainment,1.0,Low,3.0,Cat_6\\n462256,Female,Yes,58,Yes,Homemaker,0.0,Average,4.0,Cat_6\\n462257,Female,Yes,78,Yes,Lawyer,,High,2.0,Cat_6\\n462260,Male,Yes,76,Yes,Lawyer,1.0,Low,2.0,Cat_6\\n462262,Male,No,27,No,Healthcare,1.0,Low,3.0,\\n462274,Male,Yes,47,Yes,Artist,1.0,Average,3.0,Cat_6\\n462275,Male,Yes,43,Yes,Artist,1.0,Average,2.0,Cat_6\\n462278,Male,No,31,Yes,Healthcare,1.0,Low,4.0,Cat_6\\n462279,Male,No,27,No,Healthcare,0.0,Low,7.0,Cat_6\\n462280,Male,No,31,Yes,Healthcare,0.0,Low,4.0,Cat_6\\n462281,Male,Yes,46,Yes,Artist,1.0,Low,2.0,Cat_6\\n462284,Male,Yes,48,Yes,Executive,1.0,Average,4.0,Cat_6\\n462285,Male,Yes,51,Yes,Doctor,,Low,2.0,\\n462286,Male,Yes,57,No,Doctor,0.0,Average,2.0,Cat_6\\n462290,Female,No,30,Yes,Doctor,0.0,Low,1.0,Cat_6\\n462291,Female,No,37,Yes,Marketing,,Low,3.0,Cat_6\\n462297,Female,No,31,Yes,Artist,14.0,Low,2.0,Cat_6\\n462300,Male,Yes,49,Yes,Artist,1.0,Average,3.0,Cat_6\\n462304,Male,Yes,56,Yes,Artist,1.0,Low,4.0,Cat_4\\n462306,Male,Yes,83,No,Lawyer,8.0,High,2.0,Cat_6\\n462309,Male,No,32,Yes,Healthcare,,Low,1.0,Cat_6\\n462310,Male,Yes,63,Yes,Artist,5.0,Average,4.0,Cat_6\\n462323,Female,Yes,71,Yes,Doctor,1.0,Average,2.0,Cat_6\\n462336,Male,Yes,50,No,Artist,0.0,Low,4.0,Cat_6\\n462339,Male,No,31,Yes,Artist,4.0,Low,5.0,Cat_6\\n462340,Male,Yes,60,No,Entertainment,0.0,Average,6.0,Cat_6\\n462342,Female,Yes,71,Yes,Lawyer,8.0,High,2.0,Cat_6\\n462345,Male,Yes,49,Yes,Doctor,0.0,Average,6.0,Cat_4\\n462346,Male,Yes,74,Yes,Lawyer,9.0,Low,1.0,Cat_6\\n462349,Male,Yes,51,Yes,Artist,1.0,Average,6.0,Cat_6\\n462355,Male,Yes,61,No,Entertainment,0.0,Low,,Cat_6\\n462356,Male,No,46,Yes,Engineer,0.0,Low,3.0,Cat_6\\n462358,Male,Yes,39,No,Doctor,2.0,Average,2.0,Cat_6\\n462365,Male,Yes,85,Yes,Lawyer,1.0,High,2.0,Cat_6\\n462368,Female,Yes,31,Yes,Artist,1.0,Average,2.0,Cat_6\\n462370,Male,Yes,39,Yes,Executive,4.0,High,3.0,Cat_6\\n462381,Female,Yes,48,No,Doctor,1.0,High,2.0,Cat_6\\n462382,Male,Yes,71,Yes,Lawyer,0.0,High,2.0,Cat_6\\n462384,Female,No,31,Yes,Healthcare,,Low,1.0,Cat_7\\n462386,Female,No,32,Yes,Healthcare,0.0,Low,5.0,Cat_6\\n462389,Female,Yes,55,No,Engineer,0.0,Low,1.0,Cat_6\\n462395,Male,Yes,46,Yes,Artist,0.0,High,2.0,Cat_6\\n462396,Male,Yes,53,Yes,Doctor,,Average,2.0,Cat_6\\n462397,Male,Yes,50,Yes,Artist,0.0,Average,4.0,Cat_6\\n462400,Male,No,45,Yes,Artist,1.0,Low,1.0,Cat_6\\n462401,Male,Yes,33,No,Executive,1.0,Average,2.0,Cat_4\\n462409,Female,Yes,29,No,Engineer,5.0,Low,2.0,Cat_6\\n462411,Male,No,35,Yes,Artist,8.0,Low,1.0,Cat_6\\n462415,Male,No,25,No,Doctor,1.0,Low,1.0,Cat_6\\n462420,Male,No,26,Yes,Healthcare,0.0,Low,3.0,Cat_6\\n462421,Male,No,48,Yes,Artist,1.0,Low,2.0,Cat_6\\n462423,Male,Yes,66,No,Lawyer,0.0,High,3.0,Cat_6\\n462424,Female,Yes,38,No,Artist,0.0,Low,3.0,Cat_6\\n462428,Male,Yes,65,Yes,Entertainment,2.0,Average,3.0,Cat_6\\n462429,Male,Yes,87,No,Lawyer,1.0,Low,1.0,Cat_6\\n462445,Male,No,20,No,Healthcare,1.0,Low,3.0,Cat_6\\n462446,Male,No,19,No,Healthcare,0.0,Low,4.0,Cat_6\\n462447,Male,No,22,No,Healthcare,9.0,Low,4.0,Cat_6\\n462450,Male,No,18,No,Healthcare,0.0,Low,,Cat_6\\n462451,Male,No,18,No,Marketing,1.0,Low,9.0,Cat_6\\n462452,Male,No,19,No,Healthcare,0.0,Low,,Cat_4\\n462454,Male,No,19,No,Healthcare,1.0,Low,3.0,Cat_2\\n462456,Male,No,22,No,Healthcare,0.0,Low,8.0,Cat_6\\n462457,Male,No,31,No,Healthcare,4.0,Low,4.0,Cat_6\\n462463,Male,Yes,63,No,Artist,0.0,Average,2.0,Cat_6\\n462472,Male,No,43,Yes,Artist,1.0,Low,1.0,Cat_6\\n462473,Male,No,73,No,Engineer,0.0,Low,,Cat_4\\n462485,Female,Yes,39,No,Engineer,0.0,Low,2.0,Cat_6\\n462488,Male,No,31,Yes,Healthcare,1.0,Low,5.0,Cat_6\\n462491,Male,No,31,Yes,Artist,0.0,Low,5.0,Cat_6\\n462492,Male,Yes,43,No,Artist,0.0,Average,4.0,Cat_2\\n462496,Male,Yes,52,No,Artist,0.0,Average,3.0,Cat_6\\n462498,Female,Yes,63,Yes,Doctor,0.0,Average,3.0,Cat_6\\n462503,Male,Yes,51,Yes,Executive,1.0,High,4.0,Cat_6\\n462508,Male,Yes,35,Yes,Healthcare,1.0,Low,7.0,Cat_4\\n462512,Female,Yes,32,No,Entertainment,,Average,2.0,Cat_4\\n462517,Female,Yes,39,Yes,Homemaker,9.0,High,4.0,Cat_6\\n462518,Female,No,25,No,Healthcare,1.0,Low,6.0,Cat_5\\n462519,Male,No,20,No,Healthcare,0.0,Low,5.0,Cat_4\\n462521,Female,No,33,No,Homemaker,9.0,Low,1.0,Cat_6\\n462522,Male,Yes,36,No,Executive,0.0,Average,5.0,Cat_4\\n462524,Female,Yes,35,Yes,Doctor,,Low,2.0,Cat_6\\n462525,Female,Yes,42,Yes,Artist,1.0,Average,2.0,Cat_6\\n462526,Female,Yes,52,Yes,Artist,2.0,Average,5.0,Cat_6\\n462529,Female,Yes,42,Yes,Engineer,1.0,Low,2.0,Cat_6\\n462531,Female,Yes,57,No,Homemaker,,High,2.0,Cat_6\\n462533,Female,No,30,Yes,Entertainment,1.0,Low,3.0,Cat_6\\n462538,Female,Yes,73,Yes,Lawyer,1.0,High,2.0,Cat_6\\n462541,Male,Yes,66,Yes,Engineer,3.0,High,2.0,Cat_6\\n462542,Female,Yes,62,Yes,Artist,9.0,Average,5.0,Cat_2\\n462543,Female,Yes,36,Yes,Artist,4.0,Low,1.0,Cat_3\\n462545,Male,No,33,No,Engineer,0.0,Low,3.0,Cat_4\\n462554,Male,No,28,No,Healthcare,0.0,Low,8.0,Cat_4\\n462561,Female,Yes,48,Yes,Artist,3.0,Average,2.0,Cat_6\\n462563,Female,Yes,53,Yes,Artist,1.0,Average,2.0,Cat_6\\n462566,Female,Yes,27,No,Doctor,1.0,Low,,Cat_3\\n462577,Female,Yes,71,No,Marketing,0.0,High,2.0,Cat_4\\n462578,Male,Yes,35,Yes,Artist,9.0,Average,2.0,Cat_4\\n462580,Female,No,41,Yes,Artist,0.0,Low,1.0,Cat_4\\n462584,Female,Yes,39,No,Entertainment,0.0,Low,4.0,Cat_4\\n462587,Female,Yes,79,No,Lawyer,1.0,High,2.0,Cat_4\\n462589,Female,No,29,No,Engineer,9.0,Low,8.0,Cat_4\\n462595,Female,No,33,Yes,Artist,7.0,Low,7.0,Cat_4\\n462596,Female,No,31,No,Healthcare,0.0,Low,,Cat_4\\n462600,Male,Yes,25,No,Engineer,4.0,Average,3.0,Cat_4\\n462607,Female,,43,No,Engineer,2.0,Average,3.0,Cat_4\\n462609,Female,Yes,52,No,Doctor,4.0,Low,1.0,Cat_4\\n462611,Male,Yes,41,No,Executive,0.0,High,7.0,Cat_4\\n462612,Female,Yes,27,No,Doctor,,High,6.0,Cat_4\\n462613,Female,Yes,39,No,Engineer,1.0,Average,5.0,Cat_4\\n462615,Male,No,32,No,Doctor,3.0,Low,7.0,Cat_4\\n462617,Male,No,19,No,Healthcare,1.0,Low,5.0,Cat_4\\n462619,Male,,58,No,,1.0,High,,Cat_4\\n462625,Male,No,30,Yes,Artist,1.0,Low,3.0,Cat_4\\n462626,Female,No,31,Yes,Engineer,0.0,Low,6.0,Cat_4\\n462632,Female,Yes,43,No,Engineer,,Average,4.0,Cat_4\\n462637,Female,Yes,63,No,Marketing,,Average,6.0,Cat_4\\n462643,Female,Yes,37,Yes,Engineer,,Average,3.0,Cat_4\\n462654,Male,Yes,37,No,Artist,0.0,Average,6.0,Cat_4\\n462658,Female,Yes,31,Yes,Homemaker,9.0,Average,2.0,\\n462668,Female,No,38,Yes,Artist,4.0,Low,1.0,Cat_6\\n462669,Female,Yes,41,Yes,Entertainment,,High,6.0,Cat_6\\n462678,Female,Yes,45,Yes,Artist,3.0,Average,3.0,Cat_6\\n462680,Male,Yes,35,Yes,Doctor,,Average,4.0,Cat_6\\n462683,Female,Yes,43,No,Engineer,1.0,Low,5.0,Cat_1\\n462685,Female,No,33,No,Healthcare,,Low,3.0,Cat_4\\n462687,Male,No,26,No,Homemaker,14.0,Low,3.0,Cat_3\\n462692,Female,Yes,39,No,Artist,,Average,2.0,Cat_6\\n462696,Male,Yes,49,No,Artist,1.0,High,2.0,Cat_6\\n462697,Male,,47,No,,0.0,Average,2.0,Cat_6\\n462702,Male,Yes,53,No,Entertainment,1.0,Average,4.0,Cat_4\\n462704,Male,Yes,52,Yes,Executive,5.0,High,5.0,Cat_6\\n462705,Female,Yes,66,No,Lawyer,0.0,Average,2.0,Cat_6\\n462716,Male,No,26,No,Entertainment,6.0,Low,2.0,Cat_4\\n462720,Male,Yes,38,Yes,Marketing,,Low,5.0,Cat_6\\n462722,Female,No,25,No,Homemaker,,Low,4.0,Cat_6\\n462723,Female,Yes,53,No,Artist,8.0,Average,2.0,Cat_6\\n462727,Female,Yes,87,No,Lawyer,0.0,High,2.0,Cat_6\\n462729,Male,No,28,No,Healthcare,1.0,Low,2.0,Cat_6\\n462731,Female,Yes,37,Yes,Artist,7.0,High,3.0,Cat_6\\n462732,Female,Yes,42,Yes,Artist,,Low,1.0,Cat_6\\n462735,Female,Yes,25,No,Artist,1.0,Average,2.0,Cat_1\\n462736,Female,Yes,33,No,Engineer,6.0,Low,3.0,Cat_6\\n462738,Female,No,33,Yes,Healthcare,,Low,3.0,Cat_2\\n462739,Male,Yes,46,Yes,Artist,1.0,Low,2.0,Cat_6\\n462743,Male,No,33,No,Healthcare,2.0,Low,4.0,Cat_3\\n462746,Male,No,26,No,Entertainment,1.0,Low,3.0,Cat_6\\n462747,Male,No,32,No,Doctor,6.0,Low,4.0,Cat_6\\n462752,Female,No,25,No,Healthcare,,Low,1.0,Cat_6\\n462755,Female,No,18,No,Healthcare,1.0,Low,,Cat_6\\n462756,Female,No,22,No,Engineer,0.0,Low,4.0,Cat_6\\n462761,Male,No,19,No,Healthcare,2.0,Low,4.0,Cat_6\\n462762,Male,Yes,46,Yes,Artist,0.0,High,4.0,Cat_6\\n462767,Male,No,19,No,Healthcare,4.0,Low,4.0,Cat_6\\n462768,Male,Yes,45,Yes,Artist,0.0,Average,3.0,Cat_6\\n462776,Female,Yes,52,Yes,Engineer,1.0,Average,3.0,Cat_6\\n462785,Female,Yes,42,Yes,Engineer,,Average,5.0,Cat_3\\n462788,Male,Yes,47,No,Entertainment,1.0,Average,3.0,Cat_3\\n462792,Male,Yes,45,No,Homemaker,,Average,4.0,Cat_6\\n462799,Male,No,32,No,Healthcare,,Low,,Cat_5\\n462804,Male,Yes,41,No,Executive,5.0,High,3.0,Cat_4\\n462807,Female,No,28,Yes,Homemaker,,Low,1.0,Cat_6\\n462810,Male,Yes,37,No,Executive,9.0,High,4.0,Cat_6\\n462814,Female,Yes,20,No,Engineer,8.0,Average,2.0,Cat_5\\n462817,Female,Yes,73,Yes,Lawyer,3.0,Low,1.0,Cat_6\\n462819,Male,Yes,51,Yes,Artist,0.0,Average,3.0,Cat_6\\n462823,Male,Yes,18,Yes,Engineer,,Average,4.0,Cat_6\\n462824,Male,Yes,42,No,Engineer,1.0,Average,3.0,Cat_4\\n462826,Male,No,20,No,Healthcare,1.0,Low,3.0,Cat_3\\n462827,Female,No,23,No,Doctor,0.0,Low,3.0,Cat_3\\n462834,Male,Yes,31,Yes,Homemaker,2.0,Low,2.0,Cat_1\\n462838,Female,Yes,33,Yes,Homemaker,1.0,Low,3.0,Cat_5\\n462841,Male,No,21,No,Healthcare,9.0,Low,6.0,Cat_6\\n462845,Male,Yes,51,Yes,Doctor,5.0,Average,7.0,Cat_6\\n462849,Male,Yes,47,Yes,Artist,0.0,Average,4.0,Cat_6\\n462850,Male,No,20,No,Healthcare,0.0,Low,4.0,Cat_6\\n462853,Male,No,21,No,Healthcare,0.0,Low,2.0,Cat_6\\n462854,Male,No,22,No,Healthcare,1.0,Low,3.0,Cat_6\\n462858,Female,No,32,Yes,Engineer,9.0,Low,4.0,Cat_6\\n462861,Female,No,30,Yes,Healthcare,8.0,Low,1.0,Cat_6\\n462866,Male,Yes,61,Yes,Doctor,1.0,Low,1.0,Cat_6\\n462868,Male,Yes,43,No,Entertainment,0.0,Average,4.0,Cat_4\\n462869,Male,No,25,Yes,Doctor,8.0,Low,1.0,Cat_6\\n462871,Male,Yes,46,No,Entertainment,0.0,Average,3.0,Cat_6\\n462872,Female,Yes,53,No,Engineer,12.0,Low,2.0,Cat_3\\n462874,Male,Yes,55,Yes,Doctor,0.0,High,2.0,Cat_6\\n462887,Female,Yes,42,No,Engineer,0.0,Low,3.0,Cat_6\\n462890,Female,No,26,Yes,Marketing,11.0,Low,1.0,Cat_6\\n462891,Male,No,29,No,Healthcare,0.0,Low,3.0,Cat_6\\n462894,Male,Yes,39,Yes,Artist,4.0,Average,4.0,Cat_3\\n462900,Male,Yes,38,Yes,Artist,1.0,Average,3.0,Cat_6\\n462903,Male,Yes,69,Yes,Entertainment,,Average,2.0,Cat_6\\n462905,Female,No,25,No,Artist,6.0,Low,3.0,Cat_6\\n462914,Female,No,26,Yes,Artist,4.0,Low,4.0,Cat_6\\n462920,Male,Yes,51,No,Executive,0.0,High,5.0,Cat_6\\n462923,Male,Yes,30,No,Homemaker,8.0,Average,2.0,Cat_6\\n462925,Female,Yes,28,No,Homemaker,,Average,2.0,Cat_3\\n462927,Female,No,33,No,Homemaker,8.0,Low,2.0,Cat_6\\n462936,Female,No,41,Yes,Engineer,,Low,1.0,Cat_6\\n462941,Male,No,71,No,Lawyer,,Low,2.0,Cat_6\\n462944,Male,Yes,42,Yes,Executive,5.0,High,3.0,Cat_6\\n462951,Male,Yes,71,Yes,Lawyer,2.0,Low,1.0,Cat_6\\n462956,Male,Yes,35,No,Artist,6.0,Average,5.0,Cat_6\\n462958,Male,No,28,No,Marketing,0.0,Low,5.0,Cat_6\\n462963,Male,Yes,31,Yes,Artist,1.0,Average,2.0,Cat_3\\n462966,Male,Yes,43,Yes,Artist,2.0,Average,3.0,Cat_6\\n462968,Female,Yes,77,No,Lawyer,0.0,High,2.0,Cat_6\\n462971,Female,Yes,71,Yes,Engineer,0.0,Low,1.0,Cat_6\\n462976,Female,Yes,47,Yes,Engineer,0.0,Average,2.0,Cat_6\\n462981,Female,No,26,No,Homemaker,9.0,Low,1.0,Cat_6\\n462982,Male,Yes,40,No,Doctor,4.0,Average,4.0,Cat_6\\n462983,Female,Yes,72,Yes,Lawyer,0.0,High,2.0,Cat_6\\n462984,Female,Yes,73,Yes,Artist,1.0,High,2.0,Cat_6\\n462986,Male,No,26,Yes,Healthcare,1.0,Low,6.0,Cat_3\\n462992,Female,Yes,57,Yes,Engineer,,High,3.0,Cat_3\\n462993,Male,Yes,30,No,Artist,,Average,3.0,Cat_6\\n462994,Female,Yes,36,No,Artist,,Average,3.0,Cat_6\\n462998,Male,Yes,52,No,Entertainment,10.0,Average,4.0,Cat_6\\n463003,Male,Yes,42,Yes,Artist,3.0,Average,2.0,Cat_6\\n463012,Male,Yes,52,No,Engineer,,Low,1.0,Cat_6\\n463020,Male,Yes,28,Yes,Artist,0.0,Average,3.0,Cat_1\\n463023,Female,Yes,43,No,Homemaker,7.0,Low,1.0,Cat_6\\n463024,Male,No,43,Yes,Artist,,Low,1.0,Cat_6\\n463028,Male,No,25,No,Doctor,0.0,Low,4.0,Cat_6\\n463030,Male,Yes,52,Yes,Executive,1.0,High,3.0,Cat_6\\n463034,Female,No,28,Yes,Homemaker,9.0,Low,1.0,Cat_6\\n463037,Male,Yes,56,Yes,Entertainment,0.0,Average,4.0,Cat_6\\n463039,Male,Yes,38,No,Executive,12.0,High,7.0,Cat_6\\n463040,Male,Yes,83,No,Lawyer,1.0,High,2.0,Cat_6\\n463044,Male,Yes,82,Yes,Lawyer,,High,2.0,Cat_6\\n463047,Male,Yes,32,Yes,Homemaker,8.0,Low,,Cat_6\\n463051,Female,No,35,Yes,Homemaker,12.0,Low,1.0,Cat_6\\n463052,Male,Yes,40,Yes,Marketing,0.0,Low,2.0,Cat_6\\n463058,Female,No,25,Yes,Homemaker,13.0,Low,1.0,\\n463062,Female,Yes,39,Yes,Artist,,Average,3.0,Cat_6\\n463069,Male,No,25,Yes,Artist,7.0,Low,1.0,Cat_6\\n463075,Male,Yes,52,Yes,Artist,0.0,Low,4.0,Cat_6\\n463080,Male,No,33,No,Artist,0.0,Low,4.0,Cat_5\\n463083,Male,No,28,Yes,Artist,6.0,Low,3.0,Cat_6\\n463085,Female,No,43,Yes,Artist,0.0,Low,1.0,Cat_6\\n463086,Male,No,30,Yes,Artist,8.0,Low,,Cat_5\\n463088,Female,Yes,84,Yes,Lawyer,1.0,High,2.0,Cat_6\\n463089,Male,Yes,48,Yes,Executive,6.0,High,4.0,Cat_6\\n463090,Female,Yes,55,No,Engineer,3.0,Average,2.0,Cat_6\\n463091,Female,Yes,37,Yes,Homemaker,8.0,Low,1.0,Cat_6\\n463094,Male,Yes,38,Yes,Engineer,11.0,Average,3.0,Cat_6\\n463096,Female,No,28,Yes,Doctor,,Low,3.0,Cat_6\\n463099,Male,Yes,86,Yes,Lawyer,,Low,1.0,Cat_6\\n463100,Female,No,35,No,Homemaker,9.0,Low,1.0,Cat_6\\n463102,Male,No,35,No,Entertainment,0.0,Low,2.0,Cat_6\\n463104,Female,Yes,46,No,Lawyer,0.0,Low,1.0,Cat_6\\n463106,Female,Yes,79,Yes,Lawyer,0.0,Low,1.0,Cat_6\\n463108,Male,Yes,63,Yes,Lawyer,5.0,High,2.0,Cat_6\\n463118,Female,Yes,50,Yes,Doctor,,High,3.0,Cat_6\\n463120,Female,No,35,Yes,Entertainment,0.0,Low,1.0,Cat_6\\n463129,Male,Yes,65,No,Doctor,,Low,1.0,Cat_6\\n463133,Male,Yes,50,No,Artist,0.0,Average,4.0,Cat_6\\n463138,Female,No,27,No,Homemaker,,Low,,Cat_3\\n463144,Male,Yes,45,Yes,Executive,0.0,High,3.0,Cat_6\\n463145,Female,No,36,Yes,Homemaker,0.0,Low,4.0,Cat_6\\n463146,Male,Yes,43,No,Entertainment,11.0,Average,2.0,Cat_6\\n463148,Male,Yes,62,Yes,Marketing,1.0,High,5.0,Cat_6\\n463149,Male,Yes,57,Yes,Artist,2.0,Average,2.0,Cat_6\\n463150,Male,No,51,No,Marketing,9.0,Low,1.0,Cat_6\\n463151,Male,Yes,59,Yes,Artist,0.0,Low,1.0,Cat_3\\n463154,Female,Yes,27,No,Artist,0.0,Low,4.0,Cat_6\\n463156,Female,Yes,83,No,Lawyer,,High,2.0,Cat_6\\n463157,Male,Yes,50,Yes,Entertainment,6.0,Low,3.0,Cat_6\\n463158,Male,Yes,75,Yes,Executive,1.0,High,3.0,Cat_6\\n463163,Male,No,28,No,Executive,2.0,Low,2.0,Cat_3\\n463164,Male,Yes,39,Yes,Artist,9.0,Average,2.0,Cat_6\\n463165,Female,Yes,69,Yes,Doctor,0.0,Average,2.0,Cat_6\\n463166,Female,No,41,Yes,Artist,1.0,Low,1.0,Cat_4\\n463170,Female,,28,Yes,Healthcare,0.0,Low,5.0,Cat_3\\n463171,Female,Yes,39,No,Entertainment,1.0,High,3.0,Cat_3\\n463173,Male,No,47,Yes,Artist,0.0,Low,1.0,Cat_3\\n463174,Female,Yes,62,Yes,Engineer,1.0,Low,1.0,Cat_3\\n463175,Female,,41,No,Engineer,0.0,Low,4.0,Cat_3\\n463181,Male,Yes,49,Yes,Doctor,5.0,Average,3.0,Cat_5\\n463187,Female,Yes,52,Yes,Artist,8.0,Low,2.0,Cat_6\\n463192,Female,Yes,48,No,Entertainment,2.0,Average,,Cat_4\\n463195,Female,No,26,Yes,Healthcare,7.0,Low,2.0,Cat_3\\n463196,Female,Yes,72,Yes,Engineer,1.0,Low,1.0,Cat_6\\n463199,Female,Yes,47,Yes,Artist,0.0,Low,3.0,Cat_4\\n463201,Female,No,19,No,Healthcare,1.0,Low,2.0,Cat_4\\n463203,Female,No,21,No,Healthcare,1.0,Low,3.0,Cat_7\\n463204,Male,No,39,No,Entertainment,1.0,Low,1.0,Cat_6\\n463209,Female,No,52,Yes,Artist,0.0,Low,1.0,Cat_6\\n463218,Male,Yes,37,No,Entertainment,8.0,Average,3.0,Cat_6\\n463219,Male,Yes,51,No,Entertainment,0.0,Low,2.0,Cat_6\\n463220,Male,Yes,48,No,Engineer,1.0,Average,3.0,Cat_6\\n463221,Male,No,22,No,Healthcare,,Low,3.0,Cat_6\\n463224,Male,Yes,47,Yes,Executive,1.0,High,4.0,Cat_6\\n463240,Female,Yes,45,No,Engineer,0.0,Average,3.0,Cat_6\\n463242,Female,No,29,No,Engineer,5.0,Low,2.0,Cat_6\\n463244,Female,Yes,47,No,Doctor,1.0,Low,1.0,Cat_6\\n463245,Male,Yes,41,Yes,Entertainment,8.0,Average,2.0,Cat_6\\n463248,Female,Yes,32,No,Homemaker,9.0,Average,4.0,Cat_2\\n463251,Male,Yes,31,No,Marketing,2.0,Low,3.0,Cat_6\\n463256,Male,No,20,No,Marketing,1.0,Low,3.0,Cat_6\\n463258,Female,Yes,46,Yes,Artist,0.0,Average,3.0,Cat_6\\n463260,Male,Yes,70,Yes,Lawyer,3.0,Low,1.0,Cat_6\\n463265,Male,Yes,65,Yes,Artist,1.0,Average,3.0,Cat_6\\n463266,Female,Yes,68,,Artist,1.0,Average,2.0,Cat_6\\n463267,Male,Yes,29,No,Homemaker,9.0,Low,1.0,Cat_4\\n463269,Male,Yes,41,Yes,Entertainment,3.0,Average,2.0,Cat_3\\n463270,Male,Yes,50,No,Executive,0.0,Low,5.0,\\n463273,Male,Yes,38,Yes,Entertainment,9.0,Average,2.0,Cat_3\\n463276,Male,Yes,37,No,Executive,,Average,2.0,Cat_3\\n463277,Female,Yes,30,No,Engineer,6.0,Low,2.0,Cat_3\\n463278,Female,Yes,63,Yes,Engineer,1.0,Low,1.0,Cat_3\\n463280,Male,Yes,42,Yes,Artist,6.0,Average,2.0,Cat_3\\n463292,Male,Yes,41,No,Executive,0.0,High,3.0,Cat_6\\n463302,Female,Yes,60,Yes,Engineer,,High,4.0,Cat_6\\n463308,Male,Yes,46,Yes,Engineer,1.0,Low,2.0,Cat_3\\n463316,Female,Yes,83,No,Lawyer,0.0,High,2.0,Cat_6\\n463323,Male,Yes,27,Yes,Healthcare,3.0,Low,2.0,Cat_6\\n463324,Female,No,22,No,Healthcare,1.0,Low,4.0,Cat_2\\n463330,Male,No,20,No,Healthcare,0.0,Low,4.0,Cat_6\\n463332,Female,Yes,40,Yes,Engineer,0.0,Low,2.0,Cat_6\\n463334,Female,No,28,Yes,Doctor,0.0,Low,6.0,Cat_4\\n463335,Male,No,28,Yes,Doctor,,Low,1.0,Cat_4\\n463338,Male,Yes,28,No,Entertainment,0.0,Low,2.0,Cat_3\\n463340,Female,No,20,No,Healthcare,0.0,Low,4.0,Cat_3\\n463341,Female,Yes,53,No,Engineer,0.0,Average,6.0,Cat_3\\n463348,Female,Yes,35,Yes,Doctor,0.0,Low,2.0,Cat_6\\n463351,Female,No,21,,Healthcare,3.0,Low,4.0,Cat_5\\n463356,Male,No,30,Yes,Healthcare,6.0,Low,4.0,Cat_2\\n463360,Female,Yes,46,Yes,Artist,2.0,Low,1.0,Cat_6\\n463367,Female,No,36,Yes,Engineer,3.0,Low,4.0,Cat_2\\n463368,Female,Yes,38,Yes,Artist,4.0,High,3.0,Cat_2\\n463372,Female,Yes,26,No,Marketing,1.0,Average,2.0,\\n463375,Female,Yes,45,Yes,Doctor,1.0,Low,1.0,Cat_4\\n463376,Female,Yes,46,Yes,Executive,5.0,High,2.0,Cat_6\\n463378,Male,No,25,Yes,Doctor,0.0,Low,1.0,Cat_3\\n463379,Male,No,27,No,Marketing,0.0,Low,7.0,Cat_6\\n463386,Female,Yes,42,Yes,Doctor,6.0,Low,1.0,Cat_3\\n463387,Male,,20,No,Marketing,3.0,Low,2.0,Cat_3\\n463391,Male,Yes,55,Yes,Doctor,6.0,Low,1.0,Cat_3\\n463395,Male,No,25,No,Marketing,,Low,1.0,Cat_6\\n463404,Male,Yes,27,No,Doctor,,High,2.0,Cat_3\\n463406,Male,No,31,No,Marketing,0.0,Low,4.0,Cat_3\\n463409,Female,Yes,38,No,Entertainment,6.0,Average,5.0,Cat_2\\n463411,Male,Yes,43,Yes,Entertainment,,Average,2.0,Cat_6\\n463420,Female,Yes,59,Yes,Artist,2.0,High,3.0,Cat_6\\n463423,Male,Yes,61,No,Executive,1.0,Average,3.0,Cat_6\\n463427,Female,Yes,27,Yes,Engineer,1.0,Low,2.0,Cat_6\\n463428,Male,Yes,26,No,Executive,1.0,High,5.0,Cat_6\\n463431,Male,Yes,39,Yes,Artist,,Average,4.0,Cat_4\\n463437,Male,Yes,51,Yes,Artist,0.0,Average,3.0,Cat_6\\n463438,Male,Yes,47,No,Entertainment,0.0,Average,3.0,Cat_6\\n463443,Male,Yes,52,Yes,Artist,1.0,Average,4.0,Cat_6\\n463444,Male,Yes,59,Yes,Lawyer,,High,2.0,Cat_6\\n463447,Male,Yes,57,No,Engineer,1.0,Average,2.0,Cat_6\\n463452,Female,Yes,86,Yes,Lawyer,1.0,High,2.0,Cat_6\\n463460,Male,Yes,49,Yes,Artist,,Average,2.0,Cat_6\\n463461,Male,No,30,No,Doctor,,Low,4.0,Cat_4\\n463462,Female,Yes,43,No,Engineer,0.0,Average,4.0,Cat_6\\n463470,Male,No,19,No,Healthcare,,Low,5.0,Cat_2\\n463472,Male,No,20,No,Healthcare,,Low,4.0,Cat_6\\n463473,Male,No,19,No,Healthcare,,Low,3.0,Cat_6\\n463475,Female,Yes,43,Yes,Doctor,0.0,Low,1.0,Cat_6\\n463477,Male,No,31,No,Healthcare,0.0,Low,4.0,Cat_4\\n463483,Male,Yes,30,No,Executive,1.0,High,2.0,Cat_6\\n463491,Male,Yes,27,Yes,Doctor,8.0,Average,3.0,Cat_6\\n463493,Male,Yes,36,Yes,Executive,,High,4.0,Cat_6\\n463499,Male,Yes,47,Yes,Executive,0.0,Low,2.0,Cat_6\\n463500,Male,Yes,35,Yes,Executive,1.0,High,4.0,Cat_6\\n463503,Male,Yes,25,Yes,Entertainment,0.0,Low,2.0,Cat_7\\n463508,Female,Yes,25,No,Artist,0.0,Low,3.0,Cat_6\\n463509,Male,No,38,No,Artist,1.0,Low,1.0,Cat_3\\n463512,Female,No,32,No,Engineer,0.0,Low,3.0,Cat_6\\n463516,Male,Yes,48,No,Executive,1.0,High,6.0,Cat_6\\n463527,Female,No,38,No,Artist,10.0,Low,1.0,Cat_6\\n463528,Male,Yes,70,No,Executive,,High,2.0,Cat_6\\n463529,Male,No,42,Yes,Marketing,,Low,1.0,Cat_6\\n463533,Female,Yes,85,Yes,Artist,1.0,High,2.0,Cat_2\\n463537,Female,No,25,Yes,Healthcare,1.0,Low,3.0,Cat_6\\n463545,Female,No,31,Yes,Doctor,1.0,Low,2.0,Cat_4\\n463548,Female,No,20,No,Healthcare,3.0,Low,4.0,Cat_4\\n463550,Female,Yes,37,Yes,Artist,0.0,Average,2.0,Cat_4\\n463553,Male,No,33,Yes,Artist,8.0,Low,2.0,Cat_6\\n463554,Female,No,52,No,Artist,5.0,Low,1.0,Cat_6\\n463557,Male,No,26,Yes,Doctor,0.0,Low,3.0,Cat_6\\n463560,Female,No,21,No,Healthcare,9.0,Low,5.0,Cat_4\\n463561,Female,No,42,Yes,Engineer,0.0,Low,1.0,Cat_6\\n463566,Female,Yes,35,Yes,Homemaker,,Average,4.0,Cat_2\\n463572,Male,Yes,39,Yes,Artist,0.0,Average,4.0,Cat_6\\n463577,Female,Yes,41,Yes,Doctor,1.0,Average,2.0,Cat_6\\n463586,Female,No,18,No,Healthcare,1.0,Low,5.0,Cat_6\\n463588,Male,No,22,No,Healthcare,0.0,Low,1.0,Cat_6\\n463598,Female,Yes,25,No,Engineer,2.0,Low,2.0,Cat_6\\n463601,Female,No,20,No,Healthcare,4.0,Low,5.0,\\n463603,Female,No,18,No,Entertainment,0.0,Low,4.0,Cat_2\\n463605,Female,No,20,No,Healthcare,1.0,Low,5.0,Cat_5\\n463606,Male,No,21,No,Marketing,0.0,Low,4.0,Cat_2\\n463614,Female,No,25,No,Healthcare,1.0,Low,4.0,Cat_3\\n463615,Female,Yes,60,Yes,Artist,,Average,2.0,Cat_6\\n463616,Female,Yes,46,No,Engineer,0.0,Average,5.0,Cat_3\\n463619,Male,Yes,68,No,Executive,1.0,High,2.0,Cat_6\\n463620,Male,No,21,No,Healthcare,1.0,Low,4.0,Cat_2\\n463623,Male,No,27,Yes,Doctor,0.0,Low,3.0,Cat_6\\n463624,Male,Yes,59,Yes,Executive,1.0,High,4.0,Cat_6\\n463628,Female,No,26,Yes,Artist,8.0,Low,1.0,Cat_6\\n463632,Male,Yes,26,Yes,Artist,0.0,Average,2.0,Cat_6\\n463638,Female,Yes,32,No,Doctor,1.0,Average,2.0,Cat_7\\n463639,Male,No,33,No,Healthcare,0.0,Low,6.0,Cat_6\\n463640,Male,No,28,Yes,Healthcare,0.0,Low,3.0,Cat_6\\n463644,Female,No,30,Yes,Healthcare,0.0,Low,3.0,Cat_7\\n463652,Female,No,32,Yes,Artist,,Low,1.0,Cat_6\\n463654,Female,No,41,No,Engineer,3.0,Low,3.0,Cat_3\\n463655,Male,Yes,42,Yes,Artist,13.0,Low,2.0,Cat_6\\n463661,Female,Yes,45,Yes,Doctor,1.0,Average,4.0,Cat_6\\n463663,Female,No,39,Yes,,1.0,Low,2.0,Cat_6\\n463664,Female,No,29,No,Engineer,0.0,Low,1.0,Cat_6\\n463665,Male,Yes,46,Yes,Entertainment,1.0,Average,3.0,Cat_6\\n463669,Female,Yes,26,Yes,Marketing,5.0,High,4.0,Cat_2\\n463670,Female,No,26,Yes,Healthcare,,Low,4.0,Cat_6\\n463689,Female,Yes,41,Yes,Doctor,1.0,Low,,Cat_6\\n463699,Female,Yes,38,Yes,Marketing,9.0,Low,3.0,Cat_6\\n463703,Male,Yes,69,No,Executive,1.0,High,4.0,Cat_6\\n463704,Male,No,46,Yes,Artist,0.0,Low,2.0,Cat_6\\n463707,Female,No,40,No,Artist,0.0,Low,1.0,Cat_5\\n463713,Male,No,25,No,Engineer,9.0,Low,3.0,Cat_4\\n463714,Male,Yes,59,No,,1.0,Average,2.0,Cat_4\\n463716,Male,No,26,No,Doctor,1.0,Low,4.0,Cat_6\\n463718,Female,No,33,Yes,Artist,0.0,Low,4.0,Cat_6\\n463722,Male,Yes,56,Yes,Executive,8.0,High,2.0,Cat_6\\n463724,Male,No,30,No,Healthcare,0.0,Low,5.0,Cat_4\\n463726,Female,No,26,No,Healthcare,0.0,Low,3.0,Cat_6\\n463727,Female,No,28,No,Doctor,0.0,Low,5.0,Cat_3\\n463728,Female,Yes,28,No,Doctor,0.0,Average,6.0,Cat_6\\n463732,Male,No,20,No,Healthcare,1.0,Low,4.0,Cat_6\\n463734,Male,Yes,41,No,Executive,1.0,Average,3.0,Cat_6\\n463741,Male,Yes,37,Yes,Artist,0.0,High,3.0,Cat_6\\n463745,Male,Yes,59,Yes,Artist,1.0,Average,3.0,Cat_3\\n463747,Female,Yes,43,Yes,Artist,0.0,Average,2.0,Cat_6\\n463748,Male,No,20,No,Healthcare,1.0,Low,3.0,Cat_6\\n463753,Female,No,30,Yes,Healthcare,1.0,Low,5.0,Cat_2\\n463756,Male,Yes,66,No,Executive,0.0,Average,2.0,Cat_6\\n463761,Male,Yes,28,Yes,Artist,1.0,Average,3.0,Cat_6\\n463764,Male,Yes,49,Yes,Entertainment,0.0,Average,3.0,Cat_6\\n463766,Female,Yes,61,Yes,Artist,0.0,Average,3.0,\\n463767,Male,Yes,27,Yes,Artist,9.0,Average,2.0,Cat_6\\n463768,Female,Yes,35,No,Engineer,1.0,Low,1.0,Cat_4\\n463774,Male,Yes,33,Yes,Healthcare,0.0,Average,2.0,Cat_6\\n463776,Female,Yes,36,Yes,Artist,2.0,Average,2.0,Cat_6\\n463782,Female,No,27,Yes,Artist,9.0,Low,1.0,Cat_6\\n463783,Female,No,29,No,Healthcare,,Low,,\\n463784,Female,No,31,No,Engineer,1.0,Low,5.0,Cat_4\\n463785,Female,No,30,No,Healthcare,0.0,Low,4.0,Cat_4\\n463786,Female,Yes,43,Yes,Artist,,Average,2.0,Cat_6\\n463790,Male,Yes,47,No,Executive,1.0,Low,4.0,Cat_4\\n463792,Female,No,42,No,Engineer,,Low,1.0,Cat_6\\n463794,Female,No,33,Yes,Healthcare,,Low,5.0,Cat_2\\n463799,Female,No,36,Yes,Artist,1.0,Low,4.0,Cat_2\\n463800,Female,No,30,Yes,Engineer,1.0,Low,3.0,Cat_6\\n463804,Male,Yes,60,Yes,Artist,9.0,Low,1.0,Cat_6\\n463807,Female,No,32,Yes,Healthcare,0.0,Low,3.0,Cat_4\\n463811,Female,Yes,32,Yes,Artist,0.0,Average,2.0,Cat_4\\n463814,Female,No,28,No,Healthcare,7.0,Low,3.0,Cat_5\\n463816,Male,Yes,46,Yes,Healthcare,2.0,High,4.0,Cat_7\\n463818,Female,Yes,38,Yes,Artist,4.0,Low,1.0,Cat_6\\n463819,Male,Yes,28,,Artist,8.0,Low,,Cat_6\\n463821,Male,Yes,30,Yes,Entertainment,7.0,Low,2.0,Cat_6\\n463825,Female,Yes,52,Yes,Artist,0.0,Average,3.0,\\n463827,Female,Yes,46,Yes,Engineer,1.0,Average,4.0,Cat_6\\n463828,Male,Yes,37,No,Engineer,0.0,Average,2.0,Cat_1\\n463830,Female,No,25,Yes,Engineer,2.0,Low,3.0,Cat_6\\n463834,Female,Yes,43,Yes,Engineer,1.0,Average,4.0,Cat_6\\n463835,Male,No,32,No,Marketing,0.0,Low,4.0,Cat_6\\n463842,Female,Yes,50,Yes,Engineer,1.0,High,4.0,Cat_6\\n463847,Male,Yes,43,No,Artist,3.0,Average,3.0,Cat_6\\n463856,Male,Yes,37,Yes,Artist,0.0,Average,2.0,Cat_4\\n463857,Male,Yes,61,No,Healthcare,0.0,High,4.0,Cat_7\\n463859,Male,Yes,39,Yes,Artist,5.0,Average,2.0,Cat_6\\n463865,Male,Yes,46,Yes,Artist,1.0,Average,5.0,Cat_6\\n463877,Male,Yes,37,No,Entertainment,0.0,Average,4.0,Cat_4\\n463880,Female,Yes,36,No,Engineer,0.0,Low,3.0,Cat_2\\n463884,Female,No,28,No,Artist,0.0,Low,1.0,Cat_6\\n463891,Male,Yes,86,Yes,Lawyer,0.0,Low,1.0,Cat_6\\n463892,Male,No,42,Yes,Artist,8.0,Low,1.0,Cat_6\\n463904,Male,Yes,82,Yes,Executive,1.0,Low,1.0,Cat_6\\n463917,Female,No,18,No,Healthcare,1.0,Low,8.0,Cat_4\\n463923,Female,No,18,No,Engineer,0.0,Low,4.0,Cat_6\\n463924,Female,No,36,Yes,Artist,1.0,Low,1.0,Cat_5\\n463926,Female,No,26,No,Engineer,1.0,Low,6.0,Cat_6\\n463931,Male,Yes,49,Yes,Entertainment,1.0,Average,2.0,Cat_6\\n463932,Female,Yes,69,Yes,Artist,1.0,Average,3.0,Cat_6\\n463941,Female,No,29,No,Artist,1.0,Low,6.0,Cat_4\\n463943,Male,No,68,Yes,Entertainment,1.0,Low,2.0,Cat_6\\n463946,Male,No,33,No,Healthcare,4.0,Low,3.0,Cat_4\\n463948,Male,Yes,38,No,Executive,3.0,High,5.0,Cat_6\\n463951,Male,Yes,52,No,Entertainment,1.0,Average,3.0,Cat_6\\n463955,Male,Yes,28,Yes,Artist,1.0,Low,2.0,Cat_6\\n463958,Female,No,27,No,Healthcare,1.0,Low,5.0,Cat_2\\n463961,Female,No,28,No,Engineer,0.0,Low,4.0,Cat_4\\n463963,Female,Yes,25,No,Engineer,7.0,High,3.0,Cat_6\\n463966,Female,No,30,Yes,Artist,8.0,Low,1.0,Cat_6\\n463978,Male,Yes,40,Yes,Artist,1.0,Average,3.0,Cat_2\\n463980,Female,No,25,Yes,Artist,0.0,Low,9.0,Cat_6\\n463981,Female,No,30,Yes,Artist,5.0,Low,1.0,\\n463983,Female,Yes,43,No,Engineer,0.0,Average,2.0,Cat_4\\n463986,Female,No,26,Yes,Artist,1.0,Low,4.0,Cat_6\\n463997,Female,Yes,37,No,Entertainment,0.0,Average,3.0,Cat_6\\n464000,Female,No,28,No,Healthcare,1.0,Low,5.0,Cat_7\\n464004,Female,Yes,31,No,Marketing,1.0,Low,5.0,Cat_4\\n464007,Male,Yes,46,Yes,Artist,1.0,Low,3.0,Cat_6\\n464009,Female,Yes,47,Yes,Artist,5.0,Average,4.0,Cat_6\\n464010,Male,No,28,No,Healthcare,1.0,Low,4.0,Cat_6\\n464013,Male,No,30,No,Healthcare,0.0,Low,1.0,Cat_6\\n464016,Female,,29,Yes,Entertainment,1.0,High,1.0,Cat_1\\n464019,Male,No,23,No,Artist,2.0,Low,5.0,Cat_6\\n464021,Female,No,22,No,Healthcare,1.0,Low,5.0,Cat_6\\n464023,Male,No,20,No,Healthcare,1.0,Low,5.0,Cat_7\\n464030,Male,No,22,No,Entertainment,1.0,Low,4.0,Cat_6\\n464031,Female,No,19,No,Healthcare,0.0,Low,4.0,Cat_6\\n464032,Male,No,21,No,Healthcare,1.0,Low,3.0,Cat_6\\n464033,Female,No,19,No,Healthcare,0.0,Low,4.0,Cat_6\\n464039,Male,No,39,Yes,Artist,1.0,Low,2.0,Cat_6\\n464042,Female,Yes,38,Yes,Artist,8.0,Low,2.0,Cat_6\\n464046,Male,No,33,Yes,Healthcare,3.0,Low,1.0,Cat_6\\n464048,Female,No,38,Yes,Homemaker,4.0,Low,1.0,Cat_6\\n464049,Female,No,29,Yes,Healthcare,0.0,Low,3.0,Cat_6\\n464053,Female,Yes,35,No,Entertainment,4.0,Low,1.0,Cat_6\\n464054,Male,Yes,32,Yes,Artist,9.0,Average,2.0,Cat_6\\n464059,Male,Yes,59,Yes,Artist,0.0,Low,1.0,Cat_6\\n464063,Female,No,32,Yes,Doctor,0.0,Low,1.0,Cat_6\\n464066,Female,No,29,Yes,Healthcare,8.0,Low,3.0,Cat_4\\n464067,Female,No,31,Yes,Entertainment,0.0,Low,4.0,Cat_2\\n464068,Male,Yes,59,No,Executive,0.0,High,4.0,Cat_6\\n464071,Male,Yes,87,Yes,Lawyer,0.0,High,2.0,Cat_6\\n464072,Male,Yes,53,Yes,Executive,0.0,Low,2.0,Cat_6\\n464076,Male,Yes,83,No,Lawyer,0.0,High,2.0,Cat_6\\n464084,Male,No,33,No,Healthcare,1.0,Low,5.0,Cat_4\\n464087,Female,No,26,No,Engineer,,Low,4.0,Cat_6\\n464089,Female,Yes,39,Yes,Artist,7.0,High,5.0,\\n464096,Female,No,27,No,Healthcare,1.0,Low,5.0,Cat_4\\n464099,Female,Yes,42,Yes,Artist,5.0,Average,2.0,Cat_4\\n464103,Male,Yes,46,Yes,Artist,4.0,Average,2.0,Cat_6\\n464110,Male,Yes,63,Yes,Doctor,0.0,High,2.0,Cat_6\\n464112,Male,No,32,Yes,Doctor,1.0,Low,2.0,Cat_6\\n464115,Female,No,38,Yes,Engineer,0.0,Low,3.0,Cat_6\\n464118,Male,No,38,Yes,Entertainment,1.0,Low,2.0,Cat_6\\n464121,Female,Yes,63,Yes,Engineer,1.0,Low,1.0,Cat_6\\n464123,Female,No,45,Yes,Artist,1.0,Low,1.0,Cat_6\\n464127,Female,No,33,Yes,Healthcare,1.0,Low,5.0,Cat_2\\n464132,Male,No,27,No,Entertainment,0.0,Low,2.0,Cat_6\\n464137,Female,Yes,87,No,Artist,7.0,High,2.0,Cat_7\\n464139,Female,No,25,No,Healthcare,14.0,Low,1.0,Cat_6\\n464144,Male,Yes,61,Yes,Artist,0.0,Average,4.0,Cat_6\\n464152,Male,Yes,41,Yes,Artist,1.0,High,4.0,Cat_6\\n464162,Male,Yes,86,Yes,Lawyer,,High,2.0,Cat_6\\n464167,Male,Yes,51,Yes,Executive,4.0,High,3.0,Cat_6\\n464169,Male,,83,No,Lawyer,0.0,High,2.0,Cat_6\\n464172,Male,Yes,60,Yes,Artist,3.0,High,3.0,Cat_6\\n464173,Male,Yes,65,Yes,Artist,6.0,Average,3.0,Cat_6\\n464175,Female,No,32,No,Healthcare,1.0,Low,,Cat_6\\n464176,Female,Yes,41,Yes,Artist,1.0,Low,1.0,Cat_6\\n464179,Female,Yes,56,Yes,Artist,0.0,Average,3.0,Cat_6\\n464180,Female,Yes,74,No,Lawyer,1.0,High,2.0,Cat_6\\n464182,Male,Yes,39,Yes,Artist,4.0,Average,2.0,Cat_2\\n464183,Female,No,42,No,Artist,2.0,Low,2.0,Cat_6\\n464185,Male,Yes,68,Yes,Artist,5.0,High,2.0,Cat_6\\n464195,Male,No,30,Yes,Artist,1.0,Low,1.0,Cat_6\\n464200,Female,No,32,No,Healthcare,1.0,Low,3.0,Cat_6\\n464202,Male,Yes,43,Yes,Artist,13.0,Low,1.0,Cat_6\\n464204,Female,Yes,40,Yes,Artist,3.0,High,2.0,Cat_5\\n464205,Female,Yes,87,No,Entertainment,0.0,High,2.0,Cat_6\\n464206,Male,Yes,43,No,Entertainment,1.0,Low,2.0,Cat_6\\n464211,Male,Yes,48,Yes,Doctor,1.0,Average,3.0,Cat_2\\n464212,Female,Yes,58,Yes,Marketing,0.0,Average,2.0,Cat_6\\n464216,Male,Yes,52,Yes,Artist,,High,3.0,Cat_6\\n464217,Female,No,30,No,Healthcare,14.0,Low,3.0,Cat_6\\n464223,Female,Yes,53,Yes,Artist,2.0,Low,2.0,Cat_6\\n464226,Female,Yes,56,Yes,Artist,3.0,Average,3.0,Cat_6\\n464231,Male,Yes,48,Yes,Artist,1.0,Average,4.0,Cat_6\\n464232,Male,Yes,28,No,Doctor,1.0,Low,5.0,Cat_6\\n464246,Female,Yes,61,Yes,Artist,0.0,Average,2.0,Cat_6\\n464254,Male,Yes,62,Yes,Entertainment,1.0,Average,3.0,Cat_6\\n464255,Female,Yes,49,Yes,Artist,1.0,Average,5.0,Cat_4\\n464257,Male,Yes,40,,Entertainment,0.0,High,2.0,Cat_6\\n464265,Male,Yes,62,Yes,Entertainment,1.0,Low,2.0,Cat_6\\n464269,Male,No,35,Yes,Entertainment,1.0,Low,,Cat_1\\n464270,Female,No,48,Yes,Artist,4.0,Low,1.0,Cat_6\\n464271,Female,Yes,36,Yes,Artist,1.0,Average,3.0,Cat_2\\n464274,Female,Yes,56,Yes,Artist,1.0,Average,5.0,Cat_6\\n464276,Female,Yes,66,No,Marketing,0.0,High,2.0,Cat_1\\n464283,Male,No,40,Yes,Artist,6.0,Low,2.0,Cat_6\\n464286,Female,Yes,57,Yes,Artist,0.0,Average,2.0,Cat_6\\n464287,Male,Yes,42,Yes,Artist,,Average,3.0,Cat_2\\n464289,Male,Yes,35,No,Marketing,1.0,Low,3.0,Cat_6\\n464292,Male,Yes,58,Yes,Artist,0.0,Average,2.0,Cat_6\\n464297,Male,No,29,No,Artist,8.0,Low,5.0,Cat_5\\n464298,Male,No,26,No,Doctor,0.0,Low,1.0,Cat_6\\n464308,Female,Yes,84,Yes,Lawyer,1.0,High,2.0,Cat_6\\n464318,Male,Yes,86,Yes,Executive,0.0,Low,1.0,Cat_6\\n464320,Male,Yes,77,No,Lawyer,1.0,High,2.0,Cat_6\\n464326,Female,No,37,Yes,Artist,0.0,Low,3.0,Cat_6\\n464332,Male,Yes,74,No,Executive,0.0,High,2.0,Cat_6\\n464339,Male,No,27,No,Artist,1.0,Low,2.0,Cat_6\\n464344,Female,Yes,56,Yes,Artist,0.0,Low,1.0,Cat_6\\n464351,Female,No,27,Yes,Healthcare,0.0,Low,1.0,Cat_6\\n464364,Male,Yes,39,Yes,Artist,7.0,Average,2.0,Cat_6\\n464368,Male,Yes,35,Yes,Entertainment,3.0,Average,2.0,Cat_6\\n464370,Male,Yes,66,Yes,Entertainment,1.0,Average,2.0,Cat_6\\n464373,Female,No,47,Yes,Artist,0.0,Low,2.0,Cat_6\\n464378,Female,Yes,36,Yes,Artist,8.0,Average,2.0,Cat_6\\n464381,Male,Yes,43,Yes,Artist,4.0,Average,2.0,Cat_6\\n464382,Female,Yes,55,Yes,Artist,0.0,Average,4.0,Cat_6\\n464386,Male,Yes,41,Yes,Doctor,0.0,Average,3.0,Cat_6\\n464387,Female,No,26,Yes,Artist,9.0,Low,5.0,Cat_6\\n464389,Male,Yes,72,Yes,Artist,0.0,High,2.0,Cat_2\\n464392,Male,Yes,59,,Artist,0.0,Average,2.0,Cat_6\\n464396,Male,Yes,38,Yes,Entertainment,1.0,Average,3.0,Cat_6\\n464412,Male,Yes,72,No,Lawyer,1.0,Low,2.0,Cat_6\\n464424,Male,No,31,Yes,Healthcare,1.0,Low,4.0,Cat_6\\n464425,Male,No,41,Yes,Artist,9.0,Low,1.0,Cat_6\\n464432,Male,No,25,No,Engineer,9.0,Low,2.0,Cat_3\\n464433,Male,No,29,Yes,Artist,,Low,,Cat_2\\n464436,Male,Yes,83,Yes,Lawyer,0.0,High,2.0,Cat_4\\n464437,Female,Yes,51,Yes,Engineer,0.0,Average,4.0,Cat_6\\n464441,Male,Yes,40,Yes,Artist,0.0,Low,2.0,Cat_2\\n464451,Female,Yes,76,Yes,Artist,0.0,Average,2.0,Cat_6\\n464456,Male,Yes,29,Yes,Artist,1.0,Low,4.0,Cat_6\\n464468,Male,Yes,46,Yes,Artist,1.0,Low,3.0,Cat_6\\n464473,Female,Yes,58,Yes,Artist,0.0,Average,4.0,Cat_6\\n464474,Female,No,46,Yes,Artist,1.0,Low,1.0,Cat_6\\n464478,Female,Yes,74,No,Lawyer,0.0,High,2.0,Cat_6\\n464481,Male,Yes,53,Yes,Executive,1.0,High,3.0,Cat_6\\n464482,Male,Yes,63,Yes,Artist,1.0,Low,1.0,Cat_6\\n464483,Female,Yes,49,Yes,Artist,1.0,Average,3.0,Cat_6\\n464485,Male,No,25,Yes,Entertainment,5.0,Low,2.0,Cat_3\\n464487,Male,No,46,No,Engineer,1.0,Low,3.0,Cat_4\\n464488,Female,No,43,Yes,Artist,7.0,Low,9.0,Cat_6\\n464494,Female,Yes,58,Yes,Artist,1.0,Average,4.0,Cat_3\\n464499,Male,Yes,41,Yes,Executive,1.0,High,4.0,Cat_6\\n464501,Female,No,28,No,Healthcare,1.0,Low,3.0,Cat_6\\n464504,Male,No,26,Yes,Healthcare,0.0,Low,4.0,Cat_6\\n464506,Male,No,29,Yes,Healthcare,9.0,Low,2.0,Cat_4\\n464517,Male,No,33,Yes,Healthcare,0.0,Low,,Cat_5\\n464522,Female,No,39,Yes,Engineer,14.0,Low,1.0,Cat_6\\n464526,Male,Yes,51,Yes,Entertainment,0.0,Average,4.0,Cat_6\\n464528,Male,Yes,46,Yes,Entertainment,4.0,High,4.0,Cat_2\\n464533,Male,Yes,38,No,Executive,,High,6.0,Cat_6\\n464536,Male,Yes,26,Yes,Artist,1.0,Average,3.0,Cat_6\\n464540,Female,Yes,42,Yes,Engineer,1.0,Average,4.0,Cat_4\\n464544,Female,Yes,43,Yes,Entertainment,5.0,Average,3.0,Cat_6\\n464549,Male,Yes,53,Yes,Executive,1.0,Low,4.0,Cat_6\\n464550,Male,Yes,46,Yes,Artist,,Low,4.0,Cat_6\\n464552,Female,Yes,40,Yes,Artist,1.0,Average,3.0,Cat_4\\n464553,Male,Yes,71,Yes,Artist,1.0,Low,2.0,Cat_6\\n464555,Male,Yes,32,Yes,Marketing,13.0,High,4.0,Cat_4\\n464560,Male,No,41,Yes,Entertainment,9.0,Low,2.0,Cat_6\\n464561,Female,No,46,Yes,Entertainment,8.0,Low,2.0,Cat_6\\n464566,Male,Yes,40,Yes,Executive,0.0,High,4.0,Cat_6\\n464569,Male,No,29,No,Doctor,1.0,Low,5.0,Cat_6\\n464570,Male,Yes,25,Yes,Doctor,1.0,Average,2.0,Cat_6\\n464572,Female,Yes,52,Yes,Marketing,0.0,Low,1.0,Cat_6\\n464576,Male,No,30,Yes,Doctor,9.0,Low,5.0,Cat_6\\n464577,Female,Yes,25,Yes,Healthcare,12.0,High,2.0,Cat_6\\n464580,Male,No,32,No,Artist,9.0,Low,4.0,Cat_6\\n464581,Female,No,33,No,Doctor,,Low,4.0,Cat_6\\n464586,Female,No,49,Yes,Artist,1.0,Low,1.0,Cat_3\\n464593,Female,No,43,Yes,Doctor,1.0,Low,4.0,Cat_2\\n464594,Male,Yes,48,Yes,Artist,1.0,Low,1.0,Cat_2\\n464597,Male,No,41,No,Artist,5.0,Low,2.0,Cat_6\\n464601,Female,No,29,Yes,Healthcare,9.0,Low,2.0,Cat_6\\n464603,Female,No,35,Yes,Artist,0.0,Low,2.0,Cat_3\\n464606,Male,Yes,41,Yes,Artist,1.0,Average,2.0,Cat_6\\n464607,Female,Yes,47,Yes,Artist,1.0,Average,4.0,Cat_2\\n464608,Female,Yes,53,Yes,Artist,1.0,Average,3.0,Cat_6\\n464618,Male,,40,Yes,Artist,5.0,Low,1.0,Cat_6\\n464620,Female,Yes,40,Yes,Artist,0.0,High,2.0,Cat_6\\n464621,Male,Yes,46,Yes,Artist,0.0,Low,1.0,Cat_6\\n464637,Female,No,36,Yes,Marketing,,Low,4.0,Cat_4\\n464641,Female,Yes,71,Yes,Lawyer,2.0,Low,6.0,Cat_1\\n464652,Female,Yes,30,No,Engineer,5.0,Average,2.0,Cat_4\\n464654,Female,Yes,40,No,Engineer,1.0,Average,4.0,Cat_4\\n464664,Male,Yes,43,No,Entertainment,0.0,Average,5.0,Cat_4\\n464666,Male,Yes,40,Yes,Entertainment,3.0,Average,3.0,Cat_4\\n464670,Male,Yes,39,No,Entertainment,1.0,Average,4.0,Cat_4\\n464673,Male,Yes,49,No,Executive,1.0,High,7.0,Cat_2\\n464674,Male,Yes,51,No,Artist,0.0,Average,5.0,Cat_4\\n464675,Female,Yes,39,No,Doctor,1.0,Average,9.0,Cat_4\\n464677,Male,Yes,23,No,Healthcare,1.0,Low,5.0,Cat_4\\n464683,Male,Yes,53,No,Engineer,0.0,Average,6.0,Cat_4\\n464684,Female,No,35,No,Engineer,9.0,Low,5.0,Cat_4\\n464685,Male,No,35,No,Executive,2.0,Low,4.0,Cat_4\\n464688,Male,Yes,30,Yes,Doctor,1.0,Low,9.0,Cat_4\\n464690,Male,Yes,39,No,Engineer,2.0,Average,,Cat_4\\n464691,Male,No,38,Yes,Artist,1.0,Low,3.0,Cat_4\\n464692,Female,No,53,No,Marketing,0.0,Low,1.0,Cat_3\\n464693,Female,No,36,Yes,Engineer,8.0,Low,1.0,Cat_4\\n464695,Male,No,33,No,Engineer,0.0,Low,4.0,Cat_4\\n464696,Female,No,40,Yes,Engineer,1.0,Low,1.0,Cat_4\\n464697,Female,Yes,36,Yes,Artist,0.0,Average,4.0,Cat_4\\n464699,Male,No,31,No,Doctor,1.0,Low,5.0,Cat_4\\n464701,Male,No,31,No,Doctor,1.0,Low,2.0,Cat_4\\n464704,Male,Yes,41,Yes,Healthcare,0.0,Average,4.0,Cat_4\\n464707,Male,Yes,48,No,,0.0,Average,4.0,Cat_4\\n464711,Female,Yes,38,Yes,Artist,5.0,Average,3.0,Cat_1\\n464712,Male,Yes,49,No,Artist,1.0,Low,5.0,Cat_4\\n464722,Male,Yes,42,Yes,Doctor,1.0,Low,,Cat_4\\n464726,Male,Yes,28,Yes,Executive,14.0,High,9.0,Cat_4\\n464728,Male,Yes,51,No,Entertainment,0.0,High,4.0,Cat_4\\n464732,Male,Yes,41,No,Artist,1.0,Average,2.0,Cat_4\\n464737,Female,Yes,57,No,Engineer,0.0,Average,6.0,Cat_4\\n464739,Male,Yes,67,Yes,Artist,0.0,Low,1.0,Cat_4\\n464746,Male,Yes,29,No,Executive,3.0,Average,5.0,Cat_4\\n464752,Female,Yes,46,,Marketing,,Low,1.0,Cat_4\\n464755,Male,Yes,49,Yes,Artist,0.0,High,2.0,Cat_6\\n464756,Female,No,28,No,Engineer,6.0,Low,3.0,Cat_4\\n464758,Female,Yes,48,No,Engineer,1.0,Average,4.0,Cat_4\\n464760,Female,Yes,51,No,Engineer,5.0,Average,4.0,Cat_4\\n464765,Female,Yes,48,No,Engineer,5.0,Average,6.0,Cat_4\\n464766,Female,Yes,48,No,Engineer,5.0,Average,5.0,Cat_4\\n464769,Female,,52,No,Engineer,9.0,Average,4.0,Cat_4\\n464772,Female,Yes,39,No,Engineer,8.0,Average,4.0,Cat_4\\n464774,Female,Yes,50,No,Engineer,7.0,Average,5.0,Cat_4\\n464780,Female,No,33,No,Engineer,1.0,Low,9.0,Cat_4\\n464790,Female,No,35,Yes,Artist,,Low,1.0,Cat_4\\n464792,Male,Yes,30,No,Marketing,2.0,High,5.0,Cat_4\\n464794,Female,Yes,46,No,Engineer,8.0,Average,,Cat_4\\n464799,Male,No,36,No,Marketing,0.0,Low,4.0,Cat_4\\n464802,Male,No,43,No,Entertainment,0.0,Low,1.0,Cat_4\\n464804,Male,Yes,26,No,Entertainment,1.0,Low,1.0,Cat_4\\n464806,Male,Yes,33,No,Executive,0.0,Low,2.0,Cat_4\\n464809,Male,Yes,50,,Entertainment,,Average,5.0,Cat_4\\n464812,Female,Yes,49,Yes,Engineer,1.0,High,5.0,Cat_4\\n464813,Male,Yes,48,Yes,Engineer,6.0,Average,5.0,Cat_6\\n464817,Male,No,31,Yes,Artist,5.0,Low,1.0,Cat_4\\n464818,Female,Yes,38,No,Engineer,,Average,2.0,Cat_4\\n464825,Female,No,21,No,Healthcare,5.0,Low,1.0,Cat_4\\n464827,Female,Yes,50,No,Entertainment,8.0,Average,5.0,Cat_4\\n464828,Male,No,23,No,Healthcare,9.0,Low,6.0,Cat_4\\n464831,Female,Yes,21,No,Healthcare,0.0,Low,2.0,Cat_4\\n464832,Male,Yes,71,No,Lawyer,1.0,Low,,Cat_4\\n464835,Male,No,20,No,Healthcare,0.0,Low,6.0,Cat_4\\n464836,Female,,32,No,Engineer,7.0,High,5.0,Cat_4\\n464845,Male,Yes,29,No,Engineer,0.0,Average,3.0,Cat_4\\n464849,Male,Yes,42,Yes,Artist,0.0,Average,4.0,Cat_4\\n464851,Male,No,20,No,Doctor,0.0,Low,6.0,Cat_4\\n464852,Male,Yes,36,No,Executive,1.0,Low,6.0,Cat_4\\n464854,Female,Yes,42,No,Engineer,0.0,High,6.0,Cat_4\\n464857,Male,No,18,No,Healthcare,7.0,Low,4.0,Cat_4\\n464861,Male,No,25,No,Homemaker,,Low,2.0,Cat_4\\n464864,Female,No,30,No,Engineer,10.0,Low,8.0,Cat_4\\n464865,Female,No,28,No,Homemaker,9.0,Low,9.0,Cat_4\\n464868,Male,Yes,42,Yes,Entertainment,7.0,Low,6.0,Cat_4\\n464872,Male,Yes,38,Yes,Artist,1.0,Low,4.0,Cat_4\\n464873,Male,Yes,42,Yes,Artist,1.0,Average,2.0,Cat_4\\n464876,Female,Yes,52,No,Engineer,,Average,5.0,Cat_4\\n464879,Female,Yes,29,Yes,Doctor,0.0,Average,2.0,Cat_4\\n464884,Male,Yes,40,Yes,Artist,1.0,Low,2.0,Cat_4\\n464885,Female,No,38,No,Engineer,1.0,Low,2.0,Cat_4\\n464886,Male,Yes,37,Yes,Engineer,1.0,Average,4.0,Cat_4\\n464902,Female,Yes,65,No,Lawyer,1.0,Low,1.0,Cat_4\\n464905,Male,,81,No,Executive,,High,2.0,Cat_4\\n464907,Male,,59,Yes,Engineer,0.0,Average,2.0,Cat_4\\n464910,Female,Yes,47,Yes,Artist,1.0,Average,5.0,Cat_4\\n464911,Male,Yes,57,Yes,Artist,0.0,Average,3.0,Cat_4\\n464915,Male,Yes,39,Yes,Executive,,High,4.0,Cat_4\\n464916,Female,,32,,Doctor,8.0,High,2.0,Cat_4\\n464919,Male,Yes,37,Yes,Artist,9.0,Low,1.0,Cat_4\\n464920,Male,No,39,Yes,Artist,4.0,Low,1.0,Cat_4\\n464921,Male,Yes,39,No,Doctor,1.0,Average,5.0,Cat_4\\n464925,Male,,60,No,Executive,7.0,Average,2.0,Cat_4\\n464927,Female,Yes,70,Yes,Artist,1.0,Average,2.0,Cat_4\\n464932,Male,Yes,51,Yes,Executive,9.0,Low,1.0,Cat_4\\n464938,Male,Yes,48,No,Artist,1.0,Low,3.0,Cat_4\\n464939,Male,No,43,No,Entertainment,0.0,Low,1.0,Cat_4\\n464940,Female,Yes,29,No,Engineer,1.0,Low,2.0,Cat_4\\n464944,Female,Yes,43,Yes,Entertainment,0.0,Low,2.0,Cat_4\\n464947,Male,No,25,No,Doctor,5.0,Low,1.0,Cat_4\\n464957,Female,Yes,75,No,Lawyer,0.0,Low,1.0,Cat_4\\n464960,Female,No,22,No,Healthcare,0.0,Low,5.0,Cat_4\\n464961,Male,Yes,86,No,Marketing,1.0,Low,1.0,Cat_4\\n464963,Female,Yes,50,Yes,Entertainment,1.0,Low,2.0,Cat_4\\n464972,Male,Yes,73,No,Lawyer,1.0,High,9.0,Cat_4\\n464973,Male,No,87,,Lawyer,1.0,Low,2.0,Cat_4\\n464981,Male,Yes,49,Yes,Artist,0.0,Average,4.0,Cat_6\\n464987,Male,Yes,46,Yes,Executive,1.0,High,5.0,Cat_6\\n464990,Male,Yes,73,No,Executive,0.0,High,2.0,Cat_6\\n464991,Female,Yes,87,Yes,Lawyer,1.0,High,2.0,Cat_6\\n464995,Male,Yes,53,No,Executive,2.0,High,4.0,Cat_4\\n465001,Male,Yes,84,Yes,Lawyer,1.0,High,2.0,Cat_6\\n465005,Male,Yes,47,Yes,Executive,3.0,High,3.0,Cat_6\\n465012,Male,Yes,59,No,Executive,1.0,High,4.0,Cat_6\\n465014,Male,Yes,82,No,Lawyer,1.0,Low,1.0,Cat_6\\n465022,Female,Yes,71,Yes,Lawyer,0.0,High,2.0,Cat_6\\n465023,Male,Yes,39,Yes,Artist,9.0,Average,2.0,Cat_2\\n465026,Female,No,25,No,Doctor,0.0,Low,2.0,Cat_6\\n465032,Male,Yes,67,Yes,Executive,1.0,High,2.0,Cat_6\\n465035,Female,Yes,83,Yes,Lawyer,13.0,High,2.0,Cat_6\\n465038,Male,Yes,49,No,Executive,0.0,High,4.0,Cat_6\\n465039,Female,Yes,87,No,Lawyer,0.0,High,2.0,Cat_6\\n465040,Male,Yes,69,No,Lawyer,1.0,Average,2.0,Cat_6\\n465045,Male,Yes,40,Yes,Entertainment,9.0,Average,2.0,Cat_6\\n465056,Male,Yes,87,Yes,Lawyer,1.0,High,2.0,Cat_6\\n465069,Male,Yes,68,Yes,Healthcare,0.0,Average,3.0,Cat_6\\n465075,Female,Yes,43,Yes,Artist,,Average,2.0,Cat_6\\n465076,Male,Yes,67,Yes,Artist,0.0,High,5.0,Cat_6\\n465079,Male,Yes,80,Yes,Lawyer,1.0,Low,1.0,Cat_6\\n465082,Male,Yes,65,Yes,Lawyer,1.0,Low,1.0,Cat_3\\n465087,Male,No,29,Yes,Doctor,0.0,Low,4.0,Cat_6\\n465091,Male,Yes,60,Yes,Entertainment,,Average,3.0,Cat_6\\n465092,Male,Yes,72,Yes,Executive,1.0,High,2.0,Cat_6\\n465093,Male,Yes,57,Yes,Doctor,0.0,Low,1.0,Cat_6\\n465095,Male,Yes,47,Yes,Executive,1.0,High,4.0,Cat_6\\n465099,Male,Yes,39,No,Entertainment,1.0,Average,2.0,Cat_6\\n465100,Male,Yes,62,Yes,Artist,0.0,High,2.0,Cat_6\\n465101,Female,Yes,81,Yes,Lawyer,1.0,Low,1.0,Cat_6\\n465105,Male,Yes,65,No,Executive,8.0,Average,2.0,Cat_6\\n465109,Male,No,47,No,Lawyer,,Low,2.0,Cat_6\\n465111,Female,Yes,40,Yes,Artist,8.0,Average,2.0,Cat_6\\n465112,Female,Yes,86,No,Lawyer,0.0,High,2.0,Cat_6\\n465113,Male,Yes,67,Yes,Lawyer,0.0,High,2.0,Cat_4\\n465119,Female,Yes,45,Yes,Artist,0.0,Average,5.0,Cat_6\\n465120,Female,No,27,Yes,Healthcare,1.0,Low,4.0,Cat_6\\n465121,Female,No,32,Yes,Artist,7.0,Low,1.0,Cat_3\\n465122,Female,Yes,41,Yes,Artist,3.0,Average,2.0,Cat_6\\n465124,Female,Yes,27,Yes,Healthcare,6.0,Average,2.0,Cat_6\\n465128,Female,Yes,58,No,Artist,0.0,Average,3.0,Cat_6\\n465134,Female,Yes,61,Yes,Entertainment,1.0,Average,5.0,Cat_6\\n465136,Male,Yes,52,Yes,Artist,0.0,Average,2.0,Cat_6\\n465144,Male,No,25,Yes,Doctor,8.0,Low,1.0,Cat_6\\n465147,Male,No,33,Yes,Healthcare,2.0,Low,3.0,Cat_6\\n465148,Male,No,31,No,Artist,0.0,Low,,\\n465150,Male,No,37,Yes,Entertainment,1.0,Low,1.0,Cat_6\\n465153,Male,Yes,38,Yes,Artist,1.0,Average,2.0,Cat_6\\n465155,Male,Yes,81,Yes,Lawyer,0.0,Low,1.0,Cat_6\\n465160,Male,Yes,61,Yes,Executive,0.0,High,3.0,Cat_6\\n465164,Male,No,20,No,Healthcare,0.0,Low,3.0,Cat_6\\n465171,Female,Yes,48,Yes,Artist,8.0,High,4.0,Cat_6\\n465172,Female,Yes,43,Yes,Artist,8.0,Average,2.0,Cat_6\\n465175,Female,No,22,No,Homemaker,0.0,Low,4.0,Cat_6\\n465176,Female,Yes,63,Yes,Artist,1.0,Average,4.0,Cat_6\\n465181,Female,No,25,Yes,Healthcare,8.0,Low,1.0,Cat_4\\n465182,Female,No,73,Yes,Lawyer,1.0,Low,1.0,Cat_6\\n465186,Female,Yes,43,No,Artist,4.0,Average,4.0,Cat_1\\n465187,Female,Yes,39,No,Doctor,1.0,Average,4.0,Cat_4\\n465188,Female,Yes,49,Yes,Artist,0.0,Average,4.0,Cat_6\\n465189,Female,Yes,83,Yes,Lawyer,1.0,High,2.0,Cat_6\\n465194,Male,No,22,No,Healthcare,9.0,Low,6.0,Cat_2\\n465196,Female,No,31,Yes,Artist,2.0,Low,2.0,Cat_4\\n465197,Female,Yes,60,Yes,Artist,1.0,High,4.0,Cat_6\\n465201,Male,Yes,42,Yes,Entertainment,1.0,Average,4.0,Cat_3\\n465202,Male,No,25,No,Entertainment,7.0,Low,4.0,Cat_6\\n465203,Male,No,29,Yes,Healthcare,3.0,Low,3.0,Cat_6\\n465204,Male,Yes,29,Yes,Healthcare,1.0,Low,2.0,Cat_6\\n465213,Male,Yes,39,Yes,Entertainment,2.0,Average,2.0,Cat_6\\n465214,Male,Yes,33,No,Engineer,14.0,Low,1.0,Cat_6\\n465216,Male,Yes,35,Yes,Executive,9.0,High,4.0,Cat_6\\n465226,Male,Yes,38,No,Entertainment,2.0,Low,3.0,Cat_6\\n465228,Male,Yes,59,Yes,Artist,1.0,High,2.0,Cat_6\\n465231,Male,Yes,67,No,Artist,1.0,Average,2.0,Cat_6\\n465236,Male,Yes,45,Yes,Artist,1.0,Low,1.0,Cat_6\\n465237,Male,Yes,70,Yes,Lawyer,,High,2.0,Cat_6\\n465242,Male,No,19,No,Healthcare,5.0,Low,4.0,Cat_3\\n465249,Female,No,23,No,Healthcare,0.0,Low,4.0,Cat_6\\n465254,Male,No,22,No,Healthcare,1.0,Low,4.0,Cat_7\\n465261,Female,No,23,Yes,Healthcare,1.0,Low,4.0,Cat_1\\n465264,Male,Yes,80,No,Executive,0.0,Low,1.0,Cat_6\\n465267,Male,Yes,40,No,Engineer,14.0,Average,5.0,Cat_4\\n465274,Male,No,36,Yes,Artist,0.0,Low,1.0,Cat_4\\n465285,Female,Yes,31,No,Engineer,8.0,Low,4.0,Cat_6\\n465288,Female,Yes,20,No,Engineer,1.0,Low,2.0,Cat_4\\n465289,Male,Yes,31,Yes,Executive,1.0,High,2.0,Cat_6\\n465290,Male,Yes,50,Yes,Executive,0.0,High,5.0,Cat_6\\n465294,Male,Yes,67,No,Lawyer,0.0,Low,2.0,Cat_6\\n465295,Female,,43,Yes,Doctor,9.0,Average,1.0,Cat_6\\n465296,Female,Yes,85,Yes,Lawyer,5.0,High,3.0,Cat_6\\n465303,Female,Yes,65,Yes,Artist,1.0,Average,3.0,Cat_2\\n465306,Male,Yes,71,No,Executive,1.0,Average,4.0,Cat_2\\n465310,Female,No,20,No,Healthcare,1.0,Low,6.0,Cat_4\\n465319,Male,No,20,No,Healthcare,0.0,Low,5.0,Cat_6\\n465326,Male,Yes,87,Yes,Artist,,Low,1.0,Cat_6\\n465333,Female,Yes,37,Yes,Artist,4.0,Low,2.0,Cat_7\\n465335,Male,Yes,59,No,Entertainment,1.0,Average,2.0,Cat_7\\n465340,Female,No,29,Yes,Artist,3.0,Low,4.0,Cat_2\\n465342,Male,Yes,85,Yes,Executive,0.0,High,2.0,Cat_6\\n465344,Female,Yes,72,Yes,Lawyer,1.0,High,2.0,Cat_6\\n465345,Female,No,42,Yes,Artist,0.0,Low,,Cat_6\\n465351,Female,Yes,45,Yes,Artist,9.0,Average,2.0,Cat_6\\n465352,Male,Yes,59,Yes,Entertainment,1.0,Average,4.0,Cat_6\\n465354,Male,No,19,No,Doctor,0.0,Low,5.0,Cat_2\\n465357,Female,Yes,47,Yes,Artist,0.0,Average,3.0,Cat_6\\n465358,Female,Yes,73,Yes,Artist,0.0,High,2.0,Cat_6\\n465359,Female,Yes,42,No,Artist,1.0,Low,1.0,Cat_6\\n465364,Female,No,37,Yes,Doctor,7.0,Low,5.0,Cat_2\\n465366,Female,No,38,Yes,Artist,8.0,Low,1.0,Cat_6\\n465371,Female,No,41,Yes,Artist,1.0,Low,1.0,Cat_6\\n465372,Female,No,40,Yes,Entertainment,0.0,Low,1.0,Cat_6\\n465383,Female,Yes,30,Yes,Entertainment,0.0,Low,4.0,Cat_6\\n465384,Male,Yes,56,Yes,Artist,0.0,High,2.0,Cat_6\\n465391,Female,Yes,65,Yes,Lawyer,1.0,High,2.0,Cat_6\\n465393,Male,Yes,35,Yes,Artist,5.0,Average,2.0,Cat_6\\n465395,Female,Yes,37,No,Engineer,0.0,Average,5.0,Cat_4\\n465399,Male,No,36,Yes,Entertainment,0.0,Low,1.0,Cat_4\\n465405,Female,,26,Yes,Homemaker,1.0,High,4.0,Cat_2\\n465408,Male,No,25,No,Executive,,Low,4.0,Cat_6\\n465410,Male,No,30,No,Healthcare,0.0,Low,4.0,Cat_5\\n465417,Male,Yes,37,Yes,Entertainment,,Average,2.0,Cat_4\\n465419,Male,No,30,No,Artist,0.0,Low,3.0,Cat_6\\n465423,Male,Yes,46,Yes,Entertainment,1.0,Average,4.0,Cat_7\\n465428,Female,No,38,Yes,Engineer,1.0,Low,1.0,Cat_4\\n465433,Female,No,40,Yes,Artist,,Low,1.0,Cat_2\\n465435,Female,No,31,Yes,Artist,5.0,Low,1.0,Cat_6\\n465437,Male,Yes,45,Yes,Executive,4.0,High,5.0,Cat_6\\n465440,Male,Yes,55,No,Engineer,1.0,Low,5.0,Cat_6\\n465441,Female,Yes,51,Yes,Engineer,2.0,Low,1.0,Cat_4\\n465445,Female,No,29,Yes,Homemaker,5.0,Low,7.0,Cat_6\\n465458,Female,Yes,74,Yes,Artist,1.0,High,2.0,Cat_6\\n465461,Male,Yes,69,No,Entertainment,1.0,Average,3.0,Cat_6\\n465463,Female,No,28,No,Doctor,,Low,5.0,Cat_2\\n465464,Male,Yes,41,Yes,Executive,0.0,Average,,Cat_4\\n465467,Male,,29,No,Healthcare,1.0,Low,3.0,Cat_6\\n465471,Male,Yes,39,Yes,Artist,0.0,Low,1.0,Cat_6\\n465472,Female,Yes,74,No,Entertainment,,High,3.0,Cat_6\\n465473,Female,No,59,Yes,Artist,4.0,Low,1.0,Cat_6\\n465477,Male,No,27,No,Healthcare,1.0,Low,3.0,Cat_2\\n465479,Male,No,33,No,Artist,0.0,Low,1.0,Cat_4\\n465482,Male,No,31,No,Entertainment,9.0,Low,2.0,Cat_2\\n465483,Male,Yes,46,No,Artist,0.0,Average,3.0,Cat_6\\n465484,Female,Yes,63,Yes,Artist,0.0,Low,2.0,Cat_6\\n465488,Male,No,22,No,Healthcare,1.0,Low,4.0,Cat_6\\n465489,Female,No,53,Yes,Engineer,1.0,Low,5.0,Cat_6\\n465492,Male,Yes,59,No,Entertainment,1.0,Low,1.0,Cat_2\\n465496,Male,Yes,84,Yes,Lawyer,,Low,2.0,Cat_2\\n465505,Male,Yes,63,Yes,Artist,1.0,Average,4.0,Cat_6\\n465507,Male,Yes,35,Yes,Artist,8.0,Low,1.0,Cat_6\\n465508,Male,No,21,No,Healthcare,1.0,Low,4.0,Cat_6\\n465510,Male,Yes,67,No,Lawyer,0.0,High,2.0,Cat_6\\n465518,Female,Yes,41,Yes,Artist,1.0,Average,3.0,Cat_4\\n465520,Female,No,27,Yes,Artist,0.0,Low,8.0,Cat_2\\n465521,Female,Yes,53,Yes,Artist,1.0,Average,2.0,Cat_7\\n465522,Female,No,33,Yes,Healthcare,4.0,Low,8.0,Cat_5\\n465529,Female,No,32,No,Doctor,0.0,Low,4.0,Cat_6\\n465538,Male,Yes,59,No,,5.0,High,2.0,Cat_6\\n465539,Female,Yes,50,Yes,Artist,1.0,High,5.0,Cat_6\\n465541,Female,Yes,50,Yes,Artist,1.0,Average,4.0,Cat_7\\n465543,Female,Yes,41,Yes,Healthcare,1.0,Average,2.0,Cat_3\\n465547,Female,Yes,71,,Lawyer,1.0,Low,1.0,Cat_6\\n465550,Female,No,33,Yes,Healthcare,1.0,Low,6.0,Cat_3\\n465551,Female,Yes,46,Yes,Artist,,Average,2.0,Cat_3\\n465554,Female,No,78,Yes,Lawyer,1.0,Low,3.0,Cat_6\\n465555,Female,Yes,69,No,Lawyer,,High,2.0,Cat_4\\n465558,Female,No,40,Yes,Healthcare,8.0,Low,1.0,Cat_7\\n465568,Male,Yes,43,Yes,Executive,2.0,High,3.0,Cat_6\\n465569,Male,Yes,36,Yes,Artist,0.0,High,3.0,Cat_6\\n465571,Male,Yes,35,Yes,Entertainment,1.0,Average,2.0,Cat_2\\n465577,Male,No,30,No,Healthcare,0.0,Low,4.0,Cat_3\\n465584,Male,Yes,47,No,Entertainment,3.0,Average,2.0,Cat_6\\n465586,Male,Yes,69,No,Artist,0.0,Low,1.0,Cat_6\\n465587,Male,Yes,41,Yes,Entertainment,,Low,5.0,Cat_3\\n465594,Male,Yes,33,No,Executive,4.0,Low,6.0,Cat_3\\n465598,Male,No,27,Yes,Healthcare,6.0,Low,5.0,Cat_2\\n465600,Male,Yes,38,Yes,Engineer,6.0,Low,2.0,Cat_3\\n465601,Male,Yes,35,Yes,Artist,,Average,4.0,Cat_3\\n465602,Male,Yes,27,Yes,Artist,10.0,Low,2.0,Cat_3\\n465603,Female,Yes,51,Yes,Homemaker,9.0,Low,,Cat_3\\n465605,Female,Yes,52,Yes,Engineer,4.0,Low,1.0,Cat_3\\n465611,Male,No,53,Yes,Doctor,0.0,Low,1.0,Cat_6\\n465612,Male,Yes,43,Yes,Artist,8.0,Average,2.0,Cat_6\\n465616,Male,Yes,42,Yes,Doctor,8.0,Low,2.0,Cat_6\\n465621,Male,No,36,Yes,Doctor,9.0,Low,1.0,Cat_6\\n465625,Male,No,36,Yes,Artist,14.0,Low,2.0,Cat_6\\n465627,Female,No,40,Yes,Healthcare,1.0,Low,1.0,Cat_6\\n465629,Male,Yes,47,Yes,Entertainment,2.0,Average,3.0,Cat_6\\n465635,Male,No,30,No,Doctor,1.0,Low,2.0,Cat_4\\n465638,Female,Yes,53,Yes,Artist,,Low,,Cat_3\\n465640,Male,Yes,45,Yes,Artist,5.0,Average,2.0,Cat_6\\n465644,Male,No,33,Yes,Healthcare,0.0,Low,5.0,Cat_6\\n465645,Female,No,40,Yes,Artist,8.0,Low,2.0,Cat_6\\n465649,Female,Yes,36,Yes,Marketing,5.0,Low,1.0,Cat_6\\n465651,Male,No,32,No,Engineer,0.0,Low,4.0,Cat_6\\n465653,Female,Yes,51,Yes,Artist,0.0,Low,2.0,Cat_6\\n465655,Female,No,49,Yes,Artist,0.0,Low,1.0,Cat_6\\n465656,Male,Yes,81,No,Lawyer,1.0,Low,,Cat_6\\n465658,Male,Yes,72,Yes,Artist,1.0,Average,4.0,Cat_6\\n465663,Female,No,70,Yes,Artist,0.0,Low,2.0,Cat_6\\n465667,Male,No,21,No,Healthcare,0.0,Low,3.0,Cat_2\\n465668,Male,No,21,No,Healthcare,1.0,Low,5.0,Cat_4\\n465669,Female,Yes,41,No,Entertainment,4.0,Average,4.0,Cat_4\\n465670,Female,No,49,No,Engineer,12.0,Low,1.0,Cat_4\\n465675,Female,No,51,No,Entertainment,0.0,Low,1.0,Cat_4\\n465680,Male,Yes,28,No,Healthcare,0.0,Average,5.0,Cat_4\\n465685,Male,No,37,Yes,Healthcare,5.0,Low,2.0,Cat_3\\n465688,Female,Yes,63,,Artist,1.0,Average,3.0,Cat_3\\n465689,Male,No,19,No,Healthcare,8.0,Low,4.0,Cat_3\\n465695,Female,No,32,No,Healthcare,,Low,3.0,Cat_4\\n465697,Female,Yes,51,No,Artist,6.0,Low,1.0,Cat_6\\n465703,Male,Yes,26,No,Entertainment,3.0,Low,2.0,Cat_4\\n465704,Male,Yes,61,No,Artist,0.0,Low,1.0,Cat_6\\n465705,Female,Yes,51,Yes,Artist,0.0,Average,4.0,Cat_6\\n465706,Female,Yes,45,Yes,Artist,0.0,Average,3.0,Cat_6\\n465721,Male,Yes,29,Yes,Entertainment,1.0,High,2.0,Cat_3\\n465722,Male,Yes,47,No,,0.0,Low,5.0,Cat_3\\n465725,Male,No,25,Yes,Doctor,1.0,Low,2.0,Cat_3\\n465727,Male,No,40,No,Marketing,0.0,Low,5.0,Cat_4\\n465728,Male,No,45,Yes,,1.0,Low,1.0,Cat_4\\n465733,Male,Yes,32,Yes,Entertainment,1.0,Average,2.0,Cat_4\\n465734,Male,Yes,38,Yes,Artist,0.0,Low,3.0,Cat_1\\n465736,Female,No,38,Yes,Artist,8.0,Low,2.0,Cat_3\\n465737,Female,Yes,48,Yes,Engineer,7.0,Low,3.0,Cat_3\\n465740,Female,No,71,Yes,Doctor,0.0,Low,1.0,Cat_6\\n465742,Female,Yes,46,Yes,Artist,3.0,Low,3.0,Cat_6\\n465751,Female,Yes,46,Yes,Artist,9.0,Low,2.0,Cat_6\\n465753,Female,Yes,49,Yes,Artist,7.0,Low,2.0,Cat_6\\n465766,Male,Yes,43,No,Entertainment,0.0,Low,3.0,Cat_4\\n465768,Female,No,38,Yes,Artist,6.0,Low,4.0,Cat_4\\n465769,Male,No,25,Yes,Healthcare,8.0,Low,4.0,Cat_6\\n465772,Female,Yes,46,Yes,Engineer,0.0,Low,4.0,Cat_1\\n465775,Female,No,28,Yes,Engineer,9.0,Low,3.0,Cat_6\\n465776,Female,No,41,Yes,Entertainment,5.0,Low,4.0,Cat_6\\n465777,Female,No,32,Yes,Artist,9.0,Low,5.0,Cat_6\\n465784,Female,No,21,No,Healthcare,0.0,Low,4.0,Cat_3\\n465788,Male,No,22,No,Healthcare,1.0,Low,6.0,Cat_4\\n465793,Male,No,27,No,Healthcare,0.0,Low,5.0,Cat_4\\n465797,Male,Yes,40,Yes,Artist,0.0,Average,2.0,Cat_2\\n465804,Female,Yes,68,No,Engineer,0.0,Low,1.0,Cat_4\\n465809,Female,No,25,No,Homemaker,1.0,Low,7.0,Cat_4\\n465811,Male,No,28,No,Healthcare,1.0,Low,4.0,Cat_4\\n465813,Male,No,28,No,Marketing,2.0,Low,8.0,Cat_4\\n465818,Male,No,27,No,Entertainment,1.0,Low,3.0,Cat_4\\n465823,Male,Yes,67,No,Entertainment,5.0,Average,4.0,Cat_4\\n465826,Male,Yes,46,No,Executive,4.0,Low,9.0,Cat_4\\n465828,Female,No,33,No,Entertainment,8.0,Low,4.0,Cat_4\\n465829,Female,Yes,40,Yes,Doctor,6.0,Average,3.0,Cat_4\\n465830,Female,Yes,48,No,,5.0,Average,7.0,Cat_4\\n465831,Male,Yes,42,No,Executive,0.0,High,5.0,Cat_4\\n465837,Male,No,56,Yes,,1.0,Low,1.0,Cat_6\\n465841,Female,No,51,Yes,Engineer,3.0,Low,1.0,Cat_6\\n465848,Female,No,27,Yes,Healthcare,0.0,Low,1.0,Cat_7\\n465849,Female,No,25,Yes,Doctor,7.0,Low,3.0,Cat_4\\n465851,Female,Yes,51,No,Artist,9.0,High,2.0,Cat_4\\n465853,Female,Yes,26,Yes,Healthcare,,Average,2.0,Cat_6\\n465857,Female,No,35,Yes,Doctor,0.0,Low,1.0,Cat_6\\n465860,Female,,25,Yes,Doctor,1.0,Low,3.0,Cat_6\\n465863,Male,No,30,No,Healthcare,6.0,Low,3.0,Cat_6\\n465865,Female,No,41,Yes,Healthcare,9.0,Low,1.0,Cat_6\\n465866,Male,Yes,42,Yes,Artist,6.0,Low,3.0,Cat_6\\n465867,Female,Yes,40,Yes,Artist,8.0,High,5.0,Cat_6\\n465873,Male,No,36,Yes,Entertainment,13.0,Low,1.0,Cat_6\\n465875,Female,No,39,Yes,Artist,9.0,Low,1.0,Cat_6\\n465884,Male,Yes,40,Yes,Executive,7.0,High,3.0,Cat_6\\n465893,Female,Yes,40,Yes,Engineer,1.0,Average,2.0,Cat_6\\n465894,Male,No,28,Yes,Artist,9.0,Low,6.0,Cat_6\\n465907,Female,No,31,Yes,Marketing,8.0,Low,,Cat_1\\n465916,Male,No,41,Yes,Artist,4.0,Low,1.0,Cat_6\\n465923,Female,No,28,Yes,Engineer,9.0,Low,5.0,Cat_6\\n465925,Male,No,30,Yes,Healthcare,1.0,Low,1.0,Cat_6\\n465927,Female,No,30,Yes,Healthcare,1.0,Low,1.0,Cat_6\\n465930,Female,No,38,Yes,Artist,9.0,Low,2.0,Cat_6\\n465931,Male,Yes,43,Yes,Artist,7.0,Low,1.0,Cat_7\\n465935,Male,No,29,Yes,Entertainment,9.0,Low,1.0,Cat_6\\n465937,Female,No,30,Yes,Healthcare,9.0,Low,3.0,Cat_6\\n465941,Male,Yes,27,Yes,Healthcare,0.0,Low,2.0,Cat_6\\n465948,Female,Yes,48,Yes,Artist,0.0,Average,2.0,Cat_6\\n465953,Female,No,51,Yes,Artist,1.0,Low,1.0,Cat_6\\n465957,Female,No,48,Yes,Marketing,0.0,Low,1.0,Cat_6\\n465960,Female,No,28,Yes,Marketing,9.0,Low,1.0,Cat_6\\n465961,Female,No,40,Yes,Artist,3.0,Low,1.0,Cat_6\\n465963,Male,Yes,51,Yes,Artist,1.0,Low,2.0,Cat_6\\n465965,Female,Yes,36,No,Marketing,8.0,Low,2.0,Cat_6\\n465972,Female,No,51,Yes,Marketing,9.0,Low,1.0,Cat_6\\n465974,Male,Yes,45,Yes,Executive,5.0,High,4.0,Cat_4\\n465975,Male,No,40,Yes,Artist,8.0,Low,1.0,Cat_6\\n465976,Male,No,40,Yes,Artist,0.0,Low,1.0,Cat_7\\n465979,Male,Yes,41,Yes,Artist,2.0,Low,2.0,Cat_6\\n465982,Male,Yes,43,Yes,Entertainment,0.0,Average,4.0,Cat_6\\n465983,Male,,21,No,Healthcare,1.0,Low,3.0,Cat_6\\n465996,Male,No,23,No,Healthcare,1.0,Low,4.0,Cat_6\\n465997,Female,No,31,No,Doctor,0.0,Low,3.0,Cat_6\\n466001,Female,Yes,42,Yes,Entertainment,6.0,Low,2.0,Cat_6\\n466007,Male,Yes,61,No,Artist,0.0,Low,1.0,Cat_7\\n466017,Female,Yes,45,Yes,Homemaker,0.0,Low,1.0,Cat_3\\n466019,Female,Yes,63,Yes,Artist,5.0,Low,1.0,Cat_3\\n466020,Male,Yes,86,No,Lawyer,0.0,Low,1.0,Cat_6\\n466022,Female,Yes,67,No,Engineer,,High,3.0,Cat_7\\n466023,Male,Yes,71,No,Executive,,High,3.0,Cat_7\\n466024,Female,Yes,43,No,Entertainment,14.0,Low,2.0,Cat_3\\n466032,Male,,28,No,Entertainment,,Low,2.0,Cat_6\\n466042,Male,Yes,47,No,Entertainment,0.0,Low,2.0,Cat_6\\n466043,Female,Yes,53,Yes,Artist,0.0,Average,4.0,Cat_6\\n466046,Female,Yes,36,No,Entertainment,1.0,Average,2.0,Cat_4\\n466058,Male,Yes,35,No,Entertainment,1.0,Low,,Cat_4\\n466069,Female,Yes,48,Yes,Artist,1.0,High,4.0,\\n466071,Female,Yes,60,Yes,Artist,3.0,Low,3.0,Cat_4\\n466078,Female,Yes,45,No,Executive,,Low,1.0,Cat_6\\n466079,Female,Yes,42,No,Engineer,0.0,Low,2.0,Cat_6\\n466082,Female,Yes,89,Yes,Lawyer,1.0,Low,1.0,Cat_6\\n466083,Female,No,23,No,Marketing,4.0,Low,2.0,Cat_3\\n466084,Male,Yes,46,Yes,Homemaker,11.0,Low,1.0,Cat_3\\n466085,Male,No,22,No,,8.0,Low,4.0,Cat_4\\n466088,Female,No,30,No,Healthcare,0.0,Low,7.0,Cat_6\\n466090,Male,Yes,58,Yes,Entertainment,0.0,Low,,Cat_6\\n466092,Male,Yes,73,Yes,Artist,0.0,Average,4.0,Cat_6\\n466099,Female,Yes,71,Yes,Lawyer,0.0,Low,1.0,Cat_6\\n466103,Female,Yes,35,No,Engineer,0.0,Low,5.0,Cat_6\\n466109,Male,Yes,52,Yes,Entertainment,1.0,Average,4.0,Cat_6\\n466111,Male,Yes,84,Yes,Lawyer,0.0,Low,2.0,Cat_6\\n466114,Male,Yes,47,Yes,Entertainment,1.0,Average,5.0,Cat_6\\n466115,Male,Yes,39,No,Executive,0.0,Low,2.0,Cat_6\\n466118,Female,Yes,40,No,Engineer,0.0,Low,3.0,Cat_4\\n466124,Female,No,46,Yes,Artist,1.0,Low,1.0,Cat_6\\n466128,Male,No,40,Yes,Artist,3.0,Low,2.0,Cat_6\\n466130,Female,No,27,No,Artist,1.0,Low,6.0,Cat_6\\n466132,Female,No,23,No,Healthcare,4.0,Low,4.0,Cat_7\\n466136,Female,No,21,Yes,Artist,1.0,Low,2.0,Cat_6\\n466138,Male,Yes,70,No,Lawyer,2.0,High,2.0,Cat_6\\n466140,Male,Yes,28,Yes,Entertainment,1.0,Low,2.0,Cat_6\\n466141,Female,Yes,58,Yes,Homemaker,1.0,Low,4.0,Cat_6\\n466142,Female,Yes,27,Yes,Entertainment,0.0,Average,2.0,Cat_6\\n466143,Female,Yes,49,No,Engineer,0.0,Average,5.0,\\n466146,Female,Yes,37,No,Engineer,8.0,Average,3.0,Cat_6\\n466148,Male,Yes,39,No,Entertainment,1.0,Average,4.0,Cat_6\\n466149,Female,No,28,No,Doctor,2.0,Low,4.0,Cat_6\\n466153,Male,Yes,73,No,Entertainment,0.0,Average,2.0,Cat_6\\n466154,Female,Yes,51,Yes,Artist,1.0,Average,5.0,Cat_3\\n466156,Female,Yes,48,Yes,Doctor,8.0,Average,3.0,Cat_2\\n466157,Male,Yes,72,Yes,Homemaker,9.0,Low,,\\n466161,Male,Yes,47,No,Artist,1.0,Average,,Cat_6\\n466162,Female,Yes,67,Yes,Doctor,0.0,Low,1.0,Cat_4\\n466166,Male,Yes,77,Yes,Lawyer,0.0,High,2.0,Cat_4\\n466172,Male,Yes,46,Yes,Artist,3.0,Average,3.0,Cat_6\\n466178,Female,Yes,52,Yes,Artist,1.0,Average,4.0,Cat_6\\n466180,Male,Yes,67,No,Lawyer,1.0,Low,1.0,Cat_6\\n466185,Male,Yes,62,Yes,Doctor,0.0,Average,4.0,Cat_6\\n466200,Male,Yes,45,Yes,Doctor,8.0,Average,3.0,Cat_4\\n466201,Male,Yes,40,Yes,Doctor,1.0,Average,5.0,Cat_4\\n466206,Female,Yes,60,Yes,Artist,4.0,Average,2.0,Cat_3\\n466207,Female,Yes,37,Yes,Doctor,8.0,Average,4.0,Cat_2\\n466208,Male,Yes,69,No,Executive,2.0,High,1.0,Cat_6\\n466210,Female,Yes,58,Yes,Artist,1.0,High,4.0,Cat_6\\n466211,Male,Yes,52,Yes,Artist,1.0,Low,,Cat_6\\n466213,Male,No,20,No,Healthcare,2.0,Low,5.0,Cat_6\\n466218,Female,,23,No,Healthcare,6.0,Low,4.0,Cat_2\\n466223,Male,Yes,66,Yes,Artist,0.0,Low,1.0,Cat_4\\n466225,Male,No,19,No,Healthcare,1.0,Low,3.0,Cat_2\\n466226,Female,Yes,53,Yes,Artist,0.0,Average,5.0,Cat_6\\n466233,Female,Yes,59,Yes,Homemaker,6.0,Low,1.0,Cat_6\\n466235,Female,Yes,61,Yes,Artist,0.0,Average,4.0,Cat_4\\n466236,Female,Yes,68,Yes,Engineer,1.0,Low,2.0,Cat_4\\n466238,Male,No,20,No,Healthcare,1.0,Low,3.0,Cat_4\\n466246,Male,No,20,No,Healthcare,1.0,Low,4.0,Cat_2\\n466247,Female,,49,Yes,Artist,0.0,Low,4.0,Cat_2\\n466253,Male,No,19,No,Healthcare,1.0,Low,3.0,Cat_2\\n466257,Female,No,27,No,Healthcare,1.0,Low,4.0,Cat_6\\n466264,Male,Yes,32,Yes,,1.0,Low,2.0,Cat_3\\n466268,Female,Yes,67,Yes,Artist,0.0,Average,3.0,Cat_4\\n466271,Male,No,27,No,Entertainment,1.0,Low,3.0,Cat_2\\n466274,Male,Yes,72,Yes,Executive,0.0,Low,,Cat_6\\n466276,Female,No,32,No,Doctor,1.0,Low,5.0,Cat_4\\n466278,Female,No,28,No,,0.0,Low,2.0,Cat_3\\n466282,Male,Yes,29,Yes,Healthcare,8.0,Low,,Cat_6\\n466285,Female,No,19,No,Healthcare,1.0,Low,5.0,Cat_2\\n466286,Female,Yes,52,Yes,Artist,1.0,Average,5.0,Cat_2\\n466287,Female,Yes,47,Yes,Doctor,1.0,Average,2.0,Cat_2\\n466289,Male,No,19,No,Healthcare,3.0,Low,5.0,Cat_2\\n466290,Female,No,18,No,Healthcare,5.0,Low,,Cat_4\\n466292,Female,Yes,79,No,Lawyer,1.0,High,2.0,Cat_6\\n466297,Female,No,19,No,Healthcare,1.0,Low,4.0,Cat_4\\n466300,Female,Yes,48,Yes,Artist,0.0,Low,3.0,Cat_2\\n466301,Male,Yes,52,Yes,Artist,1.0,Average,3.0,Cat_2\\n466306,Male,No,23,No,Healthcare,1.0,Low,4.0,Cat_6\\n466313,Female,Yes,58,Yes,Artist,1.0,Low,1.0,Cat_4\\n466315,Female,Yes,69,Yes,Engineer,1.0,Low,1.0,Cat_6\\n466317,Male,Yes,37,Yes,Entertainment,4.0,Low,1.0,Cat_6\\n466318,Female,No,30,No,Healthcare,0.0,Low,3.0,Cat_6\\n466319,Female,,25,No,Healthcare,0.0,Low,4.0,Cat_6\\n466320,Female,No,39,Yes,Engineer,8.0,Low,2.0,Cat_4\\n466321,Male,Yes,43,Yes,Entertainment,3.0,Low,2.0,Cat_4\\n466324,Female,No,32,No,Engineer,0.0,Low,1.0,Cat_4\\n466326,Male,No,23,No,Healthcare,0.0,Low,5.0,Cat_3\\n466335,Female,No,30,No,Healthcare,1.0,Low,3.0,Cat_4\\n466337,Female,Yes,41,No,Engineer,1.0,Low,2.0,Cat_4\\n466341,Male,Yes,49,Yes,Artist,1.0,Average,2.0,Cat_5\\n466347,Male,Yes,66,No,Executive,6.0,Low,3.0,Cat_4\\n466352,Female,Yes,67,Yes,Doctor,1.0,Low,2.0,Cat_6\\n466355,Male,No,30,Yes,Healthcare,0.0,Low,2.0,Cat_6\\n466367,Female,No,39,Yes,Doctor,6.0,Low,1.0,Cat_2\\n466370,Female,,52,Yes,Artist,0.0,Low,4.0,Cat_2\\n466372,Female,Yes,57,Yes,Artist,0.0,Average,5.0,Cat_6\\n466373,Male,Yes,63,Yes,Executive,1.0,High,1.0,Cat_6\\n466376,Female,Yes,52,No,Homemaker,4.0,High,3.0,Cat_6\\n466377,Male,Yes,61,Yes,,8.0,Average,2.0,Cat_6\\n466380,Male,Yes,35,Yes,Entertainment,7.0,Low,2.0,Cat_6\\n466381,Male,Yes,52,Yes,Artist,4.0,Average,2.0,Cat_6\\n466382,Female,Yes,45,Yes,Engineer,2.0,High,2.0,Cat_4\\n466387,Male,Yes,37,Yes,Entertainment,8.0,Average,2.0,Cat_6\\n466389,Female,Yes,45,Yes,Engineer,1.0,Average,2.0,Cat_6\\n466391,Female,Yes,55,Yes,Engineer,0.0,Average,,Cat_6\\n466392,Female,Yes,49,Yes,Engineer,4.0,Average,,Cat_3\\n466393,Female,Yes,42,No,Entertainment,1.0,Low,6.0,Cat_3\\n466395,Female,Yes,39,Yes,Doctor,3.0,High,2.0,Cat_4\\n466397,Male,No,18,No,Healthcare,0.0,Low,3.0,Cat_3\\n466400,Male,Yes,43,No,Artist,1.0,Average,3.0,Cat_3\\n466401,Male,Yes,50,No,Executive,1.0,Average,4.0,Cat_6\\n466402,Male,Yes,37,Yes,Artist,1.0,Average,4.0,Cat_6\\n466404,Female,No,37,Yes,Engineer,1.0,Low,1.0,Cat_6\\n466406,Male,Yes,63,Yes,Entertainment,0.0,Low,3.0,Cat_6\\n466408,Male,Yes,83,Yes,Lawyer,1.0,Low,2.0,Cat_3\\n466411,Male,Yes,55,Yes,Artist,1.0,Average,3.0,Cat_3\\n466414,Male,Yes,71,Yes,Artist,1.0,Low,3.0,Cat_6\\n466418,Male,Yes,87,No,Lawyer,1.0,Low,1.0,Cat_4\\n466419,Female,Yes,49,Yes,Entertainment,2.0,Average,5.0,Cat_3\\n466422,Male,Yes,27,No,Doctor,0.0,Low,4.0,Cat_4\\n466427,Female,Yes,25,No,Marketing,1.0,Low,4.0,Cat_4\\n466429,Male,Yes,42,No,Healthcare,0.0,Low,2.0,Cat_3\\n466443,Female,Yes,66,Yes,Artist,4.0,Low,2.0,Cat_6\\n466450,Female,No,32,Yes,Healthcare,1.0,Low,1.0,Cat_6\\n466455,Female,Yes,32,Yes,Doctor,4.0,Low,2.0,Cat_6\\n466456,Female,Yes,37,No,Doctor,8.0,Low,1.0,Cat_2\\n466457,Female,Yes,62,,Lawyer,9.0,Low,5.0,Cat_6\\n466463,Female,No,33,Yes,Healthcare,3.0,Low,4.0,Cat_4\\n466464,Female,Yes,45,Yes,Homemaker,2.0,Average,2.0,Cat_3\\n466466,Female,,18,No,Healthcare,5.0,Low,5.0,Cat_3\\n466467,Female,Yes,37,Yes,Artist,0.0,Average,3.0,Cat_3\\n466468,Male,No,30,Yes,Doctor,4.0,Low,4.0,Cat_3\\n466474,Male,No,31,Yes,Entertainment,5.0,Low,3.0,Cat_6\\n466478,Female,Yes,48,Yes,Artist,0.0,Average,4.0,Cat_3\\n466483,Male,No,31,Yes,Healthcare,,Low,1.0,Cat_3\\n466486,Female,Yes,36,Yes,Doctor,8.0,Low,2.0,Cat_4\\n466488,Male,Yes,61,Yes,Entertainment,0.0,Average,6.0,Cat_6\\n466490,Female,Yes,83,No,Lawyer,0.0,High,2.0,Cat_6\\n466493,Male,Yes,77,No,Lawyer,1.0,High,2.0,Cat_6\\n466500,Female,Yes,46,Yes,Artist,3.0,High,3.0,Cat_4\\n466501,Male,Yes,48,Yes,Engineer,0.0,Average,3.0,Cat_3\\n466502,Male,No,19,No,Healthcare,0.0,Low,5.0,Cat_3\\n466516,Male,No,21,No,Healthcare,1.0,Low,3.0,Cat_6\\n466517,Female,No,40,No,Engineer,,Low,1.0,Cat_6\\n466526,Male,No,27,No,Healthcare,0.0,Low,5.0,Cat_2\\n466527,Female,Yes,49,No,Marketing,0.0,Low,1.0,Cat_5\\n466530,Male,No,19,No,Healthcare,1.0,Low,4.0,\\n466533,Female,No,53,Yes,Entertainment,1.0,Low,1.0,Cat_6\\n466535,Male,No,29,Yes,Artist,8.0,Low,1.0,Cat_6\\n466536,Male,No,23,No,Healthcare,3.0,Low,4.0,Cat_4\\n466538,Male,Yes,84,Yes,Lawyer,1.0,High,2.0,Cat_6\\n466541,Male,No,38,Yes,Entertainment,0.0,Low,4.0,Cat_6\\n466543,Male,No,26,Yes,Doctor,11.0,Low,2.0,Cat_7\\n466545,Female,No,19,No,Healthcare,1.0,Low,4.0,Cat_2\\n466550,Female,,22,No,Healthcare,1.0,Low,4.0,Cat_6\\n466552,Male,Yes,20,No,Entertainment,0.0,Low,2.0,Cat_6\\n466553,Male,Yes,36,Yes,Healthcare,0.0,Low,3.0,Cat_6\\n466556,Male,No,18,No,Healthcare,1.0,Low,3.0,Cat_6\\n466562,Female,No,20,No,Healthcare,7.0,Low,4.0,Cat_6\\n466564,Female,No,18,No,Marketing,1.0,Low,4.0,Cat_6\\n466565,Male,Yes,32,No,Artist,7.0,Average,2.0,Cat_6\\n466576,Female,No,18,No,Healthcare,0.0,Low,4.0,Cat_6\\n466586,Male,No,18,No,Healthcare,0.0,Low,2.0,Cat_6\\n466588,Female,No,21,No,Healthcare,8.0,Low,4.0,Cat_6\\n466596,Female,Yes,75,Yes,Artist,1.0,High,2.0,Cat_6\\n466603,Male,Yes,37,Yes,Engineer,0.0,Average,2.0,Cat_6\\n466606,Female,Yes,35,Yes,Engineer,1.0,Low,3.0,Cat_3\\n466613,Male,No,20,No,Healthcare,9.0,Low,3.0,Cat_6\\n466623,Male,Yes,58,,Entertainment,2.0,Average,4.0,Cat_3\\n466628,Male,No,33,No,Healthcare,8.0,Low,4.0,\\n466631,Male,Yes,58,Yes,Artist,0.0,Low,3.0,Cat_6\\n466634,Male,No,20,No,Healthcare,1.0,Low,5.0,Cat_6\\n466635,Male,Yes,50,Yes,Artist,4.0,Average,2.0,Cat_6\\n466644,Female,No,51,Yes,Homemaker,0.0,Low,,Cat_6\\n466650,Female,No,27,No,Healthcare,8.0,Low,3.0,Cat_4\\n466652,Female,Yes,58,Yes,Doctor,1.0,Average,2.0,Cat_6\\n466655,Male,Yes,62,No,Executive,1.0,Low,2.0,Cat_6\\n466656,Male,Yes,79,Yes,Marketing,0.0,High,2.0,Cat_6\\n466658,Female,No,19,No,Healthcare,1.0,Low,4.0,Cat_6\\n466662,Female,No,33,No,Engineer,0.0,Low,,Cat_4\\n466665,Male,Yes,36,Yes,Artist,1.0,Average,2.0,Cat_6\\n466666,Female,Yes,29,Yes,Healthcare,1.0,Low,2.0,Cat_6\\n466671,Female,,28,No,Healthcare,3.0,Low,3.0,Cat_2\\n466686,Female,No,22,No,Healthcare,0.0,Low,4.0,Cat_6\\n466687,Male,No,21,No,Healthcare,1.0,Low,3.0,Cat_6\\n466688,Male,No,22,No,Healthcare,0.0,Low,3.0,Cat_4\\n466689,Male,No,28,Yes,Artist,9.0,Low,3.0,Cat_6\\n466696,Female,Yes,48,Yes,Artist,3.0,Average,4.0,Cat_6\\n466704,Male,Yes,48,Yes,Doctor,3.0,Average,2.0,Cat_6\\n466705,Male,Yes,66,No,Lawyer,0.0,Low,3.0,Cat_6\\n466707,Female,Yes,47,Yes,Homemaker,1.0,Low,4.0,Cat_6\\n466713,Female,Yes,68,Yes,Artist,1.0,High,4.0,Cat_6\\n466718,Male,Yes,73,,Executive,0.0,High,2.0,Cat_6\\n466720,Female,Yes,59,No,Lawyer,0.0,Low,1.0,Cat_2\\n466721,Male,Yes,38,Yes,Doctor,7.0,Average,2.0,Cat_6\\n466725,Female,Yes,76,No,Lawyer,1.0,High,2.0,Cat_6\\n466731,Female,Yes,40,Yes,Engineer,3.0,Low,2.0,Cat_4\\n466732,Female,Yes,49,Yes,Engineer,0.0,High,2.0,Cat_4\\n466733,Female,No,33,No,Homemaker,0.0,Low,,Cat_4\\n466735,Male,No,18,No,Healthcare,1.0,Low,,Cat_6\\n466746,Female,Yes,69,Yes,Lawyer,0.0,High,2.0,Cat_6\\n466749,Male,No,22,,Healthcare,1.0,Low,5.0,Cat_3\\n466750,Female,No,18,,Healthcare,0.0,Low,3.0,Cat_3\\n466751,Female,No,20,,Healthcare,1.0,Low,4.0,Cat_6\\n466752,Male,Yes,36,Yes,Healthcare,1.0,Low,1.0,Cat_6\\n466753,Female,Yes,67,Yes,Artist,0.0,Average,2.0,Cat_3\\n466754,Female,Yes,37,Yes,Artist,1.0,Average,3.0,Cat_6\\n466759,Female,No,26,No,Healthcare,2.0,Low,,Cat_6\\n466760,Male,Yes,51,Yes,Doctor,1.0,Average,4.0,Cat_6\\n466765,Female,Yes,67,Yes,Lawyer,1.0,Low,2.0,Cat_6\\n466769,Female,No,29,Yes,Entertainment,1.0,Low,4.0,Cat_6\\n466775,Female,Yes,76,Yes,Lawyer,0.0,Low,2.0,Cat_6\\n466776,Male,Yes,86,Yes,Lawyer,0.0,Low,1.0,Cat_6\\n466777,Female,Yes,51,Yes,Homemaker,9.0,Average,2.0,Cat_6\\n466778,Male,Yes,35,Yes,Entertainment,1.0,Low,2.0,Cat_3\\n466788,Male,No,30,No,Doctor,3.0,Low,2.0,Cat_6\\n466790,Male,Yes,47,Yes,Doctor,0.0,Average,2.0,Cat_3\\n466791,Male,Yes,81,No,Lawyer,0.0,Low,1.0,Cat_6\\n466792,Female,Yes,85,No,Lawyer,0.0,Low,1.0,Cat_6\\n466795,Male,,60,Yes,Entertainment,,Average,5.0,Cat_6\\n466799,Female,No,21,No,Healthcare,2.0,Low,3.0,Cat_6\\n466802,Female,,40,Yes,Engineer,0.0,Low,1.0,Cat_6\\n466804,Female,,35,Yes,Homemaker,4.0,Low,1.0,Cat_3\\n466807,Female,,35,Yes,Healthcare,0.0,Low,1.0,Cat_4\\n466808,Female,No,41,No,Engineer,1.0,Low,1.0,Cat_6\\n466810,Male,No,18,No,Healthcare,0.0,Low,3.0,Cat_6\\n466811,Male,No,22,No,Healthcare,0.0,Low,,Cat_4\\n466813,Male,Yes,61,Yes,Artist,0.0,Low,,Cat_6\\n466814,Male,No,23,No,Healthcare,0.0,Low,3.0,Cat_6\\n466815,Male,No,31,No,Healthcare,1.0,Low,5.0,Cat_4\\n466816,Male,Yes,82,Yes,Lawyer,0.0,High,2.0,Cat_6\\n466818,Male,Yes,84,No,Executive,1.0,High,2.0,Cat_6\\n466826,Male,Yes,41,Yes,Entertainment,1.0,Low,2.0,Cat_6\\n466832,Female,Yes,66,Yes,Artist,0.0,Average,2.0,Cat_4\\n466833,Male,Yes,57,Yes,Artist,5.0,Low,2.0,Cat_6\\n466846,Male,No,20,No,Healthcare,3.0,Low,4.0,Cat_2\\n466863,Female,No,32,No,Homemaker,14.0,Low,1.0,Cat_6\\n466867,Female,No,29,No,Homemaker,11.0,Low,1.0,Cat_6\\n466871,Male,Yes,36,Yes,Executive,,High,4.0,Cat_6\\n466874,Male,Yes,38,Yes,Entertainment,1.0,Average,3.0,Cat_6\\n466884,Female,Yes,43,No,Doctor,1.0,Low,1.0,Cat_6\\n466886,Female,No,42,No,Marketing,1.0,Low,1.0,Cat_6\\n466891,Female,Yes,48,No,Homemaker,8.0,Low,1.0,Cat_6\\n466905,Male,Yes,62,Yes,Artist,0.0,Low,1.0,Cat_6\\n466906,Male,No,63,Yes,Artist,0.0,Low,2.0,Cat_6\\n466908,Male,Yes,60,Yes,Entertainment,1.0,Low,2.0,Cat_6\\n466909,Male,Yes,63,Yes,Artist,1.0,Low,2.0,Cat_6\\n466910,Male,Yes,62,Yes,Entertainment,9.0,Low,1.0,Cat_6\\n466917,Male,Yes,40,No,Executive,4.0,Low,,Cat_6\\n466918,Male,Yes,63,Yes,Artist,0.0,Average,1.0,Cat_6\\n466920,Male,No,19,No,Healthcare,6.0,Low,4.0,Cat_3\\n466923,Female,No,21,No,Homemaker,8.0,Low,1.0,Cat_6\\n466926,Male,No,21,No,Healthcare,1.0,Low,,Cat_6\\n466927,Male,No,22,No,Engineer,6.0,Low,5.0,Cat_2\\n466936,Male,Yes,60,No,Lawyer,1.0,High,3.0,Cat_6\\n466938,Male,Yes,59,Yes,Artist,8.0,Low,1.0,Cat_6\\n466939,Male,Yes,73,No,Lawyer,1.0,High,2.0,Cat_6\\n466951,Female,Yes,52,Yes,Artist,0.0,High,3.0,Cat_6\\n466954,Female,Yes,66,No,Doctor,9.0,Average,2.0,Cat_6\\n466955,Male,Yes,61,No,Entertainment,1.0,Low,4.0,Cat_3\\n466956,Female,Yes,61,Yes,Artist,1.0,Low,1.0,Cat_6\\n466961,Female,Yes,61,Yes,Artist,2.0,Average,2.0,Cat_6\\n466966,Male,Yes,59,Yes,Entertainment,1.0,Average,2.0,Cat_6\\n466967,Male,Yes,51,Yes,Artist,1.0,Low,1.0,Cat_6\\n466970,Female,Yes,36,Yes,Homemaker,9.0,Low,2.0,Cat_4\\n466971,Male,No,71,Yes,Executive,9.0,Low,3.0,Cat_6\\n466975,Male,Yes,48,Yes,Artist,1.0,Average,2.0,Cat_6\\n466990,Male,Yes,43,Yes,Entertainment,9.0,Average,2.0,Cat_6\\n466996,Female,No,36,Yes,Artist,9.0,Low,1.0,Cat_6\\n466998,Female,Yes,57,No,Artist,,Average,3.0,Cat_6\\n466999,Male,No,33,Yes,Healthcare,1.0,Low,3.0,Cat_6\\n467000,Female,No,31,Yes,Artist,1.0,Low,6.0,Cat_4\\n467008,Male,Yes,57,Yes,Artist,1.0,Average,3.0,Cat_6\\n467009,Female,No,33,No,Homemaker,2.0,Low,4.0,Cat_3\\n467022,Male,No,30,Yes,Artist,1.0,Low,5.0,Cat_6\\n467023,Male,Yes,26,No,Doctor,8.0,Average,2.0,Cat_6\\n467025,Female,No,29,No,Engineer,1.0,Low,3.0,Cat_6\\n467044,Female,No,42,Yes,Marketing,0.0,Low,1.0,Cat_7\\n467046,Female,No,30,No,Doctor,0.0,Low,5.0,Cat_3\\n467050,Female,No,18,No,Engineer,1.0,Low,5.0,Cat_2\\n467053,Male,No,18,No,Healthcare,5.0,Low,4.0,Cat_6\\n467058,Male,Yes,80,No,Executive,0.0,High,2.0,Cat_6\\n467060,Male,No,35,No,Engineer,7.0,Low,2.0,Cat_6\\n467063,Male,Yes,45,Yes,Entertainment,1.0,Average,2.0,Cat_6\\n467073,Male,No,42,Yes,Engineer,8.0,Low,1.0,Cat_6\\n467078,Female,Yes,26,No,Healthcare,,High,2.0,Cat_7\\n467079,Male,Yes,38,Yes,Artist,1.0,Low,2.0,Cat_6\\n467084,Male,Yes,41,Yes,Artist,1.0,Average,7.0,Cat_6\\n467085,Male,No,45,Yes,Entertainment,1.0,Low,2.0,Cat_6\\n467088,Male,Yes,57,Yes,Artist,1.0,Low,1.0,Cat_3\\n467092,Female,No,33,Yes,Healthcare,5.0,Low,4.0,Cat_6\\n467093,Female,Yes,51,Yes,Artist,8.0,Average,2.0,Cat_6\\n467098,Male,Yes,85,No,Executive,1.0,Low,2.0,Cat_6\\n467099,Female,No,30,No,Entertainment,0.0,Low,3.0,Cat_6\\n467107,Male,Yes,38,Yes,Engineer,1.0,Average,3.0,Cat_4\\n467111,Male,Yes,66,Yes,Artist,1.0,Low,1.0,Cat_6\\n467112,Male,No,40,Yes,Artist,0.0,Low,2.0,Cat_2\\n467113,Male,Yes,83,Yes,Lawyer,,Low,1.0,Cat_6\\n467114,Male,Yes,61,Yes,Marketing,1.0,Average,3.0,Cat_6\\n467116,Male,Yes,65,Yes,Executive,1.0,High,2.0,Cat_6\\n467119,Male,Yes,37,No,Marketing,0.0,High,4.0,Cat_7\\n467121,Male,Yes,47,Yes,Doctor,0.0,Low,,Cat_6\\n467125,Male,Yes,51,No,Entertainment,1.0,Average,4.0,Cat_3\\n467127,Male,Yes,73,No,Lawyer,,Low,1.0,Cat_6\\n467129,Female,,49,No,Marketing,1.0,Average,3.0,Cat_4\\n467132,Female,Yes,73,Yes,Engineer,0.0,Low,2.0,Cat_6\\n467136,Male,Yes,37,No,Entertainment,1.0,Average,4.0,Cat_4\\n467137,Female,Yes,55,Yes,Engineer,0.0,Low,1.0,Cat_6\\n467138,Female,No,32,No,Homemaker,12.0,Low,1.0,Cat_6\\n467139,Female,No,28,Yes,Artist,0.0,Low,3.0,Cat_6\\n467143,Female,No,50,No,Lawyer,0.0,Low,3.0,Cat_6\\n467144,Male,Yes,38,Yes,Entertainment,1.0,Low,2.0,Cat_6\\n467146,Female,No,28,No,Homemaker,8.0,Low,1.0,Cat_6\\n467147,Male,No,46,Yes,Entertainment,1.0,Low,1.0,Cat_6\\n467153,Female,Yes,47,Yes,Artist,0.0,Low,,Cat_6\\n467157,Male,Yes,39,Yes,Executive,8.0,High,6.0,Cat_7\\n467158,Female,No,26,No,Healthcare,1.0,Low,,Cat_6\\n467159,Female,Yes,37,Yes,Homemaker,9.0,High,2.0,Cat_6\\n467160,Male,Yes,43,No,,1.0,Average,2.0,Cat_3\\n467165,Female,No,27,No,Homemaker,,Low,1.0,Cat_6\\n467167,Male,Yes,69,Yes,Artist,1.0,Average,,Cat_3\\n467168,Male,Yes,47,Yes,Artist,9.0,Average,2.0,Cat_1\\n467172,Male,No,36,,Artist,9.0,Low,2.0,Cat_6\\n467180,Male,Yes,43,Yes,Healthcare,1.0,Low,3.0,Cat_3\\n467183,Male,Yes,42,Yes,Entertainment,3.0,Average,4.0,Cat_6\\n467185,Male,No,29,Yes,Artist,0.0,Low,3.0,Cat_6\\n467189,Female,Yes,45,Yes,Artist,1.0,High,4.0,Cat_6\\n467193,Male,Yes,88,Yes,Artist,1.0,Low,2.0,Cat_6\\n467201,Female,No,33,Yes,Engineer,,Low,5.0,Cat_7\\n467202,Male,Yes,18,No,Doctor,0.0,Low,4.0,Cat_6\\n467208,Female,Yes,41,Yes,Homemaker,,High,2.0,Cat_6\\n467212,Female,No,28,Yes,Doctor,1.0,Low,3.0,Cat_6\\n467216,Female,No,30,Yes,Entertainment,0.0,Low,1.0,Cat_6\\n467217,Female,Yes,79,Yes,Lawyer,,High,2.0,Cat_6\\n467218,Female,No,27,Yes,Artist,8.0,Low,1.0,Cat_6\\n467223,Female,Yes,53,Yes,Engineer,0.0,Average,4.0,Cat_6\\n467227,Female,No,43,Yes,Artist,14.0,Low,1.0,Cat_4\\n467230,Male,No,19,No,Healthcare,1.0,Low,4.0,Cat_6\\n467232,Male,No,26,No,Entertainment,1.0,Low,2.0,Cat_6\\n467233,Female,No,67,No,Artist,1.0,Low,2.0,Cat_6\\n467235,Female,No,32,Yes,Artist,1.0,Low,2.0,Cat_5\\n467238,Female,No,26,No,Doctor,7.0,Low,4.0,Cat_6\\n467239,Female,No,29,No,Engineer,0.0,Low,3.0,Cat_6\\n467241,Female,No,33,Yes,Artist,9.0,Low,1.0,Cat_6\\n467242,Male,No,22,No,Doctor,0.0,Low,3.0,Cat_6\\n467247,Female,No,27,No,Engineer,0.0,Low,2.0,Cat_6\\n467256,Male,No,30,No,Healthcare,1.0,Low,4.0,Cat_2\\n467260,Male,No,25,No,Doctor,8.0,Low,4.0,Cat_6\\n467263,Female,No,32,No,Marketing,,Low,1.0,Cat_4\\n467268,Male,Yes,85,Yes,Lawyer,,Low,1.0,Cat_6\\n467275,Male,No,29,Yes,Healthcare,,Low,,Cat_6\\n467281,Male,Yes,56,Yes,Lawyer,0.0,Low,4.0,Cat_6\\n467283,Male,Yes,52,Yes,Artist,0.0,Average,3.0,Cat_2\\n467288,Female,No,25,No,Healthcare,,Low,5.0,Cat_6\\n467296,Female,Yes,65,Yes,Artist,,Average,2.0,Cat_3\\n467300,Female,Yes,49,Yes,Artist,1.0,Low,1.0,Cat_6\\n467301,Female,Yes,73,No,Lawyer,1.0,Low,2.0,Cat_6\\n467303,Male,Yes,36,Yes,Doctor,2.0,Average,2.0,Cat_6\\n467309,Female,No,36,Yes,Engineer,4.0,Low,1.0,Cat_7\\n467311,Male,Yes,71,Yes,Lawyer,1.0,High,3.0,Cat_6\\n467312,Female,Yes,55,Yes,Artist,0.0,Low,2.0,Cat_6\\n467313,Male,Yes,35,Yes,Entertainment,1.0,Average,2.0,Cat_6\\n467314,Male,Yes,41,No,Artist,0.0,Average,2.0,Cat_6\\n467317,Male,No,42,Yes,Artist,1.0,Low,1.0,Cat_2\\n467318,Male,Yes,35,Yes,Doctor,,Low,2.0,Cat_6\\n467322,Female,Yes,48,Yes,Artist,1.0,Average,2.0,Cat_1\\n467325,Female,Yes,73,Yes,Lawyer,1.0,High,2.0,Cat_6\\n467329,Female,No,40,Yes,Doctor,1.0,Low,1.0,Cat_6\\n467338,Female,No,29,Yes,Healthcare,3.0,Low,6.0,Cat_6\\n467339,Male,,62,Yes,Artist,1.0,Average,3.0,Cat_6\\n467344,Male,Yes,89,Yes,Lawyer,0.0,Low,2.0,Cat_6\\n467345,Male,Yes,86,Yes,Lawyer,0.0,Low,1.0,Cat_6\\n467346,Male,Yes,38,Yes,Artist,0.0,Average,3.0,Cat_6\\n467352,Male,Yes,45,Yes,Executive,0.0,High,4.0,Cat_6\\n467355,Male,No,26,No,Healthcare,0.0,Low,4.0,Cat_6\\n467357,Male,Yes,55,Yes,,1.0,Low,2.0,Cat_6\\n467358,Female,Yes,52,Yes,Artist,1.0,Average,5.0,Cat_6\\n467359,Male,Yes,43,Yes,Artist,5.0,Average,2.0,Cat_6\\n467365,Male,No,35,Yes,Artist,1.0,Low,1.0,Cat_6\\n467367,Male,Yes,73,Yes,Lawyer,1.0,Low,2.0,Cat_6\\n467369,Male,No,41,Yes,Artist,4.0,Low,3.0,Cat_6\\n467373,Male,No,27,Yes,Healthcare,,Low,1.0,Cat_6\\n467375,Male,Yes,35,Yes,Entertainment,6.0,Low,3.0,Cat_6\\n467378,Female,Yes,63,Yes,Artist,0.0,Average,2.0,Cat_6\\n467384,Male,No,41,Yes,,,Low,1.0,Cat_6\\n467385,Male,No,53,No,Artist,1.0,Low,,Cat_4\\n467389,Male,No,42,No,Engineer,0.0,Low,,Cat_6\\n467393,Female,Yes,46,Yes,Artist,0.0,Average,4.0,Cat_6\\n467398,Male,Yes,38,No,Entertainment,0.0,Low,2.0,Cat_6\\n467399,Male,Yes,25,Yes,Doctor,1.0,Low,3.0,Cat_6\\n467403,Female,Yes,40,Yes,Artist,7.0,Average,3.0,Cat_4\\n467410,Female,Yes,55,Yes,Lawyer,1.0,Low,2.0,Cat_6\\n467415,Female,No,29,Yes,Healthcare,0.0,Low,1.0,Cat_6\\n467419,Female,Yes,39,Yes,Artist,2.0,Low,1.0,Cat_6\\n467421,Male,Yes,50,No,Doctor,1.0,Average,3.0,Cat_6\\n467422,Female,Yes,61,Yes,Artist,1.0,Average,2.0,Cat_6\\n467423,Male,Yes,56,Yes,Artist,0.0,Low,1.0,Cat_6\\n467434,Male,No,40,Yes,Entertainment,1.0,Low,3.0,Cat_1\\n467437,Female,Yes,86,Yes,Lawyer,0.0,High,2.0,Cat_6\\n467438,Male,No,27,No,Entertainment,5.0,Low,3.0,Cat_6\\n467441,Male,No,35,Yes,Artist,,Low,1.0,Cat_6\\n467442,Male,Yes,56,Yes,Artist,,Average,2.0,Cat_6\\n467444,Female,Yes,36,Yes,Artist,,Low,2.0,Cat_6\\n467445,Male,Yes,32,No,Doctor,9.0,Low,2.0,Cat_2\\n467449,Female,Yes,85,Yes,Lawyer,1.0,Low,2.0,Cat_6\\n467451,Female,Yes,51,Yes,Artist,0.0,Low,1.0,Cat_1\\n467455,Female,No,41,Yes,Artist,8.0,Low,2.0,Cat_6\\n467456,Male,Yes,42,No,Executive,5.0,High,4.0,Cat_6\\n467457,Female,No,30,Yes,Marketing,0.0,Low,6.0,Cat_6\\n467459,Male,Yes,42,Yes,Executive,,High,5.0,Cat_6\\n467463,Female,Yes,42,Yes,Artist,9.0,Average,3.0,Cat_6\\n467468,Female,No,25,No,Healthcare,,Low,5.0,Cat_7\\n467472,Male,Yes,60,Yes,Executive,4.0,High,4.0,Cat_6\\n467474,Male,No,18,No,Healthcare,2.0,Low,5.0,Cat_6\\n467479,Male,Yes,36,Yes,Executive,0.0,Average,4.0,Cat_6\\n467481,Male,Yes,49,Yes,Artist,0.0,Average,2.0,Cat_6\\n467482,Male,Yes,42,Yes,Executive,1.0,High,3.0,Cat_6\\n467487,Male,Yes,42,No,Artist,1.0,Average,5.0,Cat_4\\n467488,Female,Yes,39,Yes,Entertainment,,Average,2.0,Cat_2\\n467492,Female,Yes,62,Yes,Doctor,1.0,Low,2.0,Cat_7\\n467493,Male,Yes,47,Yes,Executive,0.0,High,4.0,\\n467499,Male,Yes,39,Yes,Artist,,Low,3.0,Cat_6\\n467500,Female,Yes,25,Yes,Artist,3.0,High,2.0,Cat_6\\n467503,Female,No,27,Yes,Artist,1.0,Low,4.0,Cat_6\\n467504,Female,,31,No,Doctor,0.0,Low,4.0,Cat_6\\n467505,Male,Yes,36,Yes,Artist,0.0,Low,4.0,Cat_6\\n467510,Male,Yes,51,Yes,Entertainment,3.0,Low,3.0,Cat_6\\n467511,Male,Yes,63,Yes,Entertainment,,Low,1.0,Cat_6\\n467514,Male,No,40,Yes,Artist,,Low,4.0,Cat_6\\n467518,Male,No,22,No,Doctor,1.0,Low,,Cat_6\\n467532,Male,Yes,52,Yes,Artist,9.0,Low,1.0,Cat_6\\n467533,Male,Yes,89,Yes,Lawyer,4.0,Low,1.0,Cat_6\\n467537,Female,Yes,65,No,Lawyer,,High,3.0,Cat_6\\n467539,Male,Yes,48,Yes,Artist,,Average,4.0,Cat_7\\n467540,Male,Yes,48,Yes,Healthcare,1.0,Average,4.0,Cat_6\\n467542,Male,No,31,Yes,Healthcare,8.0,Low,1.0,Cat_6\\n467557,Female,Yes,62,Yes,Artist,,Average,2.0,Cat_6\\n467559,Male,Yes,58,Yes,Executive,0.0,Average,4.0,Cat_6\\n467565,Male,Yes,60,Yes,Artist,0.0,Low,3.0,Cat_6\\n467569,Male,No,19,No,Healthcare,,Low,4.0,Cat_6\\n467570,Male,No,18,No,Healthcare,14.0,Low,,Cat_6\\n467576,Male,Yes,48,Yes,Doctor,1.0,Average,3.0,Cat_6\\n467579,Male,No,35,Yes,Doctor,5.0,Low,1.0,Cat_6\\n467580,Male,No,27,Yes,Doctor,,Low,3.0,Cat_6\\n467588,Male,Yes,60,Yes,Artist,0.0,Average,4.0,Cat_6\\n467589,Male,No,32,No,Entertainment,0.0,Low,1.0,Cat_6\\n467592,Male,Yes,40,Yes,Entertainment,7.0,Low,2.0,Cat_6\\n467595,Female,No,25,Yes,Healthcare,0.0,Low,1.0,Cat_6\\n467596,Male,Yes,42,No,Artist,1.0,Low,5.0,Cat_3\\n467604,Male,No,26,No,Healthcare,8.0,Low,8.0,Cat_4\\n467608,Male,No,27,Yes,Engineer,6.0,Low,1.0,Cat_6\\n467609,Male,No,42,No,Artist,2.0,Low,4.0,Cat_6\\n467610,Female,Yes,77,Yes,Lawyer,4.0,Low,1.0,Cat_6\\n467612,Male,Yes,70,Yes,Executive,0.0,Low,,Cat_7\\n467614,Male,Yes,36,No,Artist,4.0,Average,2.0,Cat_6\\n467620,Male,Yes,57,Yes,Lawyer,6.0,Low,3.0,Cat_6\\n467621,Male,Yes,76,Yes,Lawyer,1.0,Low,1.0,Cat_6\\n467623,Male,Yes,77,Yes,,0.0,High,2.0,Cat_6\\n467629,Male,Yes,52,Yes,Artist,1.0,Low,1.0,Cat_6\\n467635,Female,No,35,Yes,Artist,9.0,Low,1.0,Cat_6\\n467641,Male,Yes,43,Yes,Doctor,9.0,Average,2.0,Cat_6\\n467643,Male,No,43,Yes,Artist,14.0,Low,1.0,Cat_3\\n467654,Female,Yes,62,Yes,Artist,,High,4.0,Cat_6\\n467657,Male,No,21,No,Healthcare,0.0,Low,4.0,Cat_3\\n467658,Male,No,23,No,Healthcare,0.0,Low,4.0,Cat_3\\n467659,Male,Yes,65,Yes,Entertainment,0.0,Average,2.0,Cat_6\\n467664,Male,Yes,35,Yes,Executive,4.0,High,4.0,Cat_6\\n467666,Male,Yes,48,Yes,Executive,4.0,High,3.0,Cat_6\\n467667,Male,Yes,33,No,Doctor,9.0,Low,2.0,Cat_6\\n467669,Male,Yes,82,No,Lawyer,1.0,High,2.0,Cat_6\\n467673,Male,Yes,45,No,Executive,1.0,High,4.0,Cat_6\\n467678,Male,No,56,No,Marketing,1.0,Low,2.0,Cat_6\\n467679,Female,Yes,49,Yes,Artist,,Average,4.0,Cat_2\\n467683,Male,Yes,30,Yes,Healthcare,8.0,High,3.0,Cat_2\\n467684,Male,No,37,Yes,Healthcare,8.0,Low,3.0,Cat_2\\n467685,Male,Yes,51,No,Marketing,0.0,High,6.0,Cat_4\\n467693,Male,Yes,59,Yes,Entertainment,5.0,High,5.0,Cat_6\\n467694,Male,Yes,56,Yes,Executive,0.0,High,2.0,Cat_6\\n467699,Female,Yes,29,Yes,Doctor,0.0,Average,2.0,Cat_4\\n467705,Male,Yes,31,Yes,Artist,,Low,2.0,Cat_6\\n467706,Female,Yes,35,Yes,Artist,,Average,4.0,Cat_6\\n467707,Male,Yes,89,Yes,Lawyer,7.0,High,2.0,Cat_6\\n467710,Female,No,38,Yes,Artist,9.0,Low,4.0,Cat_6\\n467715,Male,Yes,45,Yes,Executive,4.0,High,3.0,Cat_6\\n467721,Male,No,37,Yes,Entertainment,0.0,Low,1.0,Cat_4\\n467723,Male,Yes,74,No,Executive,1.0,Low,7.0,Cat_6\\n467726,Male,Yes,82,Yes,Lawyer,0.0,High,2.0,Cat_6\\n467727,Male,Yes,53,Yes,Artist,7.0,High,4.0,Cat_3\\n467728,Female,Yes,43,No,Engineer,0.0,High,5.0,Cat_6\\n467729,Male,Yes,62,Yes,Entertainment,2.0,Average,6.0,Cat_6\\n467733,Male,Yes,56,No,Executive,8.0,High,3.0,Cat_6\\n467734,Male,Yes,88,Yes,Lawyer,3.0,High,2.0,Cat_6\\n467735,Male,No,28,Yes,Doctor,0.0,Low,2.0,Cat_6\\n467737,Female,Yes,51,Yes,Entertainment,5.0,Average,2.0,Cat_6\\n467739,Female,Yes,60,No,Artist,0.0,Average,4.0,Cat_6\\n467740,Male,No,19,No,Healthcare,0.0,Low,3.0,Cat_6\\n467741,Male,No,23,No,Healthcare,1.0,Low,3.0,Cat_4\\n467749,Male,No,20,No,Healthcare,0.0,Low,9.0,Cat_7\\n467763,Female,No,50,Yes,Artist,1.0,Low,1.0,Cat_2\\n467767,Female,No,21,No,Marketing,4.0,Low,4.0,Cat_6\\n467768,Male,Yes,62,Yes,Doctor,0.0,Average,2.0,Cat_6\\n467769,Female,No,36,Yes,Doctor,1.0,Low,1.0,Cat_3\\n467772,Female,No,31,No,Marketing,0.0,Low,2.0,Cat_6\\n467779,Male,Yes,52,Yes,Doctor,4.0,Average,3.0,Cat_6\\n467789,Male,No,20,No,Healthcare,1.0,Low,5.0,Cat_6\\n467798,Female,No,23,No,,,Low,2.0,Cat_6\\n467802,Female,Yes,48,Yes,Artist,1.0,High,5.0,Cat_6\\n467803,Female,Yes,40,Yes,Entertainment,6.0,Average,2.0,Cat_6\\n467806,Male,Yes,55,Yes,Artist,1.0,High,2.0,Cat_6\\n467808,Female,Yes,62,Yes,Artist,1.0,Average,2.0,Cat_6\\n467812,Male,No,48,Yes,Artist,0.0,Low,1.0,Cat_2\\n467813,Male,Yes,36,Yes,Entertainment,1.0,Low,2.0,Cat_4\\n467815,Female,Yes,73,Yes,Artist,0.0,Low,2.0,Cat_6\\n467825,Female,No,23,No,Marketing,0.0,Low,8.0,Cat_6\\n467828,Female,Yes,25,Yes,Artist,0.0,Average,2.0,Cat_2\\n467838,Male,Yes,60,Yes,Artist,0.0,Average,2.0,Cat_6\\n467848,Male,No,37,Yes,Artist,14.0,Low,1.0,Cat_6\\n467849,Female,Yes,39,Yes,Doctor,0.0,Low,1.0,Cat_2\\n467852,Female,No,39,Yes,Artist,12.0,Low,1.0,Cat_6\\n467856,Male,Yes,58,Yes,Artist,0.0,Low,2.0,Cat_6\\n467860,Female,No,33,Yes,Entertainment,0.0,Low,1.0,Cat_7\\n467861,Female,No,29,No,Artist,,Low,4.0,Cat_4\\n467864,Female,Yes,66,Yes,Lawyer,1.0,High,2.0,Cat_6\\n467865,Female,No,40,Yes,Artist,2.0,Low,1.0,Cat_4\\n467868,Female,Yes,66,Yes,Entertainment,0.0,High,2.0,Cat_6\\n467876,Female,Yes,50,Yes,Artist,9.0,High,2.0,Cat_6\\n467879,Female,Yes,51,Yes,Artist,,High,4.0,Cat_6\\n467880,Female,Yes,50,Yes,Artist,0.0,Average,2.0,Cat_6\\n467882,Female,No,39,Yes,Artist,1.0,Low,1.0,Cat_6\\n467883,Female,Yes,46,Yes,Artist,0.0,Average,2.0,Cat_6\\n467888,Male,No,29,No,Doctor,0.0,Low,4.0,Cat_6\\n467891,Female,No,29,Yes,Doctor,0.0,Low,5.0,Cat_6\\n467892,Male,No,23,No,Doctor,1.0,Low,5.0,Cat_6\\n467894,Male,Yes,57,Yes,Artist,1.0,Average,2.0,Cat_6\\n467895,Female,No,31,Yes,Healthcare,1.0,Low,4.0,Cat_6\\n467898,Female,Yes,69,Yes,Artist,1.0,Low,1.0,Cat_6\\n467901,Female,No,28,Yes,Entertainment,0.0,Low,4.0,Cat_6\\n467904,Female,No,31,Yes,Artist,14.0,Low,1.0,Cat_6\\n467905,Male,Yes,37,Yes,Executive,0.0,High,3.0,Cat_6\\n467911,Male,Yes,58,Yes,Healthcare,0.0,Low,4.0,Cat_6\\n467913,Male,Yes,48,Yes,Artist,3.0,Low,1.0,Cat_6\\n467915,Female,No,18,No,Doctor,1.0,Low,4.0,Cat_6\\n467917,Female,No,27,Yes,Healthcare,2.0,Low,4.0,Cat_1\\n467927,Male,No,30,Yes,Doctor,8.0,Low,6.0,Cat_2\\n467929,Female,Yes,36,Yes,Artist,1.0,Average,2.0,Cat_6\\n467930,Male,Yes,45,Yes,Entertainment,4.0,Average,2.0,Cat_6\\n467932,Female,No,26,No,Healthcare,1.0,Low,4.0,Cat_6\\n467933,Female,No,23,No,Healthcare,0.0,Low,3.0,Cat_6\\n467934,Female,No,42,Yes,Artist,0.0,Low,1.0,Cat_6\\n467938,Male,Yes,46,Yes,Entertainment,5.0,Low,1.0,Cat_2\\n467940,Female,No,27,No,Marketing,8.0,Low,4.0,Cat_2\\n467946,Female,Yes,42,Yes,Artist,0.0,Low,2.0,Cat_6\\n467948,Female,No,19,No,Healthcare,0.0,Low,3.0,Cat_6\\n467949,Male,No,21,No,Healthcare,1.0,Low,4.0,Cat_4\\n467950,Female,No,35,Yes,Entertainment,1.0,Low,2.0,Cat_6\\n467954,Male,No,29,No,Healthcare,9.0,Low,4.0,Cat_6\\n467958,Female,No,35,Yes,Doctor,1.0,Low,1.0,Cat_6\\n467960,Female,No,53,Yes,Entertainment,,Low,2.0,Cat_6\\n467961,Male,Yes,47,Yes,Executive,1.0,High,5.0,Cat_4\\n467968,Female,No,43,Yes,Healthcare,9.0,Low,3.0,Cat_7\\n'}"
            ]
          },
          "metadata": {
            "tags": []
          },
          "execution_count": 5
        }
      ]
    },
    {
      "cell_type": "code",
      "metadata": {
        "id": "b5U8uOal_g_N",
        "colab_type": "code",
        "colab": {}
      },
      "source": [
        "dftrain=pd.read_csv('Train_aBjfeNk.csv')\n",
        "dftest=pd.read_csv('Test_LqhgPWU.csv')"
      ],
      "execution_count": 26,
      "outputs": []
    },
    {
      "cell_type": "code",
      "metadata": {
        "id": "QaEk8tmPArKN",
        "colab_type": "code",
        "colab": {
          "base_uri": "https://localhost:8080/",
          "height": 34
        },
        "outputId": "99939889-5e67-416b-ee18-a273ec6a2bfd"
      },
      "source": [
        "dftrain.shape"
      ],
      "execution_count": 27,
      "outputs": [
        {
          "output_type": "execute_result",
          "data": {
            "text/plain": [
              "(8068, 11)"
            ]
          },
          "metadata": {
            "tags": []
          },
          "execution_count": 27
        }
      ]
    },
    {
      "cell_type": "code",
      "metadata": {
        "id": "sPSAG30t_2h4",
        "colab_type": "code",
        "colab": {
          "base_uri": "https://localhost:8080/",
          "height": 204
        },
        "outputId": "f816de84-71b1-454e-d398-e229152298cb"
      },
      "source": [
        "dftrain.head(5)"
      ],
      "execution_count": 40,
      "outputs": [
        {
          "output_type": "execute_result",
          "data": {
            "text/html": [
              "<div>\n",
              "<style scoped>\n",
              "    .dataframe tbody tr th:only-of-type {\n",
              "        vertical-align: middle;\n",
              "    }\n",
              "\n",
              "    .dataframe tbody tr th {\n",
              "        vertical-align: top;\n",
              "    }\n",
              "\n",
              "    .dataframe thead th {\n",
              "        text-align: right;\n",
              "    }\n",
              "</style>\n",
              "<table border=\"1\" class=\"dataframe\">\n",
              "  <thead>\n",
              "    <tr style=\"text-align: right;\">\n",
              "      <th></th>\n",
              "      <th>ID</th>\n",
              "      <th>Gender</th>\n",
              "      <th>Ever_Married</th>\n",
              "      <th>Age</th>\n",
              "      <th>Graduated</th>\n",
              "      <th>Profession</th>\n",
              "      <th>Work_Experience</th>\n",
              "      <th>Spending_Score</th>\n",
              "      <th>Family_Size</th>\n",
              "      <th>Var_1</th>\n",
              "      <th>Segmentation</th>\n",
              "    </tr>\n",
              "  </thead>\n",
              "  <tbody>\n",
              "    <tr>\n",
              "      <th>0</th>\n",
              "      <td>462809</td>\n",
              "      <td>Male</td>\n",
              "      <td>No</td>\n",
              "      <td>22</td>\n",
              "      <td>No</td>\n",
              "      <td>Healthcare</td>\n",
              "      <td>1.0</td>\n",
              "      <td>Low</td>\n",
              "      <td>4.0</td>\n",
              "      <td>Cat_4</td>\n",
              "      <td>D</td>\n",
              "    </tr>\n",
              "    <tr>\n",
              "      <th>1</th>\n",
              "      <td>462643</td>\n",
              "      <td>Female</td>\n",
              "      <td>Yes</td>\n",
              "      <td>38</td>\n",
              "      <td>Yes</td>\n",
              "      <td>Engineer</td>\n",
              "      <td>15.0</td>\n",
              "      <td>Average</td>\n",
              "      <td>3.0</td>\n",
              "      <td>Cat_4</td>\n",
              "      <td>A</td>\n",
              "    </tr>\n",
              "    <tr>\n",
              "      <th>2</th>\n",
              "      <td>466315</td>\n",
              "      <td>Female</td>\n",
              "      <td>Yes</td>\n",
              "      <td>67</td>\n",
              "      <td>Yes</td>\n",
              "      <td>Engineer</td>\n",
              "      <td>1.0</td>\n",
              "      <td>Low</td>\n",
              "      <td>1.0</td>\n",
              "      <td>Cat_6</td>\n",
              "      <td>B</td>\n",
              "    </tr>\n",
              "    <tr>\n",
              "      <th>3</th>\n",
              "      <td>461735</td>\n",
              "      <td>Male</td>\n",
              "      <td>Yes</td>\n",
              "      <td>67</td>\n",
              "      <td>Yes</td>\n",
              "      <td>Lawyer</td>\n",
              "      <td>0.0</td>\n",
              "      <td>High</td>\n",
              "      <td>2.0</td>\n",
              "      <td>Cat_6</td>\n",
              "      <td>B</td>\n",
              "    </tr>\n",
              "    <tr>\n",
              "      <th>4</th>\n",
              "      <td>462669</td>\n",
              "      <td>Female</td>\n",
              "      <td>Yes</td>\n",
              "      <td>40</td>\n",
              "      <td>Yes</td>\n",
              "      <td>Entertainment</td>\n",
              "      <td>15.0</td>\n",
              "      <td>High</td>\n",
              "      <td>6.0</td>\n",
              "      <td>Cat_6</td>\n",
              "      <td>A</td>\n",
              "    </tr>\n",
              "  </tbody>\n",
              "</table>\n",
              "</div>"
            ],
            "text/plain": [
              "       ID  Gender Ever_Married  Age Graduated     Profession  Work_Experience  \\\n",
              "0  462809    Male           No   22        No     Healthcare              1.0   \n",
              "1  462643  Female          Yes   38       Yes       Engineer             15.0   \n",
              "2  466315  Female          Yes   67       Yes       Engineer              1.0   \n",
              "3  461735    Male          Yes   67       Yes         Lawyer              0.0   \n",
              "4  462669  Female          Yes   40       Yes  Entertainment             15.0   \n",
              "\n",
              "  Spending_Score  Family_Size  Var_1 Segmentation  \n",
              "0            Low          4.0  Cat_4            D  \n",
              "1        Average          3.0  Cat_4            A  \n",
              "2            Low          1.0  Cat_6            B  \n",
              "3           High          2.0  Cat_6            B  \n",
              "4           High          6.0  Cat_6            A  "
            ]
          },
          "metadata": {
            "tags": []
          },
          "execution_count": 40
        }
      ]
    },
    {
      "cell_type": "code",
      "metadata": {
        "id": "dBABOq9uMzDW",
        "colab_type": "code",
        "colab": {
          "base_uri": "https://localhost:8080/",
          "height": 294
        },
        "outputId": "3b7dbb63-f655-4447-8df4-4f19b8326126"
      },
      "source": [
        "dftrain.groupby('Segmentation').size().plot(kind='bar')"
      ],
      "execution_count": 42,
      "outputs": [
        {
          "output_type": "execute_result",
          "data": {
            "text/plain": [
              "<matplotlib.axes._subplots.AxesSubplot at 0x7fc094d36208>"
            ]
          },
          "metadata": {
            "tags": []
          },
          "execution_count": 42
        },
        {
          "output_type": "display_data",
          "data": {
            "image/png": "[encoded data removed]",
            "text/plain": [
              "<Figure size 432x288 with 1 Axes>"
            ]
          },
          "metadata": {
            "tags": [],
            "needs_background": "light"
          }
        }
      ]
    },
    {
      "cell_type": "code",
      "metadata": {
        "id": "rIvUCMwCAg7f",
        "colab_type": "code",
        "colab": {
          "base_uri": "https://localhost:8080/",
          "height": 204
        },
        "outputId": "f00cca16-29a9-4b7a-ea7f-03b3190dc578"
      },
      "source": [
        "dftest.head(5)"
      ],
      "execution_count": 39,
      "outputs": [
        {
          "output_type": "execute_result",
          "data": {
            "text/html": [
              "<div>\n",
              "<style scoped>\n",
              "    .dataframe tbody tr th:only-of-type {\n",
              "        vertical-align: middle;\n",
              "    }\n",
              "\n",
              "    .dataframe tbody tr th {\n",
              "        vertical-align: top;\n",
              "    }\n",
              "\n",
              "    .dataframe thead th {\n",
              "        text-align: right;\n",
              "    }\n",
              "</style>\n",
              "<table border=\"1\" class=\"dataframe\">\n",
              "  <thead>\n",
              "    <tr style=\"text-align: right;\">\n",
              "      <th></th>\n",
              "      <th>ID</th>\n",
              "      <th>Gender</th>\n",
              "      <th>Ever_Married</th>\n",
              "      <th>Age</th>\n",
              "      <th>Graduated</th>\n",
              "      <th>Profession</th>\n",
              "      <th>Work_Experience</th>\n",
              "      <th>Spending_Score</th>\n",
              "      <th>Family_Size</th>\n",
              "      <th>Var_1</th>\n",
              "    </tr>\n",
              "  </thead>\n",
              "  <tbody>\n",
              "    <tr>\n",
              "      <th>0</th>\n",
              "      <td>458989</td>\n",
              "      <td>Female</td>\n",
              "      <td>Yes</td>\n",
              "      <td>36</td>\n",
              "      <td>Yes</td>\n",
              "      <td>Engineer</td>\n",
              "      <td>0.0</td>\n",
              "      <td>Low</td>\n",
              "      <td>1.0</td>\n",
              "      <td>Cat_6</td>\n",
              "    </tr>\n",
              "    <tr>\n",
              "      <th>1</th>\n",
              "      <td>458994</td>\n",
              "      <td>Male</td>\n",
              "      <td>Yes</td>\n",
              "      <td>37</td>\n",
              "      <td>Yes</td>\n",
              "      <td>Healthcare</td>\n",
              "      <td>8.0</td>\n",
              "      <td>Average</td>\n",
              "      <td>4.0</td>\n",
              "      <td>Cat_6</td>\n",
              "    </tr>\n",
              "    <tr>\n",
              "      <th>2</th>\n",
              "      <td>458996</td>\n",
              "      <td>Female</td>\n",
              "      <td>Yes</td>\n",
              "      <td>69</td>\n",
              "      <td>No</td>\n",
              "      <td>missing values</td>\n",
              "      <td>0.0</td>\n",
              "      <td>Low</td>\n",
              "      <td>1.0</td>\n",
              "      <td>Cat_6</td>\n",
              "    </tr>\n",
              "    <tr>\n",
              "      <th>3</th>\n",
              "      <td>459000</td>\n",
              "      <td>Male</td>\n",
              "      <td>Yes</td>\n",
              "      <td>59</td>\n",
              "      <td>No</td>\n",
              "      <td>Executive</td>\n",
              "      <td>11.0</td>\n",
              "      <td>High</td>\n",
              "      <td>2.0</td>\n",
              "      <td>Cat_6</td>\n",
              "    </tr>\n",
              "    <tr>\n",
              "      <th>4</th>\n",
              "      <td>459001</td>\n",
              "      <td>Female</td>\n",
              "      <td>No</td>\n",
              "      <td>19</td>\n",
              "      <td>No</td>\n",
              "      <td>Marketing</td>\n",
              "      <td>15.0</td>\n",
              "      <td>Low</td>\n",
              "      <td>4.0</td>\n",
              "      <td>Cat_6</td>\n",
              "    </tr>\n",
              "  </tbody>\n",
              "</table>\n",
              "</div>"
            ],
            "text/plain": [
              "       ID  Gender Ever_Married  Age Graduated      Profession  \\\n",
              "0  458989  Female          Yes   36       Yes        Engineer   \n",
              "1  458994    Male          Yes   37       Yes      Healthcare   \n",
              "2  458996  Female          Yes   69        No  missing values   \n",
              "3  459000    Male          Yes   59        No       Executive   \n",
              "4  459001  Female           No   19        No       Marketing   \n",
              "\n",
              "   Work_Experience Spending_Score  Family_Size  Var_1  \n",
              "0              0.0            Low          1.0  Cat_6  \n",
              "1              8.0        Average          4.0  Cat_6  \n",
              "2              0.0            Low          1.0  Cat_6  \n",
              "3             11.0           High          2.0  Cat_6  \n",
              "4             15.0            Low          4.0  Cat_6  "
            ]
          },
          "metadata": {
            "tags": []
          },
          "execution_count": 39
        }
      ]
    },
    {
      "cell_type": "code",
      "metadata": {
        "id": "dwD7bcRPC0ek",
        "colab_type": "code",
        "colab": {}
      },
      "source": [
        "dftrain=dftrain.drop('ID', axis=1)"
      ],
      "execution_count": 13,
      "outputs": []
    },
    {
      "cell_type": "code",
      "metadata": {
        "id": "CxCJ-I7YA7u9",
        "colab_type": "code",
        "colab": {
          "base_uri": "https://localhost:8080/",
          "height": 221
        },
        "outputId": "86640318-98bc-443a-f117-e1c26dbdcd70"
      },
      "source": [
        "dftrain.isnull().sum()"
      ],
      "execution_count": 38,
      "outputs": [
        {
          "output_type": "execute_result",
          "data": {
            "text/plain": [
              "ID                 0\n",
              "Gender             0\n",
              "Ever_Married       0\n",
              "Age                0\n",
              "Graduated          0\n",
              "Profession         0\n",
              "Work_Experience    0\n",
              "Spending_Score     0\n",
              "Family_Size        0\n",
              "Var_1              0\n",
              "Segmentation       0\n",
              "dtype: int64"
            ]
          },
          "metadata": {
            "tags": []
          },
          "execution_count": 38
        }
      ]
    },
    {
      "cell_type": "code",
      "metadata": {
        "id": "tvkP_AnBBJWf",
        "colab_type": "code",
        "colab": {
          "base_uri": "https://localhost:8080/",
          "height": 221
        },
        "outputId": "0691d231-4238-41b5-f495-8aa38d7f0a47"
      },
      "source": [
        "dftrain.nunique()"
      ],
      "execution_count": 37,
      "outputs": [
        {
          "output_type": "execute_result",
          "data": {
            "text/plain": [
              "ID                 8068\n",
              "Gender                2\n",
              "Ever_Married          2\n",
              "Age                  67\n",
              "Graduated             2\n",
              "Profession           10\n",
              "Work_Experience      16\n",
              "Spending_Score        3\n",
              "Family_Size          10\n",
              "Var_1                 8\n",
              "Segmentation          4\n",
              "dtype: int64"
            ]
          },
          "metadata": {
            "tags": []
          },
          "execution_count": 37
        }
      ]
    },
    {
      "cell_type": "code",
      "metadata": {
        "id": "9Xo_Jcx8Gnp3",
        "colab_type": "code",
        "colab": {
          "base_uri": "https://localhost:8080/",
          "height": 51
        },
        "outputId": "f7e718cf-bf40-4d7b-e0ed-459590e7ced5"
      },
      "source": [
        "dftrain['Var_1'].unique()"
      ],
      "execution_count": 18,
      "outputs": [
        {
          "output_type": "execute_result",
          "data": {
            "text/plain": [
              "array(['Cat_4', 'Cat_6', 'Cat_7', 'Cat_3', 'Cat_1', 'Cat_2', nan, 'Cat_5'],\n",
              "      dtype=object)"
            ]
          },
          "metadata": {
            "tags": []
          },
          "execution_count": 18
        }
      ]
    },
    {
      "cell_type": "code",
      "metadata": {
        "id": "rTtKYLoyCyge",
        "colab_type": "code",
        "colab": {}
      },
      "source": [
        "MA_columns=['Ever_Married','Graduated','Profession','Work_Experience','Family_Size','Var_1']\n",
        "\n",
        "Ever_Married='mode'\n",
        "Graduated='mode'\n",
        "Profession='missing values'\n",
        "Work_Experience=15\n",
        "Family_Size=10\n",
        "Var_1='Cat_8'"
      ],
      "execution_count": 28,
      "outputs": []
    },
    {
      "cell_type": "code",
      "metadata": {
        "id": "ZYqokpJiBDxf",
        "colab_type": "code",
        "colab": {
          "base_uri": "https://localhost:8080/",
          "height": 204
        },
        "outputId": "e26e7fab-a595-4df3-d48c-2db9477276cf"
      },
      "source": [
        "dftest.isnull().sum()"
      ],
      "execution_count": 36,
      "outputs": [
        {
          "output_type": "execute_result",
          "data": {
            "text/plain": [
              "ID                 0\n",
              "Gender             0\n",
              "Ever_Married       0\n",
              "Age                0\n",
              "Graduated          0\n",
              "Profession         0\n",
              "Work_Experience    0\n",
              "Spending_Score     0\n",
              "Family_Size        0\n",
              "Var_1              0\n",
              "dtype: int64"
            ]
          },
          "metadata": {
            "tags": []
          },
          "execution_count": 36
        }
      ]
    },
    {
      "cell_type": "code",
      "metadata": {
        "id": "8gxkgyroCwTV",
        "colab_type": "code",
        "colab": {}
      },
      "source": [
        "dftrain['Ever_Married']=dftrain['Ever_Married'].interpolate(method='bfill')\n",
        "dftrain['Graduated']=dftrain['Graduated'].interpolate(method='bfill')"
      ],
      "execution_count": 34,
      "outputs": []
    },
    {
      "cell_type": "code",
      "metadata": {
        "id": "OIx8hRdPIzCn",
        "colab_type": "code",
        "colab": {}
      },
      "source": [
        "dftrain['Profession']=dftrain['Profession'].fillna(Profession)\n",
        "dftrain['Work_Experience']=dftrain['Work_Experience'].fillna(Work_Experience)\n",
        "dftrain['Family_Size']=dftrain['Family_Size'].fillna(Family_Size)\n",
        "dftrain['Var_1']=dftrain['Var_1'].fillna(Var_1)"
      ],
      "execution_count": 29,
      "outputs": []
    },
    {
      "cell_type": "code",
      "metadata": {
        "id": "IDKlXXKdKuYO",
        "colab_type": "code",
        "colab": {}
      },
      "source": [
        "### Filling Missing values of test"
      ],
      "execution_count": null,
      "outputs": []
    },
    {
      "cell_type": "code",
      "metadata": {
        "id": "r4V0CRE4K1G5",
        "colab_type": "code",
        "colab": {}
      },
      "source": [
        "dftest['Ever_Married']=dftest['Ever_Married'].interpolate(method='bfill')\n",
        "dftest['Graduated']=dftest['Graduated'].interpolate(method='bfill')"
      ],
      "execution_count": 35,
      "outputs": []
    },
    {
      "cell_type": "code",
      "metadata": {
        "id": "tQKm2Eo4LFYk",
        "colab_type": "code",
        "colab": {}
      },
      "source": [
        "dftest['Profession']=dftest['Profession'].fillna(Profession)\n",
        "dftest['Work_Experience']=dftest['Work_Experience'].fillna(Work_Experience)\n",
        "dftest['Family_Size']=dftest['Family_Size'].fillna(Family_Size)\n",
        "dftest['Var_1']=dftest['Var_1'].fillna(Var_1)"
      ],
      "execution_count": 30,
      "outputs": []
    },
    {
      "cell_type": "code",
      "metadata": {
        "id": "Ex-D8qr-L19G",
        "colab_type": "code",
        "colab": {}
      },
      "source": [
        "ordinal_columns=['Gender','Ever_Married','Graduated','Profession','Spending_Score','Var_1']"
      ],
      "execution_count": 48,
      "outputs": []
    },
    {
      "cell_type": "code",
      "metadata": {
        "id": "_3PacLXKN8fh",
        "colab_type": "code",
        "colab": {}
      },
      "source": [
        "from sklearn.preprocessing import OrdinalEncoder\n",
        "enc=OrdinalEncoder()\n",
        "X_train_feautres=enc.fit_transform(dftrain[ordinal_columns])"
      ],
      "execution_count": 49,
      "outputs": []
    },
    {
      "cell_type": "code",
      "metadata": {
        "id": "A4d1g3kmOSyi",
        "colab_type": "code",
        "colab": {}
      },
      "source": [
        "df_train1=pd.DataFrame(X_train_feautres, columns=ordinal_columns)"
      ],
      "execution_count": 50,
      "outputs": []
    },
    {
      "cell_type": "code",
      "metadata": {
        "id": "C71zUhmdOaqq",
        "colab_type": "code",
        "colab": {}
      },
      "source": [
        "dftrain=dftrain.drop(labels=ordinal_columns, axis=1)"
      ],
      "execution_count": 51,
      "outputs": []
    },
    {
      "cell_type": "code",
      "metadata": {
        "id": "-Apyx8A8PXeq",
        "colab_type": "code",
        "colab": {
          "base_uri": "https://localhost:8080/",
          "height": 34
        },
        "outputId": "cf6a85da-bc66-4519-8b2a-9e945ea521f9"
      },
      "source": [
        "frames=[dftrain,df_train1]\n",
        "df_train = pd.concat(frames,axis=1)\n",
        "print(df_train.shape)"
      ],
      "execution_count": 52,
      "outputs": [
        {
          "output_type": "stream",
          "text": [
            "(8068, 11)\n"
          ],
          "name": "stdout"
        }
      ]
    },
    {
      "cell_type": "code",
      "metadata": {
        "id": "CVqy-MZJPpPR",
        "colab_type": "code",
        "colab": {
          "base_uri": "https://localhost:8080/",
          "height": 204
        },
        "outputId": "97deebde-7821-4c87-b276-015485f3361d"
      },
      "source": [
        "df_train.head()"
      ],
      "execution_count": 60,
      "outputs": [
        {
          "output_type": "execute_result",
          "data": {
            "text/html": [
              "<div>\n",
              "<style scoped>\n",
              "    .dataframe tbody tr th:only-of-type {\n",
              "        vertical-align: middle;\n",
              "    }\n",
              "\n",
              "    .dataframe tbody tr th {\n",
              "        vertical-align: top;\n",
              "    }\n",
              "\n",
              "    .dataframe thead th {\n",
              "        text-align: right;\n",
              "    }\n",
              "</style>\n",
              "<table border=\"1\" class=\"dataframe\">\n",
              "  <thead>\n",
              "    <tr style=\"text-align: right;\">\n",
              "      <th></th>\n",
              "      <th>ID</th>\n",
              "      <th>Age</th>\n",
              "      <th>Work_Experience</th>\n",
              "      <th>Family_Size</th>\n",
              "      <th>Segmentation</th>\n",
              "      <th>Gender</th>\n",
              "      <th>Ever_Married</th>\n",
              "      <th>Graduated</th>\n",
              "      <th>Profession</th>\n",
              "      <th>Spending_Score</th>\n",
              "      <th>Var_1</th>\n",
              "    </tr>\n",
              "  </thead>\n",
              "  <tbody>\n",
              "    <tr>\n",
              "      <th>0</th>\n",
              "      <td>462809</td>\n",
              "      <td>22</td>\n",
              "      <td>1.0</td>\n",
              "      <td>4.0</td>\n",
              "      <td>3</td>\n",
              "      <td>1.0</td>\n",
              "      <td>0.0</td>\n",
              "      <td>0.0</td>\n",
              "      <td>5.0</td>\n",
              "      <td>2.0</td>\n",
              "      <td>3.0</td>\n",
              "    </tr>\n",
              "    <tr>\n",
              "      <th>1</th>\n",
              "      <td>462643</td>\n",
              "      <td>38</td>\n",
              "      <td>15.0</td>\n",
              "      <td>3.0</td>\n",
              "      <td>0</td>\n",
              "      <td>0.0</td>\n",
              "      <td>1.0</td>\n",
              "      <td>1.0</td>\n",
              "      <td>2.0</td>\n",
              "      <td>0.0</td>\n",
              "      <td>3.0</td>\n",
              "    </tr>\n",
              "    <tr>\n",
              "      <th>2</th>\n",
              "      <td>466315</td>\n",
              "      <td>67</td>\n",
              "      <td>1.0</td>\n",
              "      <td>1.0</td>\n",
              "      <td>1</td>\n",
              "      <td>0.0</td>\n",
              "      <td>1.0</td>\n",
              "      <td>1.0</td>\n",
              "      <td>2.0</td>\n",
              "      <td>2.0</td>\n",
              "      <td>5.0</td>\n",
              "    </tr>\n",
              "    <tr>\n",
              "      <th>3</th>\n",
              "      <td>461735</td>\n",
              "      <td>67</td>\n",
              "      <td>0.0</td>\n",
              "      <td>2.0</td>\n",
              "      <td>1</td>\n",
              "      <td>1.0</td>\n",
              "      <td>1.0</td>\n",
              "      <td>1.0</td>\n",
              "      <td>7.0</td>\n",
              "      <td>1.0</td>\n",
              "      <td>5.0</td>\n",
              "    </tr>\n",
              "    <tr>\n",
              "      <th>4</th>\n",
              "      <td>462669</td>\n",
              "      <td>40</td>\n",
              "      <td>15.0</td>\n",
              "      <td>6.0</td>\n",
              "      <td>0</td>\n",
              "      <td>0.0</td>\n",
              "      <td>1.0</td>\n",
              "      <td>1.0</td>\n",
              "      <td>3.0</td>\n",
              "      <td>1.0</td>\n",
              "      <td>5.0</td>\n",
              "    </tr>\n",
              "  </tbody>\n",
              "</table>\n",
              "</div>"
            ],
            "text/plain": [
              "       ID  Age  Work_Experience  Family_Size  Segmentation  Gender  \\\n",
              "0  462809   22              1.0          4.0             3     1.0   \n",
              "1  462643   38             15.0          3.0             0     0.0   \n",
              "2  466315   67              1.0          1.0             1     0.0   \n",
              "3  461735   67              0.0          2.0             1     1.0   \n",
              "4  462669   40             15.0          6.0             0     0.0   \n",
              "\n",
              "   Ever_Married  Graduated  Profession  Spending_Score  Var_1  \n",
              "0           0.0        0.0         5.0             2.0    3.0  \n",
              "1           1.0        1.0         2.0             0.0    3.0  \n",
              "2           1.0        1.0         2.0             2.0    5.0  \n",
              "3           1.0        1.0         7.0             1.0    5.0  \n",
              "4           1.0        1.0         3.0             1.0    5.0  "
            ]
          },
          "metadata": {
            "tags": []
          },
          "execution_count": 60
        }
      ]
    },
    {
      "cell_type": "code",
      "metadata": {
        "id": "ksJnA5htT7uY",
        "colab_type": "code",
        "colab": {
          "base_uri": "https://localhost:8080/",
          "height": 204
        },
        "outputId": "a857271f-f665-40f3-e126-4ac658e17d7d"
      },
      "source": [
        "df_test.head()"
      ],
      "execution_count": 61,
      "outputs": [
        {
          "output_type": "execute_result",
          "data": {
            "text/html": [
              "<div>\n",
              "<style scoped>\n",
              "    .dataframe tbody tr th:only-of-type {\n",
              "        vertical-align: middle;\n",
              "    }\n",
              "\n",
              "    .dataframe tbody tr th {\n",
              "        vertical-align: top;\n",
              "    }\n",
              "\n",
              "    .dataframe thead th {\n",
              "        text-align: right;\n",
              "    }\n",
              "</style>\n",
              "<table border=\"1\" class=\"dataframe\">\n",
              "  <thead>\n",
              "    <tr style=\"text-align: right;\">\n",
              "      <th></th>\n",
              "      <th>ID</th>\n",
              "      <th>Age</th>\n",
              "      <th>Work_Experience</th>\n",
              "      <th>Family_Size</th>\n",
              "      <th>Gender</th>\n",
              "      <th>Ever_Married</th>\n",
              "      <th>Graduated</th>\n",
              "      <th>Profession</th>\n",
              "      <th>Spending_Score</th>\n",
              "      <th>Var_1</th>\n",
              "    </tr>\n",
              "  </thead>\n",
              "  <tbody>\n",
              "    <tr>\n",
              "      <th>0</th>\n",
              "      <td>458989</td>\n",
              "      <td>36</td>\n",
              "      <td>0.0</td>\n",
              "      <td>1.0</td>\n",
              "      <td>0.0</td>\n",
              "      <td>1.0</td>\n",
              "      <td>1.0</td>\n",
              "      <td>2.0</td>\n",
              "      <td>2.0</td>\n",
              "      <td>5.0</td>\n",
              "    </tr>\n",
              "    <tr>\n",
              "      <th>1</th>\n",
              "      <td>458994</td>\n",
              "      <td>37</td>\n",
              "      <td>8.0</td>\n",
              "      <td>4.0</td>\n",
              "      <td>1.0</td>\n",
              "      <td>1.0</td>\n",
              "      <td>1.0</td>\n",
              "      <td>5.0</td>\n",
              "      <td>0.0</td>\n",
              "      <td>5.0</td>\n",
              "    </tr>\n",
              "    <tr>\n",
              "      <th>2</th>\n",
              "      <td>458996</td>\n",
              "      <td>69</td>\n",
              "      <td>0.0</td>\n",
              "      <td>1.0</td>\n",
              "      <td>0.0</td>\n",
              "      <td>1.0</td>\n",
              "      <td>0.0</td>\n",
              "      <td>9.0</td>\n",
              "      <td>2.0</td>\n",
              "      <td>5.0</td>\n",
              "    </tr>\n",
              "    <tr>\n",
              "      <th>3</th>\n",
              "      <td>459000</td>\n",
              "      <td>59</td>\n",
              "      <td>11.0</td>\n",
              "      <td>2.0</td>\n",
              "      <td>1.0</td>\n",
              "      <td>1.0</td>\n",
              "      <td>0.0</td>\n",
              "      <td>4.0</td>\n",
              "      <td>1.0</td>\n",
              "      <td>5.0</td>\n",
              "    </tr>\n",
              "    <tr>\n",
              "      <th>4</th>\n",
              "      <td>459001</td>\n",
              "      <td>19</td>\n",
              "      <td>15.0</td>\n",
              "      <td>4.0</td>\n",
              "      <td>0.0</td>\n",
              "      <td>0.0</td>\n",
              "      <td>0.0</td>\n",
              "      <td>8.0</td>\n",
              "      <td>2.0</td>\n",
              "      <td>5.0</td>\n",
              "    </tr>\n",
              "  </tbody>\n",
              "</table>\n",
              "</div>"
            ],
            "text/plain": [
              "       ID  Age  Work_Experience  Family_Size  Gender  Ever_Married  Graduated  \\\n",
              "0  458989   36              0.0          1.0     0.0           1.0        1.0   \n",
              "1  458994   37              8.0          4.0     1.0           1.0        1.0   \n",
              "2  458996   69              0.0          1.0     0.0           1.0        0.0   \n",
              "3  459000   59             11.0          2.0     1.0           1.0        0.0   \n",
              "4  459001   19             15.0          4.0     0.0           0.0        0.0   \n",
              "\n",
              "   Profession  Spending_Score  Var_1  \n",
              "0         2.0             2.0    5.0  \n",
              "1         5.0             0.0    5.0  \n",
              "2         9.0             2.0    5.0  \n",
              "3         4.0             1.0    5.0  \n",
              "4         8.0             2.0    5.0  "
            ]
          },
          "metadata": {
            "tags": []
          },
          "execution_count": 61
        }
      ]
    },
    {
      "cell_type": "code",
      "metadata": {
        "id": "68RsQaJlQKEC",
        "colab_type": "code",
        "colab": {}
      },
      "source": [
        "X_test_feautres=enc.fit_transform(dftest[ordinal_columns])"
      ],
      "execution_count": 55,
      "outputs": []
    },
    {
      "cell_type": "code",
      "metadata": {
        "id": "x0ouHIm5QO8Z",
        "colab_type": "code",
        "colab": {
          "base_uri": "https://localhost:8080/",
          "height": 34
        },
        "outputId": "80addb96-8df1-4a73-eeda-feb2cca52466"
      },
      "source": [
        "df_test1=pd.DataFrame(X_test_feautres, columns=ordinal_columns)\n",
        "dftest=dftest.drop(labels=ordinal_columns, axis=1)\n",
        "frames1=[dftest,df_test1]\n",
        "df_test = pd.concat(frames1,axis=1)\n",
        "print(df_test.shape)"
      ],
      "execution_count": 57,
      "outputs": [
        {
          "output_type": "stream",
          "text": [
            "(2627, 10)\n"
          ],
          "name": "stdout"
        }
      ]
    },
    {
      "cell_type": "code",
      "metadata": {
        "id": "wFQGMoZmQiEC",
        "colab_type": "code",
        "colab": {
          "base_uri": "https://localhost:8080/",
          "height": 51
        },
        "outputId": "558776ae-dcb6-4aca-b8b1-e130dc0160fe"
      },
      "source": [
        "print(df_train.shape)\n",
        "print(df_test.shape)"
      ],
      "execution_count": 58,
      "outputs": [
        {
          "output_type": "stream",
          "text": [
            "(8068, 11)\n",
            "(2627, 10)\n"
          ],
          "name": "stdout"
        }
      ]
    },
    {
      "cell_type": "code",
      "metadata": {
        "id": "GOCEdOg-Rai9",
        "colab_type": "code",
        "colab": {}
      },
      "source": [
        "from sklearn.preprocessing import LabelEncoder\n",
        "Le=LabelEncoder()\n",
        "df_train['Segmentation']=Le.fit_transform(df_train['Segmentation'])"
      ],
      "execution_count": 59,
      "outputs": []
    },
    {
      "cell_type": "code",
      "metadata": {
        "id": "cUsklyN7Tln4",
        "colab_type": "code",
        "colab": {}
      },
      "source": [
        "from sklearn.model_selection import GridSearchCV\n",
        "from sklearn import metrics"
      ],
      "execution_count": 84,
      "outputs": []
    },
    {
      "cell_type": "code",
      "metadata": {
        "id": "wxz2UDuRTnMS",
        "colab_type": "code",
        "colab": {
          "base_uri": "https://localhost:8080/",
          "height": 828
        },
        "outputId": "9679500c-5427-4c72-caf6-9f94990256ba"
      },
      "source": [
        "pd.plotting.hist_frame(df_train,figsize=(15,10))"
      ],
      "execution_count": 65,
      "outputs": [
        {
          "output_type": "execute_result",
          "data": {
            "text/plain": [
              "array([[<matplotlib.axes._subplots.AxesSubplot object at 0x7fc0819c0160>,\n",
              "        <matplotlib.axes._subplots.AxesSubplot object at 0x7fc0819da860>,\n",
              "        <matplotlib.axes._subplots.AxesSubplot object at 0x7fc08157cd30>],\n",
              "       [<matplotlib.axes._subplots.AxesSubplot object at 0x7fc0815ab0f0>,\n",
              "        <matplotlib.axes._subplots.AxesSubplot object at 0x7fc081552470>,\n",
              "        <matplotlib.axes._subplots.AxesSubplot object at 0x7fc0814fc7f0>],\n",
              "       [<matplotlib.axes._subplots.AxesSubplot object at 0x7fc08152dac8>,\n",
              "        <matplotlib.axes._subplots.AxesSubplot object at 0x7fc0814e3e10>,\n",
              "        <matplotlib.axes._subplots.AxesSubplot object at 0x7fc0814e3e80>],\n",
              "       [<matplotlib.axes._subplots.AxesSubplot object at 0x7fc081452588>,\n",
              "        <matplotlib.axes._subplots.AxesSubplot object at 0x7fc081405908>,\n",
              "        <matplotlib.axes._subplots.AxesSubplot object at 0x7fc0813b5c88>]],\n",
              "      dtype=object)"
            ]
          },
          "metadata": {
            "tags": []
          },
          "execution_count": 65
        },
        {
          "output_type": "display_data",
          "data": {
            "image/png": "[encoded data removed]",
            "text/plain": [
              "<Figure size 1080x720 with 12 Axes>"
            ]
          },
          "metadata": {
            "tags": [],
            "needs_background": "light"
          }
        }
      ]
    },
    {
      "cell_type": "code",
      "metadata": {
        "id": "MSso6ZjiTnPk",
        "colab_type": "code",
        "colab": {}
      },
      "source": [
        "predictors=['Age','Work_Experience','Family_Size','Gender',\t'Ever_Married',\t'Graduated','Profession','Spending_Score','Var_1']\n",
        "\n",
        "Target=['Segmentation']\n",
        "\n",
        "X=df_train[predictors].values\n",
        "y=df_train[Target].values\n"
      ],
      "execution_count": 66,
      "outputs": []
    },
    {
      "cell_type": "code",
      "metadata": {
        "id": "pffuCyQTTnTM",
        "colab_type": "code",
        "colab": {
          "base_uri": "https://localhost:8080/",
          "height": 102
        },
        "outputId": "462d6c7e-8d42-4b81-d391-599d0f032a61"
      },
      "source": [
        "from sklearn.model_selection import KFold\n",
        "kf=KFold(n_splits=5, random_state=None, shuffle=False)\n",
        "for train_index, test_index in kf.split(X,y):\n",
        "    print(\"TRAIN:\", train_index, \"TEST:\", test_index)\n",
        "    X_train, X_test = X[train_index], X[test_index]\n",
        "    y_train, y_test = y[train_index], y[test_index]"
      ],
      "execution_count": 67,
      "outputs": [
        {
          "output_type": "stream",
          "text": [
            "TRAIN: [1614 1615 1616 ... 8065 8066 8067] TEST: [   0    1    2 ... 1611 1612 1613]\n",
            "TRAIN: [   0    1    2 ... 8065 8066 8067] TEST: [1614 1615 1616 ... 3225 3226 3227]\n",
            "TRAIN: [   0    1    2 ... 8065 8066 8067] TEST: [3228 3229 3230 ... 4839 4840 4841]\n",
            "TRAIN: [   0    1    2 ... 8065 8066 8067] TEST: [4842 4843 4844 ... 6452 6453 6454]\n",
            "TRAIN: [   0    1    2 ... 6452 6453 6454] TEST: [6455 6456 6457 ... 8065 8066 8067]\n"
          ],
          "name": "stdout"
        }
      ]
    },
    {
      "cell_type": "code",
      "metadata": {
        "id": "AJxaxRsdTnWG",
        "colab_type": "code",
        "colab": {}
      },
      "source": [
        "#### Libraries From Pytorch\n",
        "import torch\n",
        "import torch.nn as nn\n",
        "import torch.nn.functional as F"
      ],
      "execution_count": 90,
      "outputs": []
    },
    {
      "cell_type": "code",
      "metadata": {
        "id": "xwPe1YBXTnZu",
        "colab_type": "code",
        "colab": {}
      },
      "source": [
        "##### Creating Tensors\n",
        "X_train=torch.FloatTensor(X_train)\n",
        "X_test=torch.FloatTensor(X_test)\n",
        "y_train=torch.LongTensor(np.reshape(y_train,(-1,1)))\n",
        "y_test=torch.LongTensor(np.reshape(y_test,(-1,1)))"
      ],
      "execution_count": 113,
      "outputs": []
    },
    {
      "cell_type": "code",
      "metadata": {
        "id": "yiQVFTOgTnci",
        "colab_type": "code",
        "colab": {}
      },
      "source": [
        "class ANN_Model(nn.Module):\n",
        "    def __init__(self,input_features=9,hidden1=20,hidden2=20,out_features=4):\n",
        "        super().__init__()\n",
        "        self.f_connected1=nn.Linear(input_features,hidden1)\n",
        "        self.f_connected2=nn.Linear(hidden1,hidden2)\n",
        "        self.out=nn.Linear(hidden2,out_features)\n",
        "    def forward(self,x):\n",
        "        x=F.relu(self.f_connected1(x))\n",
        "        x=F.relu(self.f_connected2(x))\n",
        "        x=self.out(x)\n",
        "        return x"
      ],
      "execution_count": 114,
      "outputs": []
    },
    {
      "cell_type": "code",
      "metadata": {
        "id": "1c5u6PlHVo9O",
        "colab_type": "code",
        "colab": {}
      },
      "source": [
        "torch.manual_seed(40)\n",
        "model=ANN_Model()"
      ],
      "execution_count": 115,
      "outputs": []
    },
    {
      "cell_type": "code",
      "metadata": {
        "id": "mrHJ6nWtVpHn",
        "colab_type": "code",
        "colab": {
          "base_uri": "https://localhost:8080/",
          "height": 102
        },
        "outputId": "01248504-1a08-4224-9178-9ad96a26d616"
      },
      "source": [
        "model.parameters"
      ],
      "execution_count": 116,
      "outputs": [
        {
          "output_type": "execute_result",
          "data": {
            "text/plain": [
              "<bound method Module.parameters of ANN_Model(\n",
              "  (f_connected1): Linear(in_features=9, out_features=20, bias=True)\n",
              "  (f_connected2): Linear(in_features=20, out_features=20, bias=True)\n",
              "  (out): Linear(in_features=20, out_features=4, bias=True)\n",
              ")>"
            ]
          },
          "metadata": {
            "tags": []
          },
          "execution_count": 116
        }
      ]
    },
    {
      "cell_type": "code",
      "metadata": {
        "id": "ZJhcs9bQVpLB",
        "colab_type": "code",
        "colab": {}
      },
      "source": [
        "loss_function=nn.MultiLabelSoftMarginLoss()\n",
        "optimizer=torch.optim.Adam(model.parameters(),lr=0.01)"
      ],
      "execution_count": 121,
      "outputs": []
    },
    {
      "cell_type": "code",
      "metadata": {
        "id": "Y9XVb0XcVpFv",
        "colab_type": "code",
        "colab": {
          "base_uri": "https://localhost:8080/",
          "height": 1000
        },
        "outputId": "b8b2de0e-3ea9-4592-cb06-73361adc0413"
      },
      "source": [
        "epochs=1000\n",
        "final_losses=[]\n",
        "for i in range(epochs):\n",
        "    i=i+1\n",
        "    y_pred=model.forward(X_train)\n",
        "    loss=loss_function(y_pred,y_train)\n",
        "    final_losses.append(loss)\n",
        "    if i%10==1:\n",
        "        print(\"Epoch number: {} and the loss : {}\".format(i,loss.item()))\n",
        "    optimizer.zero_grad()\n",
        "    loss.backward()\n",
        "    optimizer.step()"
      ],
      "execution_count": 122,
      "outputs": [
        {
          "output_type": "stream",
          "text": [
            "Epoch number: 1 and the loss : 0.6025729775428772\n",
            "Epoch number: 11 and the loss : -9.167661666870117\n",
            "Epoch number: 21 and the loss : -52.60148620605469\n",
            "Epoch number: 31 and the loss : -182.8844757080078\n",
            "Epoch number: 41 and the loss : -484.8023986816406\n",
            "Epoch number: 51 and the loss : -1077.1868896484375\n",
            "Epoch number: 61 and the loss : -2109.675048828125\n",
            "Epoch number: 71 and the loss : -3757.297607421875\n",
            "Epoch number: 81 and the loss : -6214.70849609375\n",
            "Epoch number: 91 and the loss : -9691.013671875\n",
            "Epoch number: 101 and the loss : -14405.5078125\n",
            "Epoch number: 111 and the loss : -20584.3515625\n",
            "Epoch number: 121 and the loss : -28457.986328125\n",
            "Epoch number: 131 and the loss : -38259.23828125\n",
            "Epoch number: 141 and the loss : -50221.8671875\n",
            "Epoch number: 151 and the loss : -64579.5859375\n",
            "Epoch number: 161 and the loss : -81565.1796875\n",
            "Epoch number: 171 and the loss : -101410.078125\n",
            "Epoch number: 181 and the loss : -124343.796875\n",
            "Epoch number: 191 and the loss : -150593.890625\n",
            "Epoch number: 201 and the loss : -180385.625\n",
            "Epoch number: 211 and the loss : -213941.71875\n",
            "Epoch number: 221 and the loss : -251482.4375\n",
            "Epoch number: 231 and the loss : -293225.625\n",
            "Epoch number: 241 and the loss : -339386.3125\n",
            "Epoch number: 251 and the loss : -390177.125\n",
            "Epoch number: 261 and the loss : -445807.90625\n",
            "Epoch number: 271 and the loss : -506486.09375\n",
            "Epoch number: 281 and the loss : -572416.6875\n",
            "Epoch number: 291 and the loss : -643801.625\n",
            "Epoch number: 301 and the loss : -720840.9375\n",
            "Epoch number: 311 and the loss : -803731.8125\n",
            "Epoch number: 321 and the loss : -892669.0\n",
            "Epoch number: 331 and the loss : -987845.25\n",
            "Epoch number: 341 and the loss : -1089450.375\n",
            "Epoch number: 351 and the loss : -1197672.5\n",
            "Epoch number: 361 and the loss : -1312696.75\n",
            "Epoch number: 371 and the loss : -1434706.375\n",
            "Epoch number: 381 and the loss : -1563882.125\n",
            "Epoch number: 391 and the loss : -1700402.875\n",
            "Epoch number: 401 and the loss : -1844445.25\n",
            "Epoch number: 411 and the loss : -1996184.375\n",
            "Epoch number: 421 and the loss : -2155791.0\n",
            "Epoch number: 431 and the loss : -2323436.25\n",
            "Epoch number: 441 and the loss : -2499289.75\n",
            "Epoch number: 451 and the loss : -2683515.5\n",
            "Epoch number: 461 and the loss : -2876278.5\n",
            "Epoch number: 471 and the loss : -3077741.0\n",
            "Epoch number: 481 and the loss : -3288064.25\n",
            "Epoch number: 491 and the loss : -3507404.75\n",
            "Epoch number: 501 and the loss : -3735921.25\n",
            "Epoch number: 511 and the loss : -3973767.25\n",
            "Epoch number: 521 and the loss : -4221095.5\n",
            "Epoch number: 531 and the loss : -4478059.5\n",
            "Epoch number: 541 and the loss : -4744803.0\n",
            "Epoch number: 551 and the loss : -5021480.0\n",
            "Epoch number: 561 and the loss : -5308234.0\n",
            "Epoch number: 571 and the loss : -5605209.0\n",
            "Epoch number: 581 and the loss : -5912544.5\n",
            "Epoch number: 591 and the loss : -6230388.0\n",
            "Epoch number: 601 and the loss : -6558872.5\n",
            "Epoch number: 611 and the loss : -6898140.5\n",
            "Epoch number: 621 and the loss : -7248325.5\n",
            "Epoch number: 631 and the loss : -7609559.0\n",
            "Epoch number: 641 and the loss : -7981982.0\n",
            "Epoch number: 651 and the loss : -8365720.0\n",
            "Epoch number: 661 and the loss : -8760900.0\n",
            "Epoch number: 671 and the loss : -9167661.0\n",
            "Epoch number: 681 and the loss : -9586120.0\n",
            "Epoch number: 691 and the loss : -10016409.0\n",
            "Epoch number: 701 and the loss : -10458646.0\n",
            "Epoch number: 711 and the loss : -10912964.0\n",
            "Epoch number: 721 and the loss : -11379466.0\n",
            "Epoch number: 731 and the loss : -11858294.0\n",
            "Epoch number: 741 and the loss : -12349557.0\n",
            "Epoch number: 751 and the loss : -12853363.0\n",
            "Epoch number: 761 and the loss : -13369841.0\n",
            "Epoch number: 771 and the loss : -13899103.0\n",
            "Epoch number: 781 and the loss : -14441261.0\n",
            "Epoch number: 791 and the loss : -14996425.0\n",
            "Epoch number: 801 and the loss : -15564707.0\n",
            "Epoch number: 811 and the loss : -16146226.0\n",
            "Epoch number: 821 and the loss : -16741075.0\n",
            "Epoch number: 831 and the loss : -17349370.0\n",
            "Epoch number: 841 and the loss : -17971214.0\n",
            "Epoch number: 851 and the loss : -18606720.0\n",
            "Epoch number: 861 and the loss : -19255980.0\n",
            "Epoch number: 871 and the loss : -19919108.0\n",
            "Epoch number: 881 and the loss : -20596192.0\n",
            "Epoch number: 891 and the loss : -21287346.0\n",
            "Epoch number: 901 and the loss : -21992664.0\n",
            "Epoch number: 911 and the loss : -22712248.0\n",
            "Epoch number: 921 and the loss : -23446184.0\n",
            "Epoch number: 931 and the loss : -24194582.0\n",
            "Epoch number: 941 and the loss : -24957528.0\n",
            "Epoch number: 951 and the loss : -25735108.0\n",
            "Epoch number: 961 and the loss : -26527444.0\n",
            "Epoch number: 971 and the loss : -27334604.0\n",
            "Epoch number: 981 and the loss : -28156684.0\n",
            "Epoch number: 991 and the loss : -28993786.0\n"
          ],
          "name": "stdout"
        }
      ]
    },
    {
      "cell_type": "code",
      "metadata": {
        "id": "RrH3h3XaTlsl",
        "colab_type": "code",
        "colab": {
          "base_uri": "https://localhost:8080/",
          "height": 307
        },
        "outputId": "448f6bf2-c47b-469a-8c56-c6f8c752016e"
      },
      "source": [
        "plt.plot(range(epochs),final_losses)\n",
        "plt.ylabel('Loss')\n",
        "plt.xlabel('Epoch')"
      ],
      "execution_count": 123,
      "outputs": [
        {
          "output_type": "execute_result",
          "data": {
            "text/plain": [
              "Text(0.5, 0, 'Epoch')"
            ]
          },
          "metadata": {
            "tags": []
          },
          "execution_count": 123
        },
        {
          "output_type": "display_data",
          "data": {
            "image/png": "[encoded data removed]",
            "text/plain": [
              "<Figure size 432x288 with 1 Axes>"
            ]
          },
          "metadata": {
            "tags": [],
            "needs_background": "light"
          }
        }
      ]
    },
    {
      "cell_type": "code",
      "metadata": {
        "id": "vTQlxP_WTlxH",
        "colab_type": "code",
        "colab": {}
      },
      "source": [
        "predictions=[]\n",
        "with torch.no_grad():\n",
        "    for i,data in enumerate(X_test):\n",
        "      prediction=model(data)\n",
        "      predictions.append(prediction.argmax().item())"
      ],
      "execution_count": 124,
      "outputs": []
    },
    {
      "cell_type": "code",
      "metadata": {
        "id": "tI7yC_Qwd1Dr",
        "colab_type": "code",
        "colab": {
          "base_uri": "https://localhost:8080/",
          "height": 289
        },
        "outputId": "d62b903e-e9d8-4e80-ec49-ca342256225a"
      },
      "source": [
        "print(\"The classification report\",metrics.classification_report(y_test,predictions))\n",
        "print(\"The confusion Matrix\",metrics.confusion_matrix(y_test,predictions))\n",
        "print(\"The confusion Matrix\",metrics.accuracy_score(y_test,predictions))"
      ],
      "execution_count": 125,
      "outputs": [
        {
          "output_type": "stream",
          "text": [
            "The classification report               precision    recall  f1-score   support\n",
            "\n",
            "           0       0.00      0.00      0.00       391\n",
            "           1       0.22      1.00      0.37       362\n",
            "           2       0.00      0.00      0.00       410\n",
            "           3       0.00      0.00      0.00       450\n",
            "\n",
            "    accuracy                           0.22      1613\n",
            "   macro avg       0.06      0.25      0.09      1613\n",
            "weighted avg       0.05      0.22      0.08      1613\n",
            "\n",
            "The confusion Matrix [[  0 391   0   0]\n",
            " [  0 362   0   0]\n",
            " [  0 410   0   0]\n",
            " [  0 450   0   0]]\n",
            "The confusion Matrix 0.22442653440793553\n"
          ],
          "name": "stdout"
        }
      ]
    }
  ]
}