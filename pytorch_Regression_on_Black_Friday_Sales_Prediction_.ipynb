{
  "nbformat": 4,
  "nbformat_minor": 0,
  "metadata": {
    "colab": {
      "name": "pytorch Regression on Black Friday Sales Prediction  .ipynb",
      "provenance": []
    },
    "kernelspec": {
      "name": "python3",
      "display_name": "Python 3"
    },
    "accelerator": "GPU",
    "widgets": {
      "application/vnd.jupyter.widget-state+json": {
        "14a36b0711dd4e888ac67384fdc4b9e3": {
          "model_module": "@jupyter-widgets/controls",
          "model_name": "HBoxModel",
          "state": {
            "_view_name": "HBoxView",
            "_dom_classes": [],
            "_model_name": "HBoxModel",
            "_view_module": "@jupyter-widgets/controls",
            "_model_module_version": "1.5.0",
            "_view_count": null,
            "_view_module_version": "1.5.0",
            "box_style": "",
            "layout": "IPY_MODEL_cfdc170640674420a6a9199143767d6e",
            "_model_module": "@jupyter-widgets/controls",
            "children": [
              "IPY_MODEL_29c26e5ba3b749f1bb1206eff41ed83c",
              "IPY_MODEL_58ee1ba42aca43a3ab302fc3df53ce50"
            ]
          }
        },
        "cfdc170640674420a6a9199143767d6e": {
          "model_module": "@jupyter-widgets/base",
          "model_name": "LayoutModel",
          "state": {
            "_view_name": "LayoutView",
            "grid_template_rows": null,
            "right": null,
            "justify_content": null,
            "_view_module": "@jupyter-widgets/base",
            "overflow": null,
            "_model_module_version": "1.2.0",
            "_view_count": null,
            "flex_flow": null,
            "width": null,
            "min_width": null,
            "border": null,
            "align_items": null,
            "bottom": null,
            "_model_module": "@jupyter-widgets/base",
            "top": null,
            "grid_column": null,
            "overflow_y": null,
            "overflow_x": null,
            "grid_auto_flow": null,
            "grid_area": null,
            "grid_template_columns": null,
            "flex": null,
            "_model_name": "LayoutModel",
            "justify_items": null,
            "grid_row": null,
            "max_height": null,
            "align_content": null,
            "visibility": null,
            "align_self": null,
            "height": null,
            "min_height": null,
            "padding": null,
            "grid_auto_rows": null,
            "grid_gap": null,
            "max_width": null,
            "order": null,
            "_view_module_version": "1.2.0",
            "grid_template_areas": null,
            "object_position": null,
            "object_fit": null,
            "grid_auto_columns": null,
            "margin": null,
            "display": null,
            "left": null
          }
        },
        "29c26e5ba3b749f1bb1206eff41ed83c": {
          "model_module": "@jupyter-widgets/controls",
          "model_name": "FloatProgressModel",
          "state": {
            "_view_name": "ProgressView",
            "style": "IPY_MODEL_69a2b32bea814c74b9fe6da8f29b4b2e",
            "_dom_classes": [],
            "description": "100%",
            "_model_name": "FloatProgressModel",
            "bar_style": "success",
            "max": 100,
            "_view_module": "@jupyter-widgets/controls",
            "_model_module_version": "1.5.0",
            "value": 100,
            "_view_count": null,
            "_view_module_version": "1.5.0",
            "orientation": "horizontal",
            "min": 0,
            "description_tooltip": null,
            "_model_module": "@jupyter-widgets/controls",
            "layout": "IPY_MODEL_a01888ad9b6c4e3a96d176427c6281cf"
          }
        },
        "58ee1ba42aca43a3ab302fc3df53ce50": {
          "model_module": "@jupyter-widgets/controls",
          "model_name": "HTMLModel",
          "state": {
            "_view_name": "HTMLView",
            "style": "IPY_MODEL_5af61f045e5247f2b9d45ce36b2c6a78",
            "_dom_classes": [],
            "description": "",
            "_model_name": "HTMLModel",
            "placeholder": "​",
            "_view_module": "@jupyter-widgets/controls",
            "_model_module_version": "1.5.0",
            "value": " 100/100 [25:14&lt;00:00, 15.14s/it]",
            "_view_count": null,
            "_view_module_version": "1.5.0",
            "description_tooltip": null,
            "_model_module": "@jupyter-widgets/controls",
            "layout": "IPY_MODEL_4af937f0e3cd44afaae285c0319ae837"
          }
        },
        "69a2b32bea814c74b9fe6da8f29b4b2e": {
          "model_module": "@jupyter-widgets/controls",
          "model_name": "ProgressStyleModel",
          "state": {
            "_view_name": "StyleView",
            "_model_name": "ProgressStyleModel",
            "description_width": "initial",
            "_view_module": "@jupyter-widgets/base",
            "_model_module_version": "1.5.0",
            "_view_count": null,
            "_view_module_version": "1.2.0",
            "bar_color": null,
            "_model_module": "@jupyter-widgets/controls"
          }
        },
        "a01888ad9b6c4e3a96d176427c6281cf": {
          "model_module": "@jupyter-widgets/base",
          "model_name": "LayoutModel",
          "state": {
            "_view_name": "LayoutView",
            "grid_template_rows": null,
            "right": null,
            "justify_content": null,
            "_view_module": "@jupyter-widgets/base",
            "overflow": null,
            "_model_module_version": "1.2.0",
            "_view_count": null,
            "flex_flow": null,
            "width": null,
            "min_width": null,
            "border": null,
            "align_items": null,
            "bottom": null,
            "_model_module": "@jupyter-widgets/base",
            "top": null,
            "grid_column": null,
            "overflow_y": null,
            "overflow_x": null,
            "grid_auto_flow": null,
            "grid_area": null,
            "grid_template_columns": null,
            "flex": null,
            "_model_name": "LayoutModel",
            "justify_items": null,
            "grid_row": null,
            "max_height": null,
            "align_content": null,
            "visibility": null,
            "align_self": null,
            "height": null,
            "min_height": null,
            "padding": null,
            "grid_auto_rows": null,
            "grid_gap": null,
            "max_width": null,
            "order": null,
            "_view_module_version": "1.2.0",
            "grid_template_areas": null,
            "object_position": null,
            "object_fit": null,
            "grid_auto_columns": null,
            "margin": null,
            "display": null,
            "left": null
          }
        },
        "5af61f045e5247f2b9d45ce36b2c6a78": {
          "model_module": "@jupyter-widgets/controls",
          "model_name": "DescriptionStyleModel",
          "state": {
            "_view_name": "StyleView",
            "_model_name": "DescriptionStyleModel",
            "description_width": "",
            "_view_module": "@jupyter-widgets/base",
            "_model_module_version": "1.5.0",
            "_view_count": null,
            "_view_module_version": "1.2.0",
            "_model_module": "@jupyter-widgets/controls"
          }
        },
        "4af937f0e3cd44afaae285c0319ae837": {
          "model_module": "@jupyter-widgets/base",
          "model_name": "LayoutModel",
          "state": {
            "_view_name": "LayoutView",
            "grid_template_rows": null,
            "right": null,
            "justify_content": null,
            "_view_module": "@jupyter-widgets/base",
            "overflow": null,
            "_model_module_version": "1.2.0",
            "_view_count": null,
            "flex_flow": null,
            "width": null,
            "min_width": null,
            "border": null,
            "align_items": null,
            "bottom": null,
            "_model_module": "@jupyter-widgets/base",
            "top": null,
            "grid_column": null,
            "overflow_y": null,
            "overflow_x": null,
            "grid_auto_flow": null,
            "grid_area": null,
            "grid_template_columns": null,
            "flex": null,
            "_model_name": "LayoutModel",
            "justify_items": null,
            "grid_row": null,
            "max_height": null,
            "align_content": null,
            "visibility": null,
            "align_self": null,
            "height": null,
            "min_height": null,
            "padding": null,
            "grid_auto_rows": null,
            "grid_gap": null,
            "max_width": null,
            "order": null,
            "_view_module_version": "1.2.0",
            "grid_template_areas": null,
            "object_position": null,
            "object_fit": null,
            "grid_auto_columns": null,
            "margin": null,
            "display": null,
            "left": null
          }
        }
      }
    }
  },
  "cells": [
    {
      "cell_type": "code",
      "metadata": {
        "id": "HHziIpaEOMdP"
      },
      "source": [
        "import numpy as np\n",
        "import pandas as pd\n",
        "import seaborn as sns\n",
        "from tqdm.notebook import tqdm\n",
        "import matplotlib.pyplot as plt\n",
        "\n",
        "import torch\n",
        "import torch.nn as nn\n",
        "import torch.optim as optim\n",
        "from torch.utils.data import Dataset, DataLoader\n",
        "from sklearn.preprocessing import MinMaxScaler    \n",
        "from sklearn.model_selection import train_test_split\n",
        "from sklearn.metrics import mean_squared_error,r2_score"
      ],
      "execution_count": 186,
      "outputs": []
    },
    {
      "cell_type": "code",
      "metadata": {
        "id": "tol8OT_aOMgv"
      },
      "source": [
        "np.set_printoptions(suppress=True)\n",
        "pd.set_option('display.max_columns',8000)\n",
        "pd.set_option('display.max_rows',7000)"
      ],
      "execution_count": 3,
      "outputs": []
    },
    {
      "cell_type": "code",
      "metadata": {
        "id": "2BKAKkfdOMmA",
        "outputId": "ff6672d7-ad41-4590-bdb9-71dd43806e45",
        "colab": {
          "resources": {
            "http://localhost:8080/nbextensions/google.colab/files.js": {
              "data": "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",
              "ok": true,
              "headers": [
                [
                  "content-type",
                  "application/javascript"
                ]
              ],
              "status": 200,
              "status_text": ""
            }
          },
          "base_uri": "https://localhost:8080/",
          "height": 107
        }
      },
      "source": [
        "from google.colab import files\n",
        "files.upload()"
      ],
      "execution_count": 4,
      "outputs": [
        {
          "output_type": "display_data",
          "data": {
            "text/html": [
              "\n",
              "     <input type=\"file\" id=\"files-0accd9fd-16c9-4e50-9573-1a58a0721e75\" name=\"files[]\" multiple disabled\n",
              "        style=\"border:none\" />\n",
              "     <output id=\"result-0accd9fd-16c9-4e50-9573-1a58a0721e75\">\n",
              "      Upload widget is only available when the cell has been executed in the\n",
              "      current browser session. Please rerun this cell to enable.\n",
              "      </output>\n",
              "      <script src=\"/nbextensions/google.colab/files.js\"></script> "
            ],
            "text/plain": [
              "<IPython.core.display.HTML object>"
            ]
          },
          "metadata": {
            "tags": []
          }
        },
        {
          "output_type": "stream",
          "text": [
            "Saving test.csv to test.csv\n",
            "Saving train.csv to train.csv\n"
          ],
          "name": "stdout"
        }
      ]
    },
    {
      "cell_type": "code",
      "metadata": {
        "id": "QE33FZ6pOMob"
      },
      "source": [
        "train=pd.read_csv('train.csv')\n",
        "test=pd.read_csv('test.csv')"
      ],
      "execution_count": 260,
      "outputs": []
    },
    {
      "cell_type": "code",
      "metadata": {
        "id": "Okr_4koJOMq7",
        "outputId": "202f8c2c-62af-41fe-87ca-5b9d6261830a",
        "colab": {
          "base_uri": "https://localhost:8080/",
          "height": 284
        }
      },
      "source": [
        "train.head()"
      ],
      "execution_count": 6,
      "outputs": [
        {
          "output_type": "execute_result",
          "data": {
            "text/html": [
              "<div>\n",
              "<style scoped>\n",
              "    .dataframe tbody tr th:only-of-type {\n",
              "        vertical-align: middle;\n",
              "    }\n",
              "\n",
              "    .dataframe tbody tr th {\n",
              "        vertical-align: top;\n",
              "    }\n",
              "\n",
              "    .dataframe thead th {\n",
              "        text-align: right;\n",
              "    }\n",
              "</style>\n",
              "<table border=\"1\" class=\"dataframe\">\n",
              "  <thead>\n",
              "    <tr style=\"text-align: right;\">\n",
              "      <th></th>\n",
              "      <th>User_ID</th>\n",
              "      <th>Product_ID</th>\n",
              "      <th>Gender</th>\n",
              "      <th>Age</th>\n",
              "      <th>Occupation</th>\n",
              "      <th>City_Category</th>\n",
              "      <th>Stay_In_Current_City_Years</th>\n",
              "      <th>Marital_Status</th>\n",
              "      <th>Product_Category_1</th>\n",
              "      <th>Product_Category_2</th>\n",
              "      <th>Product_Category_3</th>\n",
              "      <th>Purchase</th>\n",
              "    </tr>\n",
              "  </thead>\n",
              "  <tbody>\n",
              "    <tr>\n",
              "      <th>0</th>\n",
              "      <td>1000001</td>\n",
              "      <td>P00069042</td>\n",
              "      <td>F</td>\n",
              "      <td>0-17</td>\n",
              "      <td>10</td>\n",
              "      <td>A</td>\n",
              "      <td>2</td>\n",
              "      <td>0</td>\n",
              "      <td>3</td>\n",
              "      <td>NaN</td>\n",
              "      <td>NaN</td>\n",
              "      <td>8370</td>\n",
              "    </tr>\n",
              "    <tr>\n",
              "      <th>1</th>\n",
              "      <td>1000001</td>\n",
              "      <td>P00248942</td>\n",
              "      <td>F</td>\n",
              "      <td>0-17</td>\n",
              "      <td>10</td>\n",
              "      <td>A</td>\n",
              "      <td>2</td>\n",
              "      <td>0</td>\n",
              "      <td>1</td>\n",
              "      <td>6.0</td>\n",
              "      <td>14.0</td>\n",
              "      <td>15200</td>\n",
              "    </tr>\n",
              "    <tr>\n",
              "      <th>2</th>\n",
              "      <td>1000001</td>\n",
              "      <td>P00087842</td>\n",
              "      <td>F</td>\n",
              "      <td>0-17</td>\n",
              "      <td>10</td>\n",
              "      <td>A</td>\n",
              "      <td>2</td>\n",
              "      <td>0</td>\n",
              "      <td>12</td>\n",
              "      <td>NaN</td>\n",
              "      <td>NaN</td>\n",
              "      <td>1422</td>\n",
              "    </tr>\n",
              "    <tr>\n",
              "      <th>3</th>\n",
              "      <td>1000001</td>\n",
              "      <td>P00085442</td>\n",
              "      <td>F</td>\n",
              "      <td>0-17</td>\n",
              "      <td>10</td>\n",
              "      <td>A</td>\n",
              "      <td>2</td>\n",
              "      <td>0</td>\n",
              "      <td>12</td>\n",
              "      <td>14.0</td>\n",
              "      <td>NaN</td>\n",
              "      <td>1057</td>\n",
              "    </tr>\n",
              "    <tr>\n",
              "      <th>4</th>\n",
              "      <td>1000002</td>\n",
              "      <td>P00285442</td>\n",
              "      <td>M</td>\n",
              "      <td>55+</td>\n",
              "      <td>16</td>\n",
              "      <td>C</td>\n",
              "      <td>4+</td>\n",
              "      <td>0</td>\n",
              "      <td>8</td>\n",
              "      <td>NaN</td>\n",
              "      <td>NaN</td>\n",
              "      <td>7969</td>\n",
              "    </tr>\n",
              "  </tbody>\n",
              "</table>\n",
              "</div>"
            ],
            "text/plain": [
              "   User_ID Product_ID Gender   Age  Occupation City_Category  \\\n",
              "0  1000001  P00069042      F  0-17          10             A   \n",
              "1  1000001  P00248942      F  0-17          10             A   \n",
              "2  1000001  P00087842      F  0-17          10             A   \n",
              "3  1000001  P00085442      F  0-17          10             A   \n",
              "4  1000002  P00285442      M   55+          16             C   \n",
              "\n",
              "  Stay_In_Current_City_Years  Marital_Status  Product_Category_1  \\\n",
              "0                          2               0                   3   \n",
              "1                          2               0                   1   \n",
              "2                          2               0                  12   \n",
              "3                          2               0                  12   \n",
              "4                         4+               0                   8   \n",
              "\n",
              "   Product_Category_2  Product_Category_3  Purchase  \n",
              "0                 NaN                 NaN      8370  \n",
              "1                 6.0                14.0     15200  \n",
              "2                 NaN                 NaN      1422  \n",
              "3                14.0                 NaN      1057  \n",
              "4                 NaN                 NaN      7969  "
            ]
          },
          "metadata": {
            "tags": []
          },
          "execution_count": 6
        }
      ]
    },
    {
      "cell_type": "code",
      "metadata": {
        "id": "GTFs6BK2OMuI",
        "outputId": "fa22a887-2400-4b38-c313-af4bd0b6d48e",
        "colab": {
          "base_uri": "https://localhost:8080/",
          "height": 194
        }
      },
      "source": [
        "(train.isnull().sum()/train.shape[0])*100"
      ],
      "execution_count": 22,
      "outputs": [
        {
          "output_type": "execute_result",
          "data": {
            "text/plain": [
              "Product_ID                    0.0\n",
              "Gender                        0.0\n",
              "Age                           0.0\n",
              "Occupation                    0.0\n",
              "City_Category                 0.0\n",
              "Stay_In_Current_City_Years    0.0\n",
              "Marital_Status                0.0\n",
              "Product_Category_1            0.0\n",
              "Purchase                      0.0\n",
              "dtype: float64"
            ]
          },
          "metadata": {
            "tags": []
          },
          "execution_count": 22
        }
      ]
    },
    {
      "cell_type": "code",
      "metadata": {
        "id": "fFXGT-YeWyd5",
        "outputId": "b291ab28-b1e7-471e-9483-ed4a2dc2deca",
        "colab": {
          "base_uri": "https://localhost:8080/",
          "height": 176
        }
      },
      "source": [
        "(test.isnull().sum()/test.shape[0])*100"
      ],
      "execution_count": 21,
      "outputs": [
        {
          "output_type": "execute_result",
          "data": {
            "text/plain": [
              "Product_ID                    0.0\n",
              "Gender                        0.0\n",
              "Age                           0.0\n",
              "Occupation                    0.0\n",
              "City_Category                 0.0\n",
              "Stay_In_Current_City_Years    0.0\n",
              "Marital_Status                0.0\n",
              "Product_Category_1            0.0\n",
              "dtype: float64"
            ]
          },
          "metadata": {
            "tags": []
          },
          "execution_count": 21
        }
      ]
    },
    {
      "cell_type": "code",
      "metadata": {
        "id": "-FGbrvJpOMxY"
      },
      "source": [
        "Test_userid=test['User_ID'].values\n",
        "y=train[['Purchase']].values"
      ],
      "execution_count": 12,
      "outputs": []
    },
    {
      "cell_type": "code",
      "metadata": {
        "id": "t4i6b35ZOM0n",
        "outputId": "c80ca79e-d672-4e1f-dee6-d6a11800f8f7",
        "colab": {
          "base_uri": "https://localhost:8080/",
          "height": 176
        }
      },
      "source": [
        "train.nunique()"
      ],
      "execution_count": 27,
      "outputs": [
        {
          "output_type": "execute_result",
          "data": {
            "text/plain": [
              "Product_ID                    3631\n",
              "Gender                           2\n",
              "Age                              7\n",
              "Occupation                      21\n",
              "City_Category                    3\n",
              "Stay_In_Current_City_Years       5\n",
              "Marital_Status                   2\n",
              "Product_Category_1              20\n",
              "dtype: int64"
            ]
          },
          "metadata": {
            "tags": []
          },
          "execution_count": 27
        }
      ]
    },
    {
      "cell_type": "code",
      "metadata": {
        "id": "yZZ3FMEpOM4c",
        "outputId": "2685ec2d-77ad-4a66-d45d-8982ad91a100",
        "colab": {
          "base_uri": "https://localhost:8080/",
          "height": 176
        }
      },
      "source": [
        "test.nunique()"
      ],
      "execution_count": 26,
      "outputs": [
        {
          "output_type": "execute_result",
          "data": {
            "text/plain": [
              "Product_ID                    3491\n",
              "Gender                           2\n",
              "Age                              7\n",
              "Occupation                      21\n",
              "City_Category                    3\n",
              "Stay_In_Current_City_Years       5\n",
              "Marital_Status                   2\n",
              "Product_Category_1              18\n",
              "dtype: int64"
            ]
          },
          "metadata": {
            "tags": []
          },
          "execution_count": 26
        }
      ]
    },
    {
      "cell_type": "code",
      "metadata": {
        "id": "MsZ5dVm1a3av",
        "outputId": "657471f1-c051-4dca-8888-3e0212270953",
        "colab": {
          "base_uri": "https://localhost:8080/",
          "height": 52
        }
      },
      "source": [
        "print(train.shape)\n",
        "print(test.shape)"
      ],
      "execution_count": 17,
      "outputs": [
        {
          "output_type": "stream",
          "text": [
            "(550068, 12)\n",
            "(233599, 11)\n"
          ],
          "name": "stdout"
        }
      ]
    },
    {
      "cell_type": "code",
      "metadata": {
        "id": "MUksQ--2OM7Z"
      },
      "source": [
        "train=train.drop(labels=['User_ID','Product_Category_2','Product_Category_3'], axis=1)\n",
        "test=test.drop(labels=['User_ID','Product_Category_2','Product_Category_3'],axis=1)"
      ],
      "execution_count": 18,
      "outputs": []
    },
    {
      "cell_type": "code",
      "metadata": {
        "id": "MT-ES-qyOM_A"
      },
      "source": [
        "train=train.drop(labels=['Purchase'], axis=1)"
      ],
      "execution_count": 23,
      "outputs": []
    },
    {
      "cell_type": "code",
      "metadata": {
        "id": "enHepViaOMQ3"
      },
      "source": [
        "df=train.append(test)"
      ],
      "execution_count": 100,
      "outputs": []
    },
    {
      "cell_type": "code",
      "metadata": {
        "id": "gfpcZeYAOMDi",
        "outputId": "bbf8fa20-8d9c-4a31-9404-da01b62271db",
        "colab": {
          "base_uri": "https://localhost:8080/",
          "height": 176
        }
      },
      "source": [
        "df.nunique()"
      ],
      "execution_count": 101,
      "outputs": [
        {
          "output_type": "execute_result",
          "data": {
            "text/plain": [
              "Product_ID                    3677\n",
              "Gender                           2\n",
              "Age                              7\n",
              "Occupation                      21\n",
              "City_Category                    3\n",
              "Stay_In_Current_City_Years       5\n",
              "Marital_Status                   2\n",
              "Product_Category_1              20\n",
              "dtype: int64"
            ]
          },
          "metadata": {
            "tags": []
          },
          "execution_count": 101
        }
      ]
    },
    {
      "cell_type": "code",
      "metadata": {
        "id": "GKlQmCKId7Gn",
        "outputId": "7cbe0e07-4d7c-41a8-b41a-9b83c47a02b7",
        "colab": {
          "base_uri": "https://localhost:8080/",
          "height": 34
        }
      },
      "source": [
        "df.shape"
      ],
      "execution_count": 102,
      "outputs": [
        {
          "output_type": "execute_result",
          "data": {
            "text/plain": [
              "(783667, 8)"
            ]
          },
          "metadata": {
            "tags": []
          },
          "execution_count": 102
        }
      ]
    },
    {
      "cell_type": "code",
      "metadata": {
        "id": "6-JUrKytd7Ja",
        "outputId": "33913b70-9ad9-4af7-9cf7-c437235e4b7f",
        "colab": {
          "base_uri": "https://localhost:8080/",
          "height": 158
        }
      },
      "source": [
        "df.isnull().sum()"
      ],
      "execution_count": 106,
      "outputs": [
        {
          "output_type": "execute_result",
          "data": {
            "text/plain": [
              "Gender                        0\n",
              "Age                           0\n",
              "Occupation                    0\n",
              "City_Category                 0\n",
              "Stay_In_Current_City_Years    0\n",
              "Marital_Status                0\n",
              "Product_Category_1            0\n",
              "dtype: int64"
            ]
          },
          "metadata": {
            "tags": []
          },
          "execution_count": 106
        }
      ]
    },
    {
      "cell_type": "code",
      "metadata": {
        "id": "epfnkKjUd7Zr",
        "outputId": "c7331020-7dfe-478d-fe15-1a8e7cbab4b7",
        "colab": {
          "base_uri": "https://localhost:8080/",
          "height": 197
        }
      },
      "source": [
        "df.head()"
      ],
      "execution_count": 104,
      "outputs": [
        {
          "output_type": "execute_result",
          "data": {
            "text/html": [
              "<div>\n",
              "<style scoped>\n",
              "    .dataframe tbody tr th:only-of-type {\n",
              "        vertical-align: middle;\n",
              "    }\n",
              "\n",
              "    .dataframe tbody tr th {\n",
              "        vertical-align: top;\n",
              "    }\n",
              "\n",
              "    .dataframe thead th {\n",
              "        text-align: right;\n",
              "    }\n",
              "</style>\n",
              "<table border=\"1\" class=\"dataframe\">\n",
              "  <thead>\n",
              "    <tr style=\"text-align: right;\">\n",
              "      <th></th>\n",
              "      <th>Product_ID</th>\n",
              "      <th>Gender</th>\n",
              "      <th>Age</th>\n",
              "      <th>Occupation</th>\n",
              "      <th>City_Category</th>\n",
              "      <th>Stay_In_Current_City_Years</th>\n",
              "      <th>Marital_Status</th>\n",
              "      <th>Product_Category_1</th>\n",
              "    </tr>\n",
              "  </thead>\n",
              "  <tbody>\n",
              "    <tr>\n",
              "      <th>0</th>\n",
              "      <td>P00069042</td>\n",
              "      <td>F</td>\n",
              "      <td>0-17</td>\n",
              "      <td>10</td>\n",
              "      <td>A</td>\n",
              "      <td>2</td>\n",
              "      <td>0</td>\n",
              "      <td>3</td>\n",
              "    </tr>\n",
              "    <tr>\n",
              "      <th>1</th>\n",
              "      <td>P00248942</td>\n",
              "      <td>F</td>\n",
              "      <td>0-17</td>\n",
              "      <td>10</td>\n",
              "      <td>A</td>\n",
              "      <td>2</td>\n",
              "      <td>0</td>\n",
              "      <td>1</td>\n",
              "    </tr>\n",
              "    <tr>\n",
              "      <th>2</th>\n",
              "      <td>P00087842</td>\n",
              "      <td>F</td>\n",
              "      <td>0-17</td>\n",
              "      <td>10</td>\n",
              "      <td>A</td>\n",
              "      <td>2</td>\n",
              "      <td>0</td>\n",
              "      <td>12</td>\n",
              "    </tr>\n",
              "    <tr>\n",
              "      <th>3</th>\n",
              "      <td>P00085442</td>\n",
              "      <td>F</td>\n",
              "      <td>0-17</td>\n",
              "      <td>10</td>\n",
              "      <td>A</td>\n",
              "      <td>2</td>\n",
              "      <td>0</td>\n",
              "      <td>12</td>\n",
              "    </tr>\n",
              "    <tr>\n",
              "      <th>4</th>\n",
              "      <td>P00285442</td>\n",
              "      <td>M</td>\n",
              "      <td>55+</td>\n",
              "      <td>16</td>\n",
              "      <td>C</td>\n",
              "      <td>4+</td>\n",
              "      <td>0</td>\n",
              "      <td>8</td>\n",
              "    </tr>\n",
              "  </tbody>\n",
              "</table>\n",
              "</div>"
            ],
            "text/plain": [
              "  Product_ID Gender   Age  Occupation City_Category  \\\n",
              "0  P00069042      F  0-17          10             A   \n",
              "1  P00248942      F  0-17          10             A   \n",
              "2  P00087842      F  0-17          10             A   \n",
              "3  P00085442      F  0-17          10             A   \n",
              "4  P00285442      M   55+          16             C   \n",
              "\n",
              "  Stay_In_Current_City_Years  Marital_Status  Product_Category_1  \n",
              "0                          2               0                   3  \n",
              "1                          2               0                   1  \n",
              "2                          2               0                  12  \n",
              "3                          2               0                  12  \n",
              "4                         4+               0                   8  "
            ]
          },
          "metadata": {
            "tags": []
          },
          "execution_count": 104
        }
      ]
    },
    {
      "cell_type": "code",
      "metadata": {
        "id": "p5TYgBiljhEX",
        "outputId": "8f56b353-81de-466f-d4a2-c1012ee6dfb4",
        "colab": {
          "base_uri": "https://localhost:8080/",
          "height": 158
        }
      },
      "source": [
        "df.dtypes"
      ],
      "execution_count": 92,
      "outputs": [
        {
          "output_type": "execute_result",
          "data": {
            "text/plain": [
              "Gender                        category\n",
              "Age                           category\n",
              "Occupation                    category\n",
              "City_Category                 category\n",
              "Stay_In_Current_City_Years    category\n",
              "Marital_Status                category\n",
              "Product_Category_1            category\n",
              "dtype: object"
            ]
          },
          "metadata": {
            "tags": []
          },
          "execution_count": 92
        }
      ]
    },
    {
      "cell_type": "code",
      "metadata": {
        "id": "Gc2il4mMd7f1"
      },
      "source": [
        "#df=df.drop(labels=['prd_maritial'], axis=1)\n",
        "df=df.drop(labels=['Product_ID'], axis=1)"
      ],
      "execution_count": 105,
      "outputs": []
    },
    {
      "cell_type": "code",
      "metadata": {
        "id": "bn6rr7Mud7dI"
      },
      "source": [
        "categorical_cols=['Gender','Age','Stay_In_Current_City_Years','City_Category','Marital_Status','Product_Category_1','Occupation','City_Category']"
      ],
      "execution_count": 107,
      "outputs": []
    },
    {
      "cell_type": "code",
      "metadata": {
        "id": "0V7pw2HOd7XI"
      },
      "source": [
        "ord_cols=['Gender','Age','City_Category','Stay_In_Current_City_Years']"
      ],
      "execution_count": 108,
      "outputs": []
    },
    {
      "cell_type": "code",
      "metadata": {
        "id": "9_MpnIAld7WA"
      },
      "source": [
        "from sklearn.preprocessing import OrdinalEncoder\n",
        "enc=OrdinalEncoder()\n",
        "df[ord_cols]=enc.fit_transform(df[ord_cols])"
      ],
      "execution_count": 109,
      "outputs": []
    },
    {
      "cell_type": "code",
      "metadata": {
        "id": "PUdwCrW1d7Tw"
      },
      "source": [
        "for col in df.columns:\n",
        "  df[col]=df[col].astype('category')"
      ],
      "execution_count": 110,
      "outputs": []
    },
    {
      "cell_type": "code",
      "metadata": {
        "id": "l_VytnrSd7Dn",
        "outputId": "b18deb77-a617-43d4-9f1d-c15f2a88247a",
        "colab": {
          "base_uri": "https://localhost:8080/",
          "height": 194
        }
      },
      "source": [
        "df_frame=np.stack([df[col].cat.codes.values for col in df.columns],1)\n",
        "df_frame=torch.tensor(df_frame, dtype=torch.int64)\n",
        "df_frame[:10]"
      ],
      "execution_count": 111,
      "outputs": [
        {
          "output_type": "execute_result",
          "data": {
            "text/plain": [
              "tensor([[ 0,  0, 10,  0,  2,  0,  2],\n",
              "        [ 0,  0, 10,  0,  2,  0,  0],\n",
              "        [ 0,  0, 10,  0,  2,  0, 11],\n",
              "        [ 0,  0, 10,  0,  2,  0, 11],\n",
              "        [ 1,  6, 16,  2,  4,  0,  7],\n",
              "        [ 1,  2, 15,  0,  3,  0,  0],\n",
              "        [ 1,  4,  7,  1,  2,  1,  0],\n",
              "        [ 1,  4,  7,  1,  2,  1,  0],\n",
              "        [ 1,  4,  7,  1,  2,  1,  0],\n",
              "        [ 1,  2, 20,  0,  1,  1,  7]])"
            ]
          },
          "metadata": {
            "tags": []
          },
          "execution_count": 111
        }
      ]
    },
    {
      "cell_type": "code",
      "metadata": {
        "id": "mkrvgyzbnu0t",
        "outputId": "b00b8a18-04eb-432e-852f-1989ad1c2d0b",
        "colab": {
          "base_uri": "https://localhost:8080/",
          "height": 34
        }
      },
      "source": [
        "output=torch.tensor(y).flatten()\n",
        "output[:5]"
      ],
      "execution_count": 112,
      "outputs": [
        {
          "output_type": "execute_result",
          "data": {
            "text/plain": [
              "tensor([ 8370, 15200,  1422,  1057,  7969])"
            ]
          },
          "metadata": {
            "tags": []
          },
          "execution_count": 112
        }
      ]
    },
    {
      "cell_type": "code",
      "metadata": {
        "id": "Jy1P1740nu4E",
        "outputId": "52628e82-edbd-46e1-ea6f-0b03dca1686c",
        "colab": {
          "base_uri": "https://localhost:8080/",
          "height": 52
        }
      },
      "source": [
        "print(df.shape)\n",
        "print(output.shape)"
      ],
      "execution_count": 113,
      "outputs": [
        {
          "output_type": "stream",
          "text": [
            "(783667, 7)\n",
            "torch.Size([550068])\n"
          ],
          "name": "stdout"
        }
      ]
    },
    {
      "cell_type": "code",
      "metadata": {
        "id": "tppm1xNcnu7x",
        "outputId": "d74309c1-0256-410b-d353-53aca9d71816",
        "colab": {
          "base_uri": "https://localhost:8080/",
          "height": 34
        }
      },
      "source": [
        "categorical_col_sizes=[len(df[col].cat.categories) for col in categorical_cols]\n",
        "categorical_emb_sizes=[(col_size, min(50, (col_size+1)//2)) for col_size in categorical_col_sizes]\n",
        "print(categorical_emb_sizes)"
      ],
      "execution_count": 114,
      "outputs": [
        {
          "output_type": "stream",
          "text": [
            "[(2, 1), (7, 4), (5, 3), (3, 2), (2, 1), (20, 10), (21, 11), (3, 2)]\n"
          ],
          "name": "stdout"
        }
      ]
    },
    {
      "cell_type": "code",
      "metadata": {
        "id": "BR5k7HpWw0MD"
      },
      "source": [
        "train=df[:550068]\n",
        "test=df[550068:]"
      ],
      "execution_count": 243,
      "outputs": []
    },
    {
      "cell_type": "code",
      "metadata": {
        "id": "YIEwVn27xHfz",
        "outputId": "efc6d716-ad2a-420e-e48d-6373ca370c50",
        "colab": {
          "base_uri": "https://localhost:8080/",
          "height": 123
        }
      },
      "source": [
        "X=train.values\n",
        "y=np.array(output)\n",
        "print(X[:5])\n",
        "print(y[:5])"
      ],
      "execution_count": 123,
      "outputs": [
        {
          "output_type": "stream",
          "text": [
            "[[ 0.  0. 10.  0.  2.  0.  3.]\n",
            " [ 0.  0. 10.  0.  2.  0.  1.]\n",
            " [ 0.  0. 10.  0.  2.  0. 12.]\n",
            " [ 0.  0. 10.  0.  2.  0. 12.]\n",
            " [ 1.  6. 16.  2.  4.  0.  8.]]\n",
            "[ 8370 15200  1422  1057  7969]\n"
          ],
          "name": "stdout"
        }
      ]
    },
    {
      "cell_type": "code",
      "metadata": {
        "id": "oY08Afl7qF0z"
      },
      "source": [
        "X_trainval, X_test, y_trainval, y_test = train_test_split(X, y, test_size=0.2, random_state=69)\n",
        "X_train, X_val, y_train, y_val = train_test_split(X_trainval, y_trainval, test_size=0.1, random_state=21)"
      ],
      "execution_count": 232,
      "outputs": []
    },
    {
      "cell_type": "code",
      "metadata": {
        "id": "Y1OmdsomqF7y"
      },
      "source": [
        "\n",
        "\n",
        "X_train, y_train = np.array(X_train), np.array(y_train)\n",
        "X_val, y_val = np.array(X_val), np.array(y_val)\n",
        "X_test, y_test = np.array(X_test), np.array(y_test)"
      ],
      "execution_count": 233,
      "outputs": []
    },
    {
      "cell_type": "code",
      "metadata": {
        "id": "cSV0HXDcqF_e"
      },
      "source": [
        "y_train, y_test, y_val = y_train.astype(float), y_test.astype(float), y_val.astype(float)"
      ],
      "execution_count": 234,
      "outputs": []
    },
    {
      "cell_type": "code",
      "metadata": {
        "id": "vCTb1ZpGqGFO"
      },
      "source": [
        "class RegressionDataset(Dataset):\n",
        "    \n",
        "    def __init__(self, X_data, y_data):\n",
        "        self.X_data = X_data\n",
        "        self.y_data = y_data\n",
        "        \n",
        "    def __getitem__(self, index):\n",
        "        return self.X_data[index], self.y_data[index]\n",
        "        \n",
        "    def __len__ (self):\n",
        "        return len(self.X_data)"
      ],
      "execution_count": 235,
      "outputs": []
    },
    {
      "cell_type": "code",
      "metadata": {
        "id": "U-GuAtbBqGJf"
      },
      "source": [
        "train_dataset = RegressionDataset(torch.from_numpy(X_train).float(), torch.from_numpy(y_train).float())\n",
        "val_dataset = RegressionDataset(torch.from_numpy(X_val).float(), torch.from_numpy(y_val).float())\n",
        "test_dataset = RegressionDataset(torch.from_numpy(X_test).float(), torch.from_numpy(y_test).float())"
      ],
      "execution_count": 236,
      "outputs": []
    },
    {
      "cell_type": "code",
      "metadata": {
        "id": "72Vw0RyEqGDW"
      },
      "source": [
        "EPOCHS = 100\n",
        "BATCH_SIZE = 64\n",
        "LEARNING_RATE = 0.01\n",
        "NUM_FEATURES = 7"
      ],
      "execution_count": 237,
      "outputs": []
    },
    {
      "cell_type": "code",
      "metadata": {
        "id": "ZcYCYW1XqFa7"
      },
      "source": [
        "train_loader = DataLoader(dataset=train_dataset, batch_size=BATCH_SIZE, shuffle=True)\n",
        "val_loader = DataLoader(dataset=val_dataset, batch_size=1)\n",
        "test_loader = DataLoader(dataset=test_dataset, batch_size=1)"
      ],
      "execution_count": 245,
      "outputs": []
    },
    {
      "cell_type": "code",
      "metadata": {
        "id": "9Jr-6G0-qFYc"
      },
      "source": [
        "class MultipleRegression(nn.Module):\n",
        "    def __init__(self, num_features):\n",
        "        super(MultipleRegression, self).__init__()\n",
        "        \n",
        "        self.layer_1 = nn.Linear(num_features, 16)\n",
        "        self.layer_2 = nn.Linear(16, 32)\n",
        "        self.layer_3 = nn.Linear(32, 16)\n",
        "        self.layer_out = nn.Linear(16, 1)\n",
        "        \n",
        "        self.relu = nn.ReLU()\n",
        "    def forward(self, inputs):\n",
        "        x = self.relu(self.layer_1(inputs))\n",
        "        x = self.relu(self.layer_2(x))\n",
        "        x = self.relu(self.layer_3(x))\n",
        "        x = self.layer_out(x)\n",
        "        return (x) \n",
        "\n",
        "    def predict(self, test_inputs):\n",
        "        x = self.relu(self.layer_1(test_inputs))\n",
        "        x = self.relu(self.layer_2(x))\n",
        "        x = self.relu(self.layer_3(x))\n",
        "        x = self.layer_out(x)\n",
        "        return (x)   "
      ],
      "execution_count": 246,
      "outputs": []
    },
    {
      "cell_type": "code",
      "metadata": {
        "id": "u504pYumqFTZ",
        "outputId": "f05c3ac2-d50d-4962-97c5-14fd352d5dd1",
        "colab": {
          "base_uri": "https://localhost:8080/",
          "height": 34
        }
      },
      "source": [
        "device = torch.device(\"cuda:0\" if torch.cuda.is_available() else \"cpu\")\n",
        "print(device)"
      ],
      "execution_count": 151,
      "outputs": [
        {
          "output_type": "stream",
          "text": [
            "cuda:0\n"
          ],
          "name": "stdout"
        }
      ]
    },
    {
      "cell_type": "code",
      "metadata": {
        "id": "FBKzvmYmnvB-"
      },
      "source": [
        "model = MultipleRegression(NUM_FEATURES)\n",
        "criterion = nn.MSELoss()\n",
        "optimizer = optim.Adam(model.parameters(), lr=LEARNING_RATE)"
      ],
      "execution_count": 247,
      "outputs": []
    },
    {
      "cell_type": "code",
      "metadata": {
        "id": "yE4T1UgwnvFf"
      },
      "source": [
        "from tqdm.notebook import tqdm"
      ],
      "execution_count": 248,
      "outputs": []
    },
    {
      "cell_type": "code",
      "metadata": {
        "id": "ch441DSEnvI3"
      },
      "source": [
        "loss_stats = {'train': [],\"val\": []}"
      ],
      "execution_count": 249,
      "outputs": []
    },
    {
      "cell_type": "code",
      "metadata": {
        "id": "X-2lP51envMm",
        "outputId": "a1a6283a-6a52-41bb-d851-b1af552ab610",
        "colab": {
          "base_uri": "https://localhost:8080/",
          "height": 1000,
          "referenced_widgets": [
            "14a36b0711dd4e888ac67384fdc4b9e3",
            "cfdc170640674420a6a9199143767d6e",
            "29c26e5ba3b749f1bb1206eff41ed83c",
            "58ee1ba42aca43a3ab302fc3df53ce50",
            "69a2b32bea814c74b9fe6da8f29b4b2e",
            "a01888ad9b6c4e3a96d176427c6281cf",
            "5af61f045e5247f2b9d45ce36b2c6a78",
            "4af937f0e3cd44afaae285c0319ae837"
          ]
        }
      },
      "source": [
        "print(\"Begin training.\")\n",
        "for e in tqdm(range(1, EPOCHS+1)):\n",
        "  train_epoch_loss = 0\n",
        "\n",
        "  model.train()\n",
        "  for X_train_batch, y_train_batch in train_loader:\n",
        "     optimizer.zero_grad()\n",
        "     y_train_pred = model(X_train_batch)\n",
        "     train_loss = criterion(y_train_pred, y_train_batch.unsqueeze(1))\n",
        "     optimizer.zero_grad()\n",
        "     train_loss.backward()\n",
        "     optimizer.step()\n",
        "     train_epoch_loss += train_loss.item()\n",
        "   \n",
        "  with torch.no_grad():\n",
        "      val_epoch_loss = 0\n",
        "      model.eval()\n",
        "      for X_val_batch, y_val_batch in val_loader:\n",
        "        y_val_pred = model(X_val_batch)\n",
        "        val_loss = criterion(y_val_pred, y_val_batch.unsqueeze(1))\n",
        "        val_epoch_loss += val_loss.item()\n",
        "  loss_stats['train'].append(train_epoch_loss/len(train_loader))\n",
        "  loss_stats['val'].append(val_epoch_loss/len(val_loader))\n",
        "  print(\"Train Loss \",(train_epoch_loss/len(train_loader)))\n",
        "  print(\"Val Loss \",(val_epoch_loss/len(val_loader)))"
      ],
      "execution_count": 250,
      "outputs": [
        {
          "output_type": "stream",
          "text": [
            "Begin training.\n"
          ],
          "name": "stdout"
        },
        {
          "output_type": "display_data",
          "data": {
            "application/vnd.jupyter.widget-view+json": {
              "model_id": "14a36b0711dd4e888ac67384fdc4b9e3",
              "version_minor": 0,
              "version_major": 2
            },
            "text/plain": [
              "HBox(children=(FloatProgress(value=0.0), HTML(value='')))"
            ]
          },
          "metadata": {
            "tags": []
          }
        },
        {
          "output_type": "stream",
          "text": [
            "Train Loss  19109667.60575214\n",
            "Val Loss  18097708.47635017\n",
            "Train Loss  17941076.62352561\n",
            "Val Loss  19075679.797356803\n",
            "Train Loss  17586505.43658103\n",
            "Val Loss  17084231.58073416\n",
            "Train Loss  15714064.80933915\n",
            "Val Loss  14421331.765762378\n",
            "Train Loss  14294226.49781871\n",
            "Val Loss  14183968.359853975\n",
            "Train Loss  13932218.712069802\n",
            "Val Loss  13900508.770946573\n",
            "Train Loss  13795224.880675392\n",
            "Val Loss  13708279.773945682\n",
            "Train Loss  13662202.200840201\n",
            "Val Loss  13477484.54135669\n",
            "Train Loss  13503071.961787041\n",
            "Val Loss  13989945.540839596\n",
            "Train Loss  12483525.256584262\n",
            "Val Loss  12646307.17070401\n",
            "Train Loss  11592380.803280013\n",
            "Val Loss  12440166.782577602\n",
            "Train Loss  11702476.613265472\n",
            "Val Loss  11297676.561855696\n",
            "Train Loss  11306257.156083373\n",
            "Val Loss  11050572.089366635\n",
            "Train Loss  11221089.862538375\n",
            "Val Loss  11082730.190541903\n",
            "Train Loss  11134210.963887542\n",
            "Val Loss  10897770.835958103\n",
            "Train Loss  11133160.648327678\n",
            "Val Loss  11799874.718415737\n",
            "Train Loss  11204474.057925351\n",
            "Val Loss  11414340.443292499\n",
            "Train Loss  12501545.946356438\n",
            "Val Loss  12259450.925234964\n",
            "Train Loss  10953015.619001454\n",
            "Val Loss  9907099.29587528\n",
            "Train Loss  9533398.172887381\n",
            "Val Loss  9131800.819584638\n",
            "Train Loss  9443562.008038456\n",
            "Val Loss  9282847.212702077\n",
            "Train Loss  9453483.857691064\n",
            "Val Loss  9266178.168988694\n",
            "Train Loss  9437909.904023267\n",
            "Val Loss  9171985.29419766\n",
            "Train Loss  9480822.458959443\n",
            "Val Loss  9455981.160464782\n",
            "Train Loss  9402752.13503797\n",
            "Val Loss  9298718.502379995\n",
            "Train Loss  9379965.83757473\n",
            "Val Loss  9218467.26230048\n",
            "Train Loss  9400796.71328163\n",
            "Val Loss  9241620.352077832\n",
            "Train Loss  9379185.059581516\n",
            "Val Loss  9089372.226667913\n",
            "Train Loss  9364431.929794798\n",
            "Val Loss  9480735.517994575\n",
            "Train Loss  9344037.451971238\n",
            "Val Loss  9194785.059203366\n",
            "Train Loss  9361279.600258524\n",
            "Val Loss  9222994.270668026\n",
            "Train Loss  9341532.020399095\n",
            "Val Loss  9131374.630717034\n",
            "Train Loss  9353484.015874939\n",
            "Val Loss  9347287.694420619\n",
            "Train Loss  9349062.42753272\n",
            "Val Loss  9084407.15173087\n",
            "Train Loss  9318974.527710455\n",
            "Val Loss  9106981.042226331\n",
            "Train Loss  9322273.872434964\n",
            "Val Loss  9242780.832482575\n",
            "Train Loss  9348783.725965422\n",
            "Val Loss  9103426.670435952\n",
            "Train Loss  9342425.658022298\n",
            "Val Loss  9333875.639752062\n",
            "Train Loss  9333420.54907901\n",
            "Val Loss  9163715.2878294\n",
            "Train Loss  9324950.355146227\n",
            "Val Loss  9056759.483580608\n",
            "Train Loss  9326995.833050573\n",
            "Val Loss  9120585.224107675\n",
            "Train Loss  9334099.510987235\n",
            "Val Loss  9875677.952889007\n",
            "Train Loss  9294373.88027145\n",
            "Val Loss  9109801.29420446\n",
            "Train Loss  9337549.081475198\n",
            "Val Loss  9304811.255313348\n",
            "Train Loss  9310346.262441428\n",
            "Val Loss  9147276.043431329\n",
            "Train Loss  9347234.731701406\n",
            "Val Loss  9230841.43885193\n",
            "Train Loss  9292476.612578768\n",
            "Val Loss  9075901.34720436\n",
            "Train Loss  9318174.471804814\n",
            "Val Loss  9084313.251846243\n",
            "Train Loss  9296406.267692681\n",
            "Val Loss  9117493.0662071\n",
            "Train Loss  9302667.777548878\n",
            "Val Loss  9193677.4444179\n",
            "Train Loss  9321477.318508644\n",
            "Val Loss  9066099.678556772\n",
            "Train Loss  9326418.22394571\n",
            "Val Loss  9128752.594518201\n",
            "Train Loss  9468573.65681047\n",
            "Val Loss  9144834.795435218\n",
            "Train Loss  9383145.611245759\n",
            "Val Loss  9113310.674516449\n",
            "Train Loss  9325259.486831475\n",
            "Val Loss  9077376.130732734\n",
            "Train Loss  9322565.467321053\n",
            "Val Loss  9221440.60928201\n",
            "Train Loss  9321639.326021975\n",
            "Val Loss  9270128.554206965\n",
            "Train Loss  9366611.51720795\n",
            "Val Loss  9127130.256787641\n",
            "Train Loss  9317318.525327193\n",
            "Val Loss  9220050.341658238\n",
            "Train Loss  9422451.150468573\n",
            "Val Loss  9173770.224285489\n",
            "Train Loss  9305793.021045404\n",
            "Val Loss  9201985.757410092\n",
            "Train Loss  9290560.973259008\n",
            "Val Loss  9192509.201536864\n",
            "Train Loss  9371308.729681693\n",
            "Val Loss  9850080.626741368\n",
            "Train Loss  9304575.5948053\n",
            "Val Loss  9108878.568195764\n",
            "Train Loss  9321680.287930198\n",
            "Val Loss  9070241.023225395\n",
            "Train Loss  9324545.272297624\n",
            "Val Loss  9161690.696070438\n",
            "Train Loss  9301878.806834707\n",
            "Val Loss  9220616.121050814\n",
            "Train Loss  9288495.675109064\n",
            "Val Loss  9092259.855080143\n",
            "Train Loss  9310191.744991113\n",
            "Val Loss  9298905.601698916\n",
            "Train Loss  9295661.772943933\n",
            "Val Loss  9132446.343659567\n",
            "Train Loss  9278342.294918403\n",
            "Val Loss  9135494.894188873\n",
            "Train Loss  9294630.164566167\n",
            "Val Loss  10090982.270059757\n",
            "Train Loss  9334668.906972047\n",
            "Val Loss  9189224.283195583\n",
            "Train Loss  9334095.438035224\n",
            "Val Loss  9112491.925139787\n",
            "Train Loss  9288789.40822427\n",
            "Val Loss  9067468.983913055\n",
            "Train Loss  9307734.656285346\n",
            "Val Loss  9065883.030131342\n",
            "Train Loss  9265730.088544192\n",
            "Val Loss  9363475.699645367\n",
            "Train Loss  9290420.716674745\n",
            "Val Loss  9143682.76305155\n",
            "Train Loss  9294079.108902892\n",
            "Val Loss  9273792.99205481\n",
            "Train Loss  9326890.072426887\n",
            "Val Loss  9766383.693708196\n",
            "Train Loss  9371795.72184521\n",
            "Val Loss  9205918.894536367\n",
            "Train Loss  9255285.49705122\n",
            "Val Loss  9052046.117403775\n",
            "Train Loss  9278208.83995799\n",
            "Val Loss  9045063.154419977\n",
            "Train Loss  9254016.987396995\n",
            "Val Loss  9061765.941999678\n",
            "Train Loss  9295281.457747616\n",
            "Val Loss  9090103.781294897\n",
            "Train Loss  9249775.093512684\n",
            "Val Loss  9159547.071429538\n",
            "Train Loss  9268114.182905154\n",
            "Val Loss  9188890.043104285\n",
            "Train Loss  9230965.682622395\n",
            "Val Loss  9462736.505562762\n",
            "Train Loss  9252237.011269996\n",
            "Val Loss  9281070.131751958\n",
            "Train Loss  9236973.563782517\n",
            "Val Loss  9054641.700872438\n",
            "Train Loss  9222495.465503313\n",
            "Val Loss  9076693.643191071\n",
            "Train Loss  9235602.743132979\n",
            "Val Loss  9057375.910858551\n",
            "Train Loss  9253889.975399904\n",
            "Val Loss  9132891.366335405\n",
            "Train Loss  9231322.985781224\n",
            "Val Loss  9364601.14881442\n",
            "Train Loss  9248537.433026336\n",
            "Val Loss  9027551.718096795\n",
            "Train Loss  9240854.62703991\n",
            "Val Loss  9152363.530114356\n",
            "Train Loss  9273791.887461625\n",
            "Val Loss  9101814.824214565\n",
            "Train Loss  9256359.967119083\n",
            "Val Loss  9182189.207765082\n",
            "Train Loss  9226085.973339796\n",
            "Val Loss  9117564.953384742\n",
            "Train Loss  9224053.147277428\n",
            "Val Loss  9022163.292091427\n",
            "\n"
          ],
          "name": "stdout"
        }
      ]
    },
    {
      "cell_type": "code",
      "metadata": {
        "id": "WVWX0qF5nvTu"
      },
      "source": [
        "y_pred_list = []\n",
        "with torch.no_grad():\n",
        "    model.eval()\n",
        "    for X_batch, _ in test_loader:\n",
        "        y_test_pred = model(X_batch)\n",
        "        y_pred_list.append(y_test_pred.cpu().numpy())\n"
      ],
      "execution_count": 251,
      "outputs": []
    },
    {
      "cell_type": "code",
      "metadata": {
        "id": "3wk2x3vvnvaO"
      },
      "source": [
        "y_pred_list = [a.squeeze().tolist() for a in y_pred_list]"
      ],
      "execution_count": 252,
      "outputs": []
    },
    {
      "cell_type": "code",
      "metadata": {
        "id": "TGbmaApxnvdi",
        "outputId": "c4e37e66-66a5-44ca-8b3f-bc3bf4f3da45",
        "colab": {
          "base_uri": "https://localhost:8080/",
          "height": 52
        }
      },
      "source": [
        "mse = mean_squared_error(y_test, y_pred_list)\n",
        "r_square = r2_score(y_test, y_pred_list)\n",
        "\n",
        "print(\"Mean Squared Error :\",np.sqrt(mse))\n",
        "print(\"R^2 :\",r_square)"
      ],
      "execution_count": 253,
      "outputs": [
        {
          "output_type": "stream",
          "text": [
            "Mean Squared Error : 3018.432935531071\n",
            "R^2 : 0.6402803469723384\n"
          ],
          "name": "stdout"
        }
      ]
    },
    {
      "cell_type": "code",
      "metadata": {
        "id": "qu7LZKRcAYut"
      },
      "source": [
        "test=np.array(test)"
      ],
      "execution_count": 254,
      "outputs": []
    },
    {
      "cell_type": "code",
      "metadata": {
        "id": "q0JE_jT-OMC_",
        "outputId": "36a6f1e7-067e-4a92-ef1d-112d3ecb5cee",
        "colab": {
          "base_uri": "https://localhost:8080/",
          "height": 141
        }
      },
      "source": [
        "test=torch.from_numpy(test).float()\n",
        "test"
      ],
      "execution_count": 255,
      "outputs": [
        {
          "output_type": "execute_result",
          "data": {
            "text/plain": [
              "tensor([[ 1.,  4.,  7.,  ...,  2.,  1.,  1.],\n",
              "        [ 1.,  2., 17.,  ...,  0.,  0.,  3.],\n",
              "        [ 0.,  3.,  1.,  ...,  4.,  1.,  5.],\n",
              "        ...,\n",
              "        [ 0.,  2., 15.,  ...,  4.,  1.,  1.],\n",
              "        [ 0.,  4.,  1.,  ...,  4.,  0., 10.],\n",
              "        [ 0.,  4.,  0.,  ...,  4.,  1.,  4.]])"
            ]
          },
          "metadata": {
            "tags": []
          },
          "execution_count": 255
        }
      ]
    },
    {
      "cell_type": "code",
      "metadata": {
        "id": "fEd6cVTaOMCa"
      },
      "source": [
        "pred_list = []\n",
        "with torch.no_grad():\n",
        "    model.eval()\n",
        "    test_pred = model(test)\n",
        "    pred_list.append(test_pred.cpu().numpy())"
      ],
      "execution_count": 256,
      "outputs": []
    },
    {
      "cell_type": "code",
      "metadata": {
        "id": "redWT_AzAxjY"
      },
      "source": [
        "pred_list=[a.squeeze().tolist() for a in pred_list]"
      ],
      "execution_count": 257,
      "outputs": []
    },
    {
      "cell_type": "code",
      "metadata": {
        "id": "qquWRQp6Axms"
      },
      "source": [
        "subdf=pd.DataFrame(test,columns=['User_ID','Product_ID'])\n",
        "subdf['Purchase']=np.reshape(pred_list,(-1,1))"
      ],
      "execution_count": 261,
      "outputs": []
    },
    {
      "cell_type": "code",
      "metadata": {
        "id": "-3KDItoZAxpo",
        "outputId": "8c060a43-142f-4de0-bc79-6e6167c0a7ff",
        "colab": {
          "base_uri": "https://localhost:8080/",
          "height": 197
        }
      },
      "source": [
        "subdf.head()"
      ],
      "execution_count": 262,
      "outputs": [
        {
          "output_type": "execute_result",
          "data": {
            "text/html": [
              "<div>\n",
              "<style scoped>\n",
              "    .dataframe tbody tr th:only-of-type {\n",
              "        vertical-align: middle;\n",
              "    }\n",
              "\n",
              "    .dataframe tbody tr th {\n",
              "        vertical-align: top;\n",
              "    }\n",
              "\n",
              "    .dataframe thead th {\n",
              "        text-align: right;\n",
              "    }\n",
              "</style>\n",
              "<table border=\"1\" class=\"dataframe\">\n",
              "  <thead>\n",
              "    <tr style=\"text-align: right;\">\n",
              "      <th></th>\n",
              "      <th>User_ID</th>\n",
              "      <th>Product_ID</th>\n",
              "      <th>Purchase</th>\n",
              "    </tr>\n",
              "  </thead>\n",
              "  <tbody>\n",
              "    <tr>\n",
              "      <th>0</th>\n",
              "      <td>1000004</td>\n",
              "      <td>P00128942</td>\n",
              "      <td>13986.198242</td>\n",
              "    </tr>\n",
              "    <tr>\n",
              "      <th>1</th>\n",
              "      <td>1000009</td>\n",
              "      <td>P00113442</td>\n",
              "      <td>10200.819336</td>\n",
              "    </tr>\n",
              "    <tr>\n",
              "      <th>2</th>\n",
              "      <td>1000010</td>\n",
              "      <td>P00288442</td>\n",
              "      <td>6457.666504</td>\n",
              "    </tr>\n",
              "    <tr>\n",
              "      <th>3</th>\n",
              "      <td>1000010</td>\n",
              "      <td>P00145342</td>\n",
              "      <td>2499.122314</td>\n",
              "    </tr>\n",
              "    <tr>\n",
              "      <th>4</th>\n",
              "      <td>1000011</td>\n",
              "      <td>P00053842</td>\n",
              "      <td>2680.040771</td>\n",
              "    </tr>\n",
              "  </tbody>\n",
              "</table>\n",
              "</div>"
            ],
            "text/plain": [
              "   User_ID Product_ID      Purchase\n",
              "0  1000004  P00128942  13986.198242\n",
              "1  1000009  P00113442  10200.819336\n",
              "2  1000010  P00288442   6457.666504\n",
              "3  1000010  P00145342   2499.122314\n",
              "4  1000011  P00053842   2680.040771"
            ]
          },
          "metadata": {
            "tags": []
          },
          "execution_count": 262
        }
      ]
    },
    {
      "cell_type": "code",
      "metadata": {
        "id": "oORV2hO6AxtY"
      },
      "source": [
        "subdf.to_csv('subdf.csv', index=False)"
      ],
      "execution_count": 263,
      "outputs": []
    },
    {
      "cell_type": "code",
      "metadata": {
        "id": "yFjSxjx8OMBk"
      },
      "source": [
        ""
      ],
      "execution_count": null,
      "outputs": []
    }
  ]
}