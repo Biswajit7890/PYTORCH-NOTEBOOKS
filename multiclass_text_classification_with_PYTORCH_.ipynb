{
  "nbformat": 4,
  "nbformat_minor": 0,
  "metadata": {
    "colab": {
      "name": "multiclass text classification with PYTORCH .ipynb",
      "provenance": [],
      "collapsed_sections": []
    },
    "kernelspec": {
      "display_name": "Python 3",
      "name": "python3"
    },
    "language_info": {
      "name": "python"
    }
  },
  "cells": [
    {
      "cell_type": "code",
      "metadata": {
        "id": "hkiQPihjpLjP"
      },
      "source": [
        "import pandas as pd\n",
        "import numpy as np\n",
        "import matplotlib.pyplot as plt\n",
        "import seaborn as  sns\n",
        "import warnings\n",
        "warnings.filterwarnings('ignore')\n",
        "import re"
      ],
      "execution_count": 3,
      "outputs": []
    },
    {
      "cell_type": "code",
      "metadata": {
        "id": "CLZpbCsFpONS"
      },
      "source": [
        "import torch\n",
        "import torchtext\n",
        "import os\n",
        "import torch.nn as nn\n",
        "import torch.nn.functional as F\n",
        "from torch.utils.data import DataLoader\n",
        "import time\n",
        "from torch.utils.data.dataset import random_split\n",
        "import re\n",
        "from torchtext.data.utils import ngrams_iterator\n",
        "from torchtext.data.utils import get_tokenizer\n",
        "from torchtext.legacy import data"
      ],
      "execution_count": 4,
      "outputs": []
    },
    {
      "cell_type": "code",
      "metadata": {
        "id": "N0h9xhcwKvlU"
      },
      "source": [
        "SEED = 2019\n",
        "torch.manual_seed(SEED)\n",
        "torch.backends.cudnn.deterministic = True"
      ],
      "execution_count": 5,
      "outputs": []
    },
    {
      "cell_type": "code",
      "metadata": {
        "id": "RPqxRPQFKavh"
      },
      "source": [
        "np.set_printoptions(suppress=True)\n",
        "pd.set_option('display.max_columns',8000)\n",
        "pd.set_option('display.max_rows',7000)"
      ],
      "execution_count": 6,
      "outputs": []
    },
    {
      "cell_type": "code",
      "metadata": {
        "id": "pi49S2TspOTm"
      },
      "source": [
        "train_dataset=pd.read_csv('/content/train disaster.csv')\n",
        "test_dataset=pd.read_csv('/content/test Disaster.csv')"
      ],
      "execution_count": 7,
      "outputs": []
    },
    {
      "cell_type": "code",
      "metadata": {
        "colab": {
          "base_uri": "https://localhost:8080/"
        },
        "id": "rhxyXlnRpOW6",
        "outputId": "19a77058-754b-434b-92b8-4c8e134b4b27"
      },
      "source": [
        "print(len(train_dataset))\n",
        "print(len(test_dataset))"
      ],
      "execution_count": 8,
      "outputs": [
        {
          "output_type": "stream",
          "text": [
            "7613\n",
            "3263\n"
          ],
          "name": "stdout"
        }
      ]
    },
    {
      "cell_type": "code",
      "metadata": {
        "colab": {
          "base_uri": "https://localhost:8080/",
          "height": 197
        },
        "id": "v8g0XOZypOdv",
        "outputId": "b4488387-ac93-4d23-f7f7-25df2960027a"
      },
      "source": [
        "train_dataset.head()"
      ],
      "execution_count": 9,
      "outputs": [
        {
          "output_type": "execute_result",
          "data": {
            "text/html": [
              "<div>\n",
              "<style scoped>\n",
              "    .dataframe tbody tr th:only-of-type {\n",
              "        vertical-align: middle;\n",
              "    }\n",
              "\n",
              "    .dataframe tbody tr th {\n",
              "        vertical-align: top;\n",
              "    }\n",
              "\n",
              "    .dataframe thead th {\n",
              "        text-align: right;\n",
              "    }\n",
              "</style>\n",
              "<table border=\"1\" class=\"dataframe\">\n",
              "  <thead>\n",
              "    <tr style=\"text-align: right;\">\n",
              "      <th></th>\n",
              "      <th>id</th>\n",
              "      <th>keyword</th>\n",
              "      <th>location</th>\n",
              "      <th>text</th>\n",
              "      <th>target</th>\n",
              "    </tr>\n",
              "  </thead>\n",
              "  <tbody>\n",
              "    <tr>\n",
              "      <th>0</th>\n",
              "      <td>1</td>\n",
              "      <td>NaN</td>\n",
              "      <td>NaN</td>\n",
              "      <td>Our Deeds are the Reason of this #earthquake M...</td>\n",
              "      <td>1</td>\n",
              "    </tr>\n",
              "    <tr>\n",
              "      <th>1</th>\n",
              "      <td>4</td>\n",
              "      <td>NaN</td>\n",
              "      <td>NaN</td>\n",
              "      <td>Forest fire near La Ronge Sask. Canada</td>\n",
              "      <td>1</td>\n",
              "    </tr>\n",
              "    <tr>\n",
              "      <th>2</th>\n",
              "      <td>5</td>\n",
              "      <td>NaN</td>\n",
              "      <td>NaN</td>\n",
              "      <td>All residents asked to 'shelter in place' are ...</td>\n",
              "      <td>1</td>\n",
              "    </tr>\n",
              "    <tr>\n",
              "      <th>3</th>\n",
              "      <td>6</td>\n",
              "      <td>NaN</td>\n",
              "      <td>NaN</td>\n",
              "      <td>13,000 people receive #wildfires evacuation or...</td>\n",
              "      <td>1</td>\n",
              "    </tr>\n",
              "    <tr>\n",
              "      <th>4</th>\n",
              "      <td>7</td>\n",
              "      <td>NaN</td>\n",
              "      <td>NaN</td>\n",
              "      <td>Just got sent this photo from Ruby #Alaska as ...</td>\n",
              "      <td>1</td>\n",
              "    </tr>\n",
              "  </tbody>\n",
              "</table>\n",
              "</div>"
            ],
            "text/plain": [
              "   id keyword location                                               text  \\\n",
              "0   1     NaN      NaN  Our Deeds are the Reason of this #earthquake M...   \n",
              "1   4     NaN      NaN             Forest fire near La Ronge Sask. Canada   \n",
              "2   5     NaN      NaN  All residents asked to 'shelter in place' are ...   \n",
              "3   6     NaN      NaN  13,000 people receive #wildfires evacuation or...   \n",
              "4   7     NaN      NaN  Just got sent this photo from Ruby #Alaska as ...   \n",
              "\n",
              "   target  \n",
              "0       1  \n",
              "1       1  \n",
              "2       1  \n",
              "3       1  \n",
              "4       1  "
            ]
          },
          "metadata": {
            "tags": []
          },
          "execution_count": 9
        }
      ]
    },
    {
      "cell_type": "code",
      "metadata": {
        "colab": {
          "base_uri": "https://localhost:8080/",
          "height": 197
        },
        "id": "iml0ygHrpOhG",
        "outputId": "be7c72f7-e01e-4ae7-9b56-771e67621b32"
      },
      "source": [
        "test_dataset.head()"
      ],
      "execution_count": 10,
      "outputs": [
        {
          "output_type": "execute_result",
          "data": {
            "text/html": [
              "<div>\n",
              "<style scoped>\n",
              "    .dataframe tbody tr th:only-of-type {\n",
              "        vertical-align: middle;\n",
              "    }\n",
              "\n",
              "    .dataframe tbody tr th {\n",
              "        vertical-align: top;\n",
              "    }\n",
              "\n",
              "    .dataframe thead th {\n",
              "        text-align: right;\n",
              "    }\n",
              "</style>\n",
              "<table border=\"1\" class=\"dataframe\">\n",
              "  <thead>\n",
              "    <tr style=\"text-align: right;\">\n",
              "      <th></th>\n",
              "      <th>id</th>\n",
              "      <th>keyword</th>\n",
              "      <th>location</th>\n",
              "      <th>text</th>\n",
              "    </tr>\n",
              "  </thead>\n",
              "  <tbody>\n",
              "    <tr>\n",
              "      <th>0</th>\n",
              "      <td>0</td>\n",
              "      <td>NaN</td>\n",
              "      <td>NaN</td>\n",
              "      <td>Just happened a terrible car crash</td>\n",
              "    </tr>\n",
              "    <tr>\n",
              "      <th>1</th>\n",
              "      <td>2</td>\n",
              "      <td>NaN</td>\n",
              "      <td>NaN</td>\n",
              "      <td>Heard about #earthquake is different cities, s...</td>\n",
              "    </tr>\n",
              "    <tr>\n",
              "      <th>2</th>\n",
              "      <td>3</td>\n",
              "      <td>NaN</td>\n",
              "      <td>NaN</td>\n",
              "      <td>there is a forest fire at spot pond, geese are...</td>\n",
              "    </tr>\n",
              "    <tr>\n",
              "      <th>3</th>\n",
              "      <td>9</td>\n",
              "      <td>NaN</td>\n",
              "      <td>NaN</td>\n",
              "      <td>Apocalypse lighting. #Spokane #wildfires</td>\n",
              "    </tr>\n",
              "    <tr>\n",
              "      <th>4</th>\n",
              "      <td>11</td>\n",
              "      <td>NaN</td>\n",
              "      <td>NaN</td>\n",
              "      <td>Typhoon Soudelor kills 28 in China and Taiwan</td>\n",
              "    </tr>\n",
              "  </tbody>\n",
              "</table>\n",
              "</div>"
            ],
            "text/plain": [
              "   id keyword location                                               text\n",
              "0   0     NaN      NaN                 Just happened a terrible car crash\n",
              "1   2     NaN      NaN  Heard about #earthquake is different cities, s...\n",
              "2   3     NaN      NaN  there is a forest fire at spot pond, geese are...\n",
              "3   9     NaN      NaN           Apocalypse lighting. #Spokane #wildfires\n",
              "4  11     NaN      NaN      Typhoon Soudelor kills 28 in China and Taiwan"
            ]
          },
          "metadata": {
            "tags": []
          },
          "execution_count": 10
        }
      ]
    },
    {
      "cell_type": "code",
      "metadata": {
        "colab": {
          "base_uri": "https://localhost:8080/",
          "height": 280
        },
        "id": "S9RhhzGfpOn-",
        "outputId": "9543a729-1a2a-4c46-c6e4-0df07f5e81c8"
      },
      "source": [
        "train_dataset['target'].value_counts().plot(kind='bar')"
      ],
      "execution_count": 11,
      "outputs": [
        {
          "output_type": "execute_result",
          "data": {
            "text/plain": [
              "<matplotlib.axes._subplots.AxesSubplot at 0x7fab7abcf610>"
            ]
          },
          "metadata": {
            "tags": []
          },
          "execution_count": 11
        },
        {
          "output_type": "display_data",
          "data": {
            "image/png": "[encoded data removed]",
            "text/plain": [
              "<Figure size 432x288 with 1 Axes>"
            ]
          },
          "metadata": {
            "tags": [],
            "needs_background": "light"
          }
        }
      ]
    },
    {
      "cell_type": "code",
      "metadata": {
        "id": "GvV_R-83JpXR"
      },
      "source": [
        "def clean_text(Inpdata):\n",
        "    cleanedArticle1=re.sub(r'[?|$|(),\"\".@#=><|!]Â&*/',r' ',Inpdata)\n",
        "    cleanedArticle2=re.sub(r'https?://\\S+|www\\.\\S+',r' ',cleanedArticle1)\n",
        "    cleanedArticle3=re.sub(r'[^a-z A-Z]',r' ',cleanedArticle2)\n",
        "    cleanedArticle4=cleanedArticle3.lower()\n",
        "    cleanedArticle5=re.sub(r'\\b\\w{1,2}\\b', ' ',cleanedArticle4)\n",
        "    cleanedArticle6=re.sub(r' +', ' ',cleanedArticle5)\n",
        "    return(cleanedArticle6)"
      ],
      "execution_count": 12,
      "outputs": []
    },
    {
      "cell_type": "code",
      "metadata": {
        "id": "5JYu29JWJpf-"
      },
      "source": [
        "train_dataset['text_new']=train_dataset['text'].apply(clean_text)\n",
        "test_dataset['text_new']=test_dataset['text'].apply(clean_text)"
      ],
      "execution_count": 13,
      "outputs": []
    },
    {
      "cell_type": "code",
      "metadata": {
        "id": "Kqh_u_NIK-rS"
      },
      "source": [
        "train_dataset=train_dataset.drop(labels=['keyword','location','text','id'], axis=1)\n",
        "test_dataset=test_dataset.drop(labels=['keyword','location','text','id'], axis=1)"
      ],
      "execution_count": 14,
      "outputs": []
    },
    {
      "cell_type": "code",
      "metadata": {
        "colab": {
          "base_uri": "https://localhost:8080/"
        },
        "id": "YuyhxEnNpOra",
        "outputId": "0276a67d-b92c-4c44-c996-9c37f71e7585"
      },
      "source": [
        "device = torch.device(\"cuda:0\" if torch.cuda.is_available() else \"cpu\")\n",
        "device\n"
      ],
      "execution_count": 15,
      "outputs": [
        {
          "output_type": "execute_result",
          "data": {
            "text/plain": [
              "device(type='cpu')"
            ]
          },
          "metadata": {
            "tags": []
          },
          "execution_count": 15
        }
      ]
    },
    {
      "cell_type": "code",
      "metadata": {
        "id": "3ecx0qG_TvoV"
      },
      "source": [
        "TEXT = data.Field(tokenize='spacy',batch_first=True,include_lengths=True)\n",
        "LABEL = data.LabelField(dtype = torch.float,batch_first=True)"
      ],
      "execution_count": 16,
      "outputs": []
    },
    {
      "cell_type": "code",
      "metadata": {
        "id": "facojATWKmCE"
      },
      "source": [
        "fields = [('label', LABEL),('text',TEXT)]"
      ],
      "execution_count": 17,
      "outputs": []
    },
    {
      "cell_type": "code",
      "metadata": {
        "id": "QVfQpvs_Mfod"
      },
      "source": [
        "train_dataset.to_csv('traindf.csv',index=False)\n",
        "test_dataset.to_csv('testdf.csv',index=False)"
      ],
      "execution_count": 18,
      "outputs": []
    },
    {
      "cell_type": "code",
      "metadata": {
        "colab": {
          "base_uri": "https://localhost:8080/"
        },
        "id": "GyycbLD3KmFB",
        "outputId": "b0d98085-79fe-4048-8ce6-461ae1cd5c4a"
      },
      "source": [
        "training_data=data.TabularDataset(path = '/content/traindf.csv',format = 'csv',fields = fields,skip_header = True)\n",
        "print(vars(training_data.examples[1]))"
      ],
      "execution_count": 19,
      "outputs": [
        {
          "output_type": "stream",
          "text": [
            "{'label': '1', 'text': ['forest', 'fire', 'near', 'ronge', 'sask', 'canada']}\n"
          ],
          "name": "stdout"
        }
      ]
    },
    {
      "cell_type": "code",
      "metadata": {
        "id": "Mtq14uXrKmIh"
      },
      "source": [
        "import random\n",
        "train_data, valid_data = training_data.split(split_ratio=0.7, random_state = random.seed(SEED))"
      ],
      "execution_count": 20,
      "outputs": []
    },
    {
      "cell_type": "code",
      "metadata": {
        "colab": {
          "base_uri": "https://localhost:8080/"
        },
        "id": "JtjTxVmLKmYa",
        "outputId": "406641de-ac65-4fe0-a450-ca2914af6571"
      },
      "source": [
        "TEXT.build_vocab(train_data,min_freq=3,vectors = \"glove.6B.100d\")  \n",
        "LABEL.build_vocab(train_data)\n",
        "print(\"Size of TEXT vocabulary:\",len(TEXT.vocab))\n",
        "print(\"Size of LABEL vocabulary:\",len(LABEL.vocab))\n",
        "print(TEXT.vocab.freqs.most_common(10))  \n",
        "print(TEXT.vocab.stoi)  \n",
        "\n"
      ],
      "execution_count": 21,
      "outputs": [
        {
          "output_type": "stream",
          "text": [
            ".vector_cache/glove.6B.zip: 862MB [02:43, 5.29MB/s]                           \n",
            "100%|█████████▉| 398853/400000 [00:18<00:00, 23887.98it/s]"
          ],
          "name": "stderr"
        },
        {
          "output_type": "stream",
          "text": [
            "Size of TEXT vocabulary: 3314\n",
            "Size of LABEL vocabulary: 2\n",
            "[(' ', 2343), ('the', 2298), ('and', 1005), ('you', 631), ('for', 609), ('that', 438), ('with', 407), ('this', 319), ('are', 294), ('from', 294)]\n",
            "defaultdict(<bound method Vocab._default_unk_index of <torchtext.vocab.Vocab object at 0x7fab720db1d0>>, {'<unk>': 0, '<pad>': 1, ' ': 2, 'the': 3, 'and': 4, 'you': 5, 'for': 6, 'that': 7, 'with': 8, 'this': 9, 'are': 10, 'from': 11, 'was': 12, 'have': 13, 'amp': 14, 'like': 15, 'just': 16, 'but': 17, 'not': 18, 'your': 19, 'out': 20, 'can': 21, 'all': 22, 'after': 23, 'will': 24, 'has': 25, 'fire': 26, 'what': 27, 'they': 28, 'when': 29, 'now': 30, 'new': 31, 'via': 32, 'about': 33, 'get': 34, 'more': 35, 'news': 36, 'one': 37, 'how': 38, 'people': 39, 'over': 40, 'who': 41, 'there': 42, 'don': 43, 'emergency': 44, 'been': 45, 'into': 46, 'video': 47, 'disaster': 48, 'than': 49, 'her': 50, 'body': 51, 'time': 52, 'would': 53, 'some': 54, 'suicide': 55, 'his': 56, 'police': 57, 'got': 58, 'day': 59, 'know': 60, 'them': 61, 'man': 62, 'california': 63, 'still': 64, 'first': 65, 'storm': 66, 'buildings': 67, 'burning': 68, 'crash': 69, 'off': 70, 'were': 71, 'bomb': 72, 'going': 73, 'had': 74, 'world': 75, 'dead': 76, 'attack': 77, 'two': 78, 'why': 79, 'back': 80, 'see': 81, 'their': 82, 'killed': 83, 'our': 84, 'nuclear': 85, 'full': 86, 'here': 87, 'love': 88, 'old': 89, 'today': 90, 'hiroshima': 91, 'life': 92, 'may': 93, 'only': 94, 'youtube': 95, 'did': 96, 'fires': 97, 'let': 98, 'families': 99, 'year': 100, 'car': 101, 'home': 102, 'really': 103, 'she': 104, 'down': 105, 'accident': 106, 'good': 107, 'train': 108, 'war': 109, 'way': 110, 'being': 111, 'its': 112, 'make': 113, 'mass': 114, 'say': 115, 'another': 116, 'could': 117, 'death': 118, 'many': 119, 'please': 120, 'think': 121, 'last': 122, 'want': 123, 'years': 124, 'take': 125, 'too': 126, 'army': 127, 'because': 128, 'bombing': 129, 'great': 130, 'school': 131, 'then': 132, 'wildfire': 133, 'collapse': 134, 'lol': 135, 'those': 136, 'water': 137, 'work': 138, 'watch': 139, 'bomber': 140, 'help': 141, 'him': 142, 'much': 143, 'read': 144, 'reddit': 145, 'right': 146, 'black': 147, 'even': 148, 'city': 149, 'look': 150, 'need': 151, 'should': 152, 'best': 153, 'live': 154, 'any': 155, 'typhoon': 156, 'where': 157, 'northern': 158, 'obama': 159, 'shit': 160, 'every': 161, 'floods': 162, 'forest': 163, 'top': 164, 'fatal': 165, 'getting': 166, 'hot': 167, 'japan': 168, 'oil': 169, 'atomic': 170, 'coming': 171, 'hit': 172, 'latest': 173, 'never': 174, 'under': 175, 'come': 176, 'everyone': 177, 'heat': 178, 'homes': 179, 'military': 180, 'weather': 181, 'content': 182, 'evacuation': 183, 'god': 184, 'legionnaires': 185, 'near': 186, 'before': 187, 'flames': 188, 'flood': 189, 'flooding': 190, 'state': 191, 'through': 192, 'truck': 193, 'ass': 194, 'cross': 195, 'damage': 196, 'injured': 197, 'plan': 198, 'stop': 199, 'times': 200, 'blood': 201, 'face': 202, 'fear': 203, 'hope': 204, 'next': 205, 'nt': 206, 'saudi': 207, 'spill': 208, 'while': 209, 'wounded': 210, 'area': 211, 'bags': 212, 'lightning': 213, 'red': 214, 'said': 215, 'wild': 216, 'again': 217, 'devastated': 218, 'explosion': 219, 'found': 220, 'hail': 221, 'high': 222, 'house': 223, 'hurricane': 224, 'most': 225, 'movie': 226, 'murder': 227, 'run': 228, 'severe': 229, 'since': 230, 'these': 231, 'thunderstorm': 232, 'well': 233, 'which': 234, 'without': 235, 'china': 236, 'does': 237, 'evacuate': 238, 'ever': 239, 'feel': 240, 'fucking': 241, 'made': 242, 'night': 243, 'trapped': 244, 'until': 245, 'weapon': 246, 'wreck': 247, 'air': 248, 'bad': 249, 'check': 250, 'deaths': 251, 'destroy': 252, 'destroyed': 253, 'earthquake': 254, 'fatalities': 255, 'looks': 256, 'rain': 257, 'summer': 258, 'terrorism': 259, 'thunder': 260, 'wind': 261, 'bloody': 262, 'bus': 263, 'free': 264, 'gon': 265, 'set': 266, 'sinking': 267, 'someone': 268, 'ambulance': 269, 'around': 270, 'battle': 271, 'fall': 272, 'harm': 273, 'hazard': 274, 'loud': 275, 'mosque': 276, 'other': 277, 'rescuers': 278, 'weapons': 279, 'also': 280, 'boy': 281, 'charged': 282, 'danger': 283, 'drought': 284, 'end': 285, 'family': 286, 'game': 287, 'girl': 288, 'head': 289, 'malaysia': 290, 'released': 291, 'save': 292, 'screaming': 293, 'sinkhole': 294, 'survive': 295, 'terrorist': 296, 'warning': 297, 'wave': 298, 'apocalypse': 299, 'breaking': 300, 'cause': 301, 'chemical': 302, 'collision': 303, 'failure': 304, 'food': 305, 'injuries': 306, 'inundated': 307, 'kills': 308, 'least': 309, 'left': 310, 'little': 311, 'lives': 312, 'migrants': 313, 'na': 314, 'post': 315, 'real': 316, 'report': 317, 'sunk': 318, 'against': 319, 'attacked': 320, 'bag': 321, 'bagging': 322, 'bridge': 323, 'change': 324, 'collided': 325, 'confirmed': 326, 'debris': 327, 'drowning': 328, 'half': 329, 'heart': 330, 'hundreds': 331, 'liked': 332, 'mudslide': 333, 'natural': 334, 'quarantine': 335, 'quarantined': 336, 'refugees': 337, 'rioting': 338, 'saw': 339, 'says': 340, 'survived': 341, 'survivors': 342, 'things': 343, 'woman': 344, 'women': 345, 'armageddon': 346, 'better': 347, 'bombed': 348, 'catastrophe': 349, 'deluge': 350, 'derailment': 351, 'during': 352, 'explode': 353, 'heard': 354, 'island': 355, 'north': 356, 'outbreak': 357, 'pandemonium': 358, 'photo': 359, 'service': 360, 'services': 361, 'stock': 362, 'tornado': 363, 'twister': 364, 'use': 365, 'airplane': 366, 'crush': 367, 'derail': 368, 'derailed': 369, 'detonated': 370, 'drowned': 371, 'famine': 372, 'fedex': 373, 'fuck': 374, 'hijacker': 375, 'horrible': 376, 'hostages': 377, 'landslide': 378, 'lava': 379, 'longer': 380, 'market': 381, 'panic': 382, 'self': 383, 'song': 384, 'story': 385, 'tomorrow': 386, 'tonight': 387, 'trouble': 388, 'twitter': 389, 'violent': 390, 'volcano': 391, 'white': 392, 'wrecked': 393, 'anniversary': 394, 'august': 395, 'bang': 396, 'bioterror': 397, 'bleeding': 398, 'burned': 399, 'collapsed': 400, 'county': 401, 'crashed': 402, 'curfew': 403, 'destruction': 404, 'devastation': 405, 'displaced': 406, 'doing': 407, 'electrocuted': 408, 'eyewitness': 409, 'government': 410, 'hellfire': 411, 'injury': 412, 'keep': 413, 'massacre': 414, 'officer': 415, 'pkk': 416, 'power': 417, 'riot': 418, 'road': 419, 'structural': 420, 'suspect': 421, 'three': 422, 'traumatised': 423, 'whole': 424, 'wreckage': 425, 'abc': 426, 'affected': 427, 'always': 428, 'bioterrorism': 429, 'blazing': 430, 'boat': 431, 'casualties': 432, 'desolation': 433, 'dust': 434, 'engulfed': 435, 'kids': 436, 'light': 437, 'meltdown': 438, 'must': 439, 'panicking': 440, 'pic': 441, 'possible': 442, 'remember': 443, 'ruin': 444, 'thing': 445, 'trauma': 446, 'week': 447, 'wounds': 448, 'away': 449, 'baby': 450, 'blast': 451, 'call': 452, 'cliff': 453, 'cool': 454, 'demolish': 455, 'detonation': 456, 'ebay': 457, 'exploded': 458, 'fight': 459, 'missing': 460, 'national': 461, 'past': 462, 'plane': 463, 'plans': 464, 'sandstorm': 465, 'screamed': 466, 'show': 467, 'siren': 468, 'something': 469, 'soudelor': 470, 'tsunami': 471, 'turkey': 472, 'update': 473, 'went': 474, 'windstorm': 475, 'yet': 476, 'zone': 477, 'already': 478, 'aug': 479, 'big': 480, 'blew': 481, 'blown': 482, 'came': 483, 'country': 484, 'die': 485, 'drown': 486, 'evacuated': 487, 'fatality': 488, 'few': 489, 'flattened': 490, 'group': 491, 'having': 492, 'inside': 493, 'investigators': 494, 'kill': 495, 'long': 496, 'murderer': 497, 'obliterate': 498, 'officials': 499, 'order': 500, 'part': 501, 'policy': 502, 'pretty': 503, 'rainstorm': 504, 'razed': 505, 'rescue': 506, 'rescued': 507, 'reunion': 508, 'river': 509, 'send': 510, 'shot': 511, 'stay': 512, 'thanks': 513, 'thought': 514, 'traffic': 515, 'tragedy': 516, 'used': 517, 'very': 518, 'whirlwind': 519, 'words': 520, 'ablaze': 521, 'america': 522, 'american': 523, 'bodies': 524, 'caused': 525, 'cyclone': 526, 'demolition': 527, 'detonate': 528, 'died': 529, 'done': 530, 'fun': 531, 'goes': 532, 'hazardous': 533, 'helicopter': 534, 'history': 535, 'iran': 536, 'minute': 537, 'offensive': 538, 'online': 539, 'outside': 540, 'person': 541, 'phone': 542, 'projected': 543, 'rubble': 544, 'screams': 545, 'searching': 546, 'security': 547, 'smoke': 548, 'start': 549, 'such': 550, 'upheaval': 551, 'wanna': 552, 'ago': 553, 'annihilated': 554, 'beautiful': 555, 'bigger': 556, 'bush': 557, 'care': 558, 'crushed': 559, 'days': 560, 'deal': 561, 'declares': 562, 'demolished': 563, 'desolate': 564, 'far': 565, 'gets': 566, 'guy': 567, 'hostage': 568, 'hours': 569, 'isis': 570, 'land': 571, 'lost': 572, 'making': 573, 'nothing': 574, 'own': 575, 'put': 576, 'second': 577, 'shooting': 578, 'shoulder': 579, 'sirens': 580, 'site': 581, 'soon': 582, 'stretcher': 583, 'trench': 584, 'trying': 585, 'actually': 586, 'almost': 587, 'arson': 588, 'building': 589, 'business': 590, 'calgary': 591, 'catastrophic': 592, 'center': 593, 'children': 594, 'control': 595, 'costlier': 596, 'deluged': 597, 'effect': 598, 'fan': 599, 'find': 600, 'hijack': 601, 'hijacking': 602, 'israeli': 603, 'lot': 604, 'maybe': 605, 'memories': 606, 'mph': 607, 'music': 608, 'nearby': 609, 'obliteration': 610, 'pakistan': 611, 'peace': 612, 'place': 613, 'refugio': 614, 'sound': 615, 'stand': 616, 'street': 617, 'sue': 618, 'thank': 619, 'transport': 620, 'wake': 621, 'yourself': 622, 'airport': 623, 'annihilation': 624, 'arsonist': 625, 'avalanche': 626, 'bar': 627, 'blight': 628, 'brown': 629, 'collide': 630, 'doesn': 631, 'due': 632, 'feared': 633, 'finally': 634, 'guys': 635, 'happy': 636, 'hell': 637, 'india': 638, 'job': 639, 'lab': 640, 'media': 641, 'meek': 642, 'picking': 643, 's': 644, 'saipan': 645, 'seismic': 646, 'ship': 647, 'sign': 648, 'south': 649, 'space': 650, 'talk': 651, 'youth': 652, 'anyone': 653, 'anything': 654, 'believe': 655, 'both': 656, 'conclusively': 657, 'daily': 658, 'drake': 659, 'electrocute': 660, 'emmerdale': 661, 'everything': 662, 'giant': 663, 'hear': 664, 'hollywood': 665, 'jobs': 666, 'knock': 667, 'lord': 668, 'low': 669, 'major': 670, 'manslaughter': 671, 'once': 672, 'prebreak': 673, 'responders': 674, 'rise': 675, 'same': 676, 'saved': 677, 'sensor': 678, 'side': 679, 'signs': 680, 'snowstorm': 681, 'support': 682, 'sure': 683, 'swallowed': 684, 'tell': 685, 'trains': 686, 'wait': 687, 'west': 688, 'worst': 689, 'yes': 690, 'aftershock': 691, 'angry': 692, 'ball': 693, 'bestnaijamade': 694, 'blizzard': 695, 'case': 696, 'casualty': 697, 'child': 698, 'closed': 699, 'eye': 700, 'feeling': 701, 'flag': 702, 'friend': 703, 'hailstorm': 704, 'hat': 705, 'health': 706, 'heavy': 707, 'hey': 708, 'horror': 709, 'ignition': 710, 'islam': 711, 'isn': 712, 'learn': 713, 'leave': 714, 'looking': 715, 'makes': 716, 'men': 717, 'might': 718, 'miners': 719, 'mom': 720, 'money': 721, 'morning': 722, 'mount': 723, 'needs': 724, 'nowplaying': 725, 'obliterated': 726, 'official': 727, 'okay': 728, 'others': 729, 'pain': 730, 'photos': 731, 'poor': 732, 'reactor': 733, 'reports': 734, 'reuters': 735, 'taken': 736, 'thousands': 737, 'town': 738, 'utc': 739, 'won': 740, 'wrong': 741, 'action': 742, 'alone': 743, 'amid': 744, 'banned': 745, 'bayelsa': 746, 'blaze': 747, 'cars': 748, 'claims': 749, 'comes': 750, 'couple': 751, 'course': 752, 'crazy': 753, 'data': 754, 'didn': 755, 'driver': 756, 'eyes': 757, 'fans': 758, 'friends': 759, 'haha': 760, 'info': 761, 'issues': 762, 'line': 763, 'literally': 764, 'mayhem': 765, 'muslims': 766, 'myanmar': 767, 'name': 768, 'patience': 769, 'pay': 770, 'property': 771, 'running': 772, 'sorry': 773, 'spot': 774, 'team': 775, 'toddler': 776, 'totally': 777, 'try': 778, 'village': 779, 'wants': 780, 'wow': 781, 'young': 782, 'across': 783, 'aircraft': 784, 'anthrax': 785, 'book': 786, 'called': 787, 'caught': 788, 'christian': 789, 'class': 790, 'crews': 791, 'crisis': 792, 'damn': 793, 'declaration': 794, 'do': 795, 'downtown': 796, 'driving': 797, 'east': 798, 'fast': 799, 'gbbo': 800, 'gems': 801, 'hate': 802, 'image': 803, 'issued': 804, 'leather': 805, 'local': 806, 'nagasaki': 807, 'nearly': 808, 'parole': 809, 'play': 810, 'quiz': 811, 'reason': 812, 'richmond': 813, 'rules': 814, 'seeing': 815, 'seen': 816, 'star': 817, 'subreddits': 818, 'texas': 819, 'truth': 820, 'united': 821, 'upon': 822, 'vehicle': 823, 'waves': 824, 'womens': 825, 'yeah': 826, 'appears': 827, 'ashes': 828, 'australia': 829, 'beach': 830, 'become': 831, 'behind': 832, 'blue': 833, 'centre': 834, 'chance': 835, 'chicago': 836, 'cold': 837, 'computers': 838, 'dance': 839, 'date': 840, 'dies': 841, 'disea': 842, 'early': 843, 'ebola': 844, 'else': 845, 'expected': 846, 'film': 847, 'flight': 848, 'front': 849, 'govt': 850, 'guess': 851, 'gun': 852, 'hair': 853, 'haven': 854, 'jonathan': 855, 'landing': 856, 'listen': 857, 'marks': 858, 'middle': 859, 'mishaps': 860, 'move': 861, 'myself': 862, 'occurred': 863, 'open': 864, 'pamela': 865, 'pick': 866, 'point': 867, 'probably': 868, 'sad': 869, 'shots': 870, 'taking': 871, 'temple': 872, 'thinking': 873, 'thursday': 874, 'usa': 875, 'watching': 876, 'wednesday': 877, 'win': 878, 'yours': 879, 'added': 880, 'africa': 881, 'ain': 882, 'alabama': 883, 'alarm': 884, 'apc': 885, 'bed': 886, 'businesses': 887, 'cake': 888, 'career': 889, 'climate': 890, 'colorado': 891, 'cut': 892, 'department': 893, 'dog': 894, 'download': 895, 'entire': 896, 'favorite': 897, 'flash': 898, 'friday': 899, 'fukushima': 900, 'gave': 901, 'geller': 902, 'germs': 903, 'girls': 904, 'gop': 905, 'hard': 906, 'hiring': 907, 'hour': 908, 'huge': 909, 'internet': 910, 'involving': 911, 'ladies': 912, 'lake': 913, 'madhya': 914, 'nigerian': 915, 'outrage': 916, 'pakistani': 917, 'party': 918, 'planned': 919, 'playing': 920, 'pradesh': 921, 'prepare': 922, 'public': 923, 'ready': 924, 'risk': 925, 'rock': 926, 'room': 927, 'russian': 928, 'safety': 929, 'scared': 930, 'season': 931, 'secret': 932, 'series': 933, 'share': 934, 'sounds': 935, 'started': 936, 'taiwan': 937, 'though': 938, 'till': 939, 'told': 940, 'turned': 941, 'tweet': 942, 'twelve': 943, 'virgin': 944, 'walk': 945, 'waving': 946, 'wife': 947, 'wonder': 948, 'absolutely': 949, 'agree': 950, 'ancient': 951, 'bbc': 952, 'birthday': 953, 'break': 954, 'broke': 955, 'burn': 956, 'camp': 957, 'central': 958, 'cnn': 959, 'coaches': 960, 'comment': 961, 'cree': 962, 'crematoria': 963, 'deep': 964, 'dogs': 965, 'drink': 966, 'drive': 967, 'dude': 968, 'enough': 969, 'evening': 970, 'fact': 971, 'falling': 972, 'follow': 973, 'following': 974, 'force': 975, 'france': 976, 'funtenna': 977, 'galactic': 978, 'give': 979, 'giving': 980, 'governor': 981, 'green': 982, 'handbag': 983, 'happen': 984, 'happened': 985, 'hasn': 986, 'holding': 987, 'houses': 988, 'human': 989, 'instead': 990, 'interesting': 991, 'lamp': 992, 'large': 993, 'later': 994, 'led': 995, 'libya': 996, 'lies': 997, 'link': 998, 'living': 999, 'lmao': 1000, 'london': 1001, 'loving': 1002, 'mad': 1003, 'michael': 1004, 'militants': 1005, 'mine': 1006, 'miss': 1007, 'mod': 1008, 'mountain': 1009, 'neighbour': 1010, 'niggas': 1011, 'park': 1012, 'pass': 1013, 'passengers': 1014, 'paul': 1015, 'phoenix': 1016, 'problem': 1017, 'radio': 1018, 'runs': 1019, 'russia': 1020, 'saying': 1021, 'senso': 1022, 'sex': 1023, 'shape': 1024, 'ships': 1025, 'sick': 1026, 'sky': 1027, 'small': 1028, 'sometimes': 1029, 'sos': 1030, 'strike': 1031, 'strong': 1032, 'stuff': 1033, 'takes': 1034, 'terror': 1035, 'took': 1036, 'travel': 1037, 'true': 1038, 'trust': 1039, 'unconfirmed': 1040, 'using': 1041, 'victim': 1042, 'washington': 1043, 'winds': 1044, 'aba': 1045, 'ahead': 1046, 'allows': 1047, 'amazon': 1048, 'aren': 1049, 'arrested': 1050, 'ask': 1051, 'based': 1052, 'between': 1053, 'biggest': 1054, 'bombs': 1055, 'bring': 1056, 'buy': 1057, 'cameroon': 1058, 'cat': 1059, 'changes': 1060, 'chile': 1061, 'cover': 1062, 'dad': 1063, 'dan': 1064, 'delivers': 1065, 'desires': 1066, 'disney': 1067, 'drunk': 1068, 'escape': 1069, 'exchanging': 1070, 'expect': 1071, 'experts': 1072, 'false': 1073, 'fat': 1074, 'felt': 1075, 'former': 1076, 'four': 1077, 'glad': 1078, 'ground': 1079, 'guide': 1080, 'hand': 1081, 'hospital': 1082, 'idea': 1083, 'insurance': 1084, 'insurer': 1085, 'jeb': 1086, 'level': 1087, 'lose': 1088, 'louis': 1089, 'marians': 1090, 'metro': 1091, 'months': 1092, 'nigga': 1093, 'nws': 1094, 'oklahoma': 1095, 'omg': 1096, 'parents': 1097, 'playlist': 1098, 'potus': 1099, 'ppl': 1100, 'press': 1101, 'provoke': 1102, 'reasons': 1103, 'record': 1104, 'roosevelt': 1105, 'scene': 1106, 'sense': 1107, 'serious': 1108, 'setting': 1109, 'shift': 1110, 'shows': 1111, 'soul': 1112, 'spring': 1113, 'standard': 1114, 'stories': 1115, 'sun': 1116, 'sunday': 1117, 'tears': 1118, 'theater': 1119, 'tote': 1120, 'tree': 1121, 'wish': 1122, 'working': 1123, 'york': 1124, 'act': 1125, 'album': 1126, 'alive': 1127, 'apply': 1128, 'art': 1129, 'ave': 1130, 'awesome': 1131, 'british': 1132, 'calls': 1133, 'cdt': 1134, 'chief': 1135, 'common': 1136, 'company': 1137, 'cops': 1138, 'court': 1139, 'denver': 1140, 'different': 1141, 'effects': 1142, 'either': 1143, 'emotional': 1144, 'enugu': 1145, 'event': 1146, 'extreme': 1147, 'faux': 1148, 'feels': 1149, 'fighting': 1150, 'fleets': 1151, 'football': 1152, 'global': 1153, 'hobo': 1154, 'indian': 1155, 'industry': 1156, 'information': 1157, 'internally': 1158, 'islamic': 1159, 'issue': 1160, 'japanese': 1161, 'join': 1162, 'king': 1163, 'kit': 1164, 'lady': 1165, 'likely': 1166, 'linked': 1167, 'main': 1168, 'map': 1169, 'mary': 1170, 'means': 1171, 'mediterranean': 1172, 'metal': 1173, 'millions': 1174, 'moment': 1175, 'month': 1176, 'offroad': 1177, 'pathogens': 1178, 'pdp': 1179, 'petition': 1180, 'philippines': 1181, 'president': 1182, 'purse': 1183, 'rather': 1184, 'region': 1185, 'research': 1186, 'response': 1187, 'route': 1188, 'salt': 1189, 'seattle': 1190, 'seeks': 1191, 'silver': 1192, 'sitting': 1193, 'situation': 1194, 'soldiers': 1195, 'stage': 1196, 'states': 1197, 'suspected': 1198, 'ta': 1199, 'tension': 1200, 'tent': 1201, 'tho': 1202, 'totaling': 1203, 'trent': 1204, 'udhampur': 1205, 'union': 1206, 'updates': 1207, 'usgs': 1208, 'view': 1209, 'voice': 1210, 'vote': 1211, 'wall': 1212, 'weekend': 1213, 'wo': 1214, 'woke': 1215, 'word': 1216, 'wtf': 1217, 'abandoned': 1218, 'able': 1219, 'airlines': 1220, 'amazing': 1221, 'angel': 1222, 'animal': 1223, 'answer': 1224, 'apollo': 1225, 'arabia': 1226, 'arianagrande': 1227, 'ban': 1228, 'beyond': 1229, 'bit': 1230, 'block': 1231, 'blocked': 1232, 'box': 1233, 'cable': 1234, 'canada': 1235, 'careful': 1236, 'causes': 1237, 'causing': 1238, 'coast': 1239, 'combo': 1240, 'cop': 1241, 'cost': 1242, 'cranes': 1243, 'cruz': 1244, 'disease': 1245, 'door': 1246, 'dying': 1247, 'each': 1248, 'earlier': 1249, 'earth': 1250, 'epic': 1251, 'equipment': 1252, 'express': 1253, 'extremely': 1254, 'fantasy': 1255, 'fashion': 1256, 'feet': 1257, 'five': 1258, 'floor': 1259, 'forever': 1260, 'freak': 1261, 'games': 1262, 'gas': 1263, 'glass': 1264, 'gone': 1265, 'gov': 1266, 'happens': 1267, 'hello': 1268, 'highway': 1269, 'hwy': 1270, 'ice': 1271, 'impact': 1272, 'incident': 1273, 'international': 1274, 'investigating': 1275, 'israel': 1276, 'joe': 1277, 'jst': 1278, 'keeps': 1279, 'kid': 1280, 'killing': 1281, 'kinda': 1282, 'leaving': 1283, 'less': 1284, 'lets': 1285, 'lil': 1286, 'limited': 1287, 'loose': 1288, 'loved': 1289, 'lucky': 1290, 'med': 1291, 'members': 1292, 'mind': 1293, 'mini': 1294, 'minutes': 1295, 'non': 1296, 'none': 1297, 'number': 1298, 'perfect': 1299, 'pile': 1300, 'potential': 1301, 'practice': 1302, 'pray': 1303, 'prevent': 1304, 'program': 1305, 'queen': 1306, 'question': 1307, 'quite': 1308, 'radiation': 1309, 'reading': 1310, 'repatriated': 1311, 'reported': 1312, 'return': 1313, 'rly': 1314, 'ross': 1315, 'rubber': 1316, 'san': 1317, 'sea': 1318, 'search': 1319, 'seems': 1320, 'shall': 1321, 'short': 1322, 'shouldn': 1323, 'sister': 1324, 'sit': 1325, 'smaug': 1326, 'snow': 1327, 'social': 1328, 'sports': 1329, 'starts': 1330, 'students': 1331, 'stupid': 1332, 'super': 1333, 'syrian': 1334, 'talking': 1335, 'technology': 1336, 'test': 1337, 'text': 1338, 'threat': 1339, 'trump': 1340, 'turkish': 1341, 'units': 1342, 'usatoday': 1343, 'usually': 1344, 'version': 1345, 'victims': 1346, 'walking': 1347, 'wanted': 1348, 'wasn': 1349, 'wedding': 1350, 'window': 1351, 'wmata': 1352, 'worse': 1353, 'wrought': 1354, 'access': 1355, 'according': 1356, 'account': 1357, 'among': 1358, 'antioch': 1359, 'app': 1360, 'arrived': 1361, 'asked': 1362, 'bathroom': 1363, 'bay': 1364, 'beat': 1365, 'began': 1366, 'begin': 1367, 'bitch': 1368, 'board': 1369, 'bombings': 1370, 'books': 1371, 'boys': 1372, 'broken': 1373, 'brother': 1374, 'brought': 1375, 'build': 1376, 'burns': 1377, 'burst': 1378, 'captures': 1379, 'carrying': 1380, 'character': 1381, 'church': 1382, 'close': 1383, 'clutch': 1384, 'colour': 1385, 'complete': 1386, 'computer': 1387, 'conference': 1388, 'create': 1389, 'crying': 1390, 'damaged': 1391, 'dangerous': 1392, 'dark': 1393, 'david': 1394, 'direction': 1395, 'drill': 1396, 'easy': 1397, 'edm': 1398, 'enjoy': 1399, 'epicentre': 1400, 'experience': 1401, 'facebook': 1402, 'fears': 1403, 'ferguson': 1404, 'firefighter': 1405, 'firefighters': 1406, 'fish': 1407, 'fnet': 1408, 'fog': 1409, 'forced': 1410, 'forecast': 1411, 'foxnews': 1412, 'funny': 1413, 'general': 1414, 'genocide': 1415, 'grows': 1416, 'handbags': 1417, 'hawaii': 1418, 'heavenly': 1419, 'helping': 1420, 'hero': 1421, 'hill': 1422, 'hobbit': 1423, 'honestly': 1424, 'horse': 1425, 'hungry': 1426, 'imagine': 1427, 'inch': 1428, 'indeed': 1429, 'inundation': 1430, 'irandeal': 1431, 'justice': 1432, 'killer': 1433, 'knew': 1434, 'kombat': 1435, 'lots': 1436, 'manchester': 1437, 'match': 1438, 'matter': 1439, 'mean': 1440, 'meat': 1441, 'mediterran': 1442, 'mhtw': 1443, 'million': 1444, 'mode': 1445, 'mortal': 1446, 'motorcyclist': 1447, 'moving': 1448, 'nah': 1449, 'nature': 1450, 'nice': 1451, 'nyc': 1452, 'office': 1453, 'okwx': 1454, 'orders': 1455, 'original': 1456, 'outlook': 1457, 'owner': 1458, 'palestinian': 1459, 'patient': 1460, 'pics': 1461, 'picture': 1462, 'piece': 1463, 'played': 1464, 'plunging': 1465, 'plus': 1466, 'politics': 1467, 'pool': 1468, 'pop': 1469, 'pre': 1470, 'pussy': 1471, 'recount': 1472, 'reduce': 1473, 'related': 1474, 'release': 1475, 'repair': 1476, 'residents': 1477, 'result': 1478, 'review': 1479, 'round': 1480, 'sale': 1481, 'screen': 1482, 'seconds': 1483, 'secrets': 1484, 'shop': 1485, 'signed': 1486, 'single': 1487, 'smh': 1488, 'son': 1489, 'southern': 1490, 'steve': 1491, 'struggles': 1492, 'supposed': 1493, 'survival': 1494, 'teen': 1495, 'tips': 1496, 'together': 1497, 'total': 1498, 'tribal': 1499, 'tried': 1500, 'tube': 1501, 'turn': 1502, 'upset': 1503, 'veterans': 1504, 'videos': 1505, 'waiting': 1506, 'welcome': 1507, 'western': 1508, 'wildfires': 1509, 'worry': 1510, 'wwii': 1511, 'yyc': 1512, 'abstorm': 1513, 'actions': 1514, 'adult': 1515, 'advisory': 1516, 'afghanistan': 1517, 'aid': 1518, 'aim': 1519, 'allah': 1520, 'along': 1521, 'annual': 1522, 'anti': 1523, 'anymore': 1524, 'apartment': 1525, 'areas': 1526, 'articles': 1527, 'asking': 1528, 'associated': 1529, 'avoid': 1530, 'awful': 1531, 'baseball': 1532, 'bet': 1533, 'bin': 1534, 'bout': 1535, 'bringing': 1536, 'brooklyn': 1537, 'browser': 1538, 'built': 1539, 'buses': 1540, 'canaanites': 1541, 'cancer': 1542, 'ceo': 1543, 'charity': 1544, 'choice': 1545, 'civilian': 1546, 'coffee': 1547, 'completely': 1548, 'compliant': 1549, 'concert': 1550, 'continue': 1551, 'cook': 1552, 'costs': 1553, 'currently': 1554, 'curved': 1555, 'deadly': 1556, 'deals': 1557, 'debate': 1558, 'directioners': 1559, 'djicemoon': 1560, 'dnb': 1561, 'drop': 1562, 'dubstep': 1563, 'economic': 1564, 'edition': 1565, 'edt': 1566, 'energy': 1567, 'england': 1568, 'episode': 1569, 'etc': 1570, 'evil': 1571, 'examining': 1572, 'except': 1573, 'exchange': 1574, 'exit': 1575, 'exp': 1576, 'fail': 1577, 'fake': 1578, 'fell': 1579, 'feminists': 1580, 'festival': 1581, 'financial': 1582, 'florida': 1583, 'floyd': 1584, 'followers': 1585, 'foot': 1586, 'forget': 1587, 'fort': 1588, 'foxtrot': 1589, 'french': 1590, 'fruit': 1591, 'future': 1592, 'fyi': 1593, 'gained': 1594, 'gay': 1595, 'georgia': 1596, 'gold': 1597, 'gotten': 1598, 'greatest': 1599, 'grill': 1600, 'grow': 1601, 'guns': 1602, 'happening': 1603, 'himself': 1604, 'hits': 1605, 'homeless': 1606, 'hwo': 1607, 'icemoon': 1608, 'ices': 1609, 'illegal': 1610, 'including': 1611, 'incredible': 1612, 'intensity': 1613, 'invoices': 1614, 'jack': 1615, 'jackson': 1616, 'jesus': 1617, 'joy': 1618, 'knows': 1619, 'kyle': 1620, 'lack': 1621, 'lane': 1622, 'late': 1623, 'law': 1624, 'lead': 1625, 'leading': 1626, 'learning': 1627, 'lifted': 1628, 'lights': 1629, 'lion': 1630, 'list': 1631, 'listening': 1632, 'loss': 1633, 'markets': 1634, 'mikeparractor': 1635, 'missed': 1636, 'mother': 1637, 'municipal': 1638, 'needed': 1639, 'nine': 1640, 'ocean': 1641, 'offers': 1642, 'ones': 1643, 'opening': 1644, 'opens': 1645, 'org': 1646, 'parenthood': 1647, 'parker': 1648, 'path': 1649, 'percent': 1650, 'plains': 1651, 'player': 1652, 'portland': 1653, 'posts': 1654, 'prepared': 1655, 'preparedness': 1656, 'project': 1657, 'proof': 1658, 'rains': 1659, 'rare': 1660, 'ray': 1661, 'relief': 1662, 'remove': 1663, 'residential': 1664, 'respond': 1665, 'ridge': 1666, 'rip': 1667, 'rocky': 1668, 'roof': 1669, 'root': 1670, 'rule': 1671, 'sat': 1672, 'satellite': 1673, 'saturday': 1674, 'saving': 1675, 'schedule': 1676, 'science': 1677, 'seat': 1678, 'seek': 1679, 'senior': 1680, 'sir': 1681, 'sismo': 1682, 'sleeping': 1683, 'slightly': 1684, 'special': 1685, 'spent': 1686, 'spos': 1687, 'stadium': 1688, 'starting': 1689, 'stone': 1690, 'stopped': 1691, 'store': 1692, 'straight': 1693, 'strategy': 1694, 'stream': 1695, 'student': 1696, 'style': 1697, 'surprise': 1698, 'tax': 1699, 'tcot': 1700, 'tech': 1701, 'ten': 1702, 'terrible': 1703, 'terrorists': 1704, 'til': 1705, 'tired': 1706, 'township': 1707, 'track': 1708, 'tracks': 1709, 'training': 1710, 'trapmusic': 1711, 'trfc': 1712, 'trip': 1713, 'tropical': 1714, 'tweets': 1715, 'understand': 1716, 'unless': 1717, 'updated': 1718, 'user': 1719, 'vehicles': 1720, 'vine': 1721, 'vinyl': 1722, 'vuitton': 1723, 'warnings': 1724, 'wash': 1725, 'wealth': 1726, 'workers': 1727, 'worldnews': 1728, 'wouldn': 1729, 'yrs': 1730, 'above': 1731, 'accidents': 1732, 'acres': 1733, 'active': 1734, 'activity': 1735, 'add': 1736, 'afghan': 1737, 'afterlife': 1738, 'afternoon': 1739, 'aka': 1740, 'alaska': 1741, 'alert': 1742, 'alleged': 1743, 'allow': 1744, 'allowed': 1745, 'alps': 1746, 'approaches': 1747, 'arrive': 1748, 'attacks': 1749, 'attention': 1750, 'avoiding': 1751, 'bake': 1752, 'begins': 1753, 'below': 1754, 'ben': 1755, 'beyonce': 1756, 'bicyclist': 1757, 'blessings': 1758, 'blk': 1759, 'bluejays': 1760, 'blvd': 1761, 'bob': 1762, 'boston': 1763, 'bought': 1764, 'brain': 1765, 'brazil': 1766, 'broad': 1767, 'broadway': 1768, 'bruh': 1769, 'budget': 1770, 'buffalo': 1771, 'ca': 1772, 'calling': 1773, 'calm': 1774, 'card': 1775, 'carry': 1776, 'chaos': 1777, 'cheese': 1778, 'christmas': 1779, 'cinema': 1780, 'cleanup': 1781, 'clip': 1782, 'collection': 1783, 'companies': 1784, 'confirms': 1785, 'congress': 1786, 'connector': 1787, 'correction': 1788, 'countries': 1789, 'cramer': 1790, 'crap': 1791, 'created': 1792, 'crime': 1793, 'crossed': 1794, 'cute': 1795, 'd': 1796, 'debt': 1797, 'degrees': 1798, 'depth': 1799, 'desire': 1800, 'destiny': 1801, 'destroys': 1802, 'diet': 1803, 'diving': 1804, 'documents': 1805, 'dollar': 1806, 'dorret': 1807, 'dragon': 1808, 'dream': 1809, 'drinking': 1810, 'dropped': 1811, 'duty': 1812, 'earners': 1813, 'electronic': 1814, 'ems': 1815, 'ended': 1816, 'enemy': 1817, 'eruption': 1818, 'estimate': 1819, 'everyday': 1820, 'exactly': 1821, 'faan': 1822, 'falls': 1823, 'feat': 1824, 'feed': 1825, 'field': 1826, 'fill': 1827, 'fine': 1828, 'fix': 1829, 'forces': 1830, 'founder': 1831, 'fox': 1832, 'freakiest': 1833, 'fuel': 1834, 'fully': 1835, 'fwy': 1836, 'gang': 1837, 'generation': 1838, 'german': 1839, 'given': 1840, 'google': 1841, 'gunman': 1842, 'gusts': 1843, 'hands': 1844, 'hatchet': 1845, 'he': 1846, 'hearing': 1847, 'hearts': 1848, 'heights': 1849, 'hilarious': 1850, 'hold': 1851, 'holiday': 1852, 'holy': 1853, 'horses': 1854, 'hotel': 1855, 'housing': 1856, 'hurts': 1857, 'iger': 1858, 'increased': 1859, 'inner': 1860, 'insane': 1861, 'insurers': 1862, 'italian': 1863, 'italy': 1864, 'jam': 1865, 'justinbieber': 1866, 'kick': 1867, 'kindle': 1868, 'laden': 1869, 'lauren': 1870, 'laws': 1871, 'leader': 1872, 'league': 1873, 'leg': 1874, 'legacy': 1875, 'library': 1876, 'lie': 1877, 'lmfao': 1878, 'losing': 1879, 'loves': 1880, 'lowndes': 1881, 'luck': 1882, 'machine': 1883, 'malaysian': 1884, 'manager': 1885, 'mark': 1886, 'massive': 1887, 'maximum': 1888, 'meet': 1889, 'meeting': 1890, 'memorial': 1891, 'mention': 1892, 'mentions': 1893, 'message': 1894, 'mid': 1895, 'migrant': 1896, 'miles': 1897, 'mill': 1898, 'minecraft': 1899, 'modified': 1900, 'monogram': 1901, 'moved': 1902, 'notices': 1903, 'numbers': 1904, 'officers': 1905, 'onto': 1906, 'orange': 1907, 'owners': 1908, 'pack': 1909, 'page': 1910, 'palms': 1911, 'pam': 1912, 'pantherattack': 1913, 'pepper': 1914, 'piling': 1915, 'pilot': 1916, 'pin': 1917, 'pipeline': 1918, 'planet': 1919, 'political': 1920, 'population': 1921, 'porn': 1922, 'poverty': 1923, 'predicted': 1924, 'pressure': 1925, 'prices': 1926, 'prime': 1927, 'pro': 1928, 'progress': 1929, 'prophet': 1930, 'protect': 1931, 'pulled': 1932, 'quality': 1933, 'quran': 1934, 'rail': 1935, 'rea': 1936, 'reach': 1937, 'realized': 1938, 'reduced': 1939, 'releases': 1940, 'reminds': 1941, 'reno': 1942, 'republicans': 1943, 'resistant': 1944, 'respect': 1945, 'responds': 1946, 'rest': 1947, 'restore': 1948, 'results': 1949, 'riots': 1950, 'roads': 1951, 'robot': 1952, 'rome': 1953, 'rose': 1954, 'runway': 1955, 'sadly': 1956, 'salem': 1957, 'scary': 1958, 'scott': 1959, 'sees': 1960, 'sent': 1961, 'sentinel': 1962, 'serial': 1963, 'seriously': 1964, 'seven': 1965, 'sexual': 1966, 'shame': 1967, 'shares': 1968, 'shelter': 1969, 'shipping': 1970, 'shoes': 1971, 'shower': 1972, 'shut': 1973, 'simulate': 1974, 'sinjar': 1975, 'six': 1976, 'size': 1977, 'sleep': 1978, 'slow': 1979, 'smithsonian': 1980, 'spaceship': 1981, 'specially': 1982, 'squad': 1983, 'starring': 1984, 'stars': 1985, 'statement': 1986, 'stealing': 1987, 'steps': 1988, 'stops': 1989, 'struck': 1990, 'structures': 1991, 'suffering': 1992, 'surrounded': 1993, 'sweet': 1994, 'swim': 1995, 'tank': 1996, 'taste': 1997, 'ted': 1998, 'telling': 1999, 'temporary': 2000, 'threatening': 2001, 'thunderstorms': 2002, 'thx': 2003, 'tickets': 2004, 'tonto': 2005, 'toronto': 2006, 'tough': 2007, 'tracking': 2008, 'trailer': 2009, 'trees': 2010, 'triggered': 2011, 'triple': 2012, 'troops': 2013, 'type': 2014, 'ugly': 2015, 'universe': 2016, 'unveiled': 2017, 'valley': 2018, 'vietnam': 2019, 'viralspell': 2020, 'warns': 2021, 'wars': 2022, 'watched': 2023, 'ways': 2024, 'we': 2025, 'wearing': 2026, 'weird': 2027, 'wings': 2028, 'wired': 2029, 'worlds': 2030, 'yay': 2031, 'yesterday': 2032, 'youngheroesid': 2033, 'zionist': 2034, 'abbswinston': 2035, 'abcnews': 2036, 'abused': 2037, 'accidentally': 2038, 'acts': 2039, 'admits': 2040, 'age': 2041, 'amsterdam': 2042, 'anchorage': 2043, 'animalrescue': 2044, 'ankle': 2045, 'anyway': 2046, 'apocalyptic': 2047, 'arm': 2048, 'arsenal': 2049, 'asian': 2050, 'assistance': 2051, 'atlanta': 2052, 'audio': 2053, 'australian': 2054, 'auth': 2055, 'authorities': 2056, 'automatic': 2057, 'babies': 2058, 'bands': 2059, 'battlefield': 2060, 'battling': 2061, 'bear': 2062, 'bedroom': 2063, 'beer': 2064, 'bees': 2065, 'beginning': 2066, 'bells': 2067, 'beyhive': 2068, 'biker': 2069, 'biological': 2070, 'bjp': 2071, 'blackberry': 2072, 'blamed': 2073, 'blks': 2074, 'blow': 2075, 'blows': 2076, 'bottom': 2077, 'brakes': 2078, 'bro': 2079, 'bug': 2080, 'bullets': 2081, 'caitlin': 2082, 'campaign': 2083, 'campus': 2084, 'cancel': 2085, 'canyon': 2086, 'capsizes': 2087, 'captured': 2088, 'carryi': 2089, 'cases': 2090, 'casper': 2091, 'cave': 2092, 'cbc': 2093, 'cdc': 2094, 'cell': 2095, 'centipede': 2096, 'certain': 2097, 'characters': 2098, 'charge': 2099, 'charging': 2100, 'chest': 2101, 'chill': 2102, 'chinese': 2103, 'choking': 2104, 'christians': 2105, 'cia': 2106, 'civilians': 2107, 'clash': 2108, 'classic': 2109, 'clean': 2110, 'clearly': 2111, 'clinton': 2112, 'clothes': 2113, 'cloud': 2114, 'club': 2115, 'cnbc': 2116, 'code': 2117, 'com': 2118, 'communities': 2119, 'community': 2120, 'complex': 2121, 'concerned': 2122, 'conditions': 2123, 'conflict': 2124, 'consider': 2125, 'considering': 2126, 'cos': 2127, 'couldn': 2128, 'counselor': 2129, 'counter': 2130, 'couples': 2131, 'crack': 2132, 'criminals': 2133, 'cuz': 2134, 'cyclist': 2135, 'dallas': 2136, 'dare': 2137, 'daughter': 2138, 'dear': 2139, 'degree': 2140, 'delays': 2141, 'demand': 2142, 'democracy': 2143, 'dependency': 2144, 'description': 2145, 'detectado': 2146, 'diamond': 2147, 'digit': 2148, 'disrupts': 2149, 'diss': 2150, 'distance': 2151, 'double': 2152, 'dozens': 2153, 'drag': 2154, 'dramatic': 2155, 'driven': 2156, 'drones': 2157, 'dutch': 2158, 'earrings': 2159, 'eastern': 2160, 'eat': 2161, 'eating': 2162, 'effort': 2163, 'ego': 2164, 'elem': 2165, 'english': 2166, 'environment': 2167, 'epilepsy': 2168, 'especially': 2169, 'estimated': 2170, 'events': 2171, 'everywhere': 2172, 'explains': 2173, 'exploration': 2174, 'extra': 2175, 'faced': 2176, 'factory': 2177, 'failed': 2178, 'fair': 2179, 'falcon': 2180, 'faster': 2181, 'fate': 2182, 'fav': 2183, 'feeding': 2184, 'fettilootch': 2185, 'fights': 2186, 'final': 2187, 'fingers': 2188, 'fits': 2189, 'flags': 2190, 'flat': 2191, 'flew': 2192, 'flying': 2193, 'footage': 2194, 'forbes': 2195, 'forgot': 2196, 'forgotten': 2197, 'forward': 2198, 'freedom': 2199, 'fresh': 2200, 'fucked': 2201, 'further': 2202, 'garden': 2203, 'gaza': 2204, 'generally': 2205, 'gift': 2206, 'girlfriend': 2207, 'golf': 2208, 'gps': 2209, 'grab': 2210, 'grade': 2211, 'grenade': 2212, 'gta': 2213, 'guardian': 2214, 'guillermo': 2215, 'gunfire': 2216, 'haram': 2217, 'harbor': 2218, 'harper': 2219, 'harry': 2220, 'headed': 2221, 'heads': 2222, 'hole': 2223, 'hopefully': 2224, 'host': 2225, 'huffman': 2226, 'hughes': 2227, 'humans': 2228, 'humidity': 2229, 'hunters': 2230, 'i': 2231, 'ian': 2232, 'idc': 2233, 'idfire': 2234, 'images': 2235, 'inj': 2236, 'instagram': 2237, 'integrity': 2238, 'interested': 2239, 'intern': 2240, 'investigation': 2241, 'iranian': 2242, 'iraq': 2243, 'jacksonville': 2244, 'jap': 2245, 'jet': 2246, 'jewish': 2247, 'jordan': 2248, 'kaduna': 2249, 'karymsky': 2250, 'kiernan': 2251, 'kind': 2252, 'kingdom': 2253, 'knee': 2254, 'known': 2255, 'landfall': 2256, 'lands': 2257, 'larger': 2258, 'laughing': 2259, 'leads': 2260, 'len': 2261, 'letting': 2262, 'levels': 2263, 'lgl': 2264, 'linkury': 2265, 'locke': 2266, 'longest': 2267, 'loop': 2268, 'looting': 2269, 'lovely': 2270, 'lower': 2271, 'luke': 2272, 'lulgzimbestpicts': 2273, 'lungs': 2274, 'madinah': 2275, 'mail': 2276, 'maria': 2277, 'married': 2278, 'matako': 2279, 'meals': 2280, 'medical': 2281, 'member': 2282, 'memory': 2283, 'mercy': 2284, 'mets': 2285, 'mexico': 2286, 'mfs': 2287, 'miami': 2288, 'michigan': 2289, 'microlight': 2290, 'microsoft': 2291, 'mike': 2292, 'mile': 2293, 'milk': 2294, 'minister': 2295, 'mins': 2296, 'mitigation': 2297, 'mitt': 2298, 'mma': 2299, 'moments': 2300, 'monsoon': 2301, 'mood': 2302, 'morgan': 2303, 'moves': 2304, 'movies': 2305, 'mtvhottest': 2306, 'multiple': 2307, 'mum': 2308, 'mumbai': 2309, 'naved': 2310, 'navy': 2311, 'nbc': 2312, 'nema': 2313, 'newyork': 2314, 'nicki': 2315, 'nigeria': 2316, 'nobody': 2317, 'nose': 2318, 'notice': 2319, 'nuke': 2320, 'numbered': 2321, 'nursing': 2322, 'nytimes': 2323, 'odeon': 2324, 'officially': 2325, 'olympic': 2326, 'omar': 2327, 'omfg': 2328, 'oops': 2329, 'oppressions': 2330, 'option': 2331, 'overnight': 2332, 'pace': 2333, 'painting': 2334, 'paper': 2335, 'patrick': 2336, 'pbban': 2337, 'peaceful': 2338, 'personal': 2339, 'philly': 2340, 'photoshop': 2341, 'physical': 2342, 'picked': 2343, 'pieces': 2344, 'pipe': 2345, 'pitch': 2346, 'plague': 2347, 'plate': 2348, 'players': 2349, 'pls': 2350, 'pockets': 2351, 'points': 2352, 'poll': 2353, 'port': 2354, 'positive': 2355, 'pov': 2356, 'powerful': 2357, 'powerlines': 2358, 'prefer': 2359, 'pregnant': 2360, 'pres': 2361, 'present': 2362, 'preview': 2363, 'problems': 2364, 'profile': 2365, 'profit': 2366, 'promises': 2367, 'prophetmuhammad': 2368, 'protector': 2369, 'protest': 2370, 'providence': 2371, 'pulls': 2372, 'pump': 2373, 'purple': 2374, 'quest': 2375, 'quick': 2376, 'quickly': 2377, 'radar': 2378, 'rage': 2379, 'ran': 2380, 'rapidly': 2381, 'rate': 2382, 'rear': 2383, 'recall': 2384, 'recipes': 2385, 'recommend': 2386, 'recover': 2387, 'recovery': 2388, 'refugee': 2389, 'register': 2390, 'reid': 2391, 'remembered': 2392, 'remembering': 2393, 'replace': 2394, 'replacing': 2395, 'reportedly': 2396, 'republican': 2397, 'responsibility': 2398, 'revealed': 2399, 'rider': 2400, 'rockin': 2401, 'rocks': 2402, 'rohingya': 2403, 'row': 2404, 'safe': 2405, 'scheme': 2406, 'selfie': 2407, 'selfies': 2408, 'senator': 2409, 'served': 2410, 'settlement': 2411, 'shadow': 2412, 'shell': 2413, 'shirt': 2414, 'sicily': 2415, 'simple': 2416, 'singing': 2417, 'skin': 2418, 'slanglucci': 2419, 'smash': 2420, 'smile': 2421, 'solution': 2422, 'somalia': 2423, 'somebody': 2424, 'sophie': 2425, 'source': 2426, 'spain': 2427, 'spanish': 2428, 'sparked': 2429, 'speaking': 2430, 'specif': 2431, 'spirit': 2432, 'staff': 2433, 'starter': 2434, 'streak': 2435, 'stuart': 2436, 'sub': 2437, 'success': 2438, 'summerfate': 2439, 'sunset': 2440, 'supervisor': 2441, 'supreme': 2442, 'surf': 2443, 'surface': 2444, 'surge': 2445, 'surprised': 2446, 'swallows': 2447, 'swimming': 2448, 'sydney': 2449, 'syria': 2450, 'tablet': 2451, 'tampa': 2452, 'target': 2453, 'targets': 2454, 'tbt': 2455, 'tells': 2456, 'tempered': 2457, 'term': 2458, 'theatre': 2459, 'theory': 2460, 'third': 2461, 'threatens': 2462, 'threats': 2463, 'throw': 2464, 'thru': 2465, 'title': 2466, 'toilet': 2467, 'toll': 2468, 'tongue': 2469, 'tornadoes': 2470, 'touch': 2471, 'toward': 2472, 'towards': 2473, 'towel': 2474, 'traditional': 2475, 'trafford': 2476, 'tram': 2477, 'treatment': 2478, 'trial': 2479, 'truly': 2480, 'tryna': 2481, 'tuesday': 2482, 'tuned': 2483, 'twice': 2484, 'ugh': 2485, 'ultimate': 2486, 'understanding': 2487, 'underway': 2488, 'university': 2489, 'unsafe': 2490, 'upper': 2491, 'usagov': 2492, 'users': 2493, 'uses': 2494, 'utter': 2495, 'values': 2496, 'vancouver': 2497, 'vets': 2498, 'villages': 2499, 'walmart': 2500, 'waste': 2501, 'weeks': 2502, 'weight': 2503, 'weren': 2504, 'windows': 2505, 'wins': 2506, 'winter': 2507, 'wisenews': 2508, 'wit': 2509, 'wither': 2510, 'within': 2511, 'worked': 2512, 'worried': 2513, 'worth': 2514, 'writer': 2515, 'yazidis': 2516, 'zombie': 2517, 'zouma': 2518, 'a': 2519, 'abandon': 2520, 'abe': 2521, 'abomination': 2522, 'abortion': 2523, 'accuses': 2524, 'acid': 2525, 'acting': 2526, 'activated': 2527, 'actual': 2528, 'adding': 2529, 'advance': 2530, 'adventures': 2531, 'affecting': 2532, 'afp': 2533, 'agents': 2534, 'agreed': 2535, 'alberta': 2536, 'alright': 2537, 'americans': 2538, 'amongst': 2539, 'analysis': 2540, 'angeles': 2541, 'anybody': 2542, 'apch': 2543, 'apparent': 2544, 'apparently': 2545, 'apple': 2546, 'arabian': 2547, 'arizona': 2548, 'arms': 2549, 'arrest': 2550, 'article': 2551, 'artistsunited': 2552, 'arwx': 2553, 'asap': 2554, 'ashley': 2555, 'asleep': 2556, 'assembly': 2557, 'attacking': 2558, 'attempt': 2559, 'attendance': 2560, 'auctions': 2561, 'audience': 2562, 'aussie': 2563, 'aussies': 2564, 'author': 2565, 'auto': 2566, 'autumn': 2567, 'averted': 2568, 'background': 2569, 'bangladesh': 2570, 'bank': 2571, 'bargain': 2572, 'barn': 2573, 'base': 2574, 'basement': 2575, 'bat': 2576, 'batters': 2577, 'battleship': 2578, 'bbcnews': 2579, 'beam': 2580, 'beard': 2581, 'bears': 2582, 'beats': 2583, 'becomes': 2584, 'beginners': 2585, 'bell': 2586, 'benefits': 2587, 'bigamist': 2588, 'bike': 2589, 'billings': 2590, 'bio': 2591, 'birds': 2592, 'birth': 2593, 'bitches': 2594, 'blacklivesmatter': 2595, 'blah': 2596, 'blame': 2597, 'blasts': 2598, 'bless': 2599, 'blessed': 2600, 'blog': 2601, 'blowing': 2602, 'bluetooth': 2603, 'boko': 2604, 'bore': 2605, 'born': 2606, 'boss': 2607, 'bot': 2608, 'bounty': 2609, 'bowl': 2610, 'breakingnews': 2611, 'brothers': 2612, 'brutally': 2613, 'btwn': 2614, 'buckle': 2615, 'buddys': 2616, 'bulletin': 2617, 'bully': 2618, 'butter': 2619, 'button': 2620, 'bypass': 2621, 'cabin': 2622, 'cain': 2623, 'calif': 2624, 'calories': 2625, 'calum': 2626, 'cam': 2627, 'capital': 2628, 'capsized': 2629, 'captain': 2630, 'cash': 2631, 'casual': 2632, 'catch': 2633, 'catches': 2634, 'cats': 2635, 'cecilthelion': 2636, 'challenge': 2637, 'changed': 2638, 'charges': 2639, 'chat': 2640, 'chevy': 2641, 'chewing': 2642, 'childhood': 2643, 'chocolate': 2644, 'choices': 2645, 'christie': 2646, 'cities': 2647, 'cladding': 2648, 'claim': 2649, 'claytonbryant': 2650, 'cleared': 2651, 'cleveland': 2652, 'click': 2653, 'closes': 2654, 'closing': 2655, 'coach': 2656, 'coastal': 2657, 'cock': 2658, 'col': 2659, 'college': 2660, 'colluded': 2661, 'color': 2662, 'combined': 2663, 'comments': 2664, 'commit': 2665, 'concept': 2666, 'confirm': 2667, 'constantly': 2668, 'construction': 2669, 'continues': 2670, 'cooler': 2671, 'copycat': 2672, 'cotton': 2673, 'count': 2674, 'courts': 2675, 'cousin': 2676, 'covered': 2677, 'covers': 2678, 'crashes': 2679, 'crashing': 2680, 'crater': 2681, 'credit': 2682, 'crew': 2683, 'cries': 2684, 'crimes': 2685, 'croatian': 2686, 'crosses': 2687, 'cry': 2688, 'csx': 2689, 'cue': 2690, 'cum': 2691, 'cup': 2692, 'cyclists': 2693, 'damaging': 2694, 'dame': 2695, 'daniel': 2696, 'dannyonpc': 2697, 'darude': 2698, 'dat': 2699, 'daughters': 2700, 'december': 2701, 'decide': 2702, 'decided': 2703, 'decision': 2704, 'deck': 2705, 'declared': 2706, 'definitely': 2707, 'deliver': 2708, 'demi': 2709, 'denmark': 2710, 'dental': 2711, 'deputies': 2712, 'derby': 2713, 'describes': 2714, 'designed': 2715, 'designs': 2716, 'detroit': 2717, 'diamondkesawn': 2718, 'dinner': 2719, 'dirt': 2720, 'dis': 2721, 'disappearance': 2722, 'disco': 2723, 'discovered': 2724, 'disgusting': 2725, 'doctor': 2726, 'doors': 2727, 'doubt': 2728, 'drawn': 2729, 'drone': 2730, 'drove': 2731, 'drug': 2732, 'dry': 2733, 'dtn': 2734, 'dublin': 2735, 'dudes': 2736, 'dundee': 2737, 'dvd': 2738, 'ear': 2739, 'earnings': 2740, 'easily': 2741, 'eaten': 2742, 'economy': 2743, 'eden': 2744, 'editor': 2745, 'education': 2746, 'efforts': 2747, 'egypt': 2748, 'eight': 2749, 'election': 2750, 'electric': 2751, 'electrical': 2752, 'elephant': 2753, 'elite': 2754, 'emotionally': 2755, 'empty': 2756, 'encouragement': 2757, 'ends': 2758, 'engine': 2759, 'enjoyed': 2760, 'enter': 2761, 'entertainment': 2762, 'environmental': 2763, 'error': 2764, 'esh': 2765, 'estate': 2766, 'europe': 2767, 'evacuations': 2768, 'eventually': 2769, 'example': 2770, 'excellent': 2771, 'excited': 2772, 'experiencing': 2773, 'experiments': 2774, 'exploit': 2775, 'external': 2776, 'fantastic': 2777, 'farrakhan': 2778, 'fashionable': 2779, 'father': 2780, 'favourite': 2781, 'feast': 2782, 'features': 2783, 'federal': 2784, 'feelings': 2785, 'female': 2786, 'feminist': 2787, 'fifth': 2788, 'fighters': 2789, 'files': 2790, 'filled': 2791, 'finds': 2792, 'finish': 2793, 'finnish': 2794, 'fired': 2795, 'fireman': 2796, 'fishing': 2797, 'fit': 2798, 'fixed': 2799, 'fixing': 2800, 'flip': 2801, 'floated': 2802, 'flooded': 2803, 'fly': 2804, 'focus': 2805, 'ford': 2806, 'foster': 2807, 'foul': 2808, 'frank': 2809, 'freezing': 2810, 'frontline': 2811, 'frozen': 2812, 'fuckin': 2813, 'funds': 2814, 'furious': 2815, 'gabon': 2816, 'gadgets': 2817, 'garbage': 2818, 'gates': 2819, 'gel': 2820, 'george': 2821, 'ghost': 2822, 'gmt': 2823, 'goal': 2824, 'goals': 2825, 'gods': 2826, 'godslove': 2827, 'gordon': 2828, 'grabbers': 2829, 'grace': 2830, 'grateful': 2831, 'gray': 2832, 'grazed': 2833, 'greece': 2834, 'greg': 2835, 'grew': 2836, 'grief': 2837, 'growth': 2838, 'guard': 2839, 'guilty': 2840, 'hah': 2841, 'hahaha': 2842, 'hardline': 2843, 'haunting': 2844, 'headphones': 2845, 'heal': 2846, 'healing': 2847, 'healthcare': 2848, 'heaven': 2849, 'held': 2850, 'heroes': 2851, 'hers': 2852, 'hillary': 2853, 'hills': 2854, 'historic': 2855, 'hmm': 2856, 'holland': 2857, 'hosting': 2858, 'humanity': 2859, 'humaza': 2860, 'hunt': 2861, 'hurry': 2862, 'hurt': 2863, 'icymi': 2864, 'idis': 2865, 'idk': 2866, 'idp': 2867, 'iii': 2868, 'illinois': 2869, 'include': 2870, 'increase': 2871, 'independent': 2872, 'individuals': 2873, 'inevitable': 2874, 'injures': 2875, 'ink': 2876, 'inning': 2877, 'inst': 2878, 'installation': 2879, 'instant': 2880, 'interview': 2881, 'invalid': 2882, 'irish': 2883, 'itself': 2884, 'itunes': 2885, 'jail': 2886, 'jax': 2887, 'jay': 2888, 'jazz': 2889, 'jeff': 2890, 'jimmyfallon': 2891, 'joel': 2892, 'john': 2893, 'joining': 2894, 'jones': 2895, 'journalist': 2896, 'judge': 2897, 'julian': 2898, 'justin': 2899, 'kenya': 2900, 'kisii': 2901, 'knight': 2902, 'knoxville': 2903, 'koin': 2904, 'komen': 2905, 'korea': 2906, 'kurtschlichter': 2907, 'labs': 2908, 'laid': 2909, 'lanes': 2910, 'latestnews': 2911, 'laugh': 2912, 'launch': 2913, 'lay': 2914, 'leaders': 2915, 'leaves': 2916, 'leisure': 2917, 'leo': 2918, 'lessons': 2919, 'lethal': 2920, 'letters': 2921, 'lez': 2922, 'lgbt': 2923, 'lifetime': 2924, 'lightening': 2925, 'links': 2926, 'listenlive': 2927, 'location': 2928, 'logic': 2929, 'lonely': 2930, 'lonewolffur': 2931, 'looked': 2932, 'looping': 2933, 'lorries': 2934, 'los': 2935, 'loses': 2936, 'losses': 2937, 'lou': 2938, 'lover': 2939, 'lying': 2940, 'm': 2941, 'mac': 2942, 'magic': 2943, 'maintenance': 2944, 'majority': 2945, 'management': 2946, 'mansehra': 2947, 'mansion': 2948, 'marketing': 2949, 'marvel': 2950, 'maryland': 2951, 'mate': 2952, 'materials': 2953, 'matt': 2954, 'mcilroy': 2955, 'medieval': 2956, 'mega': 2957, 'mentally': 2958, 'mess': 2959, 'messenger': 2960, 'mido': 2961, 'min': 2962, 'minaj': 2963, 'minds': 2964, 'mining': 2965, 'minor': 2966, 'minority': 2967, 'mission': 2968, 'mix': 2969, 'mkx': 2970, 'mlb': 2971, 'mnpdnashville': 2972, 'model': 2973, 'models': 2974, 'monster': 2975, 'moon': 2976, 'moscow': 2977, 'moth': 2978, 'motor': 2979, 'motorcycle': 2980, 'mountaineering': 2981, 'mourning': 2982, 'msf': 2983, 'mullah': 2984, 'murdered': 2985, 'muscle': 2986, 'museum': 2987, 'musician': 2988, 'named': 2989, 'nasa': 2990, 'nasahurricane': 2991, 'nashville': 2992, 'nasty': 2993, 'navbl': 2994, 'nba': 2995, 'needle': 2996, 'negative': 2997, 'neighborhood': 2998, 'network': 2999, 'nfl': 3000, 'nhs': 3001, 'niece': 3002, 'nike': 3003, 'noaa': 3004, 'nope': 3005, 'normal': 3006, 'noticed': 3007, 'nsfw': 3008, 'nuggets': 3009, 'nurse': 3010, 'occasion': 3011, 'occupants': 3012, 'occurs': 3013, 'offer': 3014, 'often': 3015, 'olive': 3016, 'oper': 3017, 'operation': 3018, 'operations': 3019, 'opposite': 3020, 'ops': 3021, 'options': 3022, 'ordered': 3023, 'origin': 3024, 'ornament': 3025, 'otrametlife': 3026, 'outflow': 3027, 'pacific': 3028, 'packs': 3029, 'paint': 3030, 'pak': 3031, 'parking': 3032, 'parley': 3033, 'partner': 3034, 'passenger': 3035, 'passing': 3036, 'patch': 3037, 'patched': 3038, 'pcs': 3039, 'period': 3040, 'persons': 3041, 'phones': 3042, 'photography': 3043, 'places': 3044, 'planning': 3045, 'plot': 3046, 'plug': 3047, 'poland': 3048, 'pond': 3049, 'portion': 3050, 'posted': 3051, 'predict': 3052, 'previous': 3053, 'previously': 3054, 'price': 3055, 'primary': 3056, 'prince': 3057, 'print': 3058, 'prior': 3059, 'prison': 3060, 'private': 3061, 'procedures': 3062, 'produced': 3063, 'projects': 3064, 'promise': 3065, 'prompts': 3066, 'pull': 3067, 'pulling': 3068, 'pun': 3069, 'push': 3070, 'putting': 3071, 'quake': 3072, 'queens': 3073, 'questions': 3074, 'railway': 3075, 'raining': 3076, 'rally': 3077, 'ramag': 3078, 'random': 3079, 'range': 3080, 'rape': 3081, 'raynbowaffair': 3082, 'realdonaldtrump': 3083, 'realize': 3084, 'reap': 3085, 'recalls': 3086, 'recap': 3087, 'recent': 3088, 'recently': 3089, 'reflect': 3090, 'regret': 3091, 'relationship': 3092, 'relatives': 3093, 'remain': 3094, 'remains': 3095, 'removal': 3096, 'reopening': 3097, 'republic': 3098, 'resources': 3099, 'responsible': 3100, 'retail': 3101, 'reveals': 3102, 'reviews': 3103, 'revolution': 3104, 'reward': 3105, 'rid': 3106, 'ridiculous': 3107, 'rights': 3108, 'rio': 3109, 'rising': 3110, 'robinson': 3111, 'robots': 3112, 'roh': 3113, 'role': 3114, 'roll': 3115, 'romance': 3116, 'rush': 3117, 'rwy': 3118, 'sacramento': 3119, 'saddlebrooke': 3120, 'sake': 3121, 'salvador': 3122, 'samaritans': 3123, 'sampling': 3124, 'sanctions': 3125, 'santa': 3126, 'sarah': 3127, 'satan': 3128, 'satchel': 3129, 'scars': 3130, 'scientists': 3131, 'score': 3132, 'sean': 3133, 'september': 3134, 'several': 3135, 'sewing': 3136, 'shakes': 3137, 'shanghai': 3138, 'sharp': 3139, 'shepherd': 3140, 'sheriff': 3141, 'shipwreck': 3142, 'shook': 3143, 'shoot': 3144, 'showcase': 3145, 'sidelines': 3146, 'sigalert': 3147, 'silence': 3148, 'silent': 3149, 'simply': 3150, 'sing': 3151, 'sis': 3152, 'sittwe': 3153, 'sized': 3154, 'skills': 3155, 'slate': 3156, 'slip': 3157, 'smoking': 3158, 'sms': 3159, 'snap': 3160, 'solid': 3161, 'somehow': 3162, 'sort': 3163, 'souls': 3164, 'soup': 3165, 'southeast': 3166, 'sparks': 3167, 'spears': 3168, 'specific': 3169, 'speed': 3170, 'spend': 3171, 'spinningbot': 3172, 'sport': 3173, 'springs': 3174, 'sprinter': 3175, 'stabbing': 3176, 'stamp': 3177, 'stands': 3178, 'status': 3179, 'steel': 3180, 'stepped': 3181, 'stereo': 3182, 'stir': 3183, 'stomach': 3184, 'storms': 3185, 'stranded': 3186, 'strange': 3187, 'strategicpatience': 3188, 'streets': 3189, 'strikes': 3190, 'structure': 3191, 'study': 3192, 'stylish': 3193, 'subject': 3194, 'sucks': 3195, 'superhero': 3196, 'supports': 3197, 'suppose': 3198, 'surah': 3199, 'surely': 3200, 'swarm': 3201, 'swear': 3202, 'swells': 3203, 'swiss': 3204, 'system': 3205, 'tab': 3206, 'table': 3207, 'tag': 3208, 'talent': 3209, 'tape': 3210, 'tastes': 3211, 'taxiways': 3212, 'tea': 3213, 'teacher': 3214, 'teachers': 3215, 'teaching': 3216, 'telegraph': 3217, 'tennessee': 3218, 'tests': 3219, 'thanku': 3220, 'themselves': 3221, 'thomas': 3222, 'thoughts': 3223, 'thousand': 3224, 'thriller': 3225, 'throwingknifes': 3226, 'thus': 3227, 'ticket': 3228, 'tide': 3229, 'tied': 3230, 'titan': 3231, 'tmp': 3232, 'tool': 3233, 'tools': 3234, 'tooth': 3235, 'torch': 3236, 'transformation': 3237, 'trap': 3238, 'treat': 3239, 'trials': 3240, 'trolley': 3241, 'trubgme': 3242, 'trucks': 3243, 'tubestrike': 3244, 'turns': 3245, 'twin': 3246, 'twins': 3247, 'tyre': 3248, 'uber': 3249, 'ultimalucha': 3250, 'unhappiness': 3251, 'unions': 3252, 'unit': 3253, 'unknown': 3254, 'unlocked': 3255, 'unsuckdcmetro': 3256, 'uribe': 3257, 'usnwsgov': 3258, 'vacant': 3259, 'val': 3260, 'vampiro': 3261, 'van': 3262, 'variety': 3263, 'vegas': 3264, 'venezuela': 3265, 'vermont': 3266, 'vest': 3267, 'veteran': 3268, 'victory': 3269, 'vid': 3270, 'villagers': 3271, 'violence': 3272, 'virus': 3273, 'vision': 3274, 'visit': 3275, 'volga': 3276, 'voluntary': 3277, 'voting': 3278, 'waimate': 3279, 'walker': 3280, 'walls': 3281, 'warfighting': 3282, 'warming': 3283, 'warn': 3284, 'warship': 3285, 'warships': 3286, 'washed': 3287, 'wayne': 3288, 'weathernetwork': 3289, 'whao': 3290, 'whether': 3291, 'wht': 3292, 'whts': 3293, 'williams': 3294, 'wire': 3295, 'wireless': 3296, 'witter': 3297, 'wnd': 3298, 'wonderful': 3299, 'wood': 3300, 'workout': 3301, 'worldnetdaily': 3302, 'worstsummerjob': 3303, 'wound': 3304, 'write': 3305, 'writing': 3306, 'xbox': 3307, 'yea': 3308, 'yellow': 3309, 'yemen': 3310, 'yep': 3311, 'yorker': 3312, 'zayn': 3313})\n"
          ],
          "name": "stdout"
        }
      ]
    },
    {
      "cell_type": "code",
      "metadata": {
        "id": "nsmLQ7PSKmb8"
      },
      "source": [
        "BATCH_SIZE = 64\n",
        "train_iterator, valid_iterator = data.BucketIterator.splits((train_data, valid_data), batch_size = BATCH_SIZE,sort_key = lambda x: len(x.text),sort_within_batch=True,device = device)"
      ],
      "execution_count": 22,
      "outputs": []
    },
    {
      "cell_type": "code",
      "metadata": {
        "id": "wdTBeCctKmfF"
      },
      "source": [
        "import torch.nn as nn\n",
        "\n",
        "class classifier(nn.Module):\n",
        "    def __init__(self, vocab_size, embedding_dim, hidden_dim, output_dim, n_layers, bidirectional, dropout):\n",
        "        super().__init__()          \n",
        "        self.embedding = nn.Embedding(vocab_size, embedding_dim)\n",
        "        self.lstm = nn.LSTM(embedding_dim,  hidden_dim, num_layers=n_layers, bidirectional=bidirectional, dropout=dropout,batch_first=True)\n",
        "        self.fc = nn.Linear(hidden_dim * 2, output_dim)\n",
        "        self.act = nn.Sigmoid()\n",
        "        \n",
        "    def forward(self, text, text_lengths):\n",
        "        embedded = self.embedding(text)\n",
        "        packed_embedded = nn.utils.rnn.pack_padded_sequence(embedded, text_lengths,batch_first=True)\n",
        "        packed_output, (hidden, cell) = self.lstm(packed_embedded)\n",
        "        hidden = torch.cat((hidden[-2,:,:], hidden[-1,:,:]), dim = 1)\n",
        "        dense_outputs=self.fc(hidden)\n",
        "        outputs=self.act(dense_outputs)\n",
        "        return outputs"
      ],
      "execution_count": 23,
      "outputs": []
    },
    {
      "cell_type": "code",
      "metadata": {
        "id": "ds4F-MSEKmjG"
      },
      "source": [
        "size_of_vocab = len(TEXT.vocab)\n",
        "embedding_dim = 100\n",
        "num_hidden_nodes = 32\n",
        "num_output_nodes = 1\n",
        "num_layers = 2\n",
        "bidirection = True\n",
        "dropout = 0.2"
      ],
      "execution_count": 24,
      "outputs": []
    },
    {
      "cell_type": "code",
      "metadata": {
        "id": "bdqm9BXrKml1"
      },
      "source": [
        "model = classifier(size_of_vocab, embedding_dim, num_hidden_nodes,num_output_nodes, num_layers, bidirectional = True, dropout = dropout)"
      ],
      "execution_count": 25,
      "outputs": []
    },
    {
      "cell_type": "code",
      "metadata": {
        "colab": {
          "base_uri": "https://localhost:8080/"
        },
        "id": "3s-LfUmiKmpc",
        "outputId": "96c49f43-5d22-4428-bbfd-96c70a7677cd"
      },
      "source": [
        "print(model)"
      ],
      "execution_count": 26,
      "outputs": [
        {
          "output_type": "stream",
          "text": [
            "classifier(\n",
            "  (embedding): Embedding(3314, 100)\n",
            "  (lstm): LSTM(100, 32, num_layers=2, batch_first=True, dropout=0.2, bidirectional=True)\n",
            "  (fc): Linear(in_features=64, out_features=1, bias=True)\n",
            "  (act): Sigmoid()\n",
            ")\n"
          ],
          "name": "stdout"
        }
      ]
    },
    {
      "cell_type": "code",
      "metadata": {
        "colab": {
          "base_uri": "https://localhost:8080/"
        },
        "id": "pFiFWGgCKmsq",
        "outputId": "5ddbb29d-9aa0-4da2-ae55-5c68ce76c629"
      },
      "source": [
        "def count_parameters(model):\n",
        "    return sum(p.numel() for p in model.parameters() if p.requires_grad)\n",
        "\n",
        "print(f'The model has {count_parameters(model):,} trainable parameters')\n",
        "\n",
        "pretrained_embeddings = TEXT.vocab.vectors\n",
        "model.embedding.weight.data.copy_(pretrained_embeddings)\n",
        "\n",
        "print(pretrained_embeddings.shape)\n"
      ],
      "execution_count": 27,
      "outputs": [
        {
          "output_type": "stream",
          "text": [
            "The model has 390,857 trainable parameters\n",
            "torch.Size([3314, 100])\n"
          ],
          "name": "stdout"
        }
      ]
    },
    {
      "cell_type": "code",
      "metadata": {
        "id": "5-ERThXAKmv8"
      },
      "source": [
        "import torch.optim as optim\n",
        "optimizer = optim.Adam(model.parameters())\n",
        "criterion = nn.BCELoss()\n",
        "def binary_accuracy(preds, y):\n",
        "    rounded_preds = torch.round(preds)\n",
        "    correct = (rounded_preds == y).float() \n",
        "    acc = correct.sum() / len(correct)\n",
        "    return acc\n",
        "    \n",
        "\n",
        "model = model.to(device)\n",
        "criterion = criterion.to(device)"
      ],
      "execution_count": 28,
      "outputs": []
    },
    {
      "cell_type": "code",
      "metadata": {
        "id": "Mj9-UnG5KmzG"
      },
      "source": [
        "def train(model, iterator, optimizer, criterion):\n",
        "    epoch_loss = 0\n",
        "    epoch_acc = 0\n",
        "    model.train()  \n",
        "    for batch in iterator:\n",
        "        optimizer.zero_grad()   \n",
        "        text, text_lengths = batch.text   \n",
        "        predictions = model(text, text_lengths).squeeze()  \n",
        "        loss = criterion(predictions, batch.label)        \n",
        "        acc = binary_accuracy(predictions, batch.label)   \n",
        "        loss.backward()       \n",
        "        optimizer.step()      \n",
        "        epoch_loss += loss.item()  \n",
        "        epoch_acc += acc.item()    \n",
        "    return epoch_loss / len(iterator), epoch_acc / len(iterator)"
      ],
      "execution_count": 29,
      "outputs": []
    },
    {
      "cell_type": "code",
      "metadata": {
        "id": "bTyw4ZdAKm2d"
      },
      "source": [
        "def evaluate(model, iterator, criterion):\n",
        "    epoch_loss = 0\n",
        "    epoch_acc = 0\n",
        "    model.eval()\n",
        "    with torch.no_grad():\n",
        "       for batch in iterator:\n",
        "           text, text_lengths = batch.text\n",
        "           predictions = model(text, text_lengths).squeeze()\n",
        "           loss = criterion(predictions, batch.label)\n",
        "           acc = binary_accuracy(predictions, batch.label)\n",
        "           epoch_loss += loss.item()\n",
        "           epoch_acc += acc.item()\n",
        "    return epoch_loss / len(iterator), epoch_acc / len(iterator)"
      ],
      "execution_count": 30,
      "outputs": []
    },
    {
      "cell_type": "code",
      "metadata": {
        "colab": {
          "base_uri": "https://localhost:8080/"
        },
        "id": "AGL4yVMMKm5q",
        "outputId": "877735d3-fefb-4ef8-b4ac-1835ec1d099f"
      },
      "source": [
        "N_EPOCHS = 5\n",
        "best_valid_loss = float('inf')\n",
        "for epoch in range(N_EPOCHS):\n",
        "    train_loss, train_acc = train(model, train_iterator, optimizer, criterion)\n",
        "    valid_loss, valid_acc = evaluate(model, valid_iterator, criterion)\n",
        "    if valid_loss < best_valid_loss:\n",
        "       best_valid_loss = valid_loss\n",
        "       torch.save(model.state_dict(), 'saved_weights.pt')\n",
        "    print(f'\\tTrain Loss: {train_loss:.3f} | Train Acc: {train_acc*100:.2f}%')\n",
        "    print(f'\\t Val. Loss: {valid_loss:.3f} |  Val. Acc: {valid_acc*100:.2f}%')"
      ],
      "execution_count": 31,
      "outputs": [
        {
          "output_type": "stream",
          "text": [
            "\tTrain Loss: 0.568 | Train Acc: 70.40%\n",
            "\t Val. Loss: 0.458 |  Val. Acc: 79.34%\n",
            "\tTrain Loss: 0.434 | Train Acc: 81.16%\n",
            "\t Val. Loss: 0.436 |  Val. Acc: 80.34%\n",
            "\tTrain Loss: 0.385 | Train Acc: 83.54%\n",
            "\t Val. Loss: 0.452 |  Val. Acc: 79.84%\n",
            "\tTrain Loss: 0.347 | Train Acc: 86.13%\n",
            "\t Val. Loss: 0.429 |  Val. Acc: 81.73%\n",
            "\tTrain Loss: 0.306 | Train Acc: 87.76%\n",
            "\t Val. Loss: 0.480 |  Val. Acc: 80.00%\n"
          ],
          "name": "stdout"
        }
      ]
    },
    {
      "cell_type": "code",
      "metadata": {
        "id": "mfeeMzFPuCL5"
      },
      "source": [
        "model.eval()\n",
        "import spacy\n",
        "nlp = spacy.load('en')\n",
        "\n",
        "def predict(model, sentence):\n",
        "    tokenized = [tok.text for tok in nlp.tokenizer(sentence)] \n",
        "    indexed = [TEXT.vocab.stoi[t] for t in tokenized]         \n",
        "    length = [len(indexed)]                                  \n",
        "    tensor = torch.LongTensor(indexed).to(device)             \n",
        "    tensor = tensor.unsqueeze(1).T                            \n",
        "    length_tensor = torch.LongTensor(length)                  \n",
        "    prediction = model(tensor, length_tensor)                 \n",
        "    return prediction.item()        "
      ],
      "execution_count": 32,
      "outputs": []
    },
    {
      "cell_type": "code",
      "metadata": {
        "id": "fNnTtDp9vDbZ",
        "colab": {
          "base_uri": "https://localhost:8080/"
        },
        "outputId": "afa4b660-adac-4ee1-998c-e8061a745fd8"
      },
      "source": [
        "predict(model, \"Are there any sports that you don't like?\")\n"
      ],
      "execution_count": 33,
      "outputs": [
        {
          "output_type": "execute_result",
          "data": {
            "text/plain": [
              "0.047230035066604614"
            ]
          },
          "metadata": {
            "tags": []
          },
          "execution_count": 33
        }
      ]
    },
    {
      "cell_type": "code",
      "metadata": {
        "id": "pTWVX0GGvDi8"
      },
      "source": [
        ""
      ],
      "execution_count": null,
      "outputs": []
    },
    {
      "cell_type": "code",
      "metadata": {
        "id": "AWo79F0uvDmz"
      },
      "source": [
        ""
      ],
      "execution_count": null,
      "outputs": []
    },
    {
      "cell_type": "code",
      "metadata": {
        "id": "j7w3k6xxuCPJ"
      },
      "source": [
        ""
      ],
      "execution_count": null,
      "outputs": []
    }
  ]
}